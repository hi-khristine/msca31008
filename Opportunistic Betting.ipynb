{
 "cells": [
  {
   "cell_type": "markdown",
   "metadata": {},
   "source": [
    "## Opportunistic Betting on MMA Fights\n",
    "\n",
    "While we typically think of regression trees as offering a yes or no answer - success or failure, they actually offer us a sense of the probability of success or failure. In cases where we do not have to take action on every observation (betting, for instance, where we can simply choose to abstain if the result seems too uncertain), we can take advantage of those probabilities to decide when to place a bet and, if we do, which side to bet on."
   ]
  },
  {
   "cell_type": "markdown",
   "metadata": {},
   "source": [
    "### Preliminary function and package loading"
   ]
  },
  {
   "cell_type": "code",
   "execution_count": 1,
   "metadata": {},
   "outputs": [],
   "source": [
    "import os\n",
    "for f in os.listdir('./fun/'): exec(open('./fun/'+f).read())\n",
    "del f\n",
    "\n",
    "import pandas as pd\n",
    "import numpy as np\n",
    "import math\n",
    "import datetime\n",
    "from sklearn.preprocessing import StandardScaler\n",
    "from sklearn.ensemble import RandomForestRegressor\n",
    "import seaborn as sns\n",
    "\n",
    "from pandas.plotting import register_matplotlib_converters\n",
    "register_matplotlib_converters()"
   ]
  },
  {
   "cell_type": "markdown",
   "metadata": {},
   "source": [
    "### Initial data loading"
   ]
  },
  {
   "cell_type": "code",
   "execution_count": 2,
   "metadata": {},
   "outputs": [],
   "source": [
    "# Load data\n",
    "data = pd.read_csv(\"./out/d_fight_level_dataset_1line.csv\", index_col = 0)\n",
    "\n",
    "# Change winner to binary 1/0:\n",
    "data.Winner = data.Winner.apply(lambda x: np.where(x == -1, 0, 1))\n",
    "\n",
    "# Initial features and target\n",
    "features = pd.Series(data.columns, index = data.columns)\n",
    "target = \"Winner\""
   ]
  },
  {
   "cell_type": "markdown",
   "metadata": {},
   "source": [
    "#### A note about winning\n",
    "As shown below, the percentage of wins is about 63%, which seems odd: one would expect the winning percentage to be roughly 50% as it should be random. This dataset is from the perspective of the \"red\" fighter, however. In the UFC, the fighter who is better known or expected to win is typically given the red designation (see <href> https://www.sportingnews.com/us/boxing/news/when-red-corner-vs-blue-corner-is-unfair/139ounrjdg6j11r0idf05101w7> </href> and <href> http://forum.mmajunkie.com/forum/threads/red-corner-vs-blue-corner.30804/ </href> for some discussions on the issue). So, this kind of result can be expected and we can take advantage of it a bit in our analysis."
   ]
  },
  {
   "cell_type": "code",
   "execution_count": 3,
   "metadata": {},
   "outputs": [
    {
     "data": {
      "text/html": [
       "<div>\n",
       "<style scoped>\n",
       "    .dataframe tbody tr th:only-of-type {\n",
       "        vertical-align: middle;\n",
       "    }\n",
       "\n",
       "    .dataframe tbody tr th {\n",
       "        vertical-align: top;\n",
       "    }\n",
       "\n",
       "    .dataframe thead th {\n",
       "        text-align: right;\n",
       "    }\n",
       "</style>\n",
       "<table border=\"1\" class=\"dataframe\">\n",
       "  <thead>\n",
       "    <tr style=\"text-align: right;\">\n",
       "      <th></th>\n",
       "      <th>Winner</th>\n",
       "    </tr>\n",
       "  </thead>\n",
       "  <tbody>\n",
       "    <tr>\n",
       "      <th>1</th>\n",
       "      <td>0.632239</td>\n",
       "    </tr>\n",
       "    <tr>\n",
       "      <th>0</th>\n",
       "      <td>0.367761</td>\n",
       "    </tr>\n",
       "  </tbody>\n",
       "</table>\n",
       "</div>"
      ],
      "text/plain": [
       "     Winner\n",
       "1  0.632239\n",
       "0  0.367761"
      ]
     },
     "execution_count": 3,
     "metadata": {},
     "output_type": "execute_result"
    }
   ],
   "source": [
    "pd.DataFrame(data[target].value_counts(normalize = True))"
   ]
  },
  {
   "cell_type": "markdown",
   "metadata": {},
   "source": [
    "### Feature engineering\n",
    "We drop features that seem less relevant or may be repetitive"
   ]
  },
  {
   "cell_type": "code",
   "execution_count": 4,
   "metadata": {},
   "outputs": [],
   "source": [
    "# Remove referree, date, location, winner, title_bout, weight_class, no_of_rounds\n",
    "features.drop(index = [\"Referee\", \"date\", \"location\", \"Winner\", \"title_bout\",\n",
    "                       \"weight_class\", \"no_of_rounds\"], inplace = True)\n",
    "\n",
    "# Different sorts of wins are relatively sparce and are likely perfectly colinear\n",
    "# with number of wins\n",
    "features.drop(index = [\"Diff_win_by_Decision_Majority\",\n",
    "                       \"Diff_win_by_Decision_Split\",\n",
    "                       \"Diff_win_by_Decision_Unanimous\",\n",
    "                       \"Diff_win_by_KO/TKO\",\n",
    "                       \"Diff_win_by_Submission\",\n",
    "                       \"Diff_win_by_TKO_Doctor_Stoppage\"], inplace = True)\n",
    "\n",
    "# Diff_draw is mostly NA/0\n",
    "features.drop(index = \"Diff_draw\", inplace = True)"
   ]
  },
  {
   "cell_type": "markdown",
   "metadata": {},
   "source": [
    "### Model development\n",
    "Unlike many datasets, ours has date as an element. Instead of doing a typical train-test split, which is random, we can instead divide the dataset by time. We can create an initial model based on what we would have known at a point in time and see how it would have worked over the period of time thereafter. This is common - and preferred - in many discplines, like finance. It also matches more closely with reality, in that we can simulate what we would have done based on data we had at that time.\n",
    "#### Model/functions"
   ]
  },
  {
   "cell_type": "code",
   "execution_count": 5,
   "metadata": {},
   "outputs": [],
   "source": [
    "scaler = StandardScaler(copy = False)\n",
    "\n",
    "X = data[features]\n",
    "y = data[target]\n",
    "\n",
    "m = RandomForestRegressor( \n",
    "    n_estimators = 400, \n",
    "    min_samples_leaf = 0.05, \n",
    "    random_state = 841)"
   ]
  },
  {
   "cell_type": "markdown",
   "metadata": {},
   "source": [
    "#### Dates and initial model\n",
    "To start, we determine the number of individual dates we have in the dataset (as there often is more than one fight on a given day) and use the first 60% of dates to develop our initial model."
   ]
  },
  {
   "cell_type": "code",
   "execution_count": 6,
   "metadata": {},
   "outputs": [
    {
     "data": {
      "text/plain": [
       "RandomForestRegressor(bootstrap=True, criterion='mse', max_depth=None,\n",
       "                      max_features='auto', max_leaf_nodes=None,\n",
       "                      min_impurity_decrease=0.0, min_impurity_split=None,\n",
       "                      min_samples_leaf=0.05, min_samples_split=2,\n",
       "                      min_weight_fraction_leaf=0.0, n_estimators=400,\n",
       "                      n_jobs=None, oob_score=False, random_state=841, verbose=0,\n",
       "                      warm_start=False)"
      ]
     },
     "execution_count": 6,
     "metadata": {},
     "output_type": "execute_result"
    }
   ],
   "source": [
    "dates = np.unique(data.date)\n",
    "split = math.floor(len(dates) * .6)\n",
    "\n",
    "len(data[data.date <= dates[split]].index)\n",
    "\n",
    "maxf = len(data[data.date <= dates[split]].index)\n",
    "\n",
    "X_train = data[features].iloc[range(maxf)]\n",
    "y_train = data[target].iloc[range(maxf)]\n",
    "\n",
    "scaler.fit(X_train)\n",
    "X_train = scaler.transform(X_train, copy = False)\n",
    "\n",
    "m.fit(X_train, y_train)"
   ]
  },
  {
   "cell_type": "markdown",
   "metadata": {},
   "source": [
    "#### Initial model diagnostics\n",
    "Given that, as we previously mentioned, the win percentage is approximately 63%, it is interesting to note that the model performs poorly between predictions of 60% and 65%. The results between 65% and 70% do not seem particularly differentiated from the average probability of winning of 63%."
   ]
  },
  {
   "cell_type": "code",
   "execution_count": 7,
   "metadata": {},
   "outputs": [
    {
     "data": {
      "text/html": [
       "<div>\n",
       "<style scoped>\n",
       "    .dataframe tbody tr th:only-of-type {\n",
       "        vertical-align: middle;\n",
       "    }\n",
       "\n",
       "    .dataframe tbody tr th {\n",
       "        vertical-align: top;\n",
       "    }\n",
       "\n",
       "    .dataframe thead th {\n",
       "        text-align: right;\n",
       "    }\n",
       "</style>\n",
       "<table border=\"1\" class=\"dataframe\">\n",
       "  <thead>\n",
       "    <tr style=\"text-align: right;\">\n",
       "      <th></th>\n",
       "      <th>sum</th>\n",
       "      <th>count</th>\n",
       "      <th>pct</th>\n",
       "    </tr>\n",
       "    <tr>\n",
       "      <th>pred_bucket</th>\n",
       "      <th></th>\n",
       "      <th></th>\n",
       "      <th></th>\n",
       "    </tr>\n",
       "  </thead>\n",
       "  <tbody>\n",
       "    <tr>\n",
       "      <th>(0.45, 0.5]</th>\n",
       "      <td>1</td>\n",
       "      <td>11</td>\n",
       "      <td>0.090909</td>\n",
       "    </tr>\n",
       "    <tr>\n",
       "      <th>(0.5, 0.55]</th>\n",
       "      <td>11</td>\n",
       "      <td>53</td>\n",
       "      <td>0.207547</td>\n",
       "    </tr>\n",
       "    <tr>\n",
       "      <th>(0.55, 0.6]</th>\n",
       "      <td>30</td>\n",
       "      <td>80</td>\n",
       "      <td>0.375000</td>\n",
       "    </tr>\n",
       "    <tr>\n",
       "      <th>(0.6, 0.65]</th>\n",
       "      <td>88</td>\n",
       "      <td>182</td>\n",
       "      <td>0.483516</td>\n",
       "    </tr>\n",
       "    <tr>\n",
       "      <th>(0.65, 0.7]</th>\n",
       "      <td>173</td>\n",
       "      <td>253</td>\n",
       "      <td>0.683794</td>\n",
       "    </tr>\n",
       "    <tr>\n",
       "      <th>(0.7, 0.75]</th>\n",
       "      <td>190</td>\n",
       "      <td>237</td>\n",
       "      <td>0.801688</td>\n",
       "    </tr>\n",
       "    <tr>\n",
       "      <th>(0.75, 0.8]</th>\n",
       "      <td>158</td>\n",
       "      <td>179</td>\n",
       "      <td>0.882682</td>\n",
       "    </tr>\n",
       "    <tr>\n",
       "      <th>(0.8, 0.85]</th>\n",
       "      <td>124</td>\n",
       "      <td>130</td>\n",
       "      <td>0.953846</td>\n",
       "    </tr>\n",
       "    <tr>\n",
       "      <th>(0.85, 0.9]</th>\n",
       "      <td>51</td>\n",
       "      <td>52</td>\n",
       "      <td>0.980769</td>\n",
       "    </tr>\n",
       "    <tr>\n",
       "      <th>(0.9, 0.95]</th>\n",
       "      <td>2</td>\n",
       "      <td>2</td>\n",
       "      <td>1.000000</td>\n",
       "    </tr>\n",
       "    <tr>\n",
       "      <th>(0.95, 1.0]</th>\n",
       "      <td>0</td>\n",
       "      <td>0</td>\n",
       "      <td>NaN</td>\n",
       "    </tr>\n",
       "  </tbody>\n",
       "</table>\n",
       "</div>"
      ],
      "text/plain": [
       "             sum  count       pct\n",
       "pred_bucket                      \n",
       "(0.45, 0.5]    1     11  0.090909\n",
       "(0.5, 0.55]   11     53  0.207547\n",
       "(0.55, 0.6]   30     80  0.375000\n",
       "(0.6, 0.65]   88    182  0.483516\n",
       "(0.65, 0.7]  173    253  0.683794\n",
       "(0.7, 0.75]  190    237  0.801688\n",
       "(0.75, 0.8]  158    179  0.882682\n",
       "(0.8, 0.85]  124    130  0.953846\n",
       "(0.85, 0.9]   51     52  0.980769\n",
       "(0.9, 0.95]    2      2  1.000000\n",
       "(0.95, 1.0]    0      0       NaN"
      ]
     },
     "execution_count": 7,
     "metadata": {},
     "output_type": "execute_result"
    }
   ],
   "source": [
    "y_pred = pd.DataFrame(data = {\"prediction\" : m.predict(X_train)})\n",
    "y_pred[\"actual\"] = y_train.reset_index(drop = True)\n",
    "y_pred[\"pred_bucket\"] = pd.cut(y_pred.prediction, bins = np.arange(.45, 1.01, .05))\n",
    "\n",
    "y_diagnostics = y_pred[[\"actual\", \"pred_bucket\"]].groupby(\"pred_bucket\").aggregate([\"sum\", \"count\"])\n",
    "y_diagnostics.columns = [\"sum\", \"count\"]\n",
    "y_diagnostics[\"pct\"] = y_diagnostics[\"sum\"] / y_diagnostics[\"count\"]\n",
    "\n",
    "y_diagnostics"
   ]
  },
  {
   "cell_type": "markdown",
   "metadata": {},
   "source": [
    "#### Develping an expanding window model\n",
    "Since this data is temporal, it seems that it would always be beneficial to include all information known at each particular point in time. So, for each date after the initial model, we re-estimate the regression tree with all of the available data and then predict the results of fights for that day. Given the weakness of the model when the prediction of winning is between 60% and 70%, we will choose to make no bet for those fights. For probabilities of less than 60%, we will bet the red fighter to lose; for probabilities of greater than 70%, we will bet the red fighter to win. We assume a bet of $100 per fight at even odds (it is a bit of a stretch to imagine even odds, but this analysis can be updated with odds data or the predicted probability can be compared with available odds at the time to determine a more refined course of action).\n",
    "\n",
    "First, a helper function:"
   ]
  },
  {
   "cell_type": "code",
   "execution_count": 8,
   "metadata": {},
   "outputs": [],
   "source": [
    "def determine_result(x):\n",
    "    if x.action == \"Bet Win\":\n",
    "        if x.actual == 1:\n",
    "            return \"Won\"\n",
    "        else:\n",
    "            return \"Lost\"\n",
    "    elif x.action == \"Bet Loss\":\n",
    "        if x.actual == 0:\n",
    "            return \"Won\"\n",
    "        else:\n",
    "            return \"Lost\"\n",
    "    else:\n",
    "        return \"No Action\""
   ]
  },
  {
   "cell_type": "markdown",
   "metadata": {},
   "source": [
    "Second, the analysis to determine the bets to make at each point in time, based only on the information known up until that date:"
   ]
  },
  {
   "cell_type": "code",
   "execution_count": 9,
   "metadata": {},
   "outputs": [],
   "source": [
    "full_results = pd.DataFrame()\n",
    "\n",
    "for x in range(split, len(dates)):\n",
    "    maxf = len(data[data.date <= dates[x]].index)\n",
    "    X_train = data[features].iloc[range(maxf)]\n",
    "    scaler.fit(X_train)\n",
    "    X_train = scaler.transform(X_train, copy = False)\n",
    "    y_train = data[target].iloc[range(maxf)]\n",
    "    m.fit(X_train, y_train)\n",
    "    \n",
    "    fights = np.where(data.date == dates[x])\n",
    "    X_test = data[features].iloc[fights]\n",
    "    X_test = scaler.transform(X_test, copy = False)\n",
    "    y_test = data[target].iloc[fights]\n",
    "    \n",
    "    result = pd.DataFrame(data = {\"date\" : data.iloc[fights].date,\n",
    "                                  \"prediction\" : m.predict(X_test),\n",
    "                                  \"actual\" : y_test})\n",
    "    result[\"action\"] = result.apply(lambda x: np.where(x.prediction < .6, \"Bet Loss\",\n",
    "          np.where(x.prediction > .7, \"Bet Win\", \"No Action\")), axis = 1)\n",
    "    result[\"result\"] = result.apply(determine_result, axis = 1)\n",
    "    result[\"wager_result\"] = result.apply(lambda x: np.where(x.result == \"Won\", 100,\n",
    "    np.where(x.result == \"Lost\", -100, 0)), axis = 1)\n",
    "    full_results = full_results.append(result, ignore_index = True)\n",
    "\n",
    "full_results[\"cumulative_wager_result\"] = full_results.wager_result.cumsum()"
   ]
  },
  {
   "cell_type": "markdown",
   "metadata": {},
   "source": [
    "### Model diagnostics\n",
    "This betting model (with the caveat about not taking offered betting odds into account) performs well. Based on our hypothetical bet amount of \\\\$100 per fight, we would have earned \\\\$33,100 over the last 4-1/2 years."
   ]
  },
  {
   "cell_type": "code",
   "execution_count": 10,
   "metadata": {},
   "outputs": [
    {
     "data": {
      "text/plain": [
       "<matplotlib.axes._subplots.AxesSubplot at 0x2386c772c08>"
      ]
     },
     "execution_count": 10,
     "metadata": {},
     "output_type": "execute_result"
    },
    {
     "data": {
      "image/png": "[encoded data removed]",
      "text/plain": [
       "<Figure size 432x288 with 1 Axes>"
      ]
     },
     "metadata": {},
     "output_type": "display_data"
    }
   ],
   "source": [
    "full_results_summary = full_results[[\"date\", \"cumulative_wager_result\"]].groupby(\"date\").aggregate(np.max)\n",
    "full_results_summary[\"date\"] = full_results_summary.index\n",
    "full_results_summary.date = full_results_summary.date.apply(lambda x: datetime.datetime.strptime(x, \"%Y-%m-%d\"))\n",
    "\n",
    "sns.set(font_scale = .75)\n",
    "sns.lineplot(x = \"date\", y = \"cumulative_wager_result\", data = full_results_summary)"
   ]
  }
 ],
 "metadata": {
  "kernelspec": {
   "display_name": "Python 3",
   "language": "python",
   "name": "python3"
  },
  "language_info": {
   "codemirror_mode": {
    "name": "ipython",
    "version": 3
   },
   "file_extension": ".py",
   "mimetype": "text/x-python",
   "name": "python",
   "nbconvert_exporter": "python",
   "pygments_lexer": "ipython3",
   "version": "3.7.5"
  }
 },
 "nbformat": 4,
 "nbformat_minor": 2
}
