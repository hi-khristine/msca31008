{
 "cells": [
  {
   "cell_type": "markdown",
   "metadata": {},
   "source": [
    "## UFC Fight-level dataset SVM, SGD & NN Notebook\n",
    "(thre is no quick rule as to which kernel performs best in every scenario; testing & learning is key)\n",
    "\n",
    "Kernel trick reference:\n",
    "https://towardsdatascience.com/understanding-support-vector-machine-part-2-kernel-trick-mercers-theorem-e1e6848c6c4d"
   ]
  },
  {
   "cell_type": "markdown",
   "metadata": {},
   "source": [
    "#### Import necessary modules"
   ]
  },
  {
   "cell_type": "code",
   "execution_count": 1,
   "metadata": {},
   "outputs": [
    {
     "name": "stderr",
     "output_type": "stream",
     "text": [
      "/Users/colella2/anaconda3/lib/python3.7/site-packages/tensorflow/python/framework/dtypes.py:516: FutureWarning: Passing (type, 1) or '1type' as a synonym of type is deprecated; in a future version of numpy, it will be understood as (type, (1,)) / '(1,)type'.\n",
      "  _np_qint8 = np.dtype([(\"qint8\", np.int8, 1)])\n",
      "/Users/colella2/anaconda3/lib/python3.7/site-packages/tensorflow/python/framework/dtypes.py:517: FutureWarning: Passing (type, 1) or '1type' as a synonym of type is deprecated; in a future version of numpy, it will be understood as (type, (1,)) / '(1,)type'.\n",
      "  _np_quint8 = np.dtype([(\"quint8\", np.uint8, 1)])\n",
      "/Users/colella2/anaconda3/lib/python3.7/site-packages/tensorflow/python/framework/dtypes.py:518: FutureWarning: Passing (type, 1) or '1type' as a synonym of type is deprecated; in a future version of numpy, it will be understood as (type, (1,)) / '(1,)type'.\n",
      "  _np_qint16 = np.dtype([(\"qint16\", np.int16, 1)])\n",
      "/Users/colella2/anaconda3/lib/python3.7/site-packages/tensorflow/python/framework/dtypes.py:519: FutureWarning: Passing (type, 1) or '1type' as a synonym of type is deprecated; in a future version of numpy, it will be understood as (type, (1,)) / '(1,)type'.\n",
      "  _np_quint16 = np.dtype([(\"quint16\", np.uint16, 1)])\n",
      "/Users/colella2/anaconda3/lib/python3.7/site-packages/tensorflow/python/framework/dtypes.py:520: FutureWarning: Passing (type, 1) or '1type' as a synonym of type is deprecated; in a future version of numpy, it will be understood as (type, (1,)) / '(1,)type'.\n",
      "  _np_qint32 = np.dtype([(\"qint32\", np.int32, 1)])\n",
      "/Users/colella2/anaconda3/lib/python3.7/site-packages/tensorflow/python/framework/dtypes.py:525: FutureWarning: Passing (type, 1) or '1type' as a synonym of type is deprecated; in a future version of numpy, it will be understood as (type, (1,)) / '(1,)type'.\n",
      "  np_resource = np.dtype([(\"resource\", np.ubyte, 1)])\n",
      "/Users/colella2/anaconda3/lib/python3.7/site-packages/tensorboard/compat/tensorflow_stub/dtypes.py:541: FutureWarning: Passing (type, 1) or '1type' as a synonym of type is deprecated; in a future version of numpy, it will be understood as (type, (1,)) / '(1,)type'.\n",
      "  _np_qint8 = np.dtype([(\"qint8\", np.int8, 1)])\n",
      "/Users/colella2/anaconda3/lib/python3.7/site-packages/tensorboard/compat/tensorflow_stub/dtypes.py:542: FutureWarning: Passing (type, 1) or '1type' as a synonym of type is deprecated; in a future version of numpy, it will be understood as (type, (1,)) / '(1,)type'.\n",
      "  _np_quint8 = np.dtype([(\"quint8\", np.uint8, 1)])\n",
      "/Users/colella2/anaconda3/lib/python3.7/site-packages/tensorboard/compat/tensorflow_stub/dtypes.py:543: FutureWarning: Passing (type, 1) or '1type' as a synonym of type is deprecated; in a future version of numpy, it will be understood as (type, (1,)) / '(1,)type'.\n",
      "  _np_qint16 = np.dtype([(\"qint16\", np.int16, 1)])\n",
      "/Users/colella2/anaconda3/lib/python3.7/site-packages/tensorboard/compat/tensorflow_stub/dtypes.py:544: FutureWarning: Passing (type, 1) or '1type' as a synonym of type is deprecated; in a future version of numpy, it will be understood as (type, (1,)) / '(1,)type'.\n",
      "  _np_quint16 = np.dtype([(\"quint16\", np.uint16, 1)])\n",
      "/Users/colella2/anaconda3/lib/python3.7/site-packages/tensorboard/compat/tensorflow_stub/dtypes.py:545: FutureWarning: Passing (type, 1) or '1type' as a synonym of type is deprecated; in a future version of numpy, it will be understood as (type, (1,)) / '(1,)type'.\n",
      "  _np_qint32 = np.dtype([(\"qint32\", np.int32, 1)])\n",
      "/Users/colella2/anaconda3/lib/python3.7/site-packages/tensorboard/compat/tensorflow_stub/dtypes.py:550: FutureWarning: Passing (type, 1) or '1type' as a synonym of type is deprecated; in a future version of numpy, it will be understood as (type, (1,)) / '(1,)type'.\n",
      "  np_resource = np.dtype([(\"resource\", np.ubyte, 1)])\n",
      "Using TensorFlow backend.\n"
     ]
    }
   ],
   "source": [
    "import os\n",
    "import sys\n",
    "import pandas as pd\n",
    "import numpy as np\n",
    "import pickle\n",
    "import tensorflow as tf\n",
    "from tensorflow import keras\n",
    "from sklearn.metrics import classification_report, confusion_matrix, f1_score, precision_score, recall_score\n",
    "from sklearn.model_selection import train_test_split, GridSearchCV\n",
    "from sklearn.linear_model import SGDClassifier\n",
    "from sklearn.svm import SVC\n",
    "from keras.layers import Input, Lambda, Dense, Dropout\n",
    "from keras.models import Model, Sequential\n",
    "from keras import optimizers\n",
    "from keras.optimizers import Adam, SGD, RMSprop, Adagrad, Nadam, Adamax, Adadelta\n",
    "from keras.wrappers.scikit_learn import KerasClassifier\n",
    "import matplotlib.pyplot as plt\n",
    "\n",
    "plt.rcParams.update({'font.size': 22})\n",
    "%matplotlib inline"
   ]
  },
  {
   "cell_type": "markdown",
   "metadata": {},
   "source": [
    "#### Helper functions"
   ]
  },
  {
   "cell_type": "code",
   "execution_count": 2,
   "metadata": {},
   "outputs": [],
   "source": [
    "# rtns best params for C and Gamma; they are the parameters for a nonlinear support vector machine\n",
    "\n",
    "def svc_parameter_optimization(X, y, nfolds):\n",
    "    Cs = [0.001, 0.01, 0.1, 1, 10] # C is trade off betw. low train error and low test error (ability to generalize) \n",
    "    gammas = [0.001, 0.01, 0.1, 1] # free parameter of the Gaussian radial basis function\n",
    "    param_grid = {'C': Cs, 'gamma' : gammas}\n",
    "    grid_search = GridSearchCV(SVC(kernel='rbf'), param_grid, cv=nfolds) # instantiate grid search\n",
    "    grid_search.fit(X, y)\n",
    "    grid_search.best_params_\n",
    "    return grid_search.best_params_"
   ]
  },
  {
   "cell_type": "markdown",
   "metadata": {},
   "source": [
    "#### Set working directory"
   ]
  },
  {
   "cell_type": "code",
   "execution_count": 3,
   "metadata": {},
   "outputs": [],
   "source": [
    "os.chdir(r'/Users/colella2/Google Drive/Graduate School/MScA/Courses/31008 Data Mining Principles/Final_Project/msca31008/fun/')"
   ]
  },
  {
   "cell_type": "code",
   "execution_count": 4,
   "metadata": {},
   "outputs": [
    {
     "data": {
      "text/plain": [
       "'/Users/colella2/Google Drive/Graduate School/MScA/Courses/31008 Data Mining Principles/Final_Project/msca31008/fun'"
      ]
     },
     "execution_count": 4,
     "metadata": {},
     "output_type": "execute_result"
    }
   ],
   "source": [
    "pwd"
   ]
  },
  {
   "cell_type": "code",
   "execution_count": 5,
   "metadata": {},
   "outputs": [
    {
     "data": {
      "text/plain": [
       "['.DS_Store',\n",
       " 'r.py',\n",
       " 'tonum.py',\n",
       " 'hierarchical_imputation.py',\n",
       " 'fillna-kmeans.py',\n",
       " 'settings.py',\n",
       " 'pkl.py',\n",
       " 'spl.py',\n",
       " 'untitled',\n",
       " 'ddict.py']"
      ]
     },
     "execution_count": 5,
     "metadata": {},
     "output_type": "execute_result"
    }
   ],
   "source": [
    "os.listdir('../fun/') # confirm items in function folder"
   ]
  },
  {
   "cell_type": "code",
   "execution_count": 6,
   "metadata": {},
   "outputs": [],
   "source": [
    "exec(open('r.py').read()) # test ability to read .py script from function folder"
   ]
  },
  {
   "cell_type": "code",
   "execution_count": 7,
   "metadata": {},
   "outputs": [],
   "source": [
    "# read-in all the functions\n",
    "for filename in os.listdir('../fun/'):\n",
    "    if filename.endswith('.py'):\n",
    "        exec(open(filename).read())\n",
    "        continue\n",
    "    else:\n",
    "        continue"
   ]
  },
  {
   "cell_type": "markdown",
   "metadata": {},
   "source": [
    "#### Open file of interest"
   ]
  },
  {
   "cell_type": "code",
   "execution_count": 8,
   "metadata": {},
   "outputs": [],
   "source": [
    "os.chdir(r'/Users/colella2/Google Drive/Graduate School/MScA/Courses/31008 Data Mining Principles/Final_Project/msca31008/out_colella')\n",
    "\n",
    "with open('d3-fight-level-transform.pkl', 'rb') as f:\n",
    "    data = pickle.load(f)"
   ]
  },
  {
   "cell_type": "code",
   "execution_count": 9,
   "metadata": {},
   "outputs": [
    {
     "name": "stdout",
     "output_type": "stream",
     "text": [
      "(4091, 166)\n"
     ]
    }
   ],
   "source": [
    "load( '../out_colella/d3-fight-level-transform.pkl' ) # 166 colummns means it has the odds included\n",
    "print( X.shape )"
   ]
  },
  {
   "cell_type": "markdown",
   "metadata": {},
   "source": [
    "#### Examine key-value pairs in dict"
   ]
  },
  {
   "cell_type": "code",
   "execution_count": 10,
   "metadata": {},
   "outputs": [
    {
     "name": "stdout",
     "output_type": "stream",
     "text": [
      "X [[ 2.99245499e-01 -9.97010194e-02  2.55070204e-01 ... -4.09859262e-03\n",
      "   2.58857981e-03  4.18117087e-04]\n",
      " [ 2.53311260e-01 -1.17794088e-01  2.16182739e-01 ...  2.96931364e-03\n",
      "   1.22945903e-03  2.02198147e-03]\n",
      " [-1.95787955e-03 -2.41615241e-03 -2.14019170e-03 ...  6.99605205e-01\n",
      "   8.14480882e-05  3.52400264e-04]\n",
      " ...\n",
      " [-9.22256998e-03 -1.41063038e-01 -1.42829888e-01 ... -1.44873339e-03\n",
      "   4.52071743e-04 -1.41618555e-04]\n",
      " [-9.92344076e-03 -1.51146060e-01 -1.53186378e-01 ... -1.17141188e-03\n",
      "   1.52298831e-03  2.24250468e-04]\n",
      " [-1.01669412e-02 -1.52613336e-01 -1.55193463e-01 ... -1.54915223e-03\n",
      "   9.77677784e-04  2.37751371e-04]]\n",
      "y 0       1\n",
      "1       1\n",
      "2       1\n",
      "3       0\n",
      "4       0\n",
      "       ..\n",
      "4086    1\n",
      "4087    1\n",
      "4088    1\n",
      "4089    1\n",
      "4090    1\n",
      "Name: Winner, Length: 4091, dtype: int64\n",
      "cols Index(['title_bout', 'weight_class', 'no_of_rounds', 'date_year', 'date_month', 'date_dayofmonth', 'date_dayofweek', 'date_frisat', 'womens', 'weight_class_catch_weight',\n",
      "       ...\n",
      "       'Mean_avg_opp_HEAD_pct', 'Diff_avg_opp_HEAD_pct', 'Mean_avg_opp_LEG_pct', 'Diff_avg_opp_LEG_pct', 'Mean_avg_opp_SIG_STR_pct', 'Diff_avg_opp_SIG_STR_pct', 'Mean_avg_opp_TD_pct',\n",
      "       'Diff_avg_opp_TD_pct', 'Mean_avg_opp_TOTAL_STR_pct', 'Diff_avg_opp_TOTAL_STR_pct'],\n",
      "      dtype='object', length=166)\n"
     ]
    }
   ],
   "source": [
    "for key, value in data.items():\n",
    "  print(key, value)"
   ]
  },
  {
   "cell_type": "code",
   "execution_count": 11,
   "metadata": {},
   "outputs": [
    {
     "name": "stdout",
     "output_type": "stream",
     "text": [
      "(4091, 166)\n"
     ]
    }
   ],
   "source": [
    "print(X.shape) # view feature shape; 4368 rows, 165 columns"
   ]
  },
  {
   "cell_type": "code",
   "execution_count": 12,
   "metadata": {},
   "outputs": [
    {
     "name": "stdout",
     "output_type": "stream",
     "text": [
      "(4091,)\n"
     ]
    }
   ],
   "source": [
    "print(y.shape) # view predicted value shape; 4368 rows, 1 column"
   ]
  },
  {
   "cell_type": "markdown",
   "metadata": {},
   "source": [
    "#### Train-test split"
   ]
  },
  {
   "cell_type": "code",
   "execution_count": 13,
   "metadata": {},
   "outputs": [],
   "source": [
    "X_train , X_test, y_train, y_test = train_test_split(X, y, random_state = 718, test_size = 0.3)"
   ]
  },
  {
   "cell_type": "markdown",
   "metadata": {},
   "source": [
    "### SVM"
   ]
  },
  {
   "cell_type": "markdown",
   "metadata": {},
   "source": [
    "#### Fit model (linear kernel)\n",
    "(find decision boundary for linearly separable data)"
   ]
  },
  {
   "cell_type": "code",
   "execution_count": 15,
   "metadata": {},
   "outputs": [
    {
     "data": {
      "text/plain": [
       "SVC(C=1.0, cache_size=200, class_weight=None, coef0=0.0,\n",
       "    decision_function_shape='ovr', degree=3, gamma='auto_deprecated',\n",
       "    kernel='linear', max_iter=-1, probability=False, random_state=None,\n",
       "    shrinking=True, tol=0.001, verbose=False)"
      ]
     },
     "execution_count": 15,
     "metadata": {},
     "output_type": "execute_result"
    }
   ],
   "source": [
    "svclassifier_linear = SVC(kernel='linear')\n",
    "svclassifier_linear.fit(X_train, y_train)"
   ]
  },
  {
   "cell_type": "code",
   "execution_count": 16,
   "metadata": {},
   "outputs": [
    {
     "name": "stdout",
     "output_type": "stream",
     "text": [
      "              precision    recall  f1-score   support\n",
      "\n",
      "           0       0.69      0.33      0.44       963\n",
      "           1       0.73      0.92      0.82      1900\n",
      "\n",
      "    accuracy                           0.72      2863\n",
      "   macro avg       0.71      0.63      0.63      2863\n",
      "weighted avg       0.72      0.72      0.69      2863\n",
      "\n"
     ]
    }
   ],
   "source": [
    "# accuracy against train data: 72%\n",
    "print(classification_report(y_train,svclassifier_linear.predict(X_train)))"
   ]
  },
  {
   "cell_type": "code",
   "execution_count": 17,
   "metadata": {},
   "outputs": [
    {
     "name": "stdout",
     "output_type": "stream",
     "text": [
      "              precision    recall  f1-score   support\n",
      "\n",
      "           0       0.57      0.28      0.37       425\n",
      "           1       0.70      0.89      0.78       803\n",
      "\n",
      "    accuracy                           0.68      1228\n",
      "   macro avg       0.63      0.58      0.58      1228\n",
      "weighted avg       0.65      0.68      0.64      1228\n",
      "\n"
     ]
    }
   ],
   "source": [
    "# accuracy against test data: 68%\n",
    "print(classification_report(y_test, svclassifier_linear.predict(X_test)))"
   ]
  },
  {
   "cell_type": "code",
   "execution_count": 18,
   "metadata": {},
   "outputs": [
    {
     "name": "stdout",
     "output_type": "stream",
     "text": [
      "[[118 307]\n",
      " [ 90 713]]\n"
     ]
    }
   ],
   "source": [
    "# store predicted values on X_test & print confusion matrix\n",
    "y_pred_linear = svclassifier_linear.predict(X_test)\n",
    "print(confusion_matrix(y_test,y_pred_linear))"
   ]
  },
  {
   "cell_type": "markdown",
   "metadata": {},
   "source": [
    "### Begin section for non-linear investigation"
   ]
  },
  {
   "cell_type": "markdown",
   "metadata": {},
   "source": [
    "#### Fit model (poly kernel)"
   ]
  },
  {
   "cell_type": "code",
   "execution_count": 63,
   "metadata": {},
   "outputs": [
    {
     "name": "stderr",
     "output_type": "stream",
     "text": [
      "/Users/colella2/anaconda3/lib/python3.7/site-packages/sklearn/svm/base.py:193: FutureWarning: The default value of gamma will change from 'auto' to 'scale' in version 0.22 to account better for unscaled features. Set gamma explicitly to 'auto' or 'scale' to avoid this warning.\n",
      "  \"avoid this warning.\", FutureWarning)\n"
     ]
    },
    {
     "data": {
      "text/plain": [
       "SVC(C=1.0, cache_size=200, class_weight=None, coef0=0.0,\n",
       "    decision_function_shape='ovr', degree=8, gamma='auto_deprecated',\n",
       "    kernel='poly', max_iter=-1, probability=False, random_state=None,\n",
       "    shrinking=True, tol=0.001, verbose=False)"
      ]
     },
     "execution_count": 63,
     "metadata": {},
     "output_type": "execute_result"
    }
   ],
   "source": [
    "svclassifier_poly = SVC(kernel='poly', degree=8)\n",
    "svclassifier_poly.fit(X_train, y_train)"
   ]
  },
  {
   "cell_type": "code",
   "execution_count": 64,
   "metadata": {},
   "outputs": [
    {
     "name": "stdout",
     "output_type": "stream",
     "text": [
      "              precision    recall  f1-score   support\n",
      "\n",
      "           0       0.00      0.00      0.00       963\n",
      "           1       0.66      1.00      0.80      1900\n",
      "\n",
      "    accuracy                           0.66      2863\n",
      "   macro avg       0.33      0.50      0.40      2863\n",
      "weighted avg       0.44      0.66      0.53      2863\n",
      "\n"
     ]
    },
    {
     "name": "stderr",
     "output_type": "stream",
     "text": [
      "/Users/colella2/anaconda3/lib/python3.7/site-packages/sklearn/metrics/classification.py:1437: UndefinedMetricWarning: Precision and F-score are ill-defined and being set to 0.0 in labels with no predicted samples.\n",
      "  'precision', 'predicted', average, warn_for)\n"
     ]
    }
   ],
   "source": [
    "# accuracy against train data: 66%\n",
    "print(classification_report(y_train,svclassifier_poly.predict(X_train)))"
   ]
  },
  {
   "cell_type": "code",
   "execution_count": 65,
   "metadata": {},
   "outputs": [
    {
     "name": "stdout",
     "output_type": "stream",
     "text": [
      "              precision    recall  f1-score   support\n",
      "\n",
      "           0       0.00      0.00      0.00       425\n",
      "           1       0.65      1.00      0.79       803\n",
      "\n",
      "    accuracy                           0.65      1228\n",
      "   macro avg       0.33      0.50      0.40      1228\n",
      "weighted avg       0.43      0.65      0.52      1228\n",
      "\n"
     ]
    },
    {
     "name": "stderr",
     "output_type": "stream",
     "text": [
      "/Users/colella2/anaconda3/lib/python3.7/site-packages/sklearn/metrics/classification.py:1437: UndefinedMetricWarning: Precision and F-score are ill-defined and being set to 0.0 in labels with no predicted samples.\n",
      "  'precision', 'predicted', average, warn_for)\n"
     ]
    }
   ],
   "source": [
    "# accuracy against test data 65%\n",
    "print(classification_report(y_test, svclassifier_poly.predict(X_test)))"
   ]
  },
  {
   "cell_type": "code",
   "execution_count": 66,
   "metadata": {},
   "outputs": [
    {
     "name": "stdout",
     "output_type": "stream",
     "text": [
      "[[  0 425]\n",
      " [  0 803]]\n"
     ]
    }
   ],
   "source": [
    "# store predicted values on X_test & print confusion matrix\n",
    "y_pred_poly = svclassifier_poly.predict(X_test)\n",
    "print(confusion_matrix(y_test,y_pred_poly))"
   ]
  },
  {
   "cell_type": "markdown",
   "metadata": {},
   "source": [
    "#### Fit model (Gaussian kernel)\n",
    "(this is a special case for rbf)"
   ]
  },
  {
   "cell_type": "code",
   "execution_count": 67,
   "metadata": {},
   "outputs": [
    {
     "name": "stderr",
     "output_type": "stream",
     "text": [
      "/Users/colella2/anaconda3/lib/python3.7/site-packages/sklearn/svm/base.py:193: FutureWarning: The default value of gamma will change from 'auto' to 'scale' in version 0.22 to account better for unscaled features. Set gamma explicitly to 'auto' or 'scale' to avoid this warning.\n",
      "  \"avoid this warning.\", FutureWarning)\n"
     ]
    },
    {
     "data": {
      "text/plain": [
       "SVC(C=1.0, cache_size=200, class_weight=None, coef0=0.0,\n",
       "    decision_function_shape='ovr', degree=3, gamma='auto_deprecated',\n",
       "    kernel='rbf', max_iter=-1, probability=False, random_state=None,\n",
       "    shrinking=True, tol=0.001, verbose=False)"
      ]
     },
     "execution_count": 67,
     "metadata": {},
     "output_type": "execute_result"
    }
   ],
   "source": [
    "svclassifier_gaus = SVC(kernel='rbf')\n",
    "svclassifier_gaus.fit(X_train, y_train)"
   ]
  },
  {
   "cell_type": "code",
   "execution_count": 68,
   "metadata": {},
   "outputs": [
    {
     "name": "stdout",
     "output_type": "stream",
     "text": [
      "              precision    recall  f1-score   support\n",
      "\n",
      "           0       0.00      0.00      0.00       963\n",
      "           1       0.66      1.00      0.80      1900\n",
      "\n",
      "    accuracy                           0.66      2863\n",
      "   macro avg       0.33      0.50      0.40      2863\n",
      "weighted avg       0.44      0.66      0.53      2863\n",
      "\n"
     ]
    },
    {
     "name": "stderr",
     "output_type": "stream",
     "text": [
      "/Users/colella2/anaconda3/lib/python3.7/site-packages/sklearn/metrics/classification.py:1437: UndefinedMetricWarning: Precision and F-score are ill-defined and being set to 0.0 in labels with no predicted samples.\n",
      "  'precision', 'predicted', average, warn_for)\n"
     ]
    }
   ],
   "source": [
    "# accuracy against train data: 66%\n",
    "print(classification_report(y_train,svclassifier_gaus.predict(X_train)))"
   ]
  },
  {
   "cell_type": "code",
   "execution_count": 69,
   "metadata": {},
   "outputs": [
    {
     "name": "stdout",
     "output_type": "stream",
     "text": [
      "              precision    recall  f1-score   support\n",
      "\n",
      "           0       0.00      0.00      0.00       425\n",
      "           1       0.65      1.00      0.79       803\n",
      "\n",
      "    accuracy                           0.65      1228\n",
      "   macro avg       0.33      0.50      0.40      1228\n",
      "weighted avg       0.43      0.65      0.52      1228\n",
      "\n"
     ]
    },
    {
     "name": "stderr",
     "output_type": "stream",
     "text": [
      "/Users/colella2/anaconda3/lib/python3.7/site-packages/sklearn/metrics/classification.py:1437: UndefinedMetricWarning: Precision and F-score are ill-defined and being set to 0.0 in labels with no predicted samples.\n",
      "  'precision', 'predicted', average, warn_for)\n"
     ]
    }
   ],
   "source": [
    "# accuracy against test data: 65%\n",
    "print(classification_report(y_test, svclassifier_gaus.predict(X_test)))"
   ]
  },
  {
   "cell_type": "code",
   "execution_count": 70,
   "metadata": {},
   "outputs": [
    {
     "name": "stdout",
     "output_type": "stream",
     "text": [
      "[[  0 425]\n",
      " [  0 803]]\n"
     ]
    }
   ],
   "source": [
    "# store predicted values on X_test & print confusion matrix\n",
    "y_pred_gaus = svclassifier_gaus.predict(X_test)\n",
    "print(confusion_matrix(y_test,y_pred_gaus))"
   ]
  },
  {
   "cell_type": "markdown",
   "metadata": {},
   "source": [
    "#### After first running simply (as was done above), commence optimization..."
   ]
  },
  {
   "cell_type": "code",
   "execution_count": 71,
   "metadata": {},
   "outputs": [
    {
     "data": {
      "text/plain": [
       "{'C': 10, 'gamma': 0.1}"
      ]
     },
     "execution_count": 71,
     "metadata": {},
     "output_type": "execute_result"
    }
   ],
   "source": [
    "# commence grid search for best parameters on training set\n",
    "svc_parameter_optimization(X_train, y_train, 5)"
   ]
  },
  {
   "cell_type": "code",
   "execution_count": 72,
   "metadata": {},
   "outputs": [
    {
     "data": {
      "text/plain": [
       "SVC(C=1, cache_size=200, class_weight=None, coef0=0.0,\n",
       "    decision_function_shape='ovr', degree=3, gamma=1, kernel='rbf', max_iter=-1,\n",
       "    probability=False, random_state=None, shrinking=True, tol=0.001,\n",
       "    verbose=False)"
      ]
     },
     "execution_count": 72,
     "metadata": {},
     "output_type": "execute_result"
    }
   ],
   "source": [
    "# instantiate with optimal parameters\n",
    "svclassifier_gaus_optim = SVC(kernel='rbf', C = 1, gamma = 1)\n",
    "svclassifier_gaus_optim.fit(X_train, y_train)"
   ]
  },
  {
   "cell_type": "code",
   "execution_count": 73,
   "metadata": {},
   "outputs": [
    {
     "name": "stdout",
     "output_type": "stream",
     "text": [
      "              precision    recall  f1-score   support\n",
      "\n",
      "           0       0.94      0.54      0.69       963\n",
      "           1       0.81      0.98      0.89      1900\n",
      "\n",
      "    accuracy                           0.83      2863\n",
      "   macro avg       0.87      0.76      0.79      2863\n",
      "weighted avg       0.85      0.83      0.82      2863\n",
      "\n"
     ]
    }
   ],
   "source": [
    "# view optimized results/accuracy on training data: 83%\n",
    "print(classification_report(y_train,svclassifier_gaus_optim.predict(X_train)))"
   ]
  },
  {
   "cell_type": "code",
   "execution_count": 74,
   "metadata": {},
   "outputs": [
    {
     "name": "stdout",
     "output_type": "stream",
     "text": [
      "              precision    recall  f1-score   support\n",
      "\n",
      "           0       0.58      0.24      0.34       425\n",
      "           1       0.69      0.91      0.79       803\n",
      "\n",
      "    accuracy                           0.68      1228\n",
      "   macro avg       0.63      0.57      0.56      1228\n",
      "weighted avg       0.65      0.68      0.63      1228\n",
      "\n"
     ]
    }
   ],
   "source": [
    "# view optimized results/accuracy on testing data: 68%\n",
    "print(classification_report(y_test, svclassifier_gaus_optim.predict(X_test)))"
   ]
  },
  {
   "cell_type": "code",
   "execution_count": 75,
   "metadata": {},
   "outputs": [
    {
     "name": "stdout",
     "output_type": "stream",
     "text": [
      "[[102 323]\n",
      " [ 75 728]]\n"
     ]
    }
   ],
   "source": [
    "# store predicted values on X_test & print confusion matrix\n",
    "y_pred_gaus_optim = svclassifier_gaus_optim.predict(X_test)\n",
    "print(confusion_matrix(y_test,y_pred_gaus_optim))"
   ]
  },
  {
   "cell_type": "markdown",
   "metadata": {},
   "source": [
    "#### Fit model (Sigmoid kernel)\n",
    "(suitable for binary classification problems; rtns 0 or 1; activation functino for Neural Networks)"
   ]
  },
  {
   "cell_type": "code",
   "execution_count": 76,
   "metadata": {},
   "outputs": [
    {
     "name": "stderr",
     "output_type": "stream",
     "text": [
      "/Users/colella2/anaconda3/lib/python3.7/site-packages/sklearn/svm/base.py:193: FutureWarning: The default value of gamma will change from 'auto' to 'scale' in version 0.22 to account better for unscaled features. Set gamma explicitly to 'auto' or 'scale' to avoid this warning.\n",
      "  \"avoid this warning.\", FutureWarning)\n"
     ]
    },
    {
     "data": {
      "text/plain": [
       "SVC(C=1.0, cache_size=200, class_weight=None, coef0=0.0,\n",
       "    decision_function_shape='ovr', degree=3, gamma='auto_deprecated',\n",
       "    kernel='sigmoid', max_iter=-1, probability=False, random_state=None,\n",
       "    shrinking=True, tol=0.001, verbose=False)"
      ]
     },
     "execution_count": 76,
     "metadata": {},
     "output_type": "execute_result"
    }
   ],
   "source": [
    "svclassifier_sig = SVC(kernel='sigmoid')\n",
    "svclassifier_sig.fit(X_train, y_train)"
   ]
  },
  {
   "cell_type": "code",
   "execution_count": 77,
   "metadata": {},
   "outputs": [
    {
     "name": "stdout",
     "output_type": "stream",
     "text": [
      "              precision    recall  f1-score   support\n",
      "\n",
      "           0       0.00      0.00      0.00       963\n",
      "           1       0.66      1.00      0.80      1900\n",
      "\n",
      "    accuracy                           0.66      2863\n",
      "   macro avg       0.33      0.50      0.40      2863\n",
      "weighted avg       0.44      0.66      0.53      2863\n",
      "\n"
     ]
    },
    {
     "name": "stderr",
     "output_type": "stream",
     "text": [
      "/Users/colella2/anaconda3/lib/python3.7/site-packages/sklearn/metrics/classification.py:1437: UndefinedMetricWarning: Precision and F-score are ill-defined and being set to 0.0 in labels with no predicted samples.\n",
      "  'precision', 'predicted', average, warn_for)\n"
     ]
    }
   ],
   "source": [
    "# accuracy against train data: 66%\n",
    "print(classification_report(y_train,svclassifier_sig.predict(X_train)))"
   ]
  },
  {
   "cell_type": "code",
   "execution_count": 78,
   "metadata": {},
   "outputs": [
    {
     "name": "stdout",
     "output_type": "stream",
     "text": [
      "              precision    recall  f1-score   support\n",
      "\n",
      "           0       0.00      0.00      0.00       425\n",
      "           1       0.65      1.00      0.79       803\n",
      "\n",
      "    accuracy                           0.65      1228\n",
      "   macro avg       0.33      0.50      0.40      1228\n",
      "weighted avg       0.43      0.65      0.52      1228\n",
      "\n"
     ]
    },
    {
     "name": "stderr",
     "output_type": "stream",
     "text": [
      "/Users/colella2/anaconda3/lib/python3.7/site-packages/sklearn/metrics/classification.py:1437: UndefinedMetricWarning: Precision and F-score are ill-defined and being set to 0.0 in labels with no predicted samples.\n",
      "  'precision', 'predicted', average, warn_for)\n"
     ]
    }
   ],
   "source": [
    "# accuracy against test data: 65%\n",
    "print(classification_report(y_test, svclassifier_sig.predict(X_test)))"
   ]
  },
  {
   "cell_type": "code",
   "execution_count": 79,
   "metadata": {},
   "outputs": [
    {
     "name": "stdout",
     "output_type": "stream",
     "text": [
      "[[  0 425]\n",
      " [  0 803]]\n"
     ]
    }
   ],
   "source": [
    "# store predicted values on X_test & print confusion matrix\n",
    "y_pred_sig = svclassifier_sig.predict(X_test)\n",
    "print(confusion_matrix(y_test,y_pred_sig))"
   ]
  },
  {
   "cell_type": "markdown",
   "metadata": {},
   "source": [
    "#### Conclusion\n",
    "Linear SVM performs similarly to optimized Gaussian RBF on test sets."
   ]
  },
  {
   "cell_type": "markdown",
   "metadata": {},
   "source": [
    "### SGD"
   ]
  },
  {
   "cell_type": "code",
   "execution_count": 19,
   "metadata": {},
   "outputs": [],
   "source": [
    "# instantiate SGD classifier\n",
    "linear_sgd_classifier = SGDClassifier(random_state = 0)"
   ]
  },
  {
   "cell_type": "code",
   "execution_count": 20,
   "metadata": {},
   "outputs": [
    {
     "data": {
      "text/plain": [
       "GridSearchCV(cv=5, error_score='raise-deprecating',\n",
       "             estimator=SGDClassifier(alpha=0.0001, average=False,\n",
       "                                     class_weight=None, early_stopping=False,\n",
       "                                     epsilon=0.1, eta0=0.0, fit_intercept=True,\n",
       "                                     l1_ratio=0.15, learning_rate='optimal',\n",
       "                                     loss='hinge', max_iter=1000,\n",
       "                                     n_iter_no_change=5, n_jobs=None,\n",
       "                                     penalty='l2', power_t=0.5, random_state=0,\n",
       "                                     shuffle=True, tol=0.001,\n",
       "                                     validation_fraction=0.1, verbose=0,\n",
       "                                     warm_start=False),\n",
       "             iid='warn', n_jobs=None,\n",
       "             param_grid={'alpha': [1e-05, 0.0001, 0.001, 0.01, 0.1, 1],\n",
       "                         'loss': ['hinge', 'log'], 'penalty': ['l1', 'l2']},\n",
       "             pre_dispatch='2*n_jobs', refit=True, return_train_score=False,\n",
       "             scoring=None, verbose=0)"
      ]
     },
     "execution_count": 20,
     "metadata": {},
     "output_type": "execute_result"
    }
   ],
   "source": [
    "# instantiate the GridSearchCV object and run search\n",
    "params = {'alpha':[0.00001, 0.0001, 0.001, 0.01, 0.1, 1], 'loss':['hinge', 'log'], 'penalty':['l1','l2']}\n",
    "\n",
    "grid_search = GridSearchCV(linear_sgd_classifier, params, cv = 5)\n",
    "\n",
    "grid_search.fit(X_train, y_train)"
   ]
  },
  {
   "cell_type": "code",
   "execution_count": 21,
   "metadata": {},
   "outputs": [
    {
     "name": "stdout",
     "output_type": "stream",
     "text": [
      "Best CV params {'alpha': 0.001, 'loss': 'log', 'penalty': 'l1'}\n",
      "Best CV accuracy 0.6919315403422983\n",
      "Test accuracy of best grid search hypers: 0.6864820846905537\n"
     ]
    }
   ],
   "source": [
    "# best parameters & the corresponding score\n",
    "print(\"Best CV params\", grid_search.best_params_)\n",
    "print(\"Best CV accuracy\", grid_search.best_score_)\n",
    "print(\"Test accuracy of best grid search hypers:\", grid_search.score(X_test, y_test))"
   ]
  },
  {
   "cell_type": "code",
   "execution_count": 22,
   "metadata": {},
   "outputs": [
    {
     "name": "stdout",
     "output_type": "stream",
     "text": [
      "CPU times: user 54.3 ms, sys: 1.17 ms, total: 55.5 ms\n",
      "Wall time: 55 ms\n"
     ]
    },
    {
     "data": {
      "text/plain": [
       "SGDClassifier(alpha=0.0001, average=False, class_weight=None,\n",
       "              early_stopping=False, epsilon=0.1, eta0=0.0, fit_intercept=True,\n",
       "              l1_ratio=0.15, learning_rate='optimal', loss='hinge',\n",
       "              max_iter=1000, n_iter_no_change=5, n_jobs=None, penalty='l2',\n",
       "              power_t=0.5, random_state=0, shuffle=True, tol=0.001,\n",
       "              validation_fraction=0.1, verbose=0, warm_start=False)"
      ]
     },
     "execution_count": 22,
     "metadata": {},
     "output_type": "execute_result"
    }
   ],
   "source": [
    "%%time\n",
    "\n",
    "# fit SGD classifier\n",
    "linear_sgd_classifier.fit(X_train, y_train)"
   ]
  },
  {
   "cell_type": "code",
   "execution_count": 23,
   "metadata": {},
   "outputs": [
    {
     "name": "stdout",
     "output_type": "stream",
     "text": [
      "              precision    recall  f1-score   support\n",
      "\n",
      "           0       0.65      0.42      0.51       963\n",
      "           1       0.75      0.88      0.81      1900\n",
      "\n",
      "    accuracy                           0.73      2863\n",
      "   macro avg       0.70      0.65      0.66      2863\n",
      "weighted avg       0.72      0.73      0.71      2863\n",
      "\n"
     ]
    }
   ],
   "source": [
    "# accuracy against train data: 73%\n",
    "print(classification_report(y_train, linear_sgd_classifier.predict(X_train)))"
   ]
  },
  {
   "cell_type": "code",
   "execution_count": 24,
   "metadata": {},
   "outputs": [
    {
     "name": "stdout",
     "output_type": "stream",
     "text": [
      "              precision    recall  f1-score   support\n",
      "\n",
      "           0       0.55      0.38      0.45       425\n",
      "           1       0.72      0.84      0.77       803\n",
      "\n",
      "    accuracy                           0.68      1228\n",
      "   macro avg       0.64      0.61      0.61      1228\n",
      "weighted avg       0.66      0.68      0.66      1228\n",
      "\n"
     ]
    }
   ],
   "source": [
    "# accuracy against test data: 68%\n",
    "print(classification_report(y_test, linear_sgd_classifier.predict(X_test)))"
   ]
  },
  {
   "cell_type": "markdown",
   "metadata": {},
   "source": [
    "As one can see, the accuracy on the test set is 0.65, matching Gaussian-RBD and linear SVM. It also better precision and recall than optimized Gaussian-RBF & matches or betters linear SVM. It matches linear SVM on recall."
   ]
  },
  {
   "cell_type": "markdown",
   "metadata": {},
   "source": [
    "### Neural Network\n",
    "ReLu activation function for hidden layers.\n",
    "Sigmoid activation function for binary classification. CAUTION: Large neural nets trained on relatively small datasets can overfit the training data. Generalization error increases due to overfitting."
   ]
  },
  {
   "cell_type": "markdown",
   "metadata": {},
   "source": [
    "#### Instance 1\n",
    "3 layers of 55 nodes/neurons/perceptrons mapping to 1 target variable"
   ]
  },
  {
   "cell_type": "code",
   "execution_count": 25,
   "metadata": {},
   "outputs": [
    {
     "name": "stdout",
     "output_type": "stream",
     "text": [
      "WARNING:tensorflow:From /Users/colella2/anaconda3/lib/python3.7/site-packages/keras/backend/tensorflow_backend.py:74: The name tf.get_default_graph is deprecated. Please use tf.compat.v1.get_default_graph instead.\n",
      "\n",
      "WARNING:tensorflow:From /Users/colella2/anaconda3/lib/python3.7/site-packages/keras/backend/tensorflow_backend.py:517: The name tf.placeholder is deprecated. Please use tf.compat.v1.placeholder instead.\n",
      "\n",
      "WARNING:tensorflow:From /Users/colella2/anaconda3/lib/python3.7/site-packages/keras/backend/tensorflow_backend.py:4115: The name tf.random_normal is deprecated. Please use tf.random.normal instead.\n",
      "\n"
     ]
    }
   ],
   "source": [
    "# instantiate classifier\n",
    "classifier = Sequential()\n",
    "\n",
    "# optimal size of the hidden layer is usually between the size of the input and size of the output layers\n",
    "# general rule I used was # input features of 165 / # hidden layers = # nodes per layer\n",
    "\n",
    "# ReLu is based on principle that linear models are easier to optimize\n",
    "# random normal initializer generates tensors with a normal distribution\n",
    "\n",
    "# hidden layer 1 - # of neurons comprising this layer is equal to number of features\n",
    "classifier.add(Dense(55, activation = 'relu', kernel_initializer = 'random_normal', input_dim = 166))\n",
    "\n",
    "# hidden layer 2\n",
    "classifier.add(Dense(55, activation = 'relu', kernel_initializer = 'random_normal'))\n",
    "\n",
    "# hidden layer 3\n",
    "classifier.add(Dense(55, activation = 'relu', kernel_initializer = 'random_normal'))\n",
    "\n",
    "# output layer\n",
    "# single node for classification unless softmax is used -- then one node per class label\n",
    "# Sigmoid function is the special case of Softmax function where the number of classes are 2\n",
    "classifier.add(Dense(1, activation = 'sigmoid', kernel_initializer = 'random_normal'))"
   ]
  },
  {
   "cell_type": "code",
   "execution_count": 26,
   "metadata": {},
   "outputs": [
    {
     "name": "stdout",
     "output_type": "stream",
     "text": [
      "WARNING:tensorflow:From /Users/colella2/anaconda3/lib/python3.7/site-packages/keras/optimizers.py:790: The name tf.train.Optimizer is deprecated. Please use tf.compat.v1.train.Optimizer instead.\n",
      "\n",
      "WARNING:tensorflow:From /Users/colella2/anaconda3/lib/python3.7/site-packages/keras/backend/tensorflow_backend.py:3376: The name tf.log is deprecated. Please use tf.math.log instead.\n",
      "\n",
      "WARNING:tensorflow:From /Users/colella2/anaconda3/lib/python3.7/site-packages/tensorflow/python/ops/nn_impl.py:180: add_dispatch_support.<locals>.wrapper (from tensorflow.python.ops.array_ops) is deprecated and will be removed in a future version.\n",
      "Instructions for updating:\n",
      "Use tf.where in 2.0, which has the same broadcast rule as np.where\n"
     ]
    }
   ],
   "source": [
    "# compile NN\n",
    "classifier.compile(optimizer = 'adam',loss = 'binary_crossentropy', metrics = ['accuracy'])\n",
    "\n",
    "# use Adam optimization -- \"adaptive moment estimation\"; it's a combo of RMSProp + Momentum"
   ]
  },
  {
   "cell_type": "code",
   "execution_count": 27,
   "metadata": {},
   "outputs": [
    {
     "name": "stdout",
     "output_type": "stream",
     "text": [
      "WARNING:tensorflow:From /Users/colella2/anaconda3/lib/python3.7/site-packages/keras/backend/tensorflow_backend.py:986: The name tf.assign_add is deprecated. Please use tf.compat.v1.assign_add instead.\n",
      "\n",
      "Epoch 1/60\n",
      "2863/2863 [==============================] - 1s 377us/step - loss: 0.6634 - acc: 0.6633\n",
      "Epoch 2/60\n",
      "2863/2863 [==============================] - 0s 54us/step - loss: 0.6045 - acc: 0.6636\n",
      "Epoch 3/60\n",
      "2863/2863 [==============================] - 0s 56us/step - loss: 0.5738 - acc: 0.6636\n",
      "Epoch 4/60\n",
      "2863/2863 [==============================] - 0s 58us/step - loss: 0.5533 - acc: 0.6846\n",
      "Epoch 5/60\n",
      "2863/2863 [==============================] - 0s 55us/step - loss: 0.5350 - acc: 0.7251\n",
      "Epoch 6/60\n",
      "2863/2863 [==============================] - 0s 55us/step - loss: 0.5246 - acc: 0.7436\n",
      "Epoch 7/60\n",
      "2863/2863 [==============================] - 0s 55us/step - loss: 0.5039 - acc: 0.7538\n",
      "Epoch 8/60\n",
      "2863/2863 [==============================] - 0s 58us/step - loss: 0.4834 - acc: 0.7786\n",
      "Epoch 9/60\n",
      "2863/2863 [==============================] - 0s 62us/step - loss: 0.4646 - acc: 0.7873\n",
      "Epoch 10/60\n",
      "2863/2863 [==============================] - 0s 64us/step - loss: 0.4356 - acc: 0.8089\n",
      "Epoch 11/60\n",
      "2863/2863 [==============================] - 0s 56us/step - loss: 0.4014 - acc: 0.8355\n",
      "Epoch 12/60\n",
      "2863/2863 [==============================] - 0s 54us/step - loss: 0.3699 - acc: 0.8540\n",
      "Epoch 13/60\n",
      "2863/2863 [==============================] - 0s 54us/step - loss: 0.3381 - acc: 0.8711\n",
      "Epoch 14/60\n",
      "2863/2863 [==============================] - 0s 53us/step - loss: 0.2946 - acc: 0.8910\n",
      "Epoch 15/60\n",
      "2863/2863 [==============================] - 0s 54us/step - loss: 0.2480 - acc: 0.9176\n",
      "Epoch 16/60\n",
      "2863/2863 [==============================] - 0s 56us/step - loss: 0.2063 - acc: 0.9371\n",
      "Epoch 17/60\n",
      "2863/2863 [==============================] - 0s 53us/step - loss: 0.1827 - acc: 0.9420\n",
      "Epoch 18/60\n",
      "2863/2863 [==============================] - 0s 50us/step - loss: 0.1472 - acc: 0.9560\n",
      "Epoch 19/60\n",
      "2863/2863 [==============================] - 0s 53us/step - loss: 0.1193 - acc: 0.9693\n",
      "Epoch 20/60\n",
      "2863/2863 [==============================] - 0s 52us/step - loss: 0.0964 - acc: 0.9745\n",
      "Epoch 21/60\n",
      "2863/2863 [==============================] - 0s 51us/step - loss: 0.0811 - acc: 0.9797\n",
      "Epoch 22/60\n",
      "2863/2863 [==============================] - 0s 52us/step - loss: 0.0929 - acc: 0.9745\n",
      "Epoch 23/60\n",
      "2863/2863 [==============================] - 0s 53us/step - loss: 0.0615 - acc: 0.9846\n",
      "Epoch 24/60\n",
      "2863/2863 [==============================] - 0s 52us/step - loss: 0.0461 - acc: 0.9906\n",
      "Epoch 25/60\n",
      "2863/2863 [==============================] - 0s 54us/step - loss: 0.0349 - acc: 0.9948\n",
      "Epoch 26/60\n",
      "2863/2863 [==============================] - 0s 57us/step - loss: 0.0269 - acc: 0.9965\n",
      "Epoch 27/60\n",
      "2863/2863 [==============================] - 0s 53us/step - loss: 0.0234 - acc: 0.9951\n",
      "Epoch 28/60\n",
      "2863/2863 [==============================] - 0s 49us/step - loss: 0.0179 - acc: 0.9972\n",
      "Epoch 29/60\n",
      "2863/2863 [==============================] - 0s 51us/step - loss: 0.0160 - acc: 0.9972\n",
      "Epoch 30/60\n",
      "2863/2863 [==============================] - 0s 52us/step - loss: 0.0130 - acc: 0.9976\n",
      "Epoch 31/60\n",
      "2863/2863 [==============================] - 0s 50us/step - loss: 0.0124 - acc: 0.9983\n",
      "Epoch 32/60\n",
      "2863/2863 [==============================] - 0s 50us/step - loss: 0.0079 - acc: 0.9986\n",
      "Epoch 33/60\n",
      "2863/2863 [==============================] - 0s 51us/step - loss: 0.0068 - acc: 0.9990\n",
      "Epoch 34/60\n",
      "2863/2863 [==============================] - 0s 59us/step - loss: 0.0081 - acc: 0.9986\n",
      "Epoch 35/60\n",
      "2863/2863 [==============================] - 0s 55us/step - loss: 0.0081 - acc: 0.9990\n",
      "Epoch 36/60\n",
      "2863/2863 [==============================] - 0s 49us/step - loss: 0.0070 - acc: 0.9990\n",
      "Epoch 37/60\n",
      "2863/2863 [==============================] - 0s 51us/step - loss: 0.0083 - acc: 0.9986\n",
      "Epoch 38/60\n",
      "2863/2863 [==============================] - 0s 52us/step - loss: 0.0044 - acc: 0.9997\n",
      "Epoch 39/60\n",
      "2863/2863 [==============================] - 0s 52us/step - loss: 0.0078 - acc: 0.9983\n",
      "Epoch 40/60\n",
      "2863/2863 [==============================] - 0s 51us/step - loss: 0.0290 - acc: 0.9913\n",
      "Epoch 41/60\n",
      "2863/2863 [==============================] - 0s 45us/step - loss: 0.0852 - acc: 0.9700\n",
      "Epoch 42/60\n",
      "2863/2863 [==============================] - 0s 50us/step - loss: 0.1479 - acc: 0.9462\n",
      "Epoch 43/60\n",
      "2863/2863 [==============================] - 0s 47us/step - loss: 0.0658 - acc: 0.9742\n",
      "Epoch 44/60\n",
      "2863/2863 [==============================] - 0s 52us/step - loss: 0.0228 - acc: 0.9944\n",
      "Epoch 45/60\n",
      "2863/2863 [==============================] - 0s 50us/step - loss: 0.0193 - acc: 0.9948\n",
      "Epoch 46/60\n",
      "2863/2863 [==============================] - 0s 51us/step - loss: 0.0061 - acc: 0.9993\n",
      "Epoch 47/60\n",
      "2863/2863 [==============================] - 0s 51us/step - loss: 0.0033 - acc: 1.0000\n",
      "Epoch 48/60\n",
      "2863/2863 [==============================] - 0s 53us/step - loss: 0.0034 - acc: 0.9993\n",
      "Epoch 49/60\n",
      "2863/2863 [==============================] - 0s 55us/step - loss: 0.0036 - acc: 0.9997\n",
      "Epoch 50/60\n",
      "2863/2863 [==============================] - 0s 52us/step - loss: 0.0021 - acc: 0.9997\n",
      "Epoch 51/60\n",
      "2863/2863 [==============================] - 0s 50us/step - loss: 0.0052 - acc: 0.9986\n",
      "Epoch 52/60\n",
      "2863/2863 [==============================] - 0s 53us/step - loss: 0.0035 - acc: 0.9993\n",
      "Epoch 53/60\n",
      "2863/2863 [==============================] - 0s 49us/step - loss: 0.0017 - acc: 0.9997\n",
      "Epoch 54/60\n",
      "2863/2863 [==============================] - 0s 53us/step - loss: 0.0029 - acc: 0.9993\n",
      "Epoch 55/60\n",
      "2863/2863 [==============================] - 0s 50us/step - loss: 0.0028 - acc: 0.9993\n",
      "Epoch 56/60\n",
      "2863/2863 [==============================] - 0s 49us/step - loss: 0.0015 - acc: 0.9997\n",
      "Epoch 57/60\n",
      "2863/2863 [==============================] - 0s 57us/step - loss: 0.0017 - acc: 0.9997\n",
      "Epoch 58/60\n",
      "2863/2863 [==============================] - 0s 53us/step - loss: 0.0017 - acc: 0.9997\n",
      "Epoch 59/60\n",
      "2863/2863 [==============================] - 0s 47us/step - loss: 0.0030 - acc: 0.9993\n",
      "Epoch 60/60\n",
      "2863/2863 [==============================] - 0s 49us/step - loss: 0.0022 - acc: 0.9993\n",
      "CPU times: user 21.7 s, sys: 2.92 s, total: 24.6 s\n",
      "Wall time: 10.4 s\n"
     ]
    },
    {
     "data": {
      "text/plain": [
       "<keras.callbacks.History at 0x1a3dea4908>"
      ]
     },
     "execution_count": 27,
     "metadata": {},
     "output_type": "execute_result"
    }
   ],
   "source": [
    "%%time\n",
    "\n",
    "# fit training data to model\n",
    "# batch size 55 means 55 samples per gradient update AKA # of patterns shown to NN before weights updated\n",
    "# also training optimization -- how many patterns to read at a time and keep in memory\n",
    "\n",
    "# train w/ 60 epochs -- epoch is an iteration over entire data set\n",
    "classifier.fit(X_train, y_train, batch_size = 55, epochs = 60)"
   ]
  },
  {
   "cell_type": "code",
   "execution_count": 28,
   "metadata": {},
   "outputs": [
    {
     "name": "stdout",
     "output_type": "stream",
     "text": [
      "2863/2863 [==============================] - 0s 72us/step\n"
     ]
    },
    {
     "data": {
      "text/plain": [
       "[0.0007395107846847308, 1.0]"
      ]
     },
     "execution_count": 28,
     "metadata": {},
     "output_type": "execute_result"
    }
   ],
   "source": [
    "# evaluate loss & metrics values for model\n",
    "classifier.evaluate(X_train, y_train) # accuracy near 100% on training data, which is a sign of overfitting"
   ]
  },
  {
   "cell_type": "code",
   "execution_count": 29,
   "metadata": {},
   "outputs": [],
   "source": [
    "# predict on test data\n",
    "# if prediction is greater than 0.5, output is 1; otherwise, output is 0\n",
    "y_pred = classifier.predict(X_test)\n",
    "y_pred = (y_pred > 0.5)"
   ]
  },
  {
   "cell_type": "code",
   "execution_count": 30,
   "metadata": {},
   "outputs": [
    {
     "data": {
      "text/plain": [
       "array([[193, 232],\n",
       "       [218, 585]])"
      ]
     },
     "execution_count": 30,
     "metadata": {},
     "output_type": "execute_result"
    }
   ],
   "source": [
    "# accuracy on test: ~63%\n",
    "confusion_matrix(y_test, y_pred) # TP + TN = 778; 778/1228 total = ~63% accurate"
   ]
  },
  {
   "cell_type": "markdown",
   "metadata": {},
   "source": [
    "#### Instance 2\n",
    "5 layers of 33 nodes mapping to 1 target variable"
   ]
  },
  {
   "cell_type": "markdown",
   "metadata": {},
   "source": [
    "2 additional layers introduced b/c, empirically, deep NN's perform better"
   ]
  },
  {
   "cell_type": "code",
   "execution_count": 31,
   "metadata": {},
   "outputs": [],
   "source": [
    "# instantiate classifier 2\n",
    "classifier_2 = Sequential()\n",
    "\n",
    "# hidden layer 1\n",
    "classifier_2.add(Dense(33, activation = 'relu', kernel_initializer = 'random_normal', input_dim = 166))\n",
    "\n",
    "# hidden layer 2\n",
    "classifier_2.add(Dense(33, activation = 'relu', kernel_initializer = 'random_normal'))\n",
    "\n",
    "# hidden layer 3\n",
    "classifier_2.add(Dense(33, activation ='relu', kernel_initializer = 'random_normal'))\n",
    "\n",
    "# hidden layer 4\n",
    "classifier_2.add(Dense(33, activation = 'relu', kernel_initializer = 'random_normal'))\n",
    "\n",
    "# hidden layer 5\n",
    "classifier_2.add(Dense(33, activation = 'relu', kernel_initializer = 'random_normal'))\n",
    "\n",
    "# output layer\n",
    "classifier_2.add(Dense(1, activation = 'sigmoid', kernel_initializer = 'random_normal'))"
   ]
  },
  {
   "cell_type": "code",
   "execution_count": 32,
   "metadata": {},
   "outputs": [],
   "source": [
    "# compile NN\n",
    "classifier_2.compile(optimizer = 'adam', loss = 'binary_crossentropy', metrics = ['accuracy'])"
   ]
  },
  {
   "cell_type": "code",
   "execution_count": 33,
   "metadata": {},
   "outputs": [
    {
     "name": "stdout",
     "output_type": "stream",
     "text": [
      "Epoch 1/70\n",
      "2863/2863 [==============================] - 2s 550us/step - loss: 0.6395 - acc: 0.6633\n",
      "Epoch 2/70\n",
      "2863/2863 [==============================] - 0s 148us/step - loss: 0.5723 - acc: 0.6636\n",
      "Epoch 3/70\n",
      "2863/2863 [==============================] - 0s 141us/step - loss: 0.5508 - acc: 0.6993\n",
      "Epoch 4/70\n",
      "2863/2863 [==============================] - 0s 136us/step - loss: 0.5382 - acc: 0.7202\n",
      "Epoch 5/70\n",
      "2863/2863 [==============================] - 0s 134us/step - loss: 0.5254 - acc: 0.7248\n",
      "Epoch 6/70\n",
      "2863/2863 [==============================] - 0s 137us/step - loss: 0.5106 - acc: 0.7485\n",
      "Epoch 7/70\n",
      "2863/2863 [==============================] - 0s 133us/step - loss: 0.4927 - acc: 0.7628\n",
      "Epoch 8/70\n",
      "2863/2863 [==============================] - 0s 134us/step - loss: 0.4707 - acc: 0.7831\n",
      "Epoch 9/70\n",
      "2863/2863 [==============================] - 0s 136us/step - loss: 0.4397 - acc: 0.8030\n",
      "Epoch 10/70\n",
      "2863/2863 [==============================] - 0s 135us/step - loss: 0.4087 - acc: 0.8177\n",
      "Epoch 11/70\n",
      "2863/2863 [==============================] - 0s 139us/step - loss: 0.3667 - acc: 0.8411\n",
      "Epoch 12/70\n",
      "2863/2863 [==============================] - 0s 142us/step - loss: 0.3331 - acc: 0.8652\n",
      "Epoch 13/70\n",
      "2863/2863 [==============================] - 0s 154us/step - loss: 0.3038 - acc: 0.8753\n",
      "Epoch 14/70\n",
      "2863/2863 [==============================] - 0s 139us/step - loss: 0.2811 - acc: 0.8893\n",
      "Epoch 15/70\n",
      "2863/2863 [==============================] - 0s 137us/step - loss: 0.2651 - acc: 0.8928\n",
      "Epoch 16/70\n",
      "2863/2863 [==============================] - 0s 138us/step - loss: 0.2603 - acc: 0.8938\n",
      "Epoch 17/70\n",
      "2863/2863 [==============================] - 0s 141us/step - loss: 0.2437 - acc: 0.9015\n",
      "Epoch 18/70\n",
      "2863/2863 [==============================] - 0s 135us/step - loss: 0.2325 - acc: 0.9102\n",
      "Epoch 19/70\n",
      "2863/2863 [==============================] - 0s 138us/step - loss: 0.2406 - acc: 0.9081\n",
      "Epoch 20/70\n",
      "2863/2863 [==============================] - 0s 141us/step - loss: 0.2246 - acc: 0.9120\n",
      "Epoch 21/70\n",
      "2863/2863 [==============================] - 0s 139us/step - loss: 0.2182 - acc: 0.9165\n",
      "Epoch 22/70\n",
      "2863/2863 [==============================] - 0s 137us/step - loss: 0.2114 - acc: 0.9207\n",
      "Epoch 23/70\n",
      "2863/2863 [==============================] - 0s 147us/step - loss: 0.2112 - acc: 0.9186\n",
      "Epoch 24/70\n",
      "2863/2863 [==============================] - 0s 150us/step - loss: 0.2191 - acc: 0.9169\n",
      "Epoch 25/70\n",
      "2863/2863 [==============================] - 0s 149us/step - loss: 0.2139 - acc: 0.9190\n",
      "Epoch 26/70\n",
      "2863/2863 [==============================] - 0s 155us/step - loss: 0.1984 - acc: 0.9246\n",
      "Epoch 27/70\n",
      "2863/2863 [==============================] - 0s 155us/step - loss: 0.1980 - acc: 0.9263\n",
      "Epoch 28/70\n",
      "2863/2863 [==============================] - 0s 148us/step - loss: 0.2006 - acc: 0.9249\n",
      "Epoch 29/70\n",
      "2863/2863 [==============================] - 0s 157us/step - loss: 0.2019 - acc: 0.9221\n",
      "Epoch 30/70\n",
      "2863/2863 [==============================] - 0s 154us/step - loss: 0.1967 - acc: 0.9260\n",
      "Epoch 31/70\n",
      "2863/2863 [==============================] - 0s 156us/step - loss: 0.1903 - acc: 0.9291\n",
      "Epoch 32/70\n",
      "2863/2863 [==============================] - 0s 170us/step - loss: 0.1916 - acc: 0.9308\n",
      "Epoch 33/70\n",
      "2863/2863 [==============================] - 0s 161us/step - loss: 0.1945 - acc: 0.9273\n",
      "Epoch 34/70\n",
      "2863/2863 [==============================] - 0s 163us/step - loss: 0.1848 - acc: 0.9308\n",
      "Epoch 35/70\n",
      "2863/2863 [==============================] - 0s 157us/step - loss: 0.1839 - acc: 0.9340\n",
      "Epoch 36/70\n",
      "2863/2863 [==============================] - 0s 156us/step - loss: 0.1972 - acc: 0.9242\n",
      "Epoch 37/70\n",
      "2863/2863 [==============================] - 0s 152us/step - loss: 0.2029 - acc: 0.9235\n",
      "Epoch 38/70\n",
      "2863/2863 [==============================] - 0s 155us/step - loss: 0.2168 - acc: 0.9158\n",
      "Epoch 39/70\n",
      "2863/2863 [==============================] - 0s 155us/step - loss: 0.1915 - acc: 0.9287\n",
      "Epoch 40/70\n",
      "2863/2863 [==============================] - 0s 143us/step - loss: 0.1865 - acc: 0.9319\n",
      "Epoch 41/70\n",
      "2863/2863 [==============================] - 0s 147us/step - loss: 0.1802 - acc: 0.9340\n",
      "Epoch 42/70\n",
      "2863/2863 [==============================] - 0s 151us/step - loss: 0.1803 - acc: 0.9350\n",
      "Epoch 43/70\n",
      "2863/2863 [==============================] - 0s 152us/step - loss: 0.1795 - acc: 0.9347\n",
      "Epoch 44/70\n",
      "2863/2863 [==============================] - 0s 155us/step - loss: 0.1772 - acc: 0.9357\n",
      "Epoch 45/70\n",
      "2863/2863 [==============================] - 0s 163us/step - loss: 0.1818 - acc: 0.9329\n",
      "Epoch 46/70\n",
      "2863/2863 [==============================] - 0s 153us/step - loss: 0.1835 - acc: 0.9340\n",
      "Epoch 47/70\n",
      "2863/2863 [==============================] - 0s 141us/step - loss: 0.1873 - acc: 0.9308\n",
      "Epoch 48/70\n",
      "2863/2863 [==============================] - 0s 139us/step - loss: 0.1933 - acc: 0.9280\n",
      "Epoch 49/70\n",
      "2863/2863 [==============================] - 0s 141us/step - loss: 0.1846 - acc: 0.9326\n",
      "Epoch 50/70\n",
      "2863/2863 [==============================] - 0s 141us/step - loss: 0.1864 - acc: 0.9305\n",
      "Epoch 51/70\n",
      "2863/2863 [==============================] - 0s 138us/step - loss: 0.1928 - acc: 0.9284\n",
      "Epoch 52/70\n",
      "2863/2863 [==============================] - 0s 137us/step - loss: 0.1800 - acc: 0.9340\n",
      "Epoch 53/70\n",
      "2863/2863 [==============================] - 0s 143us/step - loss: 0.1833 - acc: 0.9336\n",
      "Epoch 54/70\n",
      "2863/2863 [==============================] - 0s 138us/step - loss: 0.1726 - acc: 0.9378\n",
      "Epoch 55/70\n",
      "2863/2863 [==============================] - 0s 135us/step - loss: 0.1766 - acc: 0.9361\n",
      "Epoch 56/70\n",
      "2863/2863 [==============================] - 0s 138us/step - loss: 0.1742 - acc: 0.9368\n",
      "Epoch 57/70\n",
      "2863/2863 [==============================] - 0s 137us/step - loss: 0.1841 - acc: 0.9343\n",
      "Epoch 58/70\n",
      "2863/2863 [==============================] - 0s 137us/step - loss: 0.1750 - acc: 0.9357\n",
      "Epoch 59/70\n",
      "2863/2863 [==============================] - 0s 135us/step - loss: 0.1881 - acc: 0.9329\n",
      "Epoch 60/70\n",
      "2863/2863 [==============================] - 0s 136us/step - loss: 0.1746 - acc: 0.9371\n",
      "Epoch 61/70\n",
      "2863/2863 [==============================] - 0s 135us/step - loss: 0.1748 - acc: 0.9375\n",
      "Epoch 62/70\n",
      "2863/2863 [==============================] - 0s 138us/step - loss: 0.1686 - acc: 0.9406\n",
      "Epoch 63/70\n",
      "2863/2863 [==============================] - 0s 138us/step - loss: 0.1674 - acc: 0.9410\n",
      "Epoch 64/70\n",
      "2863/2863 [==============================] - 0s 135us/step - loss: 0.1668 - acc: 0.9410\n",
      "Epoch 65/70\n",
      "2863/2863 [==============================] - 0s 136us/step - loss: 0.1667 - acc: 0.9410\n",
      "Epoch 66/70\n",
      "2863/2863 [==============================] - 0s 137us/step - loss: 0.1667 - acc: 0.9410\n",
      "Epoch 67/70\n",
      "2863/2863 [==============================] - 0s 138us/step - loss: 0.1802 - acc: 0.9368\n",
      "Epoch 68/70\n",
      "2863/2863 [==============================] - 0s 135us/step - loss: 0.2047 - acc: 0.9235\n",
      "Epoch 69/70\n",
      "2863/2863 [==============================] - 0s 138us/step - loss: 0.1852 - acc: 0.9329\n",
      "Epoch 70/70\n",
      "2863/2863 [==============================] - 0s 137us/step - loss: 0.1860 - acc: 0.9340\n",
      "CPU times: user 1min 19s, sys: 10.3 s, total: 1min 30s\n",
      "Wall time: 30.4 s\n"
     ]
    },
    {
     "data": {
      "text/plain": [
       "<keras.callbacks.History at 0x1a3dea4828>"
      ]
     },
     "execution_count": 33,
     "metadata": {},
     "output_type": "execute_result"
    }
   ],
   "source": [
    "%%time\n",
    "\n",
    "# fit training data to model\n",
    "classifier_2.fit(X_train, y_train, batch_size = 15, epochs = 70)"
   ]
  },
  {
   "cell_type": "code",
   "execution_count": 34,
   "metadata": {},
   "outputs": [
    {
     "name": "stdout",
     "output_type": "stream",
     "text": [
      "2863/2863 [==============================] - 0s 80us/step\n"
     ]
    },
    {
     "data": {
      "text/plain": [
       "[0.17248240788052477, 0.9399231575270695]"
      ]
     },
     "execution_count": 34,
     "metadata": {},
     "output_type": "execute_result"
    }
   ],
   "source": [
    "# evaluate loss & metrics values for model\n",
    "classifier_2.evaluate(X_train, y_train) # accuracy near 94% on training data, which is also a sign of overfitting"
   ]
  },
  {
   "cell_type": "code",
   "execution_count": 35,
   "metadata": {},
   "outputs": [],
   "source": [
    "# predict on test data\n",
    "# if prediction is greater than 0.5, output is 1; otherwise, output is 0\n",
    "y_pred_2 = classifier_2.predict(X_test)\n",
    "y_pred_2 = (y_pred_2 > 0.5)"
   ]
  },
  {
   "cell_type": "code",
   "execution_count": 36,
   "metadata": {},
   "outputs": [
    {
     "data": {
      "text/plain": [
       "array([[237, 188],\n",
       "       [279, 524]])"
      ]
     },
     "execution_count": 36,
     "metadata": {},
     "output_type": "execute_result"
    }
   ],
   "source": [
    "# accuracy on test: ~62%\n",
    "confusion_matrix(y_test, y_pred_2) # TP + TN = 761; 761/1228 total = ~62% accurate"
   ]
  },
  {
   "cell_type": "markdown",
   "metadata": {},
   "source": [
    "#### Instance 3 -- tackle overfitting during model training\n",
    "5 layers of 33 nodes mapping to 1 target variable"
   ]
  },
  {
   "cell_type": "code",
   "execution_count": 37,
   "metadata": {},
   "outputs": [],
   "source": [
    "# instantiate classifier 3\n",
    "classifier_3 = Sequential()"
   ]
  },
  {
   "cell_type": "markdown",
   "metadata": {},
   "source": [
    "Implementation of dropout regularization to approximate training a large # of NN's w/ unique architectures in parallel, which we don't have the time or compute for."
   ]
  },
  {
   "cell_type": "code",
   "execution_count": 38,
   "metadata": {},
   "outputs": [
    {
     "name": "stdout",
     "output_type": "stream",
     "text": [
      "WARNING:tensorflow:From /Users/colella2/anaconda3/lib/python3.7/site-packages/keras/backend/tensorflow_backend.py:3445: calling dropout (from tensorflow.python.ops.nn_ops) with keep_prob is deprecated and will be removed in a future version.\n",
      "Instructions for updating:\n",
      "Please use `rate` instead of `keep_prob`. Rate should be set to `rate = 1 - keep_prob`.\n"
     ]
    }
   ],
   "source": [
    "# hidden layer 1\n",
    "classifier_3.add(Dense(33, activation = 'relu', kernel_initializer = 'random_normal', input_dim = 166))\n",
    "classifier_3.add(Dropout(0.1))\n",
    "\n",
    "# hidden layer 2\n",
    "classifier_3.add(Dense(33, activation = 'relu', kernel_initializer = 'random_normal'))\n",
    "classifier_3.add(Dropout(0.1))\n",
    "\n",
    "# hidden layer 3\n",
    "classifier_3.add(Dense(33, activation = 'relu', kernel_initializer = 'random_normal'))\n",
    "classifier_3.add(Dropout(0.1))\n",
    "\n",
    "# hidden layer 4\n",
    "classifier_3.add(Dense(33, activation = 'relu', kernel_initializer = 'random_normal'))\n",
    "classifier_3.add(Dropout(0.1))\n",
    "\n",
    "# hidden layer 5\n",
    "classifier_3.add(Dense(33, activation = 'relu', kernel_initializer = 'random_normal'))\n",
    "classifier_3.add(Dropout(0.1))\n",
    "\n",
    "# output layer\n",
    "classifier_3.add(Dense(1, activation = 'sigmoid', kernel_initializer = 'random_normal'))"
   ]
  },
  {
   "cell_type": "code",
   "execution_count": 39,
   "metadata": {},
   "outputs": [],
   "source": [
    "# compile NN\n",
    "classifier_3.compile(optimizer = 'adam', loss = 'binary_crossentropy', metrics = ['accuracy'])"
   ]
  },
  {
   "cell_type": "code",
   "execution_count": 40,
   "metadata": {
    "scrolled": true
   },
   "outputs": [
    {
     "name": "stdout",
     "output_type": "stream",
     "text": [
      "Epoch 1/60\n",
      "2863/2863 [==============================] - 2s 762us/step - loss: 0.6423 - acc: 0.6629\n",
      "Epoch 2/60\n",
      "2863/2863 [==============================] - 1s 212us/step - loss: 0.5809 - acc: 0.6636\n",
      "Epoch 3/60\n",
      "2863/2863 [==============================] - 1s 207us/step - loss: 0.5524 - acc: 0.6856\n",
      "Epoch 4/60\n",
      "2863/2863 [==============================] - 1s 211us/step - loss: 0.5400 - acc: 0.7258\n",
      "Epoch 5/60\n",
      "2863/2863 [==============================] - 1s 211us/step - loss: 0.5246 - acc: 0.7324\n",
      "Epoch 6/60\n",
      "2863/2863 [==============================] - 1s 209us/step - loss: 0.5100 - acc: 0.7590\n",
      "Epoch 7/60\n",
      "2863/2863 [==============================] - 1s 211us/step - loss: 0.4923 - acc: 0.7621\n",
      "Epoch 8/60\n",
      "2863/2863 [==============================] - 1s 211us/step - loss: 0.4714 - acc: 0.7859\n",
      "Epoch 9/60\n",
      "2863/2863 [==============================] - 1s 210us/step - loss: 0.4418 - acc: 0.8041\n",
      "Epoch 10/60\n",
      "2863/2863 [==============================] - 1s 211us/step - loss: 0.4297 - acc: 0.8163\n",
      "Epoch 11/60\n",
      "2863/2863 [==============================] - 1s 211us/step - loss: 0.3988 - acc: 0.8323\n",
      "Epoch 12/60\n",
      "2863/2863 [==============================] - 1s 211us/step - loss: 0.3766 - acc: 0.8404\n",
      "Epoch 13/60\n",
      "2863/2863 [==============================] - 1s 209us/step - loss: 0.3506 - acc: 0.8568\n",
      "Epoch 14/60\n",
      "2863/2863 [==============================] - 1s 213us/step - loss: 0.3344 - acc: 0.8662\n",
      "Epoch 15/60\n",
      "2863/2863 [==============================] - 1s 212us/step - loss: 0.3119 - acc: 0.8837\n",
      "Epoch 16/60\n",
      "2863/2863 [==============================] - 1s 209us/step - loss: 0.2952 - acc: 0.8840\n",
      "Epoch 17/60\n",
      "2863/2863 [==============================] - 1s 210us/step - loss: 0.2834 - acc: 0.8858\n",
      "Epoch 18/60\n",
      "2863/2863 [==============================] - 1s 211us/step - loss: 0.2665 - acc: 0.8977\n",
      "Epoch 19/60\n",
      "2863/2863 [==============================] - 1s 210us/step - loss: 0.2363 - acc: 0.9113\n",
      "Epoch 20/60\n",
      "2863/2863 [==============================] - 1s 210us/step - loss: 0.2347 - acc: 0.9158\n",
      "Epoch 21/60\n",
      "2863/2863 [==============================] - 1s 210us/step - loss: 0.2228 - acc: 0.9176\n",
      "Epoch 22/60\n",
      "2863/2863 [==============================] - 1s 210us/step - loss: 0.2150 - acc: 0.9193\n",
      "Epoch 23/60\n",
      "2863/2863 [==============================] - 1s 212us/step - loss: 0.1963 - acc: 0.9329\n",
      "Epoch 24/60\n",
      "2863/2863 [==============================] - 1s 210us/step - loss: 0.1980 - acc: 0.9301\n",
      "Epoch 25/60\n",
      "2863/2863 [==============================] - 1s 212us/step - loss: 0.1833 - acc: 0.9343\n",
      "Epoch 26/60\n",
      "2863/2863 [==============================] - 1s 208us/step - loss: 0.1848 - acc: 0.9319\n",
      "Epoch 27/60\n",
      "2863/2863 [==============================] - 1s 210us/step - loss: 0.1584 - acc: 0.9469\n",
      "Epoch 28/60\n",
      "2863/2863 [==============================] - 1s 211us/step - loss: 0.1584 - acc: 0.9476\n",
      "Epoch 29/60\n",
      "2863/2863 [==============================] - 1s 210us/step - loss: 0.1661 - acc: 0.9403\n",
      "Epoch 30/60\n",
      "2863/2863 [==============================] - 1s 214us/step - loss: 0.1616 - acc: 0.9445\n",
      "Epoch 31/60\n",
      "2863/2863 [==============================] - 1s 210us/step - loss: 0.1525 - acc: 0.9448\n",
      "Epoch 32/60\n",
      "2863/2863 [==============================] - 1s 211us/step - loss: 0.1593 - acc: 0.9466\n",
      "Epoch 33/60\n",
      "2863/2863 [==============================] - 1s 214us/step - loss: 0.1400 - acc: 0.9560\n",
      "Epoch 34/60\n",
      "2863/2863 [==============================] - 1s 209us/step - loss: 0.1337 - acc: 0.9546\n",
      "Epoch 35/60\n",
      "2863/2863 [==============================] - 1s 215us/step - loss: 0.1470 - acc: 0.9525\n",
      "Epoch 36/60\n",
      "2863/2863 [==============================] - 1s 211us/step - loss: 0.1395 - acc: 0.9514\n",
      "Epoch 37/60\n",
      "2863/2863 [==============================] - 1s 210us/step - loss: 0.1351 - acc: 0.9546\n",
      "Epoch 38/60\n",
      "2863/2863 [==============================] - 1s 212us/step - loss: 0.1259 - acc: 0.9577\n",
      "Epoch 39/60\n",
      "2863/2863 [==============================] - 1s 211us/step - loss: 0.1202 - acc: 0.9609\n",
      "Epoch 40/60\n",
      "2863/2863 [==============================] - 1s 211us/step - loss: 0.1291 - acc: 0.9563\n",
      "Epoch 41/60\n",
      "2863/2863 [==============================] - 1s 210us/step - loss: 0.1244 - acc: 0.9623\n",
      "Epoch 42/60\n",
      "2863/2863 [==============================] - 1s 214us/step - loss: 0.1358 - acc: 0.9535\n",
      "Epoch 43/60\n",
      "2863/2863 [==============================] - 1s 211us/step - loss: 0.1220 - acc: 0.9591\n",
      "Epoch 44/60\n",
      "2863/2863 [==============================] - 1s 217us/step - loss: 0.1205 - acc: 0.9605\n",
      "Epoch 45/60\n",
      "2863/2863 [==============================] - 1s 212us/step - loss: 0.1222 - acc: 0.9602\n",
      "Epoch 46/60\n",
      "2863/2863 [==============================] - 1s 219us/step - loss: 0.1215 - acc: 0.9609\n",
      "Epoch 47/60\n",
      "2863/2863 [==============================] - 1s 215us/step - loss: 0.1137 - acc: 0.9637\n",
      "Epoch 48/60\n",
      "2863/2863 [==============================] - 1s 215us/step - loss: 0.1077 - acc: 0.9665\n",
      "Epoch 49/60\n",
      "2863/2863 [==============================] - 1s 211us/step - loss: 0.1057 - acc: 0.9689\n",
      "Epoch 50/60\n",
      "2863/2863 [==============================] - 1s 211us/step - loss: 0.1234 - acc: 0.9612\n",
      "Epoch 51/60\n",
      "2863/2863 [==============================] - 1s 212us/step - loss: 0.0942 - acc: 0.9728\n",
      "Epoch 52/60\n",
      "2863/2863 [==============================] - 1s 209us/step - loss: 0.0984 - acc: 0.9707\n",
      "Epoch 53/60\n",
      "2863/2863 [==============================] - 1s 213us/step - loss: 0.1159 - acc: 0.9630\n",
      "Epoch 54/60\n",
      "2863/2863 [==============================] - 1s 210us/step - loss: 0.1160 - acc: 0.9623\n",
      "Epoch 55/60\n",
      "2863/2863 [==============================] - 1s 212us/step - loss: 0.1133 - acc: 0.9619\n",
      "Epoch 56/60\n",
      "2863/2863 [==============================] - 1s 213us/step - loss: 0.0985 - acc: 0.9693\n",
      "Epoch 57/60\n",
      "2863/2863 [==============================] - 1s 210us/step - loss: 0.0971 - acc: 0.9700\n",
      "Epoch 58/60\n",
      "2863/2863 [==============================] - 1s 211us/step - loss: 0.0947 - acc: 0.9717\n",
      "Epoch 59/60\n",
      "2863/2863 [==============================] - 1s 211us/step - loss: 0.0951 - acc: 0.9731\n",
      "Epoch 60/60\n",
      "2863/2863 [==============================] - 1s 212us/step - loss: 0.1086 - acc: 0.9668\n",
      "CPU times: user 1min 29s, sys: 10.8 s, total: 1min 40s\n",
      "Wall time: 38.3 s\n"
     ]
    },
    {
     "data": {
      "text/plain": [
       "<keras.callbacks.History at 0x1a5268a0f0>"
      ]
     },
     "execution_count": 40,
     "metadata": {},
     "output_type": "execute_result"
    }
   ],
   "source": [
    "%%time\n",
    "\n",
    "# fit training data to model\n",
    "classifier_3.fit(X_train,y_train, batch_size = 15, epochs = 60)"
   ]
  },
  {
   "cell_type": "code",
   "execution_count": 41,
   "metadata": {},
   "outputs": [
    {
     "name": "stdout",
     "output_type": "stream",
     "text": [
      "2863/2863 [==============================] - 0s 131us/step\n"
     ]
    },
    {
     "data": {
      "text/plain": [
       "[0.057680996462125024, 0.9863779252532309]"
      ]
     },
     "execution_count": 41,
     "metadata": {},
     "output_type": "execute_result"
    }
   ],
   "source": [
    "# evaluate loss & metrics values for model\n",
    "classifier_3.evaluate(X_train, y_train) # accuracy near 94% on training data"
   ]
  },
  {
   "cell_type": "code",
   "execution_count": 42,
   "metadata": {},
   "outputs": [],
   "source": [
    "# predict on test data\n",
    "# if prediction is greater than 0.5, output is 1; otherwise, output is 0\n",
    "y_pred_3 = classifier_3.predict(X_test)\n",
    "y_pred_3 = (y_pred_3 > 0.5)"
   ]
  },
  {
   "cell_type": "code",
   "execution_count": 43,
   "metadata": {},
   "outputs": [
    {
     "data": {
      "text/plain": [
       "array([[159, 266],\n",
       "       [156, 647]])"
      ]
     },
     "execution_count": 43,
     "metadata": {},
     "output_type": "execute_result"
    }
   ],
   "source": [
    "# accuracy on test: ~66%\n",
    "confusion_matrix(y_test, y_pred_3) # TP + TN = 806; 806/1228 total = ~66% accurate"
   ]
  },
  {
   "cell_type": "markdown",
   "metadata": {},
   "source": [
    "#### Instance 4\n",
    "11 layers of 15 nodes mapping to 1 target variable"
   ]
  },
  {
   "cell_type": "code",
   "execution_count": 44,
   "metadata": {},
   "outputs": [],
   "source": [
    "# instantiate classifier 4\n",
    "classifier_4 = Sequential()"
   ]
  },
  {
   "cell_type": "code",
   "execution_count": 45,
   "metadata": {},
   "outputs": [],
   "source": [
    "# hidden layer 1\n",
    "classifier_4.add(Dense(15, activation = 'relu', kernel_initializer = 'random_normal', input_dim = 166))\n",
    "classifier_4.add(Dropout(0.1))\n",
    "\n",
    "# hidden layer 2\n",
    "classifier_4.add(Dense(15, activation = 'relu', kernel_initializer = 'random_normal'))\n",
    "classifier_4.add(Dropout(0.1))\n",
    "\n",
    "# hidden layer 3\n",
    "classifier_4.add(Dense(15, activation = 'relu', kernel_initializer = 'random_normal'))\n",
    "classifier_4.add(Dropout(0.1))\n",
    "\n",
    "# hidden layer 4\n",
    "classifier_4.add(Dense(15, activation = 'relu', kernel_initializer = 'random_normal'))\n",
    "classifier_4.add(Dropout(0.1))\n",
    "\n",
    "# hidden layer 5\n",
    "classifier_4.add(Dense(15, activation = 'relu', kernel_initializer = 'random_normal'))\n",
    "classifier_4.add(Dropout(0.1))\n",
    "\n",
    "# hidden layer 6\n",
    "classifier_4.add(Dense(15, activation = 'relu', kernel_initializer = 'random_normal'))\n",
    "classifier_4.add(Dropout(0.1))\n",
    "\n",
    "# hidden layer 7\n",
    "classifier_4.add(Dense(15, activation = 'relu', kernel_initializer = 'random_normal'))\n",
    "classifier_4.add(Dropout(0.1))\n",
    "\n",
    "# hidden layer 8\n",
    "classifier_4.add(Dense(15, activation = 'relu', kernel_initializer = 'random_normal'))\n",
    "classifier_4.add(Dropout(0.1))\n",
    "\n",
    "# hidden layer 9\n",
    "classifier_4.add(Dense(15, activation = 'relu', kernel_initializer = 'random_normal'))\n",
    "classifier_4.add(Dropout(0.1))\n",
    "\n",
    "# hidden layer 10\n",
    "classifier_4.add(Dense(15, activation = 'relu', kernel_initializer = 'random_normal'))\n",
    "classifier_4.add(Dropout(0.1))\n",
    "\n",
    "# hidden layer 11\n",
    "classifier_4.add(Dense(15, activation = 'relu', kernel_initializer = 'random_normal'))\n",
    "classifier_4.add(Dropout(0.1))\n",
    "\n",
    "# output layer\n",
    "classifier_4.add(Dense(1, activation = 'sigmoid', kernel_initializer = 'random_normal'))"
   ]
  },
  {
   "cell_type": "code",
   "execution_count": 46,
   "metadata": {},
   "outputs": [],
   "source": [
    "# compile NN\n",
    "classifier_4.compile(optimizer = 'adam', loss = 'binary_crossentropy', metrics = ['accuracy'])"
   ]
  },
  {
   "cell_type": "code",
   "execution_count": 47,
   "metadata": {},
   "outputs": [
    {
     "name": "stdout",
     "output_type": "stream",
     "text": [
      "Epoch 1/200\n",
      "2863/2863 [==============================] - 4s 1ms/step - loss: 0.6600 - acc: 0.6612\n",
      "Epoch 2/200\n",
      "2863/2863 [==============================] - 1s 308us/step - loss: 0.6384 - acc: 0.6636\n",
      "Epoch 3/200\n",
      "2863/2863 [==============================] - 1s 321us/step - loss: 0.5989 - acc: 0.6636\n",
      "Epoch 4/200\n",
      "2863/2863 [==============================] - 1s 307us/step - loss: 0.5720 - acc: 0.6636\n",
      "Epoch 5/200\n",
      "2863/2863 [==============================] - 1s 310us/step - loss: 0.5647 - acc: 0.6636\n",
      "Epoch 6/200\n",
      "2863/2863 [==============================] - 1s 309us/step - loss: 0.5563 - acc: 0.6636\n",
      "Epoch 7/200\n",
      "2863/2863 [==============================] - 1s 311us/step - loss: 0.5568 - acc: 0.6636\n",
      "Epoch 8/200\n",
      "2863/2863 [==============================] - 1s 314us/step - loss: 0.5462 - acc: 0.6636\n",
      "Epoch 9/200\n",
      "2863/2863 [==============================] - 1s 311us/step - loss: 0.5429 - acc: 0.6832\n",
      "Epoch 10/200\n",
      "2863/2863 [==============================] - 1s 312us/step - loss: 0.5382 - acc: 0.6825\n",
      "Epoch 11/200\n",
      "2863/2863 [==============================] - 1s 314us/step - loss: 0.5309 - acc: 0.7038\n",
      "Epoch 12/200\n",
      "2863/2863 [==============================] - 1s 311us/step - loss: 0.5304 - acc: 0.7056\n",
      "Epoch 13/200\n",
      "2863/2863 [==============================] - 1s 313us/step - loss: 0.5292 - acc: 0.7129\n",
      "Epoch 14/200\n",
      "2863/2863 [==============================] - 1s 316us/step - loss: 0.5178 - acc: 0.7234\n",
      "Epoch 15/200\n",
      "2863/2863 [==============================] - 1s 325us/step - loss: 0.5137 - acc: 0.7230\n",
      "Epoch 16/200\n",
      "2863/2863 [==============================] - 1s 325us/step - loss: 0.5154 - acc: 0.7227\n",
      "Epoch 17/200\n",
      "2863/2863 [==============================] - 1s 322us/step - loss: 0.5066 - acc: 0.7335\n",
      "Epoch 18/200\n",
      "2863/2863 [==============================] - 1s 324us/step - loss: 0.5049 - acc: 0.7363\n",
      "Epoch 19/200\n",
      "2863/2863 [==============================] - 1s 324us/step - loss: 0.5026 - acc: 0.7304\n",
      "Epoch 20/200\n",
      "2863/2863 [==============================] - 1s 325us/step - loss: 0.4959 - acc: 0.7265\n",
      "Epoch 21/200\n",
      "2863/2863 [==============================] - 1s 321us/step - loss: 0.4946 - acc: 0.7248\n",
      "Epoch 22/200\n",
      "2863/2863 [==============================] - 1s 330us/step - loss: 0.4935 - acc: 0.7255\n",
      "Epoch 23/200\n",
      "2863/2863 [==============================] - 1s 365us/step - loss: 0.4884 - acc: 0.7342\n",
      "Epoch 24/200\n",
      "2863/2863 [==============================] - 1s 356us/step - loss: 0.4915 - acc: 0.7394\n",
      "Epoch 25/200\n",
      "2863/2863 [==============================] - 1s 375us/step - loss: 0.4703 - acc: 0.7489\n",
      "Epoch 26/200\n",
      "2863/2863 [==============================] - 1s 358us/step - loss: 0.4780 - acc: 0.7468\n",
      "Epoch 27/200\n",
      "2863/2863 [==============================] - 1s 343us/step - loss: 0.4656 - acc: 0.7405\n",
      "Epoch 28/200\n",
      "2863/2863 [==============================] - 1s 324us/step - loss: 0.4657 - acc: 0.7492\n",
      "Epoch 29/200\n",
      "2863/2863 [==============================] - 1s 321us/step - loss: 0.4629 - acc: 0.7524\n",
      "Epoch 30/200\n",
      "2863/2863 [==============================] - 1s 313us/step - loss: 0.4580 - acc: 0.7597\n",
      "Epoch 31/200\n",
      "2863/2863 [==============================] - 1s 317us/step - loss: 0.4599 - acc: 0.7527\n",
      "Epoch 32/200\n",
      "2863/2863 [==============================] - 1s 315us/step - loss: 0.4645 - acc: 0.7492\n",
      "Epoch 33/200\n",
      "2863/2863 [==============================] - 1s 318us/step - loss: 0.4567 - acc: 0.7565\n",
      "Epoch 34/200\n",
      "2863/2863 [==============================] - 1s 331us/step - loss: 0.4495 - acc: 0.7579\n",
      "Epoch 35/200\n",
      "2863/2863 [==============================] - 1s 323us/step - loss: 0.4462 - acc: 0.7656\n",
      "Epoch 36/200\n",
      "2863/2863 [==============================] - 1s 337us/step - loss: 0.4521 - acc: 0.7597\n",
      "Epoch 37/200\n",
      "2863/2863 [==============================] - 1s 322us/step - loss: 0.4406 - acc: 0.7698\n",
      "Epoch 38/200\n",
      "2863/2863 [==============================] - 1s 322us/step - loss: 0.4432 - acc: 0.7705\n",
      "Epoch 39/200\n",
      "2863/2863 [==============================] - 1s 315us/step - loss: 0.4406 - acc: 0.7733\n",
      "Epoch 40/200\n",
      "2863/2863 [==============================] - 1s 318us/step - loss: 0.4291 - acc: 0.7813\n",
      "Epoch 41/200\n",
      "2863/2863 [==============================] - 1s 313us/step - loss: 0.4239 - acc: 0.7820\n",
      "Epoch 42/200\n",
      "2863/2863 [==============================] - 1s 324us/step - loss: 0.4299 - acc: 0.7719\n",
      "Epoch 43/200\n",
      "2863/2863 [==============================] - 1s 315us/step - loss: 0.4217 - acc: 0.7824\n",
      "Epoch 44/200\n",
      "2863/2863 [==============================] - 1s 311us/step - loss: 0.4202 - acc: 0.7806\n",
      "Epoch 45/200\n",
      "2863/2863 [==============================] - 1s 314us/step - loss: 0.4158 - acc: 0.7859\n",
      "Epoch 46/200\n",
      "2863/2863 [==============================] - 1s 315us/step - loss: 0.4195 - acc: 0.7873\n",
      "Epoch 47/200\n",
      "2863/2863 [==============================] - 1s 315us/step - loss: 0.4185 - acc: 0.7880\n",
      "Epoch 48/200\n",
      "2863/2863 [==============================] - 1s 315us/step - loss: 0.4197 - acc: 0.7915\n",
      "Epoch 49/200\n",
      "2863/2863 [==============================] - 1s 319us/step - loss: 0.4144 - acc: 0.7866\n",
      "Epoch 50/200\n",
      "2863/2863 [==============================] - 1s 316us/step - loss: 0.4115 - acc: 0.7939\n",
      "Epoch 51/200\n",
      "2863/2863 [==============================] - 1s 318us/step - loss: 0.4034 - acc: 0.7995\n",
      "Epoch 52/200\n",
      "2863/2863 [==============================] - 1s 323us/step - loss: 0.4074 - acc: 0.7946\n",
      "Epoch 53/200\n",
      "2863/2863 [==============================] - 1s 323us/step - loss: 0.3988 - acc: 0.7985\n",
      "Epoch 54/200\n",
      "2863/2863 [==============================] - 1s 313us/step - loss: 0.4164 - acc: 0.7883\n",
      "Epoch 55/200\n",
      "2863/2863 [==============================] - 1s 311us/step - loss: 0.4024 - acc: 0.7971\n",
      "Epoch 56/200\n",
      "2863/2863 [==============================] - 1s 304us/step - loss: 0.4077 - acc: 0.7981\n",
      "Epoch 57/200\n",
      "2863/2863 [==============================] - 1s 317us/step - loss: 0.4056 - acc: 0.7936\n",
      "Epoch 58/200\n",
      "2863/2863 [==============================] - 1s 318us/step - loss: 0.4041 - acc: 0.7960\n",
      "Epoch 59/200\n",
      "2863/2863 [==============================] - 1s 320us/step - loss: 0.4134 - acc: 0.7939\n",
      "Epoch 60/200\n",
      "2863/2863 [==============================] - 1s 321us/step - loss: 0.3943 - acc: 0.8054\n",
      "Epoch 61/200\n",
      "2863/2863 [==============================] - 1s 323us/step - loss: 0.4046 - acc: 0.7869\n",
      "Epoch 62/200\n",
      "2863/2863 [==============================] - 1s 323us/step - loss: 0.4002 - acc: 0.8013\n",
      "Epoch 63/200\n",
      "2863/2863 [==============================] - 1s 321us/step - loss: 0.3980 - acc: 0.7999\n",
      "Epoch 64/200\n",
      "2863/2863 [==============================] - 1s 321us/step - loss: 0.4047 - acc: 0.7929\n",
      "Epoch 65/200\n",
      "2863/2863 [==============================] - 1s 319us/step - loss: 0.3889 - acc: 0.8114\n",
      "Epoch 66/200\n",
      "2863/2863 [==============================] - 1s 323us/step - loss: 0.3874 - acc: 0.8009\n",
      "Epoch 67/200\n",
      "2863/2863 [==============================] - 1s 312us/step - loss: 0.3842 - acc: 0.8100\n",
      "Epoch 68/200\n",
      "2863/2863 [==============================] - 1s 317us/step - loss: 0.3844 - acc: 0.8110\n",
      "Epoch 69/200\n",
      "2863/2863 [==============================] - 1s 315us/step - loss: 0.3989 - acc: 0.7894\n",
      "Epoch 70/200\n",
      "2863/2863 [==============================] - 1s 315us/step - loss: 0.3916 - acc: 0.7978\n",
      "Epoch 71/200\n",
      "2863/2863 [==============================] - 1s 315us/step - loss: 0.3870 - acc: 0.8041\n",
      "Epoch 72/200\n",
      "2863/2863 [==============================] - 1s 314us/step - loss: 0.3966 - acc: 0.7999\n",
      "Epoch 73/200\n",
      "2863/2863 [==============================] - 1s 316us/step - loss: 0.3850 - acc: 0.8128\n",
      "Epoch 74/200\n",
      "2863/2863 [==============================] - 1s 315us/step - loss: 0.3782 - acc: 0.8152\n",
      "Epoch 75/200\n",
      "2863/2863 [==============================] - 1s 314us/step - loss: 0.3709 - acc: 0.8173\n",
      "Epoch 76/200\n",
      "2863/2863 [==============================] - 1s 316us/step - loss: 0.3781 - acc: 0.8093\n",
      "Epoch 77/200\n",
      "2863/2863 [==============================] - 1s 315us/step - loss: 0.3849 - acc: 0.8086\n",
      "Epoch 78/200\n",
      "2863/2863 [==============================] - 1s 314us/step - loss: 0.3835 - acc: 0.8089\n",
      "Epoch 79/200\n",
      "2863/2863 [==============================] - 1s 304us/step - loss: 0.3821 - acc: 0.8142\n",
      "Epoch 80/200\n",
      "2863/2863 [==============================] - 1s 312us/step - loss: 0.3884 - acc: 0.8044\n",
      "Epoch 81/200\n",
      "2863/2863 [==============================] - 1s 313us/step - loss: 0.3811 - acc: 0.8170\n",
      "Epoch 82/200\n"
     ]
    },
    {
     "name": "stdout",
     "output_type": "stream",
     "text": [
      "2863/2863 [==============================] - 1s 313us/step - loss: 0.3753 - acc: 0.8163\n",
      "Epoch 83/200\n",
      "2863/2863 [==============================] - 1s 318us/step - loss: 0.3881 - acc: 0.8020\n",
      "Epoch 84/200\n",
      "2863/2863 [==============================] - 1s 322us/step - loss: 0.3864 - acc: 0.8145\n",
      "Epoch 85/200\n",
      "2863/2863 [==============================] - 1s 315us/step - loss: 0.3717 - acc: 0.8187\n",
      "Epoch 86/200\n",
      "2863/2863 [==============================] - 1s 312us/step - loss: 0.3713 - acc: 0.8177\n",
      "Epoch 87/200\n",
      "2863/2863 [==============================] - 1s 309us/step - loss: 0.3727 - acc: 0.8191\n",
      "Epoch 88/200\n",
      "2863/2863 [==============================] - 1s 305us/step - loss: 0.3663 - acc: 0.8222\n",
      "Epoch 89/200\n",
      "2863/2863 [==============================] - 1s 306us/step - loss: 0.3694 - acc: 0.8187\n",
      "Epoch 90/200\n",
      "2863/2863 [==============================] - 1s 314us/step - loss: 0.3621 - acc: 0.8243\n",
      "Epoch 91/200\n",
      "2863/2863 [==============================] - 1s 312us/step - loss: 0.3683 - acc: 0.8212\n",
      "Epoch 92/200\n",
      "2863/2863 [==============================] - 1s 314us/step - loss: 0.3605 - acc: 0.8268\n",
      "Epoch 93/200\n",
      "2863/2863 [==============================] - 1s 313us/step - loss: 0.3588 - acc: 0.8299\n",
      "Epoch 94/200\n",
      "2863/2863 [==============================] - 1s 317us/step - loss: 0.3676 - acc: 0.8261\n",
      "Epoch 95/200\n",
      "2863/2863 [==============================] - 1s 323us/step - loss: 0.3593 - acc: 0.8275\n",
      "Epoch 96/200\n",
      "2863/2863 [==============================] - 1s 318us/step - loss: 0.3528 - acc: 0.8261\n",
      "Epoch 97/200\n",
      "2863/2863 [==============================] - 1s 312us/step - loss: 0.3623 - acc: 0.8278\n",
      "Epoch 98/200\n",
      "2863/2863 [==============================] - 1s 314us/step - loss: 0.3640 - acc: 0.8191\n",
      "Epoch 99/200\n",
      "2863/2863 [==============================] - 1s 310us/step - loss: 0.3687 - acc: 0.8149\n",
      "Epoch 100/200\n",
      "2863/2863 [==============================] - 1s 306us/step - loss: 0.3723 - acc: 0.8128\n",
      "Epoch 101/200\n",
      "2863/2863 [==============================] - 1s 315us/step - loss: 0.3732 - acc: 0.8226\n",
      "Epoch 102/200\n",
      "2863/2863 [==============================] - 1s 316us/step - loss: 0.3535 - acc: 0.8282\n",
      "Epoch 103/200\n",
      "2863/2863 [==============================] - 1s 321us/step - loss: 0.3731 - acc: 0.8205\n",
      "Epoch 104/200\n",
      "2863/2863 [==============================] - 1s 325us/step - loss: 0.3681 - acc: 0.8236\n",
      "Epoch 105/200\n",
      "2863/2863 [==============================] - 1s 320us/step - loss: 0.3585 - acc: 0.8219\n",
      "Epoch 106/200\n",
      "2863/2863 [==============================] - 1s 314us/step - loss: 0.3597 - acc: 0.8254\n",
      "Epoch 107/200\n",
      "2863/2863 [==============================] - 1s 319us/step - loss: 0.3703 - acc: 0.8145\n",
      "Epoch 108/200\n",
      "2863/2863 [==============================] - 1s 314us/step - loss: 0.3861 - acc: 0.7978\n",
      "Epoch 109/200\n",
      "2863/2863 [==============================] - 1s 315us/step - loss: 0.3714 - acc: 0.8103\n",
      "Epoch 110/200\n",
      "2863/2863 [==============================] - 1s 323us/step - loss: 0.3716 - acc: 0.8082\n",
      "Epoch 111/200\n",
      "2863/2863 [==============================] - 1s 315us/step - loss: 0.3766 - acc: 0.8173\n",
      "Epoch 112/200\n",
      "2863/2863 [==============================] - 1s 315us/step - loss: 0.3584 - acc: 0.8233\n",
      "Epoch 113/200\n",
      "2863/2863 [==============================] - 1s 317us/step - loss: 0.3713 - acc: 0.8145\n",
      "Epoch 114/200\n",
      "2863/2863 [==============================] - 1s 323us/step - loss: 0.3678 - acc: 0.8072\n",
      "Epoch 115/200\n",
      "2863/2863 [==============================] - 1s 324us/step - loss: 0.3743 - acc: 0.8159\n",
      "Epoch 116/200\n",
      "2863/2863 [==============================] - 1s 322us/step - loss: 0.3621 - acc: 0.8205\n",
      "Epoch 117/200\n",
      "2863/2863 [==============================] - 1s 315us/step - loss: 0.3729 - acc: 0.8110\n",
      "Epoch 118/200\n",
      "2863/2863 [==============================] - 1s 319us/step - loss: 0.3638 - acc: 0.8152\n",
      "Epoch 119/200\n",
      "2863/2863 [==============================] - 1s 315us/step - loss: 0.3792 - acc: 0.8135\n",
      "Epoch 120/200\n",
      "2863/2863 [==============================] - 1s 316us/step - loss: 0.3691 - acc: 0.8229\n",
      "Epoch 121/200\n",
      "2863/2863 [==============================] - 1s 315us/step - loss: 0.3621 - acc: 0.8191\n",
      "Epoch 122/200\n",
      "2863/2863 [==============================] - 1s 316us/step - loss: 0.3584 - acc: 0.8219\n",
      "Epoch 123/200\n",
      "2863/2863 [==============================] - 1s 335us/step - loss: 0.3489 - acc: 0.8250\n",
      "Epoch 124/200\n",
      "2863/2863 [==============================] - 1s 319us/step - loss: 0.3534 - acc: 0.8205\n",
      "Epoch 125/200\n",
      "2863/2863 [==============================] - 1s 327us/step - loss: 0.3623 - acc: 0.8152\n",
      "Epoch 126/200\n",
      "2863/2863 [==============================] - 1s 325us/step - loss: 0.3503 - acc: 0.8292\n",
      "Epoch 127/200\n",
      "2863/2863 [==============================] - 1s 320us/step - loss: 0.3382 - acc: 0.8369\n",
      "Epoch 128/200\n",
      "2863/2863 [==============================] - 1s 317us/step - loss: 0.3458 - acc: 0.8292\n",
      "Epoch 129/200\n",
      "2863/2863 [==============================] - 1s 315us/step - loss: 0.3450 - acc: 0.8334\n",
      "Epoch 130/200\n",
      "2863/2863 [==============================] - 1s 318us/step - loss: 0.3600 - acc: 0.8282\n",
      "Epoch 131/200\n",
      "2863/2863 [==============================] - 1s 316us/step - loss: 0.3527 - acc: 0.8320\n",
      "Epoch 132/200\n",
      "2863/2863 [==============================] - 1s 317us/step - loss: 0.3385 - acc: 0.8411\n",
      "Epoch 133/200\n",
      "2863/2863 [==============================] - 1s 318us/step - loss: 0.3399 - acc: 0.8372\n",
      "Epoch 134/200\n",
      "2863/2863 [==============================] - 1s 316us/step - loss: 0.3287 - acc: 0.8400\n",
      "Epoch 135/200\n",
      "2863/2863 [==============================] - 1s 324us/step - loss: 0.3303 - acc: 0.8432\n",
      "Epoch 136/200\n",
      "2863/2863 [==============================] - 1s 325us/step - loss: 0.3512 - acc: 0.8299\n",
      "Epoch 137/200\n",
      "2863/2863 [==============================] - 1s 320us/step - loss: 0.3418 - acc: 0.8313\n",
      "Epoch 138/200\n",
      "2863/2863 [==============================] - 1s 318us/step - loss: 0.3359 - acc: 0.8337\n",
      "Epoch 139/200\n",
      "2863/2863 [==============================] - 1s 322us/step - loss: 0.3427 - acc: 0.8341\n",
      "Epoch 140/200\n",
      "2863/2863 [==============================] - 1s 320us/step - loss: 0.3397 - acc: 0.8365\n",
      "Epoch 141/200\n",
      "2863/2863 [==============================] - 1s 318us/step - loss: 0.3218 - acc: 0.8439\n",
      "Epoch 142/200\n",
      "2863/2863 [==============================] - 1s 318us/step - loss: 0.3359 - acc: 0.8383\n",
      "Epoch 143/200\n",
      "2863/2863 [==============================] - 1s 319us/step - loss: 0.3284 - acc: 0.8428\n",
      "Epoch 144/200\n",
      "2863/2863 [==============================] - 1s 326us/step - loss: 0.3275 - acc: 0.8414\n",
      "Epoch 145/200\n",
      "2863/2863 [==============================] - 1s 325us/step - loss: 0.3472 - acc: 0.8334\n",
      "Epoch 146/200\n",
      "2863/2863 [==============================] - 1s 320us/step - loss: 0.3181 - acc: 0.8446\n",
      "Epoch 147/200\n",
      "2863/2863 [==============================] - 1s 317us/step - loss: 0.3231 - acc: 0.8449\n",
      "Epoch 148/200\n",
      "2863/2863 [==============================] - 1s 317us/step - loss: 0.3147 - acc: 0.8519\n",
      "Epoch 149/200\n",
      "2863/2863 [==============================] - 1s 318us/step - loss: 0.3093 - acc: 0.8519\n",
      "Epoch 150/200\n",
      "2863/2863 [==============================] - 1s 323us/step - loss: 0.3134 - acc: 0.8512\n",
      "Epoch 151/200\n",
      "2863/2863 [==============================] - 1s 318us/step - loss: 0.3172 - acc: 0.8474\n",
      "Epoch 152/200\n",
      "2863/2863 [==============================] - 1s 317us/step - loss: 0.3170 - acc: 0.8495\n",
      "Epoch 153/200\n",
      "2863/2863 [==============================] - 1s 324us/step - loss: 0.3202 - acc: 0.8537\n",
      "Epoch 154/200\n",
      "2863/2863 [==============================] - 1s 325us/step - loss: 0.3134 - acc: 0.8498\n",
      "Epoch 155/200\n",
      "2863/2863 [==============================] - 1s 321us/step - loss: 0.3182 - acc: 0.8512\n",
      "Epoch 156/200\n",
      "2863/2863 [==============================] - 1s 318us/step - loss: 0.3188 - acc: 0.8491\n",
      "Epoch 157/200\n",
      "2863/2863 [==============================] - 1s 316us/step - loss: 0.3156 - acc: 0.8484\n",
      "Epoch 158/200\n",
      "2863/2863 [==============================] - 1s 316us/step - loss: 0.3109 - acc: 0.8512\n",
      "Epoch 159/200\n",
      "2863/2863 [==============================] - 1s 318us/step - loss: 0.3204 - acc: 0.8477\n",
      "Epoch 160/200\n",
      "2863/2863 [==============================] - 1s 317us/step - loss: 0.3232 - acc: 0.8442\n",
      "Epoch 161/200\n",
      "2863/2863 [==============================] - 1s 319us/step - loss: 0.3174 - acc: 0.8491\n",
      "Epoch 162/200\n"
     ]
    },
    {
     "name": "stdout",
     "output_type": "stream",
     "text": [
      "2863/2863 [==============================] - 1s 319us/step - loss: 0.3140 - acc: 0.8530\n",
      "Epoch 163/200\n",
      "2863/2863 [==============================] - 1s 319us/step - loss: 0.3160 - acc: 0.8519\n",
      "Epoch 164/200\n",
      "2863/2863 [==============================] - 1s 315us/step - loss: 0.3019 - acc: 0.8634\n",
      "Epoch 165/200\n",
      "2863/2863 [==============================] - 1s 312us/step - loss: 0.3057 - acc: 0.8568\n",
      "Epoch 166/200\n",
      "2863/2863 [==============================] - 1s 311us/step - loss: 0.3128 - acc: 0.8530\n",
      "Epoch 167/200\n",
      "2863/2863 [==============================] - 1s 312us/step - loss: 0.3048 - acc: 0.8571\n",
      "Epoch 168/200\n",
      "2863/2863 [==============================] - 1s 313us/step - loss: 0.2945 - acc: 0.8624\n",
      "Epoch 169/200\n",
      "2863/2863 [==============================] - 1s 308us/step - loss: 0.3093 - acc: 0.8585\n",
      "Epoch 170/200\n",
      "2863/2863 [==============================] - 1s 302us/step - loss: 0.2990 - acc: 0.8596\n",
      "Epoch 171/200\n",
      "2863/2863 [==============================] - 1s 308us/step - loss: 0.3015 - acc: 0.8606\n",
      "Epoch 172/200\n",
      "2863/2863 [==============================] - 1s 318us/step - loss: 0.3007 - acc: 0.8627\n",
      "Epoch 173/200\n",
      "2863/2863 [==============================] - 1s 320us/step - loss: 0.2944 - acc: 0.8645\n",
      "Epoch 174/200\n",
      "2863/2863 [==============================] - 1s 322us/step - loss: 0.3193 - acc: 0.8491\n",
      "Epoch 175/200\n",
      "2863/2863 [==============================] - 1s 314us/step - loss: 0.3197 - acc: 0.8467\n",
      "Epoch 176/200\n",
      "2863/2863 [==============================] - 1s 315us/step - loss: 0.3179 - acc: 0.8474\n",
      "Epoch 177/200\n",
      "2863/2863 [==============================] - 1s 310us/step - loss: 0.3134 - acc: 0.8512\n",
      "Epoch 178/200\n",
      "2863/2863 [==============================] - 1s 313us/step - loss: 0.3116 - acc: 0.8523\n",
      "Epoch 179/200\n",
      "2863/2863 [==============================] - 1s 313us/step - loss: 0.3090 - acc: 0.8564\n",
      "Epoch 180/200\n",
      "2863/2863 [==============================] - 1s 312us/step - loss: 0.2992 - acc: 0.8564\n",
      "Epoch 181/200\n",
      "2863/2863 [==============================] - 1s 313us/step - loss: 0.2940 - acc: 0.8652\n",
      "Epoch 182/200\n",
      "2863/2863 [==============================] - 1s 313us/step - loss: 0.3008 - acc: 0.8596\n",
      "Epoch 183/200\n",
      "2863/2863 [==============================] - 1s 313us/step - loss: 0.3097 - acc: 0.8537\n",
      "Epoch 184/200\n",
      "2863/2863 [==============================] - 1s 322us/step - loss: 0.2929 - acc: 0.8613\n",
      "Epoch 185/200\n",
      "2863/2863 [==============================] - 1s 320us/step - loss: 0.2941 - acc: 0.8655\n",
      "Epoch 186/200\n",
      "2863/2863 [==============================] - 1s 315us/step - loss: 0.3044 - acc: 0.8624\n",
      "Epoch 187/200\n",
      "2863/2863 [==============================] - 1s 313us/step - loss: 0.2877 - acc: 0.8680\n",
      "Epoch 188/200\n",
      "2863/2863 [==============================] - 1s 312us/step - loss: 0.2856 - acc: 0.8662\n",
      "Epoch 189/200\n",
      "2863/2863 [==============================] - 1s 321us/step - loss: 0.2881 - acc: 0.8641\n",
      "Epoch 190/200\n",
      "2863/2863 [==============================] - 1s 319us/step - loss: 0.2864 - acc: 0.8774\n",
      "Epoch 191/200\n",
      "2863/2863 [==============================] - 1s 319us/step - loss: 0.2884 - acc: 0.8718\n",
      "Epoch 192/200\n",
      "2863/2863 [==============================] - 1s 325us/step - loss: 0.3018 - acc: 0.8659\n",
      "Epoch 193/200\n",
      "2863/2863 [==============================] - 1s 323us/step - loss: 0.2854 - acc: 0.8722\n",
      "Epoch 194/200\n",
      "2863/2863 [==============================] - 1s 325us/step - loss: 0.2808 - acc: 0.8750\n",
      "Epoch 195/200\n",
      "2863/2863 [==============================] - 1s 315us/step - loss: 0.2726 - acc: 0.8784\n",
      "Epoch 196/200\n",
      "2863/2863 [==============================] - 1s 325us/step - loss: 0.2852 - acc: 0.8722\n",
      "Epoch 197/200\n",
      "2863/2863 [==============================] - 1s 314us/step - loss: 0.2912 - acc: 0.8659\n",
      "Epoch 198/200\n",
      "2863/2863 [==============================] - 1s 322us/step - loss: 0.2779 - acc: 0.8718\n",
      "Epoch 199/200\n",
      "2863/2863 [==============================] - 1s 323us/step - loss: 0.2800 - acc: 0.8725\n",
      "Epoch 200/200\n",
      "2863/2863 [==============================] - 1s 329us/step - loss: 0.2911 - acc: 0.8641\n",
      "CPU times: user 7min 29s, sys: 55.3 s, total: 8min 24s\n",
      "Wall time: 3min 6s\n"
     ]
    },
    {
     "data": {
      "text/plain": [
       "<keras.callbacks.History at 0x1a52fbe438>"
      ]
     },
     "execution_count": 47,
     "metadata": {},
     "output_type": "execute_result"
    }
   ],
   "source": [
    "%%time\n",
    "\n",
    "# fit training data to model\n",
    "classifier_4.fit(X_train,y_train, batch_size = 15, epochs = 200)"
   ]
  },
  {
   "cell_type": "code",
   "execution_count": 48,
   "metadata": {},
   "outputs": [
    {
     "name": "stdout",
     "output_type": "stream",
     "text": [
      "2863/2863 [==============================] - 1s 217us/step\n"
     ]
    },
    {
     "data": {
      "text/plain": [
       "[0.24273370069471473, 0.8969612295212048]"
      ]
     },
     "execution_count": 48,
     "metadata": {},
     "output_type": "execute_result"
    }
   ],
   "source": [
    "# evaluate loss & metrics values for model\n",
    "classifier_4.evaluate(X_train, y_train) # accuracy near 91% on training data"
   ]
  },
  {
   "cell_type": "code",
   "execution_count": 49,
   "metadata": {},
   "outputs": [],
   "source": [
    "# predict on test data\n",
    "# if prediction is greater than 0.5, output is 1; otherwise, output is 0\n",
    "y_pred_4 = classifier_4.predict(X_test)\n",
    "y_pred_4 = (y_pred_4 > 0.5)"
   ]
  },
  {
   "cell_type": "code",
   "execution_count": 50,
   "metadata": {},
   "outputs": [
    {
     "data": {
      "text/plain": [
       "array([[249, 176],\n",
       "       [274, 529]])"
      ]
     },
     "execution_count": 50,
     "metadata": {},
     "output_type": "execute_result"
    }
   ],
   "source": [
    "# accuracy on test: ~63%\n",
    "confusion_matrix(y_test, y_pred_4) # TP + TN = 778; 778/1228 total = ~63% accurate"
   ]
  },
  {
   "cell_type": "markdown",
   "metadata": {},
   "source": [
    "#### Instance 5"
   ]
  },
  {
   "cell_type": "markdown",
   "metadata": {},
   "source": [
    "Grid Search w/ Keras Classifier & 5-fold CV (Adam optimization)"
   ]
  },
  {
   "cell_type": "code",
   "execution_count": 51,
   "metadata": {},
   "outputs": [],
   "source": [
    "# function to create model\n",
    "\n",
    "def classifier_model():\n",
    "    \n",
    "    # create model\n",
    "    model = Sequential()\n",
    "    \n",
    "    # hidden layer 1\n",
    "    model.add(Dense(33, activation = 'relu', kernel_initializer = 'random_normal', input_dim = 166))\n",
    "    model.add(Dropout(0.1))\n",
    "\n",
    "    # hidden layer 2\n",
    "    model.add(Dense(33, activation = 'relu', kernel_initializer = 'random_normal'))\n",
    "    model.add(Dropout(0.1))\n",
    "\n",
    "    # hidden layer 3\n",
    "    model.add(Dense(33, activation = 'relu', kernel_initializer = 'random_normal'))\n",
    "    model.add(Dropout(0.1))\n",
    "\n",
    "    # hidden layer 4\n",
    "    model.add(Dense(33, activation = 'relu', kernel_initializer = 'random_normal'))\n",
    "    model.add(Dropout(0.1))\n",
    "\n",
    "    # hidden layer 5\n",
    "    model.add(Dense(33, activation = 'relu', kernel_initializer = 'random_normal'))\n",
    "    model.add(Dropout(0.1))\n",
    "\n",
    "    # output layer\n",
    "    model.add(Dense(1, activation = 'sigmoid', kernel_initializer = 'random_normal'))\n",
    "    \n",
    "    # compile model\n",
    "    model.compile(loss='binary_crossentropy', optimizer='adam', metrics=['accuracy'])\n",
    "    \n",
    "    return model"
   ]
  },
  {
   "cell_type": "code",
   "execution_count": 52,
   "metadata": {},
   "outputs": [],
   "source": [
    "# instantiate keras classifier model -- note that dropout is baked into the model\n",
    "model = KerasClassifier(build_fn = classifier_model, verbose = 0)"
   ]
  },
  {
   "cell_type": "code",
   "execution_count": 53,
   "metadata": {},
   "outputs": [],
   "source": [
    "# create grid search parameters\n",
    "\n",
    "batches = [10, 15, 20, 25]\n",
    "epochs = [25, 50, 100, 150, 200]\n",
    "\n",
    "params = dict(batch_size = batches, epochs = epochs)"
   ]
  },
  {
   "cell_type": "code",
   "execution_count": 54,
   "metadata": {},
   "outputs": [
    {
     "name": "stderr",
     "output_type": "stream",
     "text": [
      "/Users/colella2/anaconda3/lib/python3.7/site-packages/joblib/externals/loky/process_executor.py:706: UserWarning: A worker stopped while some jobs were given to the executor. This can be caused by a too short worker timeout or by a memory leak.\n",
      "  \"timeout or by a memory leak.\", UserWarning\n"
     ]
    },
    {
     "name": "stdout",
     "output_type": "stream",
     "text": [
      "CPU times: user 5min, sys: 33.7 s, total: 5min 34s\n",
      "Wall time: 2h 58min 11s\n"
     ]
    }
   ],
   "source": [
    "%%time\n",
    "\n",
    "# instantiate the GridSearchCV object and run search\n",
    "grid_search_2 = GridSearchCV(estimator = model, param_grid = params, n_jobs = -1, cv = 5)\n",
    "grid_search_2_fit = grid_search_2.fit(X_train, y_train)"
   ]
  },
  {
   "cell_type": "code",
   "execution_count": 55,
   "metadata": {},
   "outputs": [
    {
     "name": "stdout",
     "output_type": "stream",
     "text": [
      "0.6636395410582855 {'batch_size': 10, 'epochs': 150}\n"
     ]
    }
   ],
   "source": [
    "# summarize results\n",
    "# best_score is the mean cross-validated score of the best_estimator\n",
    "print(grid_search_2_fit.best_score_, grid_search_2_fit.best_params_) # 68% model accuracy during train"
   ]
  },
  {
   "cell_type": "code",
   "execution_count": 56,
   "metadata": {},
   "outputs": [],
   "source": [
    "# instantiate model with best parameters as object for plotting\n",
    "# get model history for plotting\n",
    "history = model.fit(X_train, y_train, epochs = 200, batch_size = 20, validation_split = 0.2)"
   ]
  },
  {
   "cell_type": "code",
   "execution_count": 57,
   "metadata": {},
   "outputs": [],
   "source": [
    "# extract metrics of value from model\n",
    "loss = history.history['loss']\n",
    "val_loss = history.history['val_loss']\n",
    "epochs = range(1, len(loss) + 1)"
   ]
  },
  {
   "cell_type": "code",
   "execution_count": 71,
   "metadata": {},
   "outputs": [
    {
     "data": {
      "image/png": "[encoded data removed]",
      "text/plain": [
       "<Figure size 432x288 with 1 Axes>"
      ]
     },
     "metadata": {
      "needs_background": "light"
     },
     "output_type": "display_data"
    },
    {
     "data": {
      "text/plain": [
       "<Figure size 432x288 with 0 Axes>"
      ]
     },
     "metadata": {},
     "output_type": "display_data"
    }
   ],
   "source": [
    "# plot loss & validation during training\n",
    "plt.plot(epochs, loss, 'b', label = 'train loss')\n",
    "plt.plot(epochs, val_loss, 'g', label='validation loss')\n",
    "plt.title('training and validation loss')\n",
    "plt.xlabel('epochs')\n",
    "plt.ylabel('loss')\n",
    "plt.legend()\n",
    "plt.show()\n",
    "plt.savefig('Adam_loss_validation.png')"
   ]
  },
  {
   "cell_type": "markdown",
   "metadata": {},
   "source": [
    "Training loss decreases as expected with more epics. Near 200 epoachs, validation loss starts to stabalize, decreasing little by little."
   ]
  },
  {
   "cell_type": "code",
   "execution_count": 79,
   "metadata": {},
   "outputs": [
    {
     "data": {
      "image/png": "[encoded data removed]",
      "text/plain": [
       "<Figure size 432x288 with 1 Axes>"
      ]
     },
     "metadata": {
      "needs_background": "light"
     },
     "output_type": "display_data"
    },
    {
     "data": {
      "text/plain": [
       "<Figure size 432x288 with 0 Axes>"
      ]
     },
     "metadata": {},
     "output_type": "display_data"
    }
   ],
   "source": [
    "# plot accuracy during training\n",
    "accuracy = history.history['acc']\n",
    "valid_accuracy = history.history['val_acc']\n",
    "\n",
    "plt.plot(epochs, accuracy, 'b', label = 'train accuracy')\n",
    "plt.plot(epochs, valid_accuracy, 'g', label = 'validation accuracy')\n",
    "plt.title('training & validation accuracy')\n",
    "plt.xlabel('epochs')\n",
    "plt.ylabel('accuracy')\n",
    "plt.legend()\n",
    "plt.show()\n",
    "plt.savefig('Adam_accuracy.png')"
   ]
  },
  {
   "cell_type": "markdown",
   "metadata": {},
   "source": [
    "Training accuracy increases significantly as epics are added, starting to stabilize around 200 epochs. Validation accuracy dips and continues to increase little by little with more epics."
   ]
  },
  {
   "cell_type": "code",
   "execution_count": 60,
   "metadata": {},
   "outputs": [
    {
     "data": {
      "text/plain": [
       "0.6620521189141351"
      ]
     },
     "execution_count": 60,
     "metadata": {},
     "output_type": "execute_result"
    }
   ],
   "source": [
    "# evaluate NN on test set\n",
    "grid_search_2_fit.score(X_test, y_test) # 66% accuracy during test, nearly same as train -- model generalizes well"
   ]
  },
  {
   "cell_type": "markdown",
   "metadata": {},
   "source": [
    "The model generalizes well as there is only a 0.038 drop in accuracy from training to test."
   ]
  },
  {
   "cell_type": "markdown",
   "metadata": {},
   "source": [
    "#### Instance 6"
   ]
  },
  {
   "cell_type": "markdown",
   "metadata": {},
   "source": [
    "Grid Search w/ Keras Classifier & 5-fold CV (SGD optimization)"
   ]
  },
  {
   "cell_type": "code",
   "execution_count": 14,
   "metadata": {},
   "outputs": [],
   "source": [
    "# function to create model\n",
    "\n",
    "def classifier_model2():\n",
    "    \n",
    "    # create model\n",
    "    model = Sequential()\n",
    "    \n",
    "    # hidden layer 1\n",
    "    model.add(Dense(33, activation = 'relu', kernel_initializer = 'random_normal', input_dim = 166))\n",
    "    model.add(Dropout(0.1))\n",
    "\n",
    "    # hidden layer 2\n",
    "    model.add(Dense(33, activation = 'relu', kernel_initializer = 'random_normal'))\n",
    "    model.add(Dropout(0.1))\n",
    "\n",
    "    # hidden layer 3\n",
    "    model.add(Dense(33, activation = 'relu', kernel_initializer = 'random_normal'))\n",
    "    model.add(Dropout(0.1))\n",
    "\n",
    "    # hidden layer 4\n",
    "    model.add(Dense(33, activation = 'relu', kernel_initializer = 'random_normal'))\n",
    "    model.add(Dropout(0.1))\n",
    "\n",
    "    # hidden layer 5\n",
    "    model.add(Dense(33, activation = 'relu', kernel_initializer = 'random_normal'))\n",
    "    model.add(Dropout(0.1))\n",
    "\n",
    "    # output layer\n",
    "    model.add(Dense(1, activation = 'sigmoid', kernel_initializer = 'random_normal'))\n",
    "    \n",
    "    # specify optimization parameters\n",
    "    sgd = optimizers.SGD(lr = 0.1) # no momentum is used by default\n",
    "    \n",
    "    # compile model\n",
    "    model.compile(loss = 'binary_crossentropy', optimizer = sgd, metrics = ['accuracy'])\n",
    "    \n",
    "    return model"
   ]
  },
  {
   "cell_type": "code",
   "execution_count": 15,
   "metadata": {},
   "outputs": [],
   "source": [
    "# instantiate keras classifier model -- note that dropout is baked into the model\n",
    "model2 = KerasClassifier(build_fn = classifier_model2, verbose = 0)"
   ]
  },
  {
   "cell_type": "code",
   "execution_count": 16,
   "metadata": {},
   "outputs": [],
   "source": [
    "# create grid search parameters\n",
    "\n",
    "batches2 = [10, 15, 20, 25]\n",
    "epochs2 = [25, 50, 100, 150, 200]\n",
    "\n",
    "params2 = dict(batch_size = batches2, epochs = epochs2)"
   ]
  },
  {
   "cell_type": "code",
   "execution_count": 17,
   "metadata": {},
   "outputs": [
    {
     "name": "stdout",
     "output_type": "stream",
     "text": [
      "CPU times: user 48 µs, sys: 1 µs, total: 49 µs\n",
      "Wall time: 52.2 µs\n"
     ]
    }
   ],
   "source": [
    "%%time\n",
    "\n",
    "# instantiate the GridSearchCV object and run search\n",
    "grid_search_3 = GridSearchCV(estimator = model2, param_grid = params2, n_jobs = -1, cv = 5)"
   ]
  },
  {
   "cell_type": "code",
   "execution_count": 18,
   "metadata": {},
   "outputs": [
    {
     "name": "stderr",
     "output_type": "stream",
     "text": [
      "/Users/colella2/anaconda3/lib/python3.7/site-packages/joblib/externals/loky/process_executor.py:706: UserWarning: A worker stopped while some jobs were given to the executor. This can be caused by a too short worker timeout or by a memory leak.\n",
      "  \"timeout or by a memory leak.\", UserWarning\n"
     ]
    },
    {
     "name": "stdout",
     "output_type": "stream",
     "text": [
      "WARNING:tensorflow:From /Users/colella2/anaconda3/lib/python3.7/site-packages/keras/backend/tensorflow_backend.py:74: The name tf.get_default_graph is deprecated. Please use tf.compat.v1.get_default_graph instead.\n",
      "\n",
      "WARNING:tensorflow:From /Users/colella2/anaconda3/lib/python3.7/site-packages/keras/backend/tensorflow_backend.py:517: The name tf.placeholder is deprecated. Please use tf.compat.v1.placeholder instead.\n",
      "\n",
      "WARNING:tensorflow:From /Users/colella2/anaconda3/lib/python3.7/site-packages/keras/backend/tensorflow_backend.py:4115: The name tf.random_normal is deprecated. Please use tf.random.normal instead.\n",
      "\n",
      "WARNING:tensorflow:From /Users/colella2/anaconda3/lib/python3.7/site-packages/keras/backend/tensorflow_backend.py:133: The name tf.placeholder_with_default is deprecated. Please use tf.compat.v1.placeholder_with_default instead.\n",
      "\n",
      "WARNING:tensorflow:From /Users/colella2/anaconda3/lib/python3.7/site-packages/keras/backend/tensorflow_backend.py:3445: calling dropout (from tensorflow.python.ops.nn_ops) with keep_prob is deprecated and will be removed in a future version.\n",
      "Instructions for updating:\n",
      "Please use `rate` instead of `keep_prob`. Rate should be set to `rate = 1 - keep_prob`.\n",
      "WARNING:tensorflow:From /Users/colella2/anaconda3/lib/python3.7/site-packages/keras/optimizers.py:790: The name tf.train.Optimizer is deprecated. Please use tf.compat.v1.train.Optimizer instead.\n",
      "\n",
      "WARNING:tensorflow:From /Users/colella2/anaconda3/lib/python3.7/site-packages/keras/backend/tensorflow_backend.py:3376: The name tf.log is deprecated. Please use tf.math.log instead.\n",
      "\n",
      "WARNING:tensorflow:From /Users/colella2/anaconda3/lib/python3.7/site-packages/tensorflow/python/ops/nn_impl.py:180: add_dispatch_support.<locals>.wrapper (from tensorflow.python.ops.array_ops) is deprecated and will be removed in a future version.\n",
      "Instructions for updating:\n",
      "Use tf.where in 2.0, which has the same broadcast rule as np.where\n"
     ]
    }
   ],
   "source": [
    "# fit to training data\n",
    "grid_search_3_fit = grid_search_3.fit(X_train, y_train)"
   ]
  },
  {
   "cell_type": "code",
   "execution_count": 19,
   "metadata": {},
   "outputs": [
    {
     "name": "stdout",
     "output_type": "stream",
     "text": [
      "0.6636395560687461 {'batch_size': 15, 'epochs': 25}\n"
     ]
    }
   ],
   "source": [
    "# summarize results\n",
    "# best_score is the mean cross-validated score of the best_estimator\n",
    "print(grid_search_3_fit.best_score_, grid_search_3_fit.best_params_) # 68% model accuracy during train"
   ]
  },
  {
   "cell_type": "code",
   "execution_count": 20,
   "metadata": {},
   "outputs": [],
   "source": [
    "# instantiate model with best parameters as object for plotting\n",
    "# get model history for plotting\n",
    "history2 = model2.fit(X_train, y_train, epochs = 25, batch_size = 15, validation_split = 0.2)"
   ]
  },
  {
   "cell_type": "code",
   "execution_count": 21,
   "metadata": {},
   "outputs": [],
   "source": [
    "# extract metrics of value from model\n",
    "loss2 = history2.history['loss']\n",
    "val_loss2 = history2.history['val_loss']\n",
    "epochs2 = range(1, len(loss2) + 1)"
   ]
  },
  {
   "cell_type": "code",
   "execution_count": 26,
   "metadata": {},
   "outputs": [
    {
     "data": {
      "image/png": "[encoded data removed]",
      "text/plain": [
       "<Figure size 432x288 with 1 Axes>"
      ]
     },
     "metadata": {
      "needs_background": "light"
     },
     "output_type": "display_data"
    },
    {
     "data": {
      "text/plain": [
       "<Figure size 432x288 with 0 Axes>"
      ]
     },
     "metadata": {},
     "output_type": "display_data"
    }
   ],
   "source": [
    "# plot loss & validation during training\n",
    "plt.plot(epochs2, loss2, 'r', label = 'train loss')\n",
    "plt.plot(epochs2, val_loss2, 'y', label = 'validation loss')\n",
    "plt.title('training and validation loss')\n",
    "plt.xlabel('epochs')\n",
    "plt.ylabel('loss')\n",
    "plt.legend()\n",
    "plt.show()\n",
    "plt.savefig('SGD_loss_validation.png')"
   ]
  },
  {
   "cell_type": "markdown",
   "metadata": {},
   "source": [
    "Training loss decreases as expected with more epics. Near 200 epoachs, validation loss starts to stabalize."
   ]
  },
  {
   "cell_type": "code",
   "execution_count": 25,
   "metadata": {},
   "outputs": [
    {
     "data": {
      "image/png": "[encoded data removed]",
      "text/plain": [
       "<Figure size 432x288 with 1 Axes>"
      ]
     },
     "metadata": {
      "needs_background": "light"
     },
     "output_type": "display_data"
    },
    {
     "data": {
      "text/plain": [
       "<Figure size 432x288 with 0 Axes>"
      ]
     },
     "metadata": {},
     "output_type": "display_data"
    }
   ],
   "source": [
    "# plot accuracy during training\n",
    "accuracy2 = history2.history['acc']\n",
    "valid_accuracy2 = history2.history['val_acc']\n",
    "\n",
    "plt.plot(epochs2, accuracy2, 'y', label = 'train accuracy')\n",
    "plt.plot(epochs2, valid_accuracy2, 'b', label = 'validation accuracy')\n",
    "plt.title('training & validation accuracy')\n",
    "plt.xlabel('epochs')\n",
    "plt.ylabel('accuracy')\n",
    "plt.legend()\n",
    "plt.show()\n",
    "plt.savefig('SGD_accuracy.png')"
   ]
  },
  {
   "cell_type": "markdown",
   "metadata": {},
   "source": [
    "Training accuracy increases around 3 epochs then remains relatively stable. Validation pretty consistent."
   ]
  },
  {
   "cell_type": "code",
   "execution_count": 24,
   "metadata": {},
   "outputs": [
    {
     "data": {
      "text/plain": [
       "0.653908812504638"
      ]
     },
     "execution_count": 24,
     "metadata": {},
     "output_type": "execute_result"
    }
   ],
   "source": [
    "# evaluate NN on test set\n",
    "grid_search_3_fit.score(X_test, y_test) # 65% accuracy during test -- model generalizes well"
   ]
  },
  {
   "cell_type": "markdown",
   "metadata": {},
   "source": [
    "The model generalizes well as there is only a 0.030 drop in accuracy from training to test. This slightly beats previous NN with Adam optimizer."
   ]
  },
  {
   "cell_type": "code",
   "execution_count": null,
   "metadata": {},
   "outputs": [],
   "source": []
  }
 ],
 "metadata": {
  "kernelspec": {
   "display_name": "Python 3",
   "language": "python",
   "name": "python3"
  },
  "language_info": {
   "codemirror_mode": {
    "name": "ipython",
    "version": 3
   },
   "file_extension": ".py",
   "mimetype": "text/x-python",
   "name": "python",
   "nbconvert_exporter": "python",
   "pygments_lexer": "ipython3",
   "version": "3.7.3"
  }
 },
 "nbformat": 4,
 "nbformat_minor": 2
}
