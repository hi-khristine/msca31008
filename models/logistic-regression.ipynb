{
 "cells": [
  {
   "cell_type": "code",
   "execution_count": 1,
   "metadata": {},
   "outputs": [
    {
     "data": {
      "text/plain": [
       "(4091, 166)"
      ]
     },
     "execution_count": 1,
     "metadata": {},
     "output_type": "execute_result"
    }
   ],
   "source": [
    "import pandas as pd\n",
    "import numpy as np\n",
    "\n",
    "# read functions.\n",
    "import os\n",
    "for f in os.listdir('../fun/'): exec(open('../fun/'+f).read())\n",
    "del f\n",
    "\n",
    "# Load data\n",
    "load( '../out/d3-fight-level-transform.pkl' )\n",
    "\n",
    "X = pd.DataFrame(X)\n",
    "X.columns = cols\n",
    "X.shape\n",
    "\n",
    "# prior: (4368, 165)"
   ]
  },
  {
   "cell_type": "code",
   "execution_count": 2,
   "metadata": {},
   "outputs": [
    {
     "name": "stdout",
     "output_type": "stream",
     "text": [
      "Correlated Pairs:\n",
      "[['Mean_Height_cms', 'weight_class'], ['Mean_Reach_cms', 'weight_class'], ['Mean_Reach_cms', 'Mean_Height_cms'], ['Mean_total_rounds_fought', 'Mean_losses'], ['Diff_total_rounds_fought', 'Diff_losses'], ['Mean_win_by_Decision_Unanimous', 'Mean_total_rounds_fought'], ['Mean_wins', 'Mean_longest_win_streak'], ['Mean_wins', 'Mean_total_rounds_fought'], ['Mean_wins', 'Mean_win_by_Decision_Unanimous'], ['Diff_wins', 'Diff_total_rounds_fought']]\n",
      "\n",
      "Dropping:\n",
      "['Mean_Height_cms', 'Mean_Reach_cms', 'Mean_Reach_cms', 'Mean_losses', 'Diff_losses', 'Mean_total_rounds_fought', 'Mean_wins', 'Mean_total_rounds_fought', 'Mean_win_by_Decision_Unanimous', 'Diff_total_rounds_fought']\n"
     ]
    }
   ],
   "source": [
    "# find highly correlated pairs.\n",
    "# for each, return the lowest-correlated one to drop later.\n",
    "hicor = []\n",
    "todrop = []\n",
    "c = X.corr()\n",
    "for row in range(c.shape[0]):\n",
    "    for col in range(c.shape[1]):\n",
    "        if col >= row: continue\n",
    "        if c.iloc[row,col] > .8: \n",
    "            hicor.append( [ cols[row], cols[col] ] )\n",
    "            rowcor = np.corrcoef(X.iloc[:,row],y)[0][1]\n",
    "            colcor = np.corrcoef(X.iloc[:,col],y)[0][1]\n",
    "            if rowcor < colcor:\n",
    "                todrop.append( cols[row] )\n",
    "            else:\n",
    "                todrop.append( cols[col])\n",
    "            \n",
    "print('Correlated Pairs:')\n",
    "print(hicor)\n",
    "print('')\n",
    "print('Dropping:')\n",
    "print(todrop)"
   ]
  },
  {
   "cell_type": "code",
   "execution_count": 3,
   "metadata": {},
   "outputs": [],
   "source": [
    "X.drop( todrop, axis = 1, inplace = True )"
   ]
  },
  {
   "cell_type": "code",
   "execution_count": 4,
   "metadata": {},
   "outputs": [
    {
     "name": "stdout",
     "output_type": "stream",
     "text": [
      "Optimization terminated successfully.\n",
      "         Current function value: 0.598581\n",
      "         Iterations 9\n",
      "                                                  Results: Logit\n",
      "===================================================================================================================\n",
      "Model:                                Logit                            Pseudo R-squared:                 0.066     \n",
      "Dependent Variable:                   Winner                           AIC:                              5207.5931 \n",
      "Date:                                 2019-11-26 18:12                 BIC:                              6186.6575 \n",
      "No. Observations:                     4091                             Log-Likelihood:                   -2448.8   \n",
      "Df Model:                             154                              LL-Null:                          -2620.5   \n",
      "Df Residuals:                         3936                             LLR p-value:                      1.7502e-16\n",
      "Converged:                            1.0000                           Scale:                            1.0000    \n",
      "No. Iterations:                       9.0000                                                                       \n",
      "-------------------------------------------------------------------------------------------------------------------\n",
      "                                                 Coef.      Std.Err.      z     P>|z|      [0.025         0.975]   \n",
      "-------------------------------------------------------------------------------------------------------------------\n",
      "title_bout                                        0.1649        0.5403   0.3051 0.7603        -0.8941        1.2238\n",
      "weight_class                                     -0.2217        0.4970  -0.4461 0.6556        -1.1958        0.7524\n",
      "no_of_rounds                                     -0.4862        0.5620  -0.8650 0.3870        -1.5877        0.6154\n",
      "date_year                                        -5.9904        0.5968 -10.0375 0.0000        -7.1602       -4.8207\n",
      "date_month                                       -0.9805        0.4048  -2.4222 0.0154        -1.7738       -0.1871\n",
      "date_dayofmonth                                   0.0783        0.3872   0.2022 0.8398        -0.6806        0.8372\n",
      "date_dayofweek                                   -1.1586        0.4516  -2.5654 0.0103        -2.0438       -0.2734\n",
      "date_frisat                                       0.6004        0.4269   1.4063 0.1596        -0.2364        1.4372\n",
      "womens                                            0.4929        0.3956   1.2459 0.2128        -0.2825        1.2682\n",
      "weight_class_catch_weight                        -0.2243        0.5401  -0.4153 0.6780        -1.2829        0.8343\n",
      "weight_class_open_weight                          0.1953        0.6323   0.3088 0.7574        -1.0440        1.4346\n",
      "Referee_Chris Tognoni                            -0.3198           nan      nan    nan            nan           nan\n",
      "Referee_Dan Miragliotta                           0.2685           nan      nan    nan            nan           nan\n",
      "Referee_Gary Copeland                            -0.7703           nan      nan    nan            nan           nan\n",
      "Referee_Grant Waterman                           -0.5163           nan      nan    nan            nan           nan\n",
      "Referee_Herb Dean                                -0.0699           nan      nan    nan            nan           nan\n",
      "Referee_Jacob Montalvo                           -0.3880           nan      nan    nan            nan           nan\n",
      "Referee_Jason Herzog                              0.0001           nan      nan    nan            nan           nan\n",
      "Referee_Jerin Valel                              -0.1539           nan      nan    nan            nan           nan\n",
      "Referee_John McCarthy                            -0.2187           nan      nan    nan            nan           nan\n",
      "Referee_John Sharp                               -0.9298           nan      nan    nan            nan           nan\n",
      "Referee_Josh Rosenthal                           -0.3557           nan      nan    nan            nan           nan\n",
      "Referee_Keith Peterson                            0.6743           nan      nan    nan            nan           nan\n",
      "Referee_Kerry Hatley                             -0.0363           nan      nan    nan            nan           nan\n",
      "Referee_Kevin MacDonald                          -0.0909           nan      nan    nan            nan           nan\n",
      "Referee_Kevin Mulhall                             0.9321           nan      nan    nan            nan           nan\n",
      "Referee_Kevin Sataki                             -0.1518           nan      nan    nan            nan           nan\n",
      "Referee_Kim Winslow                              -1.3079           nan      nan    nan            nan           nan\n",
      "Referee_Larry Landless                            0.5160           nan      nan    nan            nan           nan\n",
      "Referee_Leon Roberts                             -0.5210           nan      nan    nan            nan           nan\n",
      "Referee_Marc Goddard                             -0.3457           nan      nan    nan            nan           nan\n",
      "Referee_Mario Yamasaki                            0.1326           nan      nan    nan            nan           nan\n",
      "Referee_Mark Smith                               -0.2918           nan      nan    nan            nan           nan\n",
      "Referee_Mike Beltran                             -0.9102           nan      nan    nan            nan           nan\n",
      "Referee_Neil Hall                                -0.2319           nan      nan    nan            nan           nan\n",
      "Referee_Osiris Maia                               0.7645           nan      nan    nan            nan           nan\n",
      "Referee_Other                                     0.5321           nan      nan    nan            nan           nan\n",
      "Referee_Steve Mazzagatti                          0.6682           nan      nan    nan            nan           nan\n",
      "Referee_Steve Perceval                           -0.6531           nan      nan    nan            nan           nan\n",
      "Referee_Todd Ronald Anderson                     -0.4377           nan      nan    nan            nan           nan\n",
      "Referee_Yves Lavigne                              0.5735           nan      nan    nan            nan           nan\n",
      "location_Anaheim, California, USA                 0.1695  5161209.8482   0.0000 1.0000 -10115785.2497 10115785.5886\n",
      "location_Atlanta, Georgia, USA                   -0.8359  4023437.5044  -0.0000 1.0000  -7885793.4385  7885791.7668\n",
      "location_Atlantic City, New Jersey, USA           0.2191  5138692.0506   0.0000 1.0000 -10071651.1276 10071651.5659\n",
      "location_Boston, Massachusetts, USA              -0.2208  4686905.5177  -0.0000 1.0000  -9186166.2344  9186165.7928\n",
      "location_Chicago, Illinois, USA                  -0.3304  6013069.4477  -0.0000 1.0000 -11785399.8845 11785399.2237\n",
      "location_Dallas, Texas, USA                      -0.2171  4536252.3389  -0.0000 1.0000  -8890891.4262  8890890.9920\n",
      "location_Denver, Colorado, USA                   -0.2970  3866324.8603  -0.0000 1.0000  -7577857.7758  7577857.1817\n",
      "location_Fairfax, Virginia, USA                   0.0039  3215856.7520   0.0000 1.0000  -6302963.4096  6302963.4173\n",
      "location_Houston, Texas, USA                     -0.3660  4170425.6603  -0.0000 1.0000  -8173884.4605  8173883.7284\n",
      "location_Las Vegas, Nevada, USA                   0.1367 22214284.2138   0.0000 1.0000 -43539196.8647 43539197.1380\n",
      "location_London, England, United Kingdom          0.4092  6369971.3108   0.0000 1.0000 -12484913.9425 12484914.7610\n",
      "location_Los Angeles, California, USA             0.0424  5070568.5318   0.0000 1.0000  -9938131.6611  9938131.7459\n",
      "location_Manchester, England, United Kingdom      0.5826  3435460.6313   0.0000 1.0000  -6733378.5252  6733379.6903\n",
      "location_Mexico City, Distrito Federal, Mexico    0.2191  3855138.9087   0.0000 1.0000  -7555933.1974  7555933.6355\n",
      "location_Montreal, Quebec, Canada                -0.2940  5992147.4307  -0.0000 1.0000 -11744393.4482 11744392.8602\n",
      "location_Nashville, Tennessee, USA                0.8162  4393277.6295   0.0000 1.0000  -8610665.1117  8610666.7440\n",
      "location_Newark, New Jersey, USA                 -1.1387  6150489.8739  -0.0000 1.0000 -12054739.7789 12054737.5016\n",
      "location_Orlando, Florida, USA                   -0.7336  3589494.0480  -0.0000 1.0000  -7035279.7905  7035278.3232\n",
      "location_Other                                    0.7637 24912589.0816   0.0000 1.0000 -48827776.5979 48827778.1253\n",
      "location_Phoenix, Arizona, USA                   -1.2139  3228774.4887  -0.0000 1.0000  -6328282.9258  6328280.4981\n",
      "location_Rio de Janeiro, Brazil                   0.5434  5225707.4720   0.0000 1.0000 -10242197.8954 10242198.9823\n",
      "location_Rio de Janeiro, Rio de Janeiro, Brazil   0.2610  3368920.9336   0.0000 1.0000  -6602963.4355  6602963.9575\n",
      "location_Sacramento, California, USA              0.1854  4160527.6248   0.0000 1.0000  -8154484.1159  8154484.4866\n",
      "location_Saitama, Japan                          -0.7776  4090306.3645  -0.0000 1.0000  -8016853.9379  8016852.3826\n",
      "location_San Jose, California, USA               -0.5337  4089889.0084  -0.0000 1.0000  -8016035.6909  8016034.6234\n",
      "location_Sao Paulo, Sao Paulo, Brazil             0.3220  3890236.2791   0.0000 1.0000  -7624722.6764  7624723.3204\n",
      "location_Stockholm, Sweden                       -0.4056  5345862.2893  -0.0000 1.0000 -10477697.9590 10477697.1478\n",
      "location_Sydney, New South Wales, Australia      -0.1809  4116431.6441  -0.0000 1.0000  -8068057.9482  8068057.5864\n",
      "location_Toronto, Ontario, Canada                -0.7500  5449785.8407  -0.0000 1.0000 -10681384.7212 10681383.2213\n",
      "location_Vancouver, British Columbia, Canada     -0.3524  3818540.5929  -0.0000 1.0000  -7484202.3879  7484201.6831\n",
      "Stance_Open Stance-Orthodox                      -0.1458           nan      nan    nan            nan           nan\n",
      "Stance_Open Stance-Southpaw                       0.0339           nan      nan    nan            nan           nan\n",
      "Stance_Orthodox-Orthodox                         -0.1901           nan      nan    nan            nan           nan\n",
      "Stance_Orthodox-Southpaw                          0.2007           nan      nan    nan            nan           nan\n",
      "Stance_Orthodox-Switch                            0.2856           nan      nan    nan            nan           nan\n",
      "Stance_Sideways-Southpaw                         -1.2797           nan      nan    nan            nan           nan\n",
      "Stance_Southpaw-Southpaw                         -0.0127           nan      nan    nan            nan           nan\n",
      "Stance_Southpaw-Switch                           -0.2839           nan      nan    nan            nan           nan\n",
      "Stance_Switch-Switch                             -1.5585           nan      nan    nan            nan           nan\n",
      "Diff_Height_cms                                  -0.2873        0.5009  -0.5736 0.5662        -1.2692        0.6945\n",
      "Diff_Reach_cms                                    1.1238        0.5015   2.2410 0.0250         0.1409        2.1067\n",
      "Mean_avg_KD                                      -0.1793        0.4393  -0.4083 0.6831        -1.0403        0.6816\n",
      "Diff_avg_KD                                      -0.5745        0.4129  -1.3915 0.1641        -1.3837        0.2347\n",
      "Mean_avg_PASS                                     0.3015        0.4680   0.6443 0.5194        -0.6157        1.2187\n",
      "Diff_avg_PASS                                     0.6187        0.4393   1.4084 0.1590        -0.2423        1.4796\n",
      "Mean_avg_REV                                     -0.5679        0.4463  -1.2727 0.2031        -1.4426        0.3067\n",
      "Diff_avg_REV                                     -0.2116        0.4240  -0.4992 0.6176        -1.0426        0.6193\n",
      "Mean_avg_SUB_ATT                                 -0.1073        0.4875  -0.2200 0.8258        -1.0628        0.8482\n",
      "Diff_avg_SUB_ATT                                 -0.2420        0.4379  -0.5527 0.5804        -1.1002        0.6162\n",
      "Mean_avg_opp_SUB_ATT                              0.2444        0.4310   0.5670 0.5707        -0.6003        1.0891\n",
      "Diff_avg_opp_SUB_ATT                             -0.0068        0.4040  -0.0169 0.9865        -0.7986        0.7849\n",
      "Mean_odds                                        -0.4119        0.3969  -1.0376 0.2995        -1.1899        0.3661\n",
      "Diff_odds                                        -4.8992        0.4293 -11.4115 0.0000        -5.7406       -4.0577\n",
      "Mean_avg_BODY_pct                                 6.8981        6.7118   1.0278 0.3041        -6.2567       20.0529\n",
      "Diff_avg_BODY_pct                                 8.2878        6.7091   1.2353 0.2167        -4.8618       21.4374\n",
      "Mean_avg_CLINCH_pct                              -0.5463        1.0343  -0.5282 0.5973        -2.5735        1.4808\n",
      "Diff_avg_CLINCH_pct                              -0.5526        1.0285  -0.5372 0.5911        -2.5683        1.4632\n",
      "Mean_avg_DISTANCE_pct                            -2.0128        1.8657  -1.0788 0.2807        -5.6695        1.6440\n",
      "Diff_avg_DISTANCE_pct                             3.0508        1.8723   1.6294 0.1032        -0.6189        6.7206\n",
      "Mean_avg_GROUND_pct                              -0.7077        0.9437  -0.7499 0.4533        -2.5573        1.1419\n",
      "Diff_avg_GROUND_pct                              -1.5703        0.9359  -1.6779 0.0934        -3.4046        0.2639\n",
      "Mean_avg_HEAD_pct                                -0.7338        0.7848  -0.9350 0.3498        -2.2721        0.8044\n",
      "Diff_avg_HEAD_pct                                -0.9737        0.7897  -1.2330 0.2176        -2.5215        0.5741\n",
      "Mean_avg_LEG_pct                                  1.7986        1.5153   1.1870 0.2352        -1.1713        4.7685\n",
      "Diff_avg_LEG_pct                                 -2.0181        1.5245  -1.3238 0.1856        -5.0061        0.9698\n",
      "Mean_avg_SIG_STR_pct                              2.1526        1.2775   1.6850 0.0920        -0.3513        4.6565\n",
      "Diff_avg_SIG_STR_pct                             -1.8119        1.2885  -1.4062 0.1597        -4.3373        0.7135\n",
      "Mean_avg_TD_pct                                   0.0688        1.0570   0.0651 0.9481        -2.0029        2.1406\n",
      "Diff_avg_TD_pct                                   0.4435        1.0394   0.4267 0.6696        -1.5937        2.4807\n",
      "Mean_avg_TOTAL_STR_pct                            0.9188        0.8971   1.0242 0.3057        -0.8394        2.6770\n",
      "Diff_avg_TOTAL_STR_pct                           -0.2118        0.8973  -0.2361 0.8134        -1.9705        1.5468\n",
      "Mean_current_lose_streak                         -0.7255        0.5329  -1.3615 0.1734        -1.7700        0.3189\n",
      "Diff_current_lose_streak                          0.1437        0.4438   0.3239 0.7460        -0.7260        1.0135\n",
      "Mean_current_win_streak                          -0.7923        0.6800  -1.1651 0.2440        -2.1251        0.5405\n",
      "Diff_current_win_streak                           1.1304        0.4948   2.2845 0.0223         0.1606        2.1002\n",
      "Mean_longest_win_streak                           0.0815        0.9774   0.0834 0.9336        -1.8342        1.9972\n",
      "Diff_longest_win_streak                          -0.4908        0.7040  -0.6971 0.4858        -1.8706        0.8891\n",
      "Mean_total_time_fought(seconds)                  -0.3842        0.4591  -0.8369 0.4026        -1.2840        0.5155\n",
      "Diff_total_time_fought(seconds)                   0.3147        0.4418   0.7124 0.4762        -0.5512        1.1807\n",
      "Mean_total_title_bouts                            0.9916        0.5671   1.7487 0.0803        -0.1198        2.1031\n",
      "Diff_total_title_bouts                           -0.6566        0.4744  -1.3840 0.1663        -1.5863        0.2732\n",
      "Mean_win_by_Decision_Majority                    -0.0203        0.4384  -0.0464 0.9630        -0.8795        0.8389\n",
      "Diff_win_by_Decision_Majority                     0.3671        0.7601   0.4830 0.6291        -1.1225        1.8568\n",
      "Mean_win_by_Decision_Split                       -0.9304        0.4633  -2.0084 0.0446        -1.8385       -0.0224\n",
      "Diff_win_by_Decision_Split                        1.3242        2.5017   0.5293 0.5966        -3.5790        6.2274\n",
      "Diff_win_by_Decision_Unanimous                    6.6497        5.4305   1.2245 0.2208        -3.9938       17.2933\n",
      "Mean_win_by_KO/TKO                                0.6490        0.7201   0.9013 0.3674        -0.7623        2.0603\n",
      "Diff_win_by_KO/TKO                                6.9197        5.9037   1.1721 0.2412        -4.6513       18.4907\n",
      "Mean_win_by_Submission                           -0.1939        0.5652  -0.3430 0.7316        -1.3017        0.9140\n",
      "Diff_win_by_Submission                            5.2295        5.1436   1.0167 0.3093        -4.8519       15.3109\n",
      "Mean_win_by_TKO_Doctor_Stoppage                   0.0234        0.4421   0.0530 0.9577        -0.8431        0.8899\n",
      "Diff_win_by_TKO_Doctor_Stoppage                   0.8431        1.1167   0.7550 0.4503        -1.3456        3.0317\n",
      "Diff_wins                                       -12.3610       10.8735  -1.1368 0.2556       -33.6726        8.9506\n",
      "Mean_avg_opp_KD                                  -0.0053        0.3909  -0.0137 0.9891        -0.7715        0.7608\n",
      "Diff_avg_opp_KD                                  -0.8398        0.3789  -2.2165 0.0267        -1.5825       -0.0972\n",
      "Mean_avg_opp_PASS                                 0.1228        0.4502   0.2729 0.7850        -0.7596        1.0053\n",
      "Diff_avg_opp_PASS                                -0.6057        0.4158  -1.4567 0.1452        -1.4207        0.2093\n",
      "Mean_avg_opp_REV                                 -0.0312        0.4646  -0.0672 0.9464        -0.9418        0.8794\n",
      "Diff_avg_opp_REV                                 -0.4203        0.4286  -0.9807 0.3267        -1.2603        0.4197\n",
      "Mean_avg_opp_BODY_pct                             2.5241        0.8911   2.8326 0.0046         0.7776        4.2706\n",
      "Diff_avg_opp_BODY_pct                            -2.6614        0.8968  -2.9678 0.0030        -4.4190       -0.9038\n",
      "Mean_avg_opp_CLINCH_pct                           1.3449        1.2523   1.0740 0.2828        -1.1095        3.7993\n",
      "Diff_avg_opp_CLINCH_pct                           0.2494        1.2570   0.1984 0.8427        -2.2143        2.7132\n",
      "Mean_avg_opp_DISTANCE_pct                         0.5925        1.0821   0.5476 0.5840        -1.5283        2.7134\n",
      "Diff_avg_opp_DISTANCE_pct                         0.9037        1.0816   0.8355 0.4034        -1.2162        3.0236\n",
      "Mean_avg_opp_GROUND_pct                          -1.2649        2.0248  -0.6247 0.5322        -5.2334        2.7037\n",
      "Diff_avg_opp_GROUND_pct                          -4.3140        2.0368  -2.1180 0.0342        -8.3060       -0.3219\n",
      "Mean_avg_opp_HEAD_pct                            -4.5022        6.2267  -0.7230 0.4697       -16.7064        7.7020\n",
      "Diff_avg_opp_HEAD_pct                             8.5262        6.2339   1.3677 0.1714        -3.6921       20.7446\n",
      "Mean_avg_opp_LEG_pct                             -0.2228        0.6958  -0.3201 0.7489        -1.5866        1.1411\n",
      "Diff_avg_opp_LEG_pct                             -0.0907        0.6985  -0.1299 0.8966        -1.4597        1.2782\n",
      "Mean_avg_opp_SIG_STR_pct                         -0.0177        0.6009  -0.0295 0.9765        -1.1955        1.1601\n",
      "Diff_avg_opp_SIG_STR_pct                          0.2722        0.5951   0.4574 0.6474        -0.8942        1.4386\n",
      "Mean_avg_opp_TD_pct                              -0.8144        1.0248  -0.7947 0.4268        -2.8229        1.1941\n",
      "Diff_avg_opp_TD_pct                              -0.1875        1.0254  -0.1829 0.8549        -2.1972        1.8221\n",
      "Mean_avg_opp_TOTAL_STR_pct                       -3.5337        1.1666  -3.0290 0.0025        -5.8202       -1.2472\n",
      "Diff_avg_opp_TOTAL_STR_pct                       -1.8479        1.1766  -1.5705 0.1163        -4.1540        0.4582\n",
      "===================================================================================================================\n",
      "\n"
     ]
    },
    {
     "name": "stderr",
     "output_type": "stream",
     "text": [
      "c:\\users\\bryce\\documents\\python37\\lib\\site-packages\\statsmodels\\base\\model.py:1286: RuntimeWarning: invalid value encountered in sqrt\n",
      "  bse_ = np.sqrt(np.diag(self.cov_params()))\n",
      "c:\\users\\bryce\\documents\\python37\\lib\\site-packages\\scipy\\stats\\_distn_infrastructure.py:901: RuntimeWarning: invalid value encountered in greater\n",
      "  return (a < x) & (x < b)\n",
      "c:\\users\\bryce\\documents\\python37\\lib\\site-packages\\scipy\\stats\\_distn_infrastructure.py:901: RuntimeWarning: invalid value encountered in less\n",
      "  return (a < x) & (x < b)\n",
      "c:\\users\\bryce\\documents\\python37\\lib\\site-packages\\scipy\\stats\\_distn_infrastructure.py:1892: RuntimeWarning: invalid value encountered in less_equal\n",
      "  cond2 = cond0 & (x <= _a)\n"
     ]
    }
   ],
   "source": [
    "# Naive throw everything in\n",
    "import statsmodels.api as sm\n",
    "logit_model = sm.Logit( y, X )\n",
    "result = logit_model.fit()\n",
    "print(result.summary2())"
   ]
  },
  {
   "cell_type": "code",
   "execution_count": 5,
   "metadata": {},
   "outputs": [
    {
     "name": "stdout",
     "output_type": "stream",
     "text": [
      "Dropping: \n",
      "['title_bout', 'weight_class', 'no_of_rounds', 'date_dayofmonth', 'date_frisat', 'womens', 'weight_class_catch_weight', 'weight_class_open_weight', 'location_Anaheim, California, USA', 'location_Atlanta, Georgia, USA', 'location_Atlantic City, New Jersey, USA', 'location_Boston, Massachusetts, USA', 'location_Chicago, Illinois, USA', 'location_Dallas, Texas, USA', 'location_Denver, Colorado, USA', 'location_Fairfax, Virginia, USA', 'location_Houston, Texas, USA', 'location_Las Vegas, Nevada, USA', 'location_London, England, United Kingdom', 'location_Los Angeles, California, USA', 'location_Manchester, England, United Kingdom', 'location_Mexico City, Distrito Federal, Mexico', 'location_Montreal, Quebec, Canada', 'location_Nashville, Tennessee, USA', 'location_Newark, New Jersey, USA', 'location_Orlando, Florida, USA', 'location_Other', 'location_Phoenix, Arizona, USA', 'location_Rio de Janeiro, Brazil', 'location_Rio de Janeiro, Rio de Janeiro, Brazil', 'location_Sacramento, California, USA', 'location_Saitama, Japan', 'location_San Jose, California, USA', 'location_Sao Paulo, Sao Paulo, Brazil', 'location_Stockholm, Sweden', 'location_Sydney, New South Wales, Australia', 'location_Toronto, Ontario, Canada', 'location_Vancouver, British Columbia, Canada', 'Diff_Height_cms', 'Mean_avg_KD', 'Diff_avg_KD', 'Mean_avg_PASS', 'Diff_avg_PASS', 'Mean_avg_REV', 'Diff_avg_REV', 'Mean_avg_SUB_ATT', 'Diff_avg_SUB_ATT', 'Mean_avg_opp_SUB_ATT', 'Diff_avg_opp_SUB_ATT', 'Mean_odds', 'Mean_avg_BODY_pct', 'Diff_avg_BODY_pct', 'Mean_avg_CLINCH_pct', 'Diff_avg_CLINCH_pct', 'Mean_avg_DISTANCE_pct', 'Diff_avg_DISTANCE_pct', 'Mean_avg_GROUND_pct', 'Mean_avg_HEAD_pct', 'Diff_avg_HEAD_pct', 'Mean_avg_LEG_pct', 'Diff_avg_LEG_pct', 'Diff_avg_SIG_STR_pct', 'Mean_avg_TD_pct', 'Diff_avg_TD_pct', 'Mean_avg_TOTAL_STR_pct', 'Diff_avg_TOTAL_STR_pct', 'Mean_current_lose_streak', 'Diff_current_lose_streak', 'Mean_current_win_streak', 'Mean_longest_win_streak', 'Diff_longest_win_streak', 'Mean_total_time_fought(seconds)', 'Diff_total_time_fought(seconds)', 'Diff_total_title_bouts', 'Mean_win_by_Decision_Majority', 'Diff_win_by_Decision_Majority', 'Diff_win_by_Decision_Split', 'Diff_win_by_Decision_Unanimous', 'Mean_win_by_KO/TKO', 'Diff_win_by_KO/TKO', 'Mean_win_by_Submission', 'Diff_win_by_Submission', 'Mean_win_by_TKO_Doctor_Stoppage', 'Diff_win_by_TKO_Doctor_Stoppage', 'Diff_wins', 'Mean_avg_opp_KD', 'Mean_avg_opp_PASS', 'Diff_avg_opp_PASS', 'Mean_avg_opp_REV', 'Diff_avg_opp_REV', 'Mean_avg_opp_CLINCH_pct', 'Diff_avg_opp_CLINCH_pct', 'Mean_avg_opp_DISTANCE_pct', 'Diff_avg_opp_DISTANCE_pct', 'Mean_avg_opp_GROUND_pct', 'Mean_avg_opp_HEAD_pct', 'Diff_avg_opp_HEAD_pct', 'Mean_avg_opp_LEG_pct', 'Diff_avg_opp_LEG_pct', 'Mean_avg_opp_SIG_STR_pct', 'Diff_avg_opp_SIG_STR_pct', 'Mean_avg_opp_TD_pct', 'Diff_avg_opp_TD_pct', 'Diff_avg_opp_TOTAL_STR_pct']\n"
     ]
    }
   ],
   "source": [
    "# drop variables below .1 p values.\n",
    "todrop = list( result.pvalues[ result.pvalues > .1 ].index )\n",
    "print( 'Dropping: ')\n",
    "print(todrop)\n",
    "X.drop( todrop, axis = 1, inplace = True )"
   ]
  },
  {
   "cell_type": "code",
   "execution_count": 6,
   "metadata": {},
   "outputs": [
    {
     "name": "stdout",
     "output_type": "stream",
     "text": [
      "Mean wins: 0.6607186506966511 \n",
      "Mean predict: 0.514447194390174\n",
      "\n",
      "Accuracy predicting all wins:\n",
      "\n",
      "              precision    recall  f1-score   support\n",
      "\n",
      "           0       0.00      0.00      0.00      1388\n",
      "           1       0.66      1.00      0.80      2703\n",
      "\n",
      "    accuracy                           0.66      4091\n",
      "   macro avg       0.33      0.50      0.40      4091\n",
      "weighted avg       0.44      0.66      0.53      4091\n",
      "\n",
      "Accuracy with varying cutoffs:\n",
      "\n"
     ]
    },
    {
     "name": "stderr",
     "output_type": "stream",
     "text": [
      "c:\\users\\bryce\\documents\\python37\\lib\\site-packages\\sklearn\\metrics\\classification.py:1437: UndefinedMetricWarning: Precision and F-score are ill-defined and being set to 0.0 in labels with no predicted samples.\n",
      "  'precision', 'predicted', average, warn_for)\n",
      "c:\\users\\bryce\\documents\\python37\\lib\\site-packages\\sklearn\\metrics\\classification.py:1437: UndefinedMetricWarning: F-score is ill-defined and being set to 0.0 due to no predicted samples.\n",
      "  'precision', 'predicted', average, warn_for)\n"
     ]
    },
    {
     "name": "stdout",
     "output_type": "stream",
     "text": [
      "0.0: \t f1-score: 0.4   \t precision 0.66   \t recall: 1.0\n",
      "0.1: \t f1-score: 0.42   \t precision 0.66   \t recall: 1.0\n",
      "0.2: \t f1-score: 0.51   \t precision 0.69   \t recall: 0.98\n",
      "0.3: \t f1-score: 0.62   \t precision 0.72   \t recall: 0.91\n",
      "0.4: \t f1-score: 0.68   \t precision 0.78   \t recall: 0.8\n",
      "0.5: \t f1-score: 0.66   \t precision 0.83   \t recall: 0.63\n",
      "0.6: \t f1-score: 0.6   \t precision 0.88   \t recall: 0.46\n",
      "0.7: \t f1-score: 0.52   \t precision 0.92   \t recall: 0.31\n",
      "0.8: \t f1-score: 0.41   \t precision 0.96   \t recall: 0.16\n",
      "0.9: \t f1-score: 0.29   \t precision 0.97   \t recall: 0.04"
     ]
    },
    {
     "name": "stderr",
     "output_type": "stream",
     "text": [
      "c:\\users\\bryce\\documents\\python37\\lib\\site-packages\\sklearn\\metrics\\classification.py:1437: UndefinedMetricWarning: Precision is ill-defined and being set to 0.0 due to no predicted samples.\n",
      "  'precision', 'predicted', average, warn_for)\n"
     ]
    },
    {
     "name": "stdout",
     "output_type": "stream",
     "text": [
      "\n",
      "1.0: \t f1-score: 0.25   \t precision 0.0   \t recall: 0.0\n"
     ]
    }
   ],
   "source": [
    "# make predictions and check recall, precision, f1 score.\n",
    "\n",
    "from sklearn.metrics import confusion_matrix, classification_report, f1_score, precision_score, recall_score\n",
    "\n",
    "pred = result.predict()\n",
    "print( \n",
    "    'Mean wins: %s \\nMean predict: %s\\n' % ( \n",
    "    y.mean(),\n",
    "    pred.mean()\n",
    "))\n",
    "\n",
    "# what is our base level if we predict the majority?\n",
    "print( 'Accuracy predicting all wins:\\n')\n",
    "print( classification_report( \n",
    "    y, \n",
    "    [ 1 for x in pred ]\n",
    "))\n",
    "\n",
    "# what is the outcome of different cutoffs?\n",
    "print( 'Accuracy with varying cutoffs:\\n' )\n",
    "for i in range(11): \n",
    "    \n",
    "    icutoff = i/10\n",
    "    \n",
    "    predwin = [ 1 if x > i/10 else 0 for x in pred ]\n",
    "    predloss = [ 0 if x > i/10 else 1 for x in pred ]\n",
    "    \n",
    "    fscorewin = f1_score( y, predwin )\n",
    "    fscoreloss = f1_score( ( y == 0 ) * 1, predloss )    \n",
    "    prec = precision_score( y, predwin )\n",
    "    recall = recall_score( y, predwin )\n",
    "    \n",
    "    print(\n",
    "        '%s: \\t f1-score: %s   \\t precision %s   \\t recall: %s' % ( \n",
    "            i/10, \n",
    "            round( (fscorewin + fscoreloss) / 2, 2 ),\n",
    "            round( prec, 2 ),\n",
    "            round( recall, 2 )\n",
    "    ))"
   ]
  },
  {
   "cell_type": "markdown",
   "metadata": {},
   "source": [
    "Seems like a cutoff of around .5 gives us way above average wins \n",
    "while participating in a large number of fights.\n",
    "We are capturing 71% of the wins (recall) and winning 75% of the time (precision).\n",
    "Strangely though, we could win 63% of the time and capture 100% of the wins by\n",
    "always betting to win.\n",
    "I guess we need to think about betting and what make the most sense."
   ]
  },
  {
   "cell_type": "code",
   "execution_count": 7,
   "metadata": {},
   "outputs": [
    {
     "name": "stdout",
     "output_type": "stream",
     "text": [
      "Optimization terminated successfully.\n",
      "         Current function value: 0.611570\n",
      "         Iterations 6\n"
     ]
    }
   ],
   "source": [
    "# train-test split.\n",
    "from sklearn.model_selection import train_test_split\n",
    "X_train , X_test, y_train, y_test = train_test_split(\n",
    "    X, y, \n",
    "    random_state = 549,\n",
    "    test_size = 0.25\n",
    ")\n",
    "\n",
    "# fit on train and get in-model accuracy.\n",
    "m = sm.Logit( y_train, X_train ).fit()"
   ]
  },
  {
   "cell_type": "code",
   "execution_count": 8,
   "metadata": {},
   "outputs": [
    {
     "name": "stdout",
     "output_type": "stream",
     "text": [
      "              precision    recall  f1-score   support\n",
      "\n",
      "           0       0.49      0.76      0.60      1047\n",
      "           1       0.83      0.59      0.69      2021\n",
      "\n",
      "    accuracy                           0.65      3068\n",
      "   macro avg       0.66      0.68      0.64      3068\n",
      "weighted avg       0.71      0.65      0.66      3068\n",
      "\n"
     ]
    }
   ],
   "source": [
    "print( \n",
    "    classification_report( \n",
    "        y_train, [ 1 if x > 0.5 else 0 for x in m.predict(X_train) ] \n",
    "))\n",
    "# prior precision/fscore (before adding odds): .81 / .75"
   ]
  },
  {
   "cell_type": "code",
   "execution_count": 9,
   "metadata": {},
   "outputs": [
    {
     "name": "stdout",
     "output_type": "stream",
     "text": [
      "              precision    recall  f1-score   support\n",
      "\n",
      "           0       0.46      0.72      0.56       341\n",
      "           1       0.80      0.57      0.67       682\n",
      "\n",
      "    accuracy                           0.62      1023\n",
      "   macro avg       0.63      0.65      0.61      1023\n",
      "weighted avg       0.69      0.62      0.63      1023\n",
      "\n"
     ]
    }
   ],
   "source": [
    "print( \n",
    "    classification_report( \n",
    "        y_test, [ 1 if x > 0.5 else 0 for x in m.predict(X_test) ] \n",
    "))\n",
    "# prior precision/fscore (before adding odds): .77 / .69"
   ]
  },
  {
   "cell_type": "code",
   "execution_count": 10,
   "metadata": {
    "scrolled": true
   },
   "outputs": [
    {
     "name": "stdout",
     "output_type": "stream",
     "text": [
      "Mean precision: 0.7161669514963154 \n",
      "Mean recall 0.8552466858001914\n"
     ]
    }
   ],
   "source": [
    "from sklearn.linear_model import LogisticRegression\n",
    "model = LogisticRegression()\n",
    "\n",
    "from sklearn.model_selection import cross_validate\n",
    "kfold = cross_validate( \n",
    "    model, X, y, \n",
    "    cv = 10, \n",
    "    scoring = [ 'precision', 'recall' ], \n",
    "    n_jobs = -1 \n",
    ")\n",
    "print( \n",
    "  'Mean precision: %s \\nMean recall %s' % \n",
    "  ( kfold['test_precision'].mean(), kfold['test_recall'].mean() ) \n",
    ")\n",
    "\n",
    "# prior precision/recall (before adding odds): .69, .81"
   ]
  },
  {
   "cell_type": "markdown",
   "metadata": {},
   "source": [
    "Test accuracy is similar to in-model, so there doesn't seem to be overfitting. But then when we run k-fold we get much lower precision and higher recall, so there is over-fitting."
   ]
  }
 ],
 "metadata": {
  "kernelspec": {
   "display_name": "Python 3",
   "language": "python",
   "name": "python3"
  },
  "language_info": {
   "codemirror_mode": {
    "name": "ipython",
    "version": 3
   },
   "file_extension": ".py",
   "mimetype": "text/x-python",
   "name": "python",
   "nbconvert_exporter": "python",
   "pygments_lexer": "ipython3",
   "version": "3.7.4"
  }
 },
 "nbformat": 4,
 "nbformat_minor": 2
}
