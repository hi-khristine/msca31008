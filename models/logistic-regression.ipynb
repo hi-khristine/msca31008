{
 "cells": [
  {
   "cell_type": "code",
   "execution_count": 1,
   "metadata": {},
   "outputs": [
    {
     "data": {
      "text/plain": [
       "(4368, 165)"
      ]
     },
     "execution_count": 1,
     "metadata": {},
     "output_type": "execute_result"
    }
   ],
   "source": [
    "import pandas as pd\n",
    "import numpy as np\n",
    "\n",
    "# read functions.\n",
    "import os\n",
    "for f in os.listdir('../fun/'): exec(open('../fun/'+f).read())\n",
    "del f\n",
    "\n",
    "# Load data\n",
    "load( '../out/d3-fight-level-transform.pkl' )\n",
    "\n",
    "X = pd.DataFrame(X)\n",
    "X.columns = cols\n",
    "X.shape"
   ]
  },
  {
   "cell_type": "code",
   "execution_count": 2,
   "metadata": {},
   "outputs": [
    {
     "name": "stdout",
     "output_type": "stream",
     "text": [
      "Correlated Pairs:\n",
      "[['Mean_Height_cms', 'weight_class'], ['Mean_Reach_cms', 'weight_class'], ['Mean_Reach_cms', 'Mean_Height_cms'], ['Mean_total_rounds_fought', 'Mean_losses'], ['Diff_total_rounds_fought', 'Diff_losses'], ['Mean_win_by_Decision_Unanimous', 'Mean_total_rounds_fought'], ['Mean_wins', 'Mean_longest_win_streak'], ['Mean_wins', 'Mean_total_rounds_fought'], ['Mean_wins', 'Mean_win_by_Decision_Unanimous'], ['Diff_wins', 'Diff_total_rounds_fought']]\n",
      "\n",
      "Dropping:\n",
      "['Mean_Height_cms', 'Mean_Reach_cms', 'Mean_Reach_cms', 'Mean_losses', 'Diff_losses', 'Mean_total_rounds_fought', 'Mean_wins', 'Mean_total_rounds_fought', 'Mean_win_by_Decision_Unanimous', 'Diff_total_rounds_fought']\n"
     ]
    }
   ],
   "source": [
    "# find highly correlated pairs.\n",
    "# for each, return the lowest-correlated one to drop later.\n",
    "hicor = []\n",
    "todrop = []\n",
    "c = X.corr()\n",
    "for row in range(c.shape[0]):\n",
    "    for col in range(c.shape[1]):\n",
    "        if col >= row: continue\n",
    "        if c.iloc[row,col] > .8: \n",
    "            hicor.append( [ cols[row], cols[col] ] )\n",
    "            rowcor = np.corrcoef(X.iloc[:,row],y)[0][1]\n",
    "            colcor = np.corrcoef(X.iloc[:,col],y)[0][1]\n",
    "            if rowcor < colcor:\n",
    "                todrop.append( cols[row] )\n",
    "            else:\n",
    "                todrop.append( cols[col])\n",
    "            \n",
    "print('Correlated Pairs:')\n",
    "print(hicor)\n",
    "print('')\n",
    "print('Dropping:')\n",
    "print(todrop)"
   ]
  },
  {
   "cell_type": "code",
   "execution_count": 3,
   "metadata": {},
   "outputs": [],
   "source": [
    "X.drop( todrop, axis = 1, inplace = True )"
   ]
  },
  {
   "cell_type": "code",
   "execution_count": 4,
   "metadata": {},
   "outputs": [
    {
     "name": "stdout",
     "output_type": "stream",
     "text": [
      "Optimization terminated successfully.\n",
      "         Current function value: 0.611539\n",
      "         Iterations 6\n",
      "                                          Results: Logit\n",
      "==================================================================================================\n",
      "Model:                          Logit                       Pseudo R-squared:            0.035    \n",
      "Dependent Variable:             Winner                      AIC:                         5650.4033\n",
      "Date:                           2019-11-24 20:47            BIC:                         6633.2406\n",
      "No. Observations:               4368                        Log-Likelihood:              -2671.2  \n",
      "Df Model:                       153                         LL-Null:                     -2769.1  \n",
      "Df Residuals:                   4214                        LLR p-value:                 0.011180 \n",
      "Converged:                      1.0000                      Scale:                       1.0000   \n",
      "No. Iterations:                 6.0000                                                            \n",
      "--------------------------------------------------------------------------------------------------\n",
      "                                                 Coef.   Std.Err.    z     P>|z|   [0.025   0.975]\n",
      "--------------------------------------------------------------------------------------------------\n",
      "title_bout                                       -0.0560   0.5025  -0.1115 0.9112  -1.0410  0.9289\n",
      "weight_class                                     -0.4584   0.4756  -0.9638 0.3352  -1.3906  0.4738\n",
      "no_of_rounds                                      0.1389   0.5297   0.2622 0.7932  -0.8993  1.1771\n",
      "date_year                                        -6.4989   0.5745 -11.3129 0.0000  -7.6248 -5.3730\n",
      "date_month                                       -1.0433   0.3804  -2.7429 0.0061  -1.7889 -0.2978\n",
      "date_dayofmonth                                  -0.2500   0.3672  -0.6809 0.4959  -0.9697  0.4697\n",
      "date_dayofweek                                   -0.9725   0.4197  -2.3170 0.0205  -1.7951 -0.1499\n",
      "date_frisat                                       0.6156   0.4036   1.5252 0.1272  -0.1755  1.4066\n",
      "womens                                            0.5226   0.3698   1.4130 0.1577  -0.2023  1.2474\n",
      "weight_class_catch_weight                        -0.0629   0.5082  -0.1238 0.9015  -1.0590  0.9331\n",
      "weight_class_open_weight                         -0.0532   0.5828  -0.0913 0.9272  -1.1955  1.0890\n",
      "Referee_Chris Tognoni                            -0.4581      nan      nan    nan      nan     nan\n",
      "Referee_Dan Miragliotta                           0.4045      nan      nan    nan      nan     nan\n",
      "Referee_Gary Copeland                            -0.7322      nan      nan    nan      nan     nan\n",
      "Referee_Grant Waterman                           -0.4160      nan      nan    nan      nan     nan\n",
      "Referee_Greg Kleynjans                           -0.8917      nan      nan    nan      nan     nan\n",
      "Referee_Herb Dean                                -0.0595      nan      nan    nan      nan     nan\n",
      "Referee_Jacob Montalvo                           -0.1863      nan      nan    nan      nan     nan\n",
      "Referee_Jason Herzog                             -0.1606      nan      nan    nan      nan     nan\n",
      "Referee_Jerin Valel                              -0.2894      nan      nan    nan      nan     nan\n",
      "Referee_John McCarthy                            -0.1848      nan      nan    nan      nan     nan\n",
      "Referee_John Sharp                               -0.6681      nan      nan    nan      nan     nan\n",
      "Referee_Josh Rosenthal                           -0.4285      nan      nan    nan      nan     nan\n",
      "Referee_Keith Peterson                            0.7103      nan      nan    nan      nan     nan\n",
      "Referee_Kerry Hatley                              0.1874      nan      nan    nan      nan     nan\n",
      "Referee_Kevin MacDonald                          -0.2657      nan      nan    nan      nan     nan\n",
      "Referee_Kevin Mulhall                             0.9565      nan      nan    nan      nan     nan\n",
      "Referee_Kim Winslow                              -1.2603      nan      nan    nan      nan     nan\n",
      "Referee_Larry Landless                            0.5043      nan      nan    nan      nan     nan\n",
      "Referee_Leon Roberts                             -0.1728      nan      nan    nan      nan     nan\n",
      "Referee_Marc Goddard                             -0.2086      nan      nan    nan      nan     nan\n",
      "Referee_Mario Yamasaki                            0.2745      nan      nan    nan      nan     nan\n",
      "Referee_Mark Smith                               -0.1219      nan      nan    nan      nan     nan\n",
      "Referee_Mike Beltran                             -1.1372      nan      nan    nan      nan     nan\n",
      "Referee_Neil Hall                                -0.0731      nan      nan    nan      nan     nan\n",
      "Referee_Osiris Maia                               0.7475      nan      nan    nan      nan     nan\n",
      "Referee_Other                                     0.3044      nan      nan    nan      nan     nan\n",
      "Referee_Steve Mazzagatti                          0.4560      nan      nan    nan      nan     nan\n",
      "Referee_Steve Perceval                           -0.7622      nan      nan    nan      nan     nan\n",
      "Referee_Todd Ronald Anderson                     -0.5335      nan      nan    nan      nan     nan\n",
      "Referee_Yves Lavigne                              0.4841      nan      nan    nan      nan     nan\n",
      "location_Anaheim, California, USA                 0.1695      nan      nan    nan      nan     nan\n",
      "location_Atlanta, Georgia, USA                   -0.9006      nan      nan    nan      nan     nan\n",
      "location_Atlantic City, New Jersey, USA           0.3802      nan      nan    nan      nan     nan\n",
      "location_Boston, Massachusetts, USA              -0.1548      nan      nan    nan      nan     nan\n",
      "location_Chicago, Illinois, USA                  -0.1229      nan      nan    nan      nan     nan\n",
      "location_Dallas, Texas, USA                      -0.2872      nan      nan    nan      nan     nan\n",
      "location_Denver, Colorado, USA                   -0.0220      nan      nan    nan      nan     nan\n",
      "location_Houston, Texas, USA                     -0.6552      nan      nan    nan      nan     nan\n",
      "location_Las Vegas, Nevada, USA                   0.3098      nan      nan    nan      nan     nan\n",
      "location_London, England, United Kingdom          0.4086      nan      nan    nan      nan     nan\n",
      "location_Los Angeles, California, USA             0.0193      nan      nan    nan      nan     nan\n",
      "location_Manchester, England, United Kingdom      0.4201      nan      nan    nan      nan     nan\n",
      "location_Mexico City, Distrito Federal, Mexico    0.0814      nan      nan    nan      nan     nan\n",
      "location_Milwaukee, Wisconsin, USA               -1.1850      nan      nan    nan      nan     nan\n",
      "location_Montreal, Quebec, Canada                -0.2686      nan      nan    nan      nan     nan\n",
      "location_Nashville, Tennessee, USA                0.8564      nan      nan    nan      nan     nan\n",
      "location_New Orleans, Louisiana, USA             -0.4116      nan      nan    nan      nan     nan\n",
      "location_New York City, New York, USA            -1.0639      nan      nan    nan      nan     nan\n",
      "location_Newark, New Jersey, USA                 -1.1295      nan      nan    nan      nan     nan\n",
      "location_Other                                    0.6800      nan      nan    nan      nan     nan\n",
      "location_Rio de Janeiro, Brazil                   0.3317      nan      nan    nan      nan     nan\n",
      "location_Rio de Janeiro, Rio de Janeiro, Brazil   0.2343      nan      nan    nan      nan     nan\n",
      "location_Sacramento, California, USA              0.4299      nan      nan    nan      nan     nan\n",
      "location_Saitama, Japan                          -0.5123      nan      nan    nan      nan     nan\n",
      "location_San Jose, California, USA               -0.5009      nan      nan    nan      nan     nan\n",
      "location_Sao Paulo, Sao Paulo, Brazil             0.2349      nan      nan    nan      nan     nan\n",
      "location_Stockholm, Sweden                       -0.3371      nan      nan    nan      nan     nan\n",
      "location_Sydney, New South Wales, Australia      -0.2357      nan      nan    nan      nan     nan\n",
      "location_Toronto, Ontario, Canada                -1.1487      nan      nan    nan      nan     nan\n",
      "location_Vancouver, British Columbia, Canada     -0.4871      nan      nan    nan      nan     nan\n",
      "Stance_Open Stance-Orthodox                      -0.2251      nan      nan    nan      nan     nan\n",
      "Stance_Open Stance-Southpaw                      -0.2575      nan      nan    nan      nan     nan\n",
      "Stance_Orthodox-Orthodox                         -0.0792      nan      nan    nan      nan     nan\n",
      "Stance_Orthodox-Sideways                         -1.6577      nan      nan    nan      nan     nan\n",
      "Stance_Orthodox-Southpaw                          0.2116      nan      nan    nan      nan     nan\n",
      "Stance_Orthodox-Switch                            0.1823      nan      nan    nan      nan     nan\n",
      "Stance_Sideways-Southpaw                         -1.6761      nan      nan    nan      nan     nan\n",
      "Stance_Southpaw-Southpaw                         -0.1714      nan      nan    nan      nan     nan\n",
      "Stance_Southpaw-Switch                           -0.2464      nan      nan    nan      nan     nan\n",
      "Stance_Switch-Switch                             -1.7051      nan      nan    nan      nan     nan\n",
      "Diff_Height_cms                                  -0.3706   0.4694  -0.7895 0.4298  -1.2907  0.5494\n",
      "Diff_Reach_cms                                    1.1569   0.4681   2.4713 0.0135   0.2394  2.0743\n",
      "Mean_avg_KD                                       0.0795   0.4179   0.1902 0.8491  -0.7397  0.8986\n",
      "Diff_avg_KD                                      -0.0379   0.3948  -0.0959 0.9236  -0.8117  0.7360\n",
      "Mean_avg_PASS                                     0.1430   0.4461   0.3206 0.7485  -0.7314  1.0175\n",
      "Diff_avg_PASS                                     0.8921   0.4198   2.1253 0.0336   0.0694  1.7148\n",
      "Mean_avg_REV                                     -0.5822   0.4227  -1.3773 0.1684  -1.4108  0.2463\n",
      "Diff_avg_REV                                     -0.2500   0.4018  -0.6222 0.5338  -1.0374  0.5375\n",
      "Mean_avg_SUB_ATT                                 -0.0944   0.4600  -0.2052 0.8374  -0.9960  0.8072\n",
      "Diff_avg_SUB_ATT                                  0.0876   0.4132   0.2121 0.8320  -0.7221  0.8974\n",
      "Mean_avg_opp_SUB_ATT                              0.0093   0.4103   0.0228 0.9818  -0.7948  0.8134\n",
      "Diff_avg_opp_SUB_ATT                             -0.1136   0.3837  -0.2962 0.7671  -0.8657  0.6384\n",
      "Mean_avg_BODY_pct                                 1.4839   0.6638   2.2356 0.0254   0.1830  2.7849\n",
      "Diff_avg_BODY_pct                                -0.4525   0.6645  -0.6810 0.4958  -1.7548  0.8498\n",
      "Mean_avg_CLINCH_pct                               2.1155   0.9700   2.1810 0.0292   0.2144  4.0167\n",
      "Diff_avg_CLINCH_pct                              -0.1216   0.9687  -0.1255 0.9001  -2.0202  1.7771\n",
      "Mean_avg_DISTANCE_pct                             1.9273   1.5851   1.2159 0.2240  -1.1795  5.0341\n",
      "Diff_avg_DISTANCE_pct                            -0.3051   1.5848  -0.1925 0.8474  -3.4113  2.8011\n",
      "Mean_avg_GROUND_pct                               1.6154   0.9413   1.7161 0.0861  -0.2295  3.4603\n",
      "Diff_avg_GROUND_pct                              -2.4279   0.9342  -2.5990 0.0093  -4.2588 -0.5970\n",
      "Mean_avg_HEAD_pct                                 0.9311   0.7499   1.2418 0.2143  -0.5385  2.4008\n",
      "Diff_avg_HEAD_pct                                -0.0529   0.7439  -0.0711 0.9433  -1.5109  1.4052\n",
      "Mean_avg_LEG_pct                                 -0.5794   0.6850  -0.8459 0.3976  -1.9219  0.7631\n",
      "Diff_avg_LEG_pct                                 -0.2564   0.6856  -0.3740 0.7084  -1.6001  1.0873\n",
      "Mean_avg_SIG_STR_pct                              0.5618   1.2556   0.4474 0.6546  -1.8992  3.0228\n",
      "Diff_avg_SIG_STR_pct                             -0.7542   1.2509  -0.6029 0.5465  -3.2060  1.6975\n",
      "Mean_avg_TD_pct                                   0.0265   0.5634   0.0471 0.9624  -1.0777  1.1308\n",
      "Diff_avg_TD_pct                                   0.2487   0.5638   0.4411 0.6591  -0.8563  1.3536\n",
      "Mean_avg_TOTAL_STR_pct                            3.8832   4.7616   0.8155 0.4148  -5.4493 13.2157\n",
      "Diff_avg_TOTAL_STR_pct                          -14.3359   4.7413  -3.0236 0.0025 -23.6287 -5.0432\n",
      "Mean_current_lose_streak                         -0.6941   0.4829  -1.4374 0.1506  -1.6405  0.2523\n",
      "Diff_current_lose_streak                         -0.0356   0.4170  -0.0854 0.9319  -0.8530  0.7817\n",
      "Mean_current_win_streak                          -0.3540   0.6222  -0.5690 0.5693  -1.5735  0.8654\n",
      "Diff_current_win_streak                           1.2222   0.4749   2.5737 0.0101   0.2915  2.1529\n",
      "Mean_longest_win_streak                           0.4382   0.9285   0.4720 0.6369  -1.3815  2.2580\n",
      "Diff_longest_win_streak                           1.2317   0.6605   1.8647 0.0622  -0.0629  2.5264\n",
      "Mean_total_time_fought(seconds)                  -0.4920   0.4331  -1.1360 0.2560  -1.3408  0.3569\n",
      "Diff_total_time_fought(seconds)                   0.4339   0.4183   1.0374 0.2996  -0.3859  1.2537\n",
      "Mean_total_title_bouts                            1.4083   0.5425   2.5959 0.0094   0.3450  2.4716\n",
      "Diff_total_title_bouts                           -0.4451   0.4592  -0.9693 0.3324  -1.3452  0.4549\n",
      "Mean_win_by_Decision_Majority                    -0.0911   0.4180  -0.2179 0.8275  -0.9104  0.7283\n",
      "Diff_win_by_Decision_Majority                     0.4441   0.7243   0.6131 0.5398  -0.9755  1.8636\n",
      "Mean_win_by_Decision_Split                       -0.8002   0.4442  -1.8012 0.0717  -1.6709  0.0705\n",
      "Diff_win_by_Decision_Split                        1.0594   2.2935   0.4619 0.6441  -3.4357  5.5546\n",
      "Diff_win_by_Decision_Unanimous                    6.8712   4.9820   1.3792 0.1678  -2.8934 16.6358\n",
      "Mean_win_by_KO/TKO                               -0.4808   0.6863  -0.7006 0.4836  -1.8259  0.8643\n",
      "Diff_win_by_KO/TKO                                7.0031   5.4669   1.2810 0.2002  -3.7119 17.7181\n",
      "Mean_win_by_Submission                           -0.3768   0.5337  -0.7061 0.4801  -1.4228  0.6691\n",
      "Diff_win_by_Submission                            5.6650   4.7640   1.1891 0.2344  -3.6722 15.0022\n",
      "Mean_win_by_TKO_Doctor_Stoppage                  -0.1798   0.4210  -0.4272 0.6693  -1.0050  0.6453\n",
      "Diff_win_by_TKO_Doctor_Stoppage                   0.8897   1.0477   0.8492 0.3958  -1.1638  2.9433\n",
      "Diff_wins                                       -13.6064  10.0315  -1.3564 0.1750 -33.2677  6.0550\n",
      "Mean_avg_opp_KD                                   0.0922   0.3749   0.2461 0.8056  -0.6425  0.8270\n",
      "Diff_avg_opp_KD                                  -1.1398   0.3639  -3.1324 0.0017  -1.8530 -0.4266\n",
      "Mean_avg_opp_PASS                                 0.1107   0.4215   0.2628 0.7927  -0.7153  0.9368\n",
      "Diff_avg_opp_PASS                                -0.9949   0.3936  -2.5279 0.0115  -1.7664 -0.2235\n",
      "Mean_avg_opp_REV                                  0.1844   0.4402   0.4188 0.6753  -0.6785  1.0472\n",
      "Diff_avg_opp_REV                                 -0.5053   0.4075  -1.2400 0.2150  -1.3040  0.2934\n",
      "Mean_avg_opp_BODY_pct                             1.0373   0.7667   1.3531 0.1760  -0.4653  2.5400\n",
      "Diff_avg_opp_BODY_pct                            -0.1946   0.7653  -0.2544 0.7992  -1.6945  1.3052\n",
      "Mean_avg_opp_CLINCH_pct                           0.1715   0.7319   0.2343 0.8148  -1.2630  1.6059\n",
      "Diff_avg_opp_CLINCH_pct                           0.9167   0.7310   1.2541 0.2098  -0.5160  2.3494\n",
      "Mean_avg_opp_DISTANCE_pct                         0.5534   0.6355   0.8708 0.3839  -0.6922  1.7990\n",
      "Diff_avg_opp_DISTANCE_pct                         0.5470   0.6392   0.8558 0.3921  -0.7058  1.7999\n",
      "Mean_avg_opp_GROUND_pct                          -1.0035   0.6604  -1.5196 0.1286  -2.2979  0.2908\n",
      "Diff_avg_opp_GROUND_pct                           1.0558   0.6594   1.6012 0.1093  -0.2366  2.3482\n",
      "Mean_avg_opp_HEAD_pct                            -0.8508   1.0961  -0.7762 0.4376  -2.9990  1.2975\n",
      "Diff_avg_opp_HEAD_pct                             0.0118   1.0995   0.0108 0.9914  -2.1431  2.1668\n",
      "Mean_avg_opp_LEG_pct                              0.8318   0.6207   1.3401 0.1802  -0.3847  2.0483\n",
      "Diff_avg_opp_LEG_pct                              0.0160   0.6199   0.0259 0.9794  -1.1990  1.2310\n",
      "Mean_avg_opp_SIG_STR_pct                          0.4407   1.1038   0.3993 0.6897  -1.7228  2.6042\n",
      "Diff_avg_opp_SIG_STR_pct                         -1.8685   1.0975  -1.7024 0.0887  -4.0196  0.2827\n",
      "Mean_avg_opp_TD_pct                              -0.6427   0.6043  -1.0635 0.2876  -1.8271  0.5418\n",
      "Diff_avg_opp_TD_pct                              -0.9837   0.6006  -1.6379 0.1014  -2.1609  0.1934\n",
      "Mean_avg_opp_TOTAL_STR_pct                       -0.9712   0.9002  -1.0788 0.2807  -2.7356  0.7932\n",
      "Diff_avg_opp_TOTAL_STR_pct                       -0.5326   0.9013  -0.5910 0.5545  -2.2991  1.2338\n",
      "==================================================================================================\n",
      "\n"
     ]
    },
    {
     "name": "stderr",
     "output_type": "stream",
     "text": [
      "c:\\users\\bryce\\documents\\python37\\lib\\site-packages\\statsmodels\\base\\model.py:1286: RuntimeWarning: invalid value encountered in sqrt\n",
      "  bse_ = np.sqrt(np.diag(self.cov_params()))\n",
      "c:\\users\\bryce\\documents\\python37\\lib\\site-packages\\scipy\\stats\\_distn_infrastructure.py:901: RuntimeWarning: invalid value encountered in greater\n",
      "  return (a < x) & (x < b)\n",
      "c:\\users\\bryce\\documents\\python37\\lib\\site-packages\\scipy\\stats\\_distn_infrastructure.py:901: RuntimeWarning: invalid value encountered in less\n",
      "  return (a < x) & (x < b)\n",
      "c:\\users\\bryce\\documents\\python37\\lib\\site-packages\\scipy\\stats\\_distn_infrastructure.py:1892: RuntimeWarning: invalid value encountered in less_equal\n",
      "  cond2 = cond0 & (x <= _a)\n"
     ]
    }
   ],
   "source": [
    "# Naive throw everything in\n",
    "import statsmodels.api as sm\n",
    "logit_model = sm.Logit( y, X )\n",
    "result = logit_model.fit()\n",
    "print(result.summary2())"
   ]
  },
  {
   "cell_type": "code",
   "execution_count": 5,
   "metadata": {},
   "outputs": [
    {
     "name": "stdout",
     "output_type": "stream",
     "text": [
      "Dropping: \n",
      "['title_bout', 'weight_class', 'no_of_rounds', 'date_dayofmonth', 'date_frisat', 'womens', 'weight_class_catch_weight', 'weight_class_open_weight', 'Diff_Height_cms', 'Mean_avg_KD', 'Diff_avg_KD', 'Mean_avg_PASS', 'Mean_avg_REV', 'Diff_avg_REV', 'Mean_avg_SUB_ATT', 'Diff_avg_SUB_ATT', 'Mean_avg_opp_SUB_ATT', 'Diff_avg_opp_SUB_ATT', 'Diff_avg_BODY_pct', 'Diff_avg_CLINCH_pct', 'Mean_avg_DISTANCE_pct', 'Diff_avg_DISTANCE_pct', 'Mean_avg_HEAD_pct', 'Diff_avg_HEAD_pct', 'Mean_avg_LEG_pct', 'Diff_avg_LEG_pct', 'Mean_avg_SIG_STR_pct', 'Diff_avg_SIG_STR_pct', 'Mean_avg_TD_pct', 'Diff_avg_TD_pct', 'Mean_avg_TOTAL_STR_pct', 'Mean_current_lose_streak', 'Diff_current_lose_streak', 'Mean_current_win_streak', 'Mean_longest_win_streak', 'Mean_total_time_fought(seconds)', 'Diff_total_time_fought(seconds)', 'Diff_total_title_bouts', 'Mean_win_by_Decision_Majority', 'Diff_win_by_Decision_Majority', 'Diff_win_by_Decision_Split', 'Diff_win_by_Decision_Unanimous', 'Mean_win_by_KO/TKO', 'Diff_win_by_KO/TKO', 'Mean_win_by_Submission', 'Diff_win_by_Submission', 'Mean_win_by_TKO_Doctor_Stoppage', 'Diff_win_by_TKO_Doctor_Stoppage', 'Diff_wins', 'Mean_avg_opp_KD', 'Mean_avg_opp_PASS', 'Mean_avg_opp_REV', 'Diff_avg_opp_REV', 'Mean_avg_opp_BODY_pct', 'Diff_avg_opp_BODY_pct', 'Mean_avg_opp_CLINCH_pct', 'Diff_avg_opp_CLINCH_pct', 'Mean_avg_opp_DISTANCE_pct', 'Diff_avg_opp_DISTANCE_pct', 'Mean_avg_opp_GROUND_pct', 'Diff_avg_opp_GROUND_pct', 'Mean_avg_opp_HEAD_pct', 'Diff_avg_opp_HEAD_pct', 'Mean_avg_opp_LEG_pct', 'Diff_avg_opp_LEG_pct', 'Mean_avg_opp_SIG_STR_pct', 'Mean_avg_opp_TD_pct', 'Diff_avg_opp_TD_pct', 'Mean_avg_opp_TOTAL_STR_pct', 'Diff_avg_opp_TOTAL_STR_pct']\n"
     ]
    }
   ],
   "source": [
    "# drop variables below .1 p values.\n",
    "todrop = list( result.pvalues[ result.pvalues > .1 ].index )\n",
    "print( 'Dropping: ')\n",
    "print(todrop)\n",
    "X.drop( todrop, axis = 1, inplace = True )"
   ]
  },
  {
   "cell_type": "code",
   "execution_count": 6,
   "metadata": {},
   "outputs": [
    {
     "name": "stdout",
     "output_type": "stream",
     "text": [
      "Mean wins: 0.6703296703296703 \n",
      "Mean predict: 0.5105140339913664\n",
      "\n",
      "Accuracy predicting all wins:\n",
      "\n",
      "              precision    recall  f1-score   support\n",
      "\n",
      "           0       0.00      0.00      0.00      1440\n",
      "           1       0.67      1.00      0.80      2928\n",
      "\n",
      "    accuracy                           0.67      4368\n",
      "   macro avg       0.34      0.50      0.40      4368\n",
      "weighted avg       0.45      0.67      0.54      4368\n",
      "\n",
      "Accuracy with varying cutoffs:\n",
      "\n",
      "0.0: \t f1-score: 0.4   \t precision 0.67   \t recall: 1.0\n",
      "0.1: \t f1-score: 0.4   \t precision 0.67   \t recall: 1.0\n",
      "0.2: \t f1-score: 0.47   \t precision 0.68   \t recall: 0.99\n",
      "0.3: \t f1-score: 0.59   \t precision 0.72   \t recall: 0.91\n",
      "0.4: \t f1-score: 0.65   \t precision 0.77   \t recall: 0.77\n",
      "0.5: \t f1-score: 0.64   \t precision 0.83   \t recall: 0.59\n",
      "0.6: \t f1-score: 0.58   \t precision 0.89   \t recall: 0.43\n",
      "0.7: \t f1-score: 0.5   \t precision 0.95   \t recall: 0.28\n",
      "0.8: \t f1-score: 0.39   \t precision 0.98   \t recall: 0.15\n",
      "0.9: \t f1-score: 0.27   \t precision 0.97   \t recall: 0.02\n"
     ]
    },
    {
     "name": "stderr",
     "output_type": "stream",
     "text": [
      "c:\\users\\bryce\\documents\\python37\\lib\\site-packages\\sklearn\\metrics\\classification.py:1437: UndefinedMetricWarning: Precision and F-score are ill-defined and being set to 0.0 in labels with no predicted samples.\n",
      "  'precision', 'predicted', average, warn_for)\n",
      "c:\\users\\bryce\\documents\\python37\\lib\\site-packages\\sklearn\\metrics\\classification.py:1437: UndefinedMetricWarning: F-score is ill-defined and being set to 0.0 due to no predicted samples.\n",
      "  'precision', 'predicted', average, warn_for)\n",
      "c:\\users\\bryce\\documents\\python37\\lib\\site-packages\\sklearn\\metrics\\classification.py:1437: UndefinedMetricWarning: Precision is ill-defined and being set to 0.0 due to no predicted samples.\n",
      "  'precision', 'predicted', average, warn_for)\n"
     ]
    },
    {
     "name": "stdout",
     "output_type": "stream",
     "text": [
      "1.0: \t f1-score: 0.25   \t precision 0.0   \t recall: 0.0\n"
     ]
    }
   ],
   "source": [
    "# make predictions and check recall, precision, f1 score.\n",
    "\n",
    "from sklearn.metrics import confusion_matrix, classification_report, f1_score, precision_score, recall_score\n",
    "\n",
    "pred = result.predict()\n",
    "print( \n",
    "    'Mean wins: %s \\nMean predict: %s\\n' % ( \n",
    "    y.mean(),\n",
    "    pred.mean()\n",
    "))\n",
    "\n",
    "# what is our base level if we predict the majority?\n",
    "print( 'Accuracy predicting all wins:\\n')\n",
    "print( classification_report( \n",
    "    y, \n",
    "    [ 1 for x in pred ]\n",
    "))\n",
    "\n",
    "# what is the outcome of different cutoffs?\n",
    "print( 'Accuracy with varying cutoffs:\\n' )\n",
    "for i in range(11): \n",
    "    \n",
    "    icutoff = i/10\n",
    "    \n",
    "    predwin = [ 1 if x > i/10 else 0 for x in pred ]\n",
    "    predloss = [ 0 if x > i/10 else 1 for x in pred ]\n",
    "    \n",
    "    fscorewin = f1_score( y, predwin )\n",
    "    fscoreloss = f1_score( ( y == 0 ) * 1, predloss )    \n",
    "    prec = precision_score( y, predwin )\n",
    "    recall = recall_score( y, predwin )\n",
    "    \n",
    "    print(\n",
    "        '%s: \\t f1-score: %s   \\t precision %s   \\t recall: %s' % ( \n",
    "            i/10, \n",
    "            round( (fscorewin + fscoreloss) / 2, 2 ),\n",
    "            round( prec, 2 ),\n",
    "            round( recall, 2 )\n",
    "    ))"
   ]
  },
  {
   "cell_type": "markdown",
   "metadata": {},
   "source": [
    "Seems like a cutoff of around .5 gives us way above average wins \n",
    "while participating in a large number of fights.\n",
    "We are capturing 71% of the wins (recall) and winning 75% of the time (precision).\n",
    "Strangely though, we could win 63% of the time and capture 100% of the wins by\n",
    "always betting to win.\n",
    "I guess we need to think about betting and what make the most sense."
   ]
  },
  {
   "cell_type": "code",
   "execution_count": 7,
   "metadata": {},
   "outputs": [
    {
     "name": "stdout",
     "output_type": "stream",
     "text": [
      "Optimization terminated successfully.\n",
      "         Current function value: 0.612652\n",
      "         Iterations 8\n"
     ]
    }
   ],
   "source": [
    "# train-test split.\n",
    "from sklearn.model_selection import train_test_split\n",
    "X_train , X_test, y_train, y_test = train_test_split(\n",
    "    X, y, \n",
    "    random_state = 549,\n",
    "    test_size = 0.25\n",
    ")\n",
    "\n",
    "# fit on train and get in-model accuracy.\n",
    "m = sm.Logit( y_train, X_train ).fit()"
   ]
  },
  {
   "cell_type": "code",
   "execution_count": 8,
   "metadata": {},
   "outputs": [
    {
     "name": "stdout",
     "output_type": "stream",
     "text": [
      "              precision    recall  f1-score   support\n",
      "\n",
      "           0       0.47      0.69      0.56      1068\n",
      "           1       0.81      0.63      0.71      2208\n",
      "\n",
      "    accuracy                           0.65      3276\n",
      "   macro avg       0.64      0.66      0.63      3276\n",
      "weighted avg       0.70      0.65      0.66      3276\n",
      "\n"
     ]
    }
   ],
   "source": [
    "print( \n",
    "    classification_report( \n",
    "        y_train, [ 1 if x > 0.5 else 0 for x in m.predict(X_train) ] \n",
    "))"
   ]
  },
  {
   "cell_type": "code",
   "execution_count": 9,
   "metadata": {},
   "outputs": [
    {
     "name": "stdout",
     "output_type": "stream",
     "text": [
      "              precision    recall  f1-score   support\n",
      "\n",
      "           0       0.47      0.65      0.54       372\n",
      "           1       0.77      0.62      0.69       720\n",
      "\n",
      "    accuracy                           0.63      1092\n",
      "   macro avg       0.62      0.63      0.61      1092\n",
      "weighted avg       0.67      0.63      0.64      1092\n",
      "\n"
     ]
    }
   ],
   "source": [
    "print( \n",
    "    classification_report( \n",
    "        y_test, [ 1 if x > 0.5 else 0 for x in m.predict(X_test) ] \n",
    "))"
   ]
  },
  {
   "cell_type": "code",
   "execution_count": 10,
   "metadata": {},
   "outputs": [
    {
     "name": "stdout",
     "output_type": "stream",
     "text": [
      "Mean precision: 0.689080056363391 \n",
      "Mean recall 0.8126279863481228\n"
     ]
    }
   ],
   "source": [
    "from sklearn.linear_model import LogisticRegression\n",
    "model = LogisticRegression()\n",
    "\n",
    "from sklearn.model_selection import cross_validate\n",
    "kfold = cross_validate( \n",
    "    model, X, y, \n",
    "    cv = 10, \n",
    "    scoring = [ 'precision', 'recall' ], \n",
    "    n_jobs = -1 \n",
    ")\n",
    "print( \n",
    "  'Mean precision: %s \\nMean recall %s' % \n",
    "  ( kfold['test_precision'].mean(), kfold['test_recall'].mean() ) \n",
    ")"
   ]
  },
  {
   "cell_type": "markdown",
   "metadata": {},
   "source": [
    "Test accuracy is similar to in-model, so there doesn't seem to be overfitting. But then when we run k-fold we get much lower precision and higher recall, so there is over-fitting."
   ]
  }
 ],
 "metadata": {
  "kernelspec": {
   "display_name": "Python 3",
   "language": "python",
   "name": "python3"
  },
  "language_info": {
   "codemirror_mode": {
    "name": "ipython",
    "version": 3
   },
   "file_extension": ".py",
   "mimetype": "text/x-python",
   "name": "python",
   "nbconvert_exporter": "python",
   "pygments_lexer": "ipython3",
   "version": "3.7.4"
  }
 },
 "nbformat": 4,
 "nbformat_minor": 2
}
