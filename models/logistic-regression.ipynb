{
 "cells": [
  {
   "cell_type": "markdown",
   "metadata": {},
   "source": [
    "## Plain logistic regression isn't looking promising"
   ]
  },
  {
   "cell_type": "code",
   "execution_count": 1,
   "metadata": {},
   "outputs": [
    {
     "data": {
      "text/plain": [
       "(4368, 165)"
      ]
     },
     "execution_count": 1,
     "metadata": {},
     "output_type": "execute_result"
    }
   ],
   "source": [
    "import pandas as pd\n",
    "import numpy as np\n",
    "import statsmodels.api as sm\n",
    "\n",
    "# read functions.\n",
    "import os\n",
    "for f in os.listdir('../fun/'): exec(open('../fun/'+f).read())\n",
    "del f\n",
    "\n",
    "# Load data\n",
    "load( '../out/d3-fight-level-transform.pkl' )\n",
    "\n",
    "X = pd.DataFrame(X)\n",
    "X.columns = cols\n",
    "X.shape"
   ]
  },
  {
   "cell_type": "markdown",
   "metadata": {},
   "source": [
    "If we just throw everything in, getting lots of bad p-values (and a pretty bad r-squared)."
   ]
  },
  {
   "cell_type": "code",
   "execution_count": 2,
   "metadata": {},
   "outputs": [
    {
     "name": "stdout",
     "output_type": "stream",
     "text": [
      "Optimization terminated successfully.\n",
      "         Current function value: 0.610005\n",
      "         Iterations 6\n",
      "                                                  Results: Logit\n",
      "===================================================================================================================\n",
      "Model:                               Logit                             Pseudo R-squared:                  0.038    \n",
      "Dependent Variable:                  Winner                            AIC:                               5653.0040\n",
      "Date:                                2019-11-23 17:50                  BIC:                               6686.8978\n",
      "No. Observations:                    4368                              Log-Likelihood:                    -2664.5  \n",
      "Df Model:                            161                               LL-Null:                           -2769.1  \n",
      "Df Residuals:                        4206                              LLR p-value:                       0.0063811\n",
      "Converged:                           1.0000                            Scale:                             1.0000   \n",
      "No. Iterations:                      6.0000                                                                        \n",
      "-------------------------------------------------------------------------------------------------------------------\n",
      "                                                 Coef.      Std.Err.      z     P>|z|      [0.025         0.975]   \n",
      "-------------------------------------------------------------------------------------------------------------------\n",
      "title_bout                                       -0.0949        0.5032  -0.1886 0.8504        -1.0812        0.8915\n",
      "weight_class                                     -0.5104        0.9613  -0.5309 0.5955        -2.3944        1.3737\n",
      "no_of_rounds                                      0.1201        0.5327   0.2255 0.8216        -0.9240        1.1642\n",
      "date_year                                        -6.4028        0.6012 -10.6496 0.0000        -7.5812       -5.2245\n",
      "date_month                                       -1.0494        0.3825  -2.7438 0.0061        -1.7990       -0.2998\n",
      "date_dayofmonth                                  -0.2237        0.3683  -0.6073 0.5436        -0.9454        0.4981\n",
      "date_dayofweek                                   -1.0159        0.4205  -2.4156 0.0157        -1.8402       -0.1916\n",
      "date_frisat                                       0.6485        0.4046   1.6027 0.1090        -0.1446        1.4415\n",
      "womens                                            0.4779        0.3789   1.2613 0.2072        -0.2647        1.2206\n",
      "weight_class_catch_weight                        -0.1082        0.5461  -0.1981 0.8430        -1.1785        0.9622\n",
      "weight_class_open_weight                         -0.0698        0.6496  -0.1075 0.9144        -1.3431        1.2034\n",
      "Referee_Chris Tognoni                            -0.4435  5936859.7624  -0.0000 1.0000 -11636031.7591 11636030.8721\n",
      "Referee_Dan Miragliotta                           0.3787 13136103.8149   0.0000 1.0000 -25746289.9957 25746290.7531\n",
      "Referee_Gary Copeland                            -0.7179  2594230.2900  -0.0000 1.0000  -5084598.6539  5084597.2182\n",
      "Referee_Grant Waterman                           -0.4168  2879570.1505  -0.0000 1.0000  -5643854.2027  5643853.3691\n",
      "Referee_Greg Kleynjans                           -0.8965  2437119.6610  -0.0000 1.0000  -4776667.6581  4776665.8652\n",
      "Referee_Herb Dean                                -0.0906 18795630.1814  -0.0000 1.0000 -36838758.3128 36838758.1317\n",
      "Referee_Jacob Montalvo                           -0.2115  2775468.6486  -0.0000 1.0000  -5439818.8029  5439818.3800\n",
      "Referee_Jason Herzog                             -0.1615  5709904.0076  -0.0000 1.0000 -11191206.3716 11191206.0487\n",
      "Referee_Jerin Valel                              -0.2552  4575596.9286  -0.0000 1.0000  -8968005.4430  8968004.9327\n",
      "Referee_John McCarthy                            -0.1678 15623516.0506  -0.0000 1.0000 -30621528.9388 30621528.6033\n",
      "Referee_John Sharp                               -0.7075  4611250.1117  -0.0000 1.0000  -9037884.8501  9037883.4352\n",
      "Referee_Josh Rosenthal                           -0.4317  7381631.4661  -0.0000 1.0000 -14467732.2525 14467731.3891\n",
      "Referee_Keith Peterson                            0.7324  7387122.9919   0.0000 1.0000 -14478494.2811 14478495.7459\n",
      "Referee_Kerry Hatley                              0.1812  3783858.8030   0.0000 1.0000  -7416226.7953  7416227.1578\n",
      "Referee_Kevin MacDonald                          -0.2381  4584760.0031  -0.0000 1.0000  -8985964.7219  8985964.2458\n",
      "Referee_Kevin Mulhall                             0.9750  4614830.6202   0.0000 1.0000  -9044900.8354  9044902.7854\n",
      "Referee_Kim Winslow                              -1.2571  3353410.8322  -0.0000 1.0000  -6572565.7136  6572563.1994\n",
      "Referee_Larry Landless                            0.4864  2840344.1182   0.0000 1.0000  -5566971.6890  5566972.6619\n",
      "Referee_Leon Roberts                             -0.1805  8878421.0956  -0.0000 1.0000 -17401385.7675 17401385.4065\n",
      "Referee_Marc Goddard                             -0.2245 11496952.4833  -0.0000 1.0000 -22533613.0238 22533612.5747\n",
      "Referee_Mario Yamasaki                            0.2974 13889856.2545   0.0000 1.0000 -27223617.7119 27223618.3066\n",
      "Referee_Mark Smith                               -0.1120  4855337.6061  -0.0000 1.0000  -9516286.9528  9516286.7288\n",
      "Referee_Mike Beltran                             -1.1777  2352027.3559  -0.0000 1.0000  -4609890.0860  4609887.7305\n",
      "Referee_Neil Hall                                -0.0751  3351307.7172  -0.0000 1.0000  -6568442.5020  6568442.3517\n",
      "Referee_Osiris Maia                               0.7600  3067086.3818   0.0000 1.0000  -6011378.0858  6011379.6057\n",
      "Referee_Other                                     0.3211 19769025.0195   0.0000 1.0000 -38746576.7265 38746577.3686\n",
      "Referee_Steve Mazzagatti                          0.4650  9734730.8670   0.0000 1.0000 -19079721.4336 19079722.3636\n",
      "Referee_Steve Perceval                           -0.7641  5043246.1321  -0.0000 1.0000  -9884581.5483  9884580.0200\n",
      "Referee_Todd Ronald Anderson                     -0.5268  2915378.3548  -0.0000 1.0000  -5714037.1036  5714036.0501\n",
      "Referee_Yves Lavigne                              0.4739 11584294.2461   0.0000 1.0000 -22704799.0348 22704799.9825\n",
      "location_Anaheim, California, USA                 0.1909           nan      nan    nan            nan           nan\n",
      "location_Atlanta, Georgia, USA                   -0.8822           nan      nan    nan            nan           nan\n",
      "location_Atlantic City, New Jersey, USA           0.3869           nan      nan    nan            nan           nan\n",
      "location_Boston, Massachusetts, USA              -0.1754           nan      nan    nan            nan           nan\n",
      "location_Chicago, Illinois, USA                  -0.1274           nan      nan    nan            nan           nan\n",
      "location_Dallas, Texas, USA                      -0.2803           nan      nan    nan            nan           nan\n",
      "location_Denver, Colorado, USA                   -0.0348           nan      nan    nan            nan           nan\n",
      "location_Houston, Texas, USA                     -0.6428           nan      nan    nan            nan           nan\n",
      "location_Las Vegas, Nevada, USA                   0.2812           nan      nan    nan            nan           nan\n",
      "location_London, England, United Kingdom          0.3947           nan      nan    nan            nan           nan\n",
      "location_Los Angeles, California, USA             0.0425           nan      nan    nan            nan           nan\n",
      "location_Manchester, England, United Kingdom      0.4311           nan      nan    nan            nan           nan\n",
      "location_Mexico City, Distrito Federal, Mexico    0.0741           nan      nan    nan            nan           nan\n",
      "location_Milwaukee, Wisconsin, USA               -1.1814           nan      nan    nan            nan           nan\n",
      "location_Montreal, Quebec, Canada                -0.2620           nan      nan    nan            nan           nan\n",
      "location_Nashville, Tennessee, USA                0.8557           nan      nan    nan            nan           nan\n",
      "location_New Orleans, Louisiana, USA             -0.4505           nan      nan    nan            nan           nan\n",
      "location_New York City, New York, USA            -1.0729           nan      nan    nan            nan           nan\n",
      "location_Newark, New Jersey, USA                 -1.1598           nan      nan    nan            nan           nan\n",
      "location_Other                                    0.6992           nan      nan    nan            nan           nan\n",
      "location_Rio de Janeiro, Brazil                   0.3747           nan      nan    nan            nan           nan\n",
      "location_Rio de Janeiro, Rio de Janeiro, Brazil   0.2492           nan      nan    nan            nan           nan\n",
      "location_Sacramento, California, USA              0.4464           nan      nan    nan            nan           nan\n",
      "location_Saitama, Japan                          -0.5285           nan      nan    nan            nan           nan\n",
      "location_San Jose, California, USA               -0.4652           nan      nan    nan            nan           nan\n",
      "location_Sao Paulo, Sao Paulo, Brazil             0.2314           nan      nan    nan            nan           nan\n",
      "location_Stockholm, Sweden                       -0.3449           nan      nan    nan            nan           nan\n",
      "location_Sydney, New South Wales, Australia      -0.2109           nan      nan    nan            nan           nan\n",
      "location_Toronto, Ontario, Canada                -1.1792           nan      nan    nan            nan           nan\n",
      "location_Vancouver, British Columbia, Canada     -0.4972           nan      nan    nan            nan           nan\n",
      "Stance_Open Stance-Orthodox                      -0.2419  1838265.6108  -0.0000 1.0000  -3602934.6330  3602934.1493\n",
      "Stance_Open Stance-Southpaw                      -0.2608   974166.1360  -0.0000 1.0000  -1909330.8024  1909330.2807\n",
      "Stance_Orthodox-Orthodox                         -0.0879 30483140.2070  -0.0000 1.0000 -59745857.0294 59745856.8535\n",
      "Stance_Orthodox-Sideways                         -1.6970   171626.4637  -0.0000 1.0000   -336383.3846   336379.9906\n",
      "Stance_Orthodox-Southpaw                          0.2237 28689727.9640   0.0000 1.0000 -56230833.3121 56230833.7594\n",
      "Stance_Orthodox-Switch                            0.1841 11454736.6573   0.0000 1.0000 -22450871.1165 22450871.4847\n",
      "Stance_Sideways-Southpaw                         -1.7138   171306.5480  -0.0000 1.0000   -335756.3782   335752.9506\n",
      "Stance_Southpaw-Southpaw                         -0.1739 12574231.3319  -0.0000 1.0000 -24645040.7177 24645040.3698\n",
      "Stance_Southpaw-Switch                           -0.2492  5998562.6118  -0.0000 1.0000 -11756966.9275 11756966.4290\n",
      "Stance_Switch-Switch                             -1.7166   512275.4657  -0.0000 1.0000  -1004043.1797  1004039.7464\n",
      "Mean_Height_cms                                   0.5125        1.0602   0.4834 0.6288        -1.5654        2.5904\n",
      "Diff_Height_cms                                  -0.3537        0.4721  -0.7492 0.4537        -1.2789        0.5716\n",
      "Mean_Reach_cms                                   -0.4689        0.9881  -0.4745 0.6351        -2.4054        1.4677\n",
      "Diff_Reach_cms                                    1.0560        0.4702   2.2457 0.0247         0.1344        1.9776\n",
      "Mean_avg_KD                                      -0.0246        0.4211  -0.0584 0.9534        -0.8500        0.8008\n",
      "Diff_avg_KD                                      -0.0957        0.3960  -0.2416 0.8091        -0.8719        0.6805\n",
      "Mean_avg_PASS                                     0.1368        0.4502   0.3039 0.7612        -0.7455        1.0191\n",
      "Diff_avg_PASS                                     0.7713        0.4224   1.8261 0.0678        -0.0565        1.5990\n",
      "Mean_avg_REV                                     -0.5845        0.4250  -1.3755 0.1690        -1.4174        0.2484\n",
      "Diff_avg_REV                                     -0.2119        0.4022  -0.5268 0.5983        -1.0002        0.5764\n",
      "Mean_avg_SUB_ATT                                 -0.1178        0.4634  -0.2541 0.7994        -1.0259        0.7904\n",
      "Diff_avg_SUB_ATT                                  0.0572        0.4143   0.1381 0.8901        -0.7549        0.8693\n",
      "Mean_avg_opp_SUB_ATT                              0.0931        0.4141   0.2249 0.8220        -0.7185        0.9048\n",
      "Diff_avg_opp_SUB_ATT                             -0.0412        0.3864  -0.1065 0.9152        -0.7985        0.7162\n",
      "Mean_avg_BODY_pct                                 1.5374        0.6663   2.3072 0.0210         0.2314        2.8435\n",
      "Diff_avg_BODY_pct                                -0.4696        0.6659  -0.7052 0.4807        -1.7748        0.8356\n",
      "Mean_avg_CLINCH_pct                               2.1212        0.9758   2.1739 0.0297         0.2088        4.0337\n",
      "Diff_avg_CLINCH_pct                              -0.0894        0.9738  -0.0918 0.9268        -1.9979        1.8191\n",
      "Mean_avg_DISTANCE_pct                             1.9922        1.5936   1.2501 0.2113        -1.1312        5.1156\n",
      "Diff_avg_DISTANCE_pct                            -0.1670        1.5939  -0.1048 0.9165        -3.2909        2.9569\n",
      "Mean_avg_GROUND_pct                               1.6382        0.9424   1.7383 0.0822        -0.2089        3.4853\n",
      "Diff_avg_GROUND_pct                              -2.3774        0.9356  -2.5411 0.0111        -4.2111       -0.5437\n",
      "Mean_avg_HEAD_pct                                 0.9619        0.7519   1.2793 0.2008        -0.5118        2.4357\n",
      "Diff_avg_HEAD_pct                                -0.0474        0.7462  -0.0635 0.9493        -1.5099        1.4150\n",
      "Mean_avg_LEG_pct                                 -0.6010        0.6856  -0.8766 0.3807        -1.9448        0.7428\n",
      "Diff_avg_LEG_pct                                 -0.2086        0.6861  -0.3041 0.7611        -1.5533        1.1361\n",
      "Mean_avg_SIG_STR_pct                              0.5321        1.2566   0.4234 0.6720        -1.9309        2.9950\n",
      "Diff_avg_SIG_STR_pct                             -0.8108        1.2520  -0.6476 0.5172        -3.2648        1.6431\n",
      "Mean_avg_TD_pct                                   0.0033        0.5647   0.0058 0.9953        -1.1035        1.1101\n",
      "Diff_avg_TD_pct                                   0.2329        0.5647   0.4125 0.6800        -0.8739        1.3397\n",
      "Mean_avg_TOTAL_STR_pct                            3.2243        4.7668   0.6764 0.4988        -6.1184       12.5670\n",
      "Diff_avg_TOTAL_STR_pct                          -13.9225        4.7436  -2.9350 0.0033       -23.2197       -4.6252\n",
      "Mean_current_lose_streak                         -0.5864        0.5726  -1.0241 0.3058        -1.7087        0.5359\n",
      "Diff_current_lose_streak                          0.4793        0.4660   1.0286 0.3037        -0.4340        1.3926\n",
      "Mean_current_win_streak                          -0.4865        0.6272  -0.7757 0.4379        -1.7157        0.7427\n",
      "Diff_current_win_streak                           1.1362        0.4779   2.3773 0.0174         0.1995        2.0730\n",
      "Mean_longest_win_streak                           0.8658        1.1660   0.7426 0.4577        -1.4195        3.1511\n",
      "Diff_longest_win_streak                           0.3351        0.7420   0.4516 0.6515        -1.1192        1.7895\n",
      "Mean_losses                                      -1.3102        1.4317  -0.9151 0.3601        -4.1163        1.4959\n",
      "Diff_losses                                      -3.1118        1.1210  -2.7759 0.0055        -5.3090       -0.9147\n",
      "Mean_total_rounds_fought                          1.9422        2.9990   0.6476 0.5172        -3.9358        7.8202\n",
      "Diff_total_rounds_fought                          2.9473        1.9892   1.4817 0.1384        -0.9514        6.8461\n",
      "Mean_total_time_fought(seconds)                  -0.3705        0.5080  -0.7293 0.4658        -1.3660        0.6251\n",
      "Diff_total_time_fought(seconds)                   0.1542        0.4727   0.3262 0.7443        -0.7723        1.0807\n",
      "Mean_total_title_bouts                            1.2045        0.5713   2.1085 0.0350         0.0848        2.3241\n",
      "Diff_total_title_bouts                           -0.7642        0.4852  -1.5750 0.1153        -1.7153        0.1868\n",
      "Mean_win_by_Decision_Majority                    -0.7667        0.7811  -0.9815 0.3263        -2.2976        0.7643\n",
      "Diff_win_by_Decision_Majority                    -0.1439        0.7763  -0.1853 0.8530        -1.6654        1.3776\n",
      "Mean_win_by_Decision_Split                       -3.1768        2.8437  -1.1171 0.2639        -8.7504        2.3967\n",
      "Diff_win_by_Decision_Split                       -0.5908        2.5363  -0.2329 0.8158        -5.5619        4.3803\n",
      "Mean_win_by_Decision_Unanimous                   -7.9521        7.6192  -1.0437 0.2966       -22.8854        6.9813\n",
      "Diff_win_by_Decision_Unanimous                    2.6927        5.4973   0.4898 0.6243        -8.0818       13.4672\n",
      "Mean_win_by_KO/TKO                               -8.0977        9.0078  -0.8990 0.3687       -25.7526        9.5572\n",
      "Diff_win_by_KO/TKO                                3.2410        6.0085   0.5394 0.5896        -8.5356       15.0175\n",
      "Mean_win_by_Submission                           -5.6915        6.1892  -0.9196 0.3578       -17.8221        6.4390\n",
      "Diff_win_by_Submission                            2.3577        5.2311   0.4507 0.6522        -7.8950       12.6104\n",
      "Mean_win_by_TKO_Doctor_Stoppage                  -1.1219        1.2099  -0.9273 0.3538        -3.4932        1.2493\n",
      "Diff_win_by_TKO_Doctor_Stoppage                   0.1729        1.1392   0.1518 0.8794        -2.0599        2.4056\n",
      "Mean_wins                                        15.6668       18.7154   0.8371 0.4025       -21.0146       52.3482\n",
      "Diff_wins                                        -6.0877       11.0381  -0.5515 0.5813       -27.7219       15.5465\n",
      "Mean_avg_opp_KD                                   0.1736        0.3786   0.4587 0.6465        -0.5683        0.9156\n",
      "Diff_avg_opp_KD                                  -1.0320        0.3653  -2.8254 0.0047        -1.7480       -0.3161\n",
      "Mean_avg_opp_PASS                                 0.0503        0.4236   0.1188 0.9055        -0.7800        0.8806\n",
      "Diff_avg_opp_PASS                                -0.9419        0.3962  -2.3772 0.0174        -1.7185       -0.1653\n",
      "Mean_avg_opp_REV                                  0.1941        0.4417   0.4395 0.6603        -0.6716        1.0598\n",
      "Diff_avg_opp_REV                                 -0.4530        0.4088  -1.1081 0.2678        -1.2542        0.3482\n",
      "Mean_avg_opp_BODY_pct                             1.0566        0.7685   1.3750 0.1691        -0.4495        2.5628\n",
      "Diff_avg_opp_BODY_pct                            -0.1600        0.7668  -0.2087 0.8347        -1.6629        1.3428\n",
      "Mean_avg_opp_CLINCH_pct                           0.1634        0.7342   0.2225 0.8239        -1.2756        1.6023\n",
      "Diff_avg_opp_CLINCH_pct                           1.0024        0.7344   1.3650 0.1723        -0.4370        2.4418\n",
      "Mean_avg_opp_DISTANCE_pct                         0.5760        0.6378   0.9031 0.3665        -0.6741        1.8260\n",
      "Diff_avg_opp_DISTANCE_pct                         0.5822        0.6414   0.9078 0.3640        -0.6748        1.8393\n",
      "Mean_avg_opp_GROUND_pct                          -1.0206        0.6616  -1.5427 0.1229        -2.3173        0.2760\n",
      "Diff_avg_opp_GROUND_pct                           1.0262        0.6608   1.5530 0.1204        -0.2689        2.3214\n",
      "Mean_avg_opp_HEAD_pct                            -0.8644        1.0978  -0.7874 0.4311        -3.0161        1.2873\n",
      "Diff_avg_opp_HEAD_pct                            -0.0294        1.1015  -0.0267 0.9787        -2.1883        2.1295\n",
      "Mean_avg_opp_LEG_pct                              0.7785        0.6196   1.2565 0.2089        -0.4358        1.9929\n",
      "Diff_avg_opp_LEG_pct                              0.0573        0.6198   0.0924 0.9264        -1.1574        1.2720\n",
      "Mean_avg_opp_SIG_STR_pct                          0.4350        1.1091   0.3922 0.6949        -1.7387        2.6087\n",
      "Diff_avg_opp_SIG_STR_pct                         -1.9438        1.1035  -1.7615 0.0782        -4.1067        0.2190\n",
      "Mean_avg_opp_TD_pct                              -0.6590        0.6040  -1.0909 0.2753        -1.8429        0.5250\n",
      "Diff_avg_opp_TD_pct                              -0.9776        0.6015  -1.6254 0.1041        -2.1565        0.2012\n",
      "Mean_avg_opp_TOTAL_STR_pct                       -0.9170        0.9048  -1.0136 0.3108        -2.6904        0.8563\n",
      "Diff_avg_opp_TOTAL_STR_pct                       -0.5069        0.9057  -0.5597 0.5757        -2.2820        1.2682\n",
      "===================================================================================================================\n",
      "\n"
     ]
    },
    {
     "name": "stderr",
     "output_type": "stream",
     "text": [
      "c:\\users\\bryce\\documents\\python37\\lib\\site-packages\\statsmodels\\base\\model.py:1286: RuntimeWarning: invalid value encountered in sqrt\n",
      "  bse_ = np.sqrt(np.diag(self.cov_params()))\n",
      "c:\\users\\bryce\\documents\\python37\\lib\\site-packages\\scipy\\stats\\_distn_infrastructure.py:901: RuntimeWarning: invalid value encountered in greater\n",
      "  return (a < x) & (x < b)\n",
      "c:\\users\\bryce\\documents\\python37\\lib\\site-packages\\scipy\\stats\\_distn_infrastructure.py:901: RuntimeWarning: invalid value encountered in less\n",
      "  return (a < x) & (x < b)\n",
      "c:\\users\\bryce\\documents\\python37\\lib\\site-packages\\scipy\\stats\\_distn_infrastructure.py:1892: RuntimeWarning: invalid value encountered in less_equal\n",
      "  cond2 = cond0 & (x <= _a)\n"
     ]
    }
   ],
   "source": [
    "# Naive throw everything in\n",
    "logit_model = sm.Logit( y, X )\n",
    "result = logit_model.fit()\n",
    "print(result.summary2())"
   ]
  },
  {
   "cell_type": "code",
   "execution_count": 3,
   "metadata": {},
   "outputs": [
    {
     "name": "stdout",
     "output_type": "stream",
     "text": [
      "Mean wins: 0.6703296703296703 \n",
      "Mean predict: 0.5110092950672362\n",
      "\n",
      "Accuracy predicting all wins:\n",
      "\n",
      "              precision    recall  f1-score   support\n",
      "\n",
      "           0       0.00      0.00      0.00      1440\n",
      "           1       0.67      1.00      0.80      2928\n",
      "\n",
      "    accuracy                           0.67      4368\n",
      "   macro avg       0.34      0.50      0.40      4368\n",
      "weighted avg       0.45      0.67      0.54      4368\n",
      "\n",
      "Accuracy with varying cutoffs:\n",
      "\n",
      "0.0: \t f1-score: 0.4   \t precision 0.67   \t recall: 1.0\n",
      "0.1: \t f1-score: 0.4   \t precision 0.67   \t recall: 1.0\n",
      "0.2: \t f1-score: 0.48   \t precision 0.69   \t recall: 0.98"
     ]
    },
    {
     "name": "stderr",
     "output_type": "stream",
     "text": [
      "c:\\users\\bryce\\documents\\python37\\lib\\site-packages\\sklearn\\metrics\\classification.py:1437: UndefinedMetricWarning: Precision and F-score are ill-defined and being set to 0.0 in labels with no predicted samples.\n",
      "  'precision', 'predicted', average, warn_for)\n",
      "c:\\users\\bryce\\documents\\python37\\lib\\site-packages\\sklearn\\metrics\\classification.py:1437: UndefinedMetricWarning: F-score is ill-defined and being set to 0.0 due to no predicted samples.\n",
      "  'precision', 'predicted', average, warn_for)\n"
     ]
    },
    {
     "name": "stdout",
     "output_type": "stream",
     "text": [
      "\n",
      "0.3: \t f1-score: 0.59   \t precision 0.72   \t recall: 0.91\n",
      "0.4: \t f1-score: 0.65   \t precision 0.77   \t recall: 0.77\n",
      "0.5: \t f1-score: 0.64   \t precision 0.84   \t recall: 0.59\n",
      "0.6: \t f1-score: 0.59   \t precision 0.89   \t recall: 0.43\n",
      "0.7: \t f1-score: 0.51   \t precision 0.95   \t recall: 0.29\n",
      "0.8: \t f1-score: 0.39   \t precision 0.98   \t recall: 0.15\n",
      "0.9: \t f1-score: 0.27   \t precision 0.97   \t recall: 0.02\n"
     ]
    },
    {
     "name": "stderr",
     "output_type": "stream",
     "text": [
      "c:\\users\\bryce\\documents\\python37\\lib\\site-packages\\sklearn\\metrics\\classification.py:1437: UndefinedMetricWarning: Precision is ill-defined and being set to 0.0 due to no predicted samples.\n",
      "  'precision', 'predicted', average, warn_for)\n"
     ]
    },
    {
     "name": "stdout",
     "output_type": "stream",
     "text": [
      "1.0: \t f1-score: 0.25   \t precision 0.0   \t recall: 0.0\n"
     ]
    }
   ],
   "source": [
    "# make predictions and check recall, precision, f1 score.\n",
    "\n",
    "from sklearn.metrics import confusion_matrix, classification_report, f1_score, precision_score, recall_score\n",
    "\n",
    "pred = result.predict()\n",
    "print( \n",
    "    'Mean wins: %s \\nMean predict: %s\\n' % ( \n",
    "    y.mean(),\n",
    "    pred.mean()\n",
    "))\n",
    "\n",
    "# what is our base level if we predict the majority?\n",
    "print( 'Accuracy predicting all wins:\\n')\n",
    "print( classification_report( \n",
    "    y, \n",
    "    [ 1 for x in pred ]\n",
    "))\n",
    "\n",
    "# what is the outcome of different cutoffs?\n",
    "print( 'Accuracy with varying cutoffs:\\n' )\n",
    "for i in range(11): \n",
    "    \n",
    "    icutoff = i/10\n",
    "    \n",
    "    predwin = [ 1 if x > i/10 else 0 for x in pred ]\n",
    "    predloss = [ 0 if x > i/10 else 1 for x in pred ]\n",
    "    \n",
    "    fscorewin = f1_score( y, predwin )\n",
    "    fscoreloss = f1_score( ( y == 0 ) * 1, predloss )    \n",
    "    prec = precision_score( y, predwin )\n",
    "    recall = recall_score( y, predwin )\n",
    "    \n",
    "    print(\n",
    "        '%s: \\t f1-score: %s   \\t precision %s   \\t recall: %s' % ( \n",
    "            i/10, \n",
    "            round( (fscorewin + fscoreloss) / 2, 2 ),\n",
    "            round( prec, 2 ),\n",
    "            round( recall, 2 )\n",
    "    ))"
   ]
  },
  {
   "cell_type": "markdown",
   "metadata": {},
   "source": [
    "Seems like a cutoff of around .5 gives us way above average wins \n",
    "while participating in a large number of fights.\n",
    "We are capturing 71% of the wins (recall) and winning 75% of the time (precision).\n",
    "Strangely though, we could win 63% of the time and capture 100% of the wins by\n",
    "always betting to win.\n",
    "I guess we need to think about betting and what make the most sense."
   ]
  },
  {
   "cell_type": "code",
   "execution_count": 4,
   "metadata": {},
   "outputs": [
    {
     "name": "stdout",
     "output_type": "stream",
     "text": [
      "Optimization terminated successfully.\n",
      "         Current function value: 0.599154\n",
      "         Iterations 8\n"
     ]
    }
   ],
   "source": [
    "# train-test split.\n",
    "from sklearn.model_selection import train_test_split\n",
    "X_train , X_test, y_train, y_test = train_test_split(\n",
    "    X, y, \n",
    "    random_state = 549,\n",
    "    test_size = 0.25\n",
    ")\n",
    "\n",
    "# fit on train and get in-model accuracy.\n",
    "m = sm.Logit( y_train, X_train ).fit()"
   ]
  },
  {
   "cell_type": "code",
   "execution_count": 5,
   "metadata": {},
   "outputs": [
    {
     "name": "stdout",
     "output_type": "stream",
     "text": [
      "              precision    recall  f1-score   support\n",
      "\n",
      "           0       0.49      0.71      0.58      1068\n",
      "           1       0.82      0.65      0.73      2208\n",
      "\n",
      "    accuracy                           0.67      3276\n",
      "   macro avg       0.66      0.68      0.65      3276\n",
      "weighted avg       0.71      0.67      0.68      3276\n",
      "\n"
     ]
    }
   ],
   "source": [
    "print( \n",
    "    classification_report( \n",
    "        y_train, [ 1 if x > 0.5 else 0 for x in m.predict(X_train) ] \n",
    "))"
   ]
  },
  {
   "cell_type": "code",
   "execution_count": 6,
   "metadata": {},
   "outputs": [
    {
     "name": "stdout",
     "output_type": "stream",
     "text": [
      "              precision    recall  f1-score   support\n",
      "\n",
      "           0       0.47      0.66      0.55       372\n",
      "           1       0.78      0.62      0.69       720\n",
      "\n",
      "    accuracy                           0.63      1092\n",
      "   macro avg       0.63      0.64      0.62      1092\n",
      "weighted avg       0.68      0.63      0.64      1092\n",
      "\n"
     ]
    }
   ],
   "source": [
    "print( \n",
    "    classification_report( \n",
    "        y_test, [ 1 if x > 0.5 else 0 for x in m.predict(X_test) ] \n",
    "))"
   ]
  },
  {
   "cell_type": "markdown",
   "metadata": {},
   "source": [
    "Test accuracy is similar to in-model, so there doesn't seem to be overfitting.\n",
    "\n",
    "f1-score is lower than test on decision tree though."
   ]
  }
 ],
 "metadata": {
  "kernelspec": {
   "display_name": "Python 3",
   "language": "python",
   "name": "python3"
  },
  "language_info": {
   "codemirror_mode": {
    "name": "ipython",
    "version": 3
   },
   "file_extension": ".py",
   "mimetype": "text/x-python",
   "name": "python",
   "nbconvert_exporter": "python",
   "pygments_lexer": "ipython3",
   "version": "3.7.4"
  }
 },
 "nbformat": 4,
 "nbformat_minor": 2
}
