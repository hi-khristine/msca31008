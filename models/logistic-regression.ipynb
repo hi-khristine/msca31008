{
 "cells": [
  {
   "cell_type": "markdown",
   "metadata": {},
   "source": [
    "## Plain logistic regression isn't looking promising"
   ]
  },
  {
   "cell_type": "code",
   "execution_count": 1,
   "metadata": {},
   "outputs": [
    {
     "data": {
      "text/plain": [
       "(3576, 115)"
      ]
     },
     "execution_count": 1,
     "metadata": {},
     "output_type": "execute_result"
    }
   ],
   "source": [
    "import pandas as pd\n",
    "import numpy as np\n",
    "import statsmodels.api as sm\n",
    "\n",
    "# read functions.\n",
    "import os\n",
    "for f in os.listdir('../fun/'): exec(open('../fun/'+f).read())\n",
    "del f\n",
    "\n",
    "# Load data\n",
    "load( '../out/d3-fight-level-standardize-normalize.pkl' )\n",
    "\n",
    "X = pd.DataFrame(X)\n",
    "X.columns = cols\n",
    "\n",
    "# Change winner to binary 1/0:\n",
    "y[ y == -1 ] = 0\n",
    "X.shape"
   ]
  },
  {
   "cell_type": "markdown",
   "metadata": {},
   "source": [
    "If we just throw everything in, getting lots of bad p-values (and a pretty bad r-squared)."
   ]
  },
  {
   "cell_type": "code",
   "execution_count": 2,
   "metadata": {},
   "outputs": [
    {
     "name": "stdout",
     "output_type": "stream",
     "text": [
      "Optimization terminated successfully.\n",
      "         Current function value: 0.625733\n",
      "         Iterations 5\n",
      "                                              Results: Logit\n",
      "==========================================================================================================\n",
      "Model:                            Logit                          Pseudo R-squared:               0.020    \n",
      "Dependent Variable:               Winner                         AIC:                            4701.2415\n",
      "Date:                             2019-11-20 21:48               BIC:                            5399.8075\n",
      "No. Observations:                 3576                           Log-Likelihood:                 -2237.6  \n",
      "Df Model:                         112                            LL-Null:                        -2284.4  \n",
      "Df Residuals:                     3463                           LLR p-value:                    0.89646  \n",
      "Converged:                        1.0000                         Scale:                          1.0000   \n",
      "No. Iterations:                   5.0000                                                                  \n",
      "----------------------------------------------------------------------------------------------------------\n",
      "                                          Coef.     Std.Err.      z    P>|z|      [0.025         0.975]   \n",
      "----------------------------------------------------------------------------------------------------------\n",
      "title_bout                                0.8371        0.6463  1.2952 0.1953        -0.4297        2.1038\n",
      "weight_class                             -1.5356        1.5851 -0.9687 0.3327        -4.6424        1.5712\n",
      "no_of_rounds                             -0.6416        0.5922 -1.0833 0.2787        -1.8024        0.5192\n",
      "Mean_age                                  0.2407        0.4516  0.5330 0.5941        -0.6444        1.1257\n",
      "Diff_age                                  0.3925        0.3699  1.0612 0.2886        -0.3324        1.1174\n",
      "Mean_Height_cms                           0.0011        1.0876  0.0010 0.9992        -2.1306        2.1328\n",
      "Diff_Height_cms                          -1.1199        0.4673 -2.3965 0.0166        -2.0359       -0.2040\n",
      "Mean_Reach_cms                            0.1768        1.0105  0.1750 0.8611        -1.8037        2.1573\n",
      "Diff_Reach_cms                            1.2463        0.4622  2.6965 0.0070         0.3404        2.1522\n",
      "Mean_Weight_lbs                           0.0433        1.1750  0.0369 0.9706        -2.2598        2.3464\n",
      "Diff_Weight_lbs                           1.0927        0.4258  2.5665 0.0103         0.2582        1.9272\n",
      "Mean_avg_KD                              -0.2690        0.4514 -0.5960 0.5512        -1.1536        0.6157\n",
      "Diff_avg_KD                              -0.0361        0.4214 -0.0856 0.9318        -0.8619        0.7898\n",
      "Mean_avg_PASS                             0.1424        0.5262  0.2706 0.7867        -0.8890        1.1738\n",
      "Diff_avg_PASS                             1.1428        0.4929  2.3184 0.0204         0.1767        2.1090\n",
      "Mean_avg_REV                             -0.7472        0.4586 -1.6294 0.1032        -1.6461        0.1516\n",
      "Diff_avg_REV                             -0.4735        0.4256 -1.1124 0.2660        -1.3077        0.3608\n",
      "Mean_avg_BODY_pct                         0.4919        0.4925  0.9988 0.3179        -0.4734        1.4572\n",
      "Diff_avg_BODY_pct                         0.3218        0.4711  0.6830 0.4946        -0.6016        1.2452\n",
      "Mean_avg_CLINCH_pct                       0.0752        0.4630  0.1624 0.8710        -0.8323        0.9826\n",
      "Diff_avg_CLINCH_pct                      -0.6654        0.4537 -1.4667 0.1424        -1.5546        0.2238\n",
      "Mean_avg_DISTANCE_pct                     0.0930        0.7824  0.1189 0.9054        -1.4404        1.6264\n",
      "Diff_avg_DISTANCE_pct                    -0.3747        0.7337 -0.5107 0.6096        -1.8128        1.0634\n",
      "Mean_avg_GROUND_pct                       0.0057        0.4157  0.0138 0.9890        -0.8091        0.8206\n",
      "Diff_avg_GROUND_pct                      -0.3474        0.3950 -0.8795 0.3791        -1.1216        0.4268\n",
      "Mean_avg_HEAD_pct                         0.6288        1.0211  0.6158 0.5380        -1.3726        2.6302\n",
      "Diff_avg_HEAD_pct                         0.7829        0.9071  0.8632 0.3881        -0.9949        2.5608\n",
      "Mean_avg_LEG_pct                          0.2090        0.4753  0.4398 0.6601        -0.7226        1.1406\n",
      "Diff_avg_LEG_pct                         -0.0277        0.4271 -0.0648 0.9483        -0.8648        0.8094\n",
      "Mean_avg_SIG_STR_pct                     -0.3162        1.3988 -0.2260 0.8212        -3.0577        2.4253\n",
      "Diff_avg_SIG_STR_pct                      1.0332        1.3121  0.7874 0.4310        -1.5385        3.6048\n",
      "Mean_avg_TD_pct                           0.4355        0.4090  1.0647 0.2870        -0.3662        1.2372\n",
      "Diff_avg_TD_pct                           0.1375        0.3826  0.3594 0.7193        -0.6125        0.8875\n",
      "Mean_avg_TOTAL_STR_pct                    0.7692        0.8809  0.8732 0.3825        -0.9573        2.4957\n",
      "Diff_avg_TOTAL_STR_pct                   -1.7366        0.7724 -2.2482 0.0246        -3.2506       -0.2227\n",
      "Mean_current_lose_streak                 -0.7999        0.5299 -1.5094 0.1312        -1.8386        0.2388\n",
      "Diff_current_lose_streak                  0.0919        0.4433  0.2074 0.8357        -0.7769        0.9608\n",
      "Mean_current_win_streak                  -1.3678        0.6461 -2.1168 0.0343        -2.6342       -0.1014\n",
      "Diff_current_win_streak                   0.5506        0.4817  1.1429 0.2531        -0.3936        1.4948\n",
      "Mean_longest_win_streak                   0.8328        1.0449  0.7970 0.4254        -1.2152        2.8809\n",
      "Diff_longest_win_streak                   0.2967        0.6810  0.4357 0.6631        -1.0381        1.6316\n",
      "Mean_losses                              -0.2793        1.3115 -0.2130 0.8313        -2.8498        2.2911\n",
      "Diff_losses                              -1.7586        1.0549 -1.6670 0.0955        -3.8261        0.3090\n",
      "Mean_total_rounds_fought                 -0.3668        2.8094 -0.1306 0.8961        -5.8732        5.1396\n",
      "Diff_total_rounds_fought                  0.6053        1.9404  0.3120 0.7551        -3.1978        4.4085\n",
      "Mean_total_time_fought(seconds)          -0.4927        0.6246 -0.7888 0.4302        -1.7168        0.7315\n",
      "Diff_total_time_fought(seconds)           1.0545        0.5453  1.9339 0.0531        -0.0142        2.1232\n",
      "Mean_total_title_bouts                    0.5596        0.6689  0.8366 0.4028        -0.7514        1.8705\n",
      "Diff_total_title_bouts                   -0.8326        0.5779 -1.4407 0.1497        -1.9653        0.3001\n",
      "Mean_win_by_Decision_Majority            -0.8456        0.8602 -0.9830 0.3256        -2.5316        0.8404\n",
      "Diff_win_by_Decision_Majority             0.2724        0.8558  0.3182 0.7503        -1.4051        1.9498\n",
      "Mean_win_by_Decision_Split               -1.4868        2.7277 -0.5451 0.5857        -6.8330        3.8594\n",
      "Diff_win_by_Decision_Split                0.5841        2.4772  0.2358 0.8136        -4.2711        5.4393\n",
      "Mean_win_by_Decision_Unanimous           -3.6954        7.3919 -0.4999 0.6171       -18.1833       10.7925\n",
      "Diff_win_by_Decision_Unanimous            5.2643        5.4684  0.9627 0.3357        -5.4536       15.9822\n",
      "Mean_win_by_KO/TKO                       -3.3915        8.8121 -0.3849 0.7003       -20.6629       13.8800\n",
      "Diff_win_by_KO/TKO                        5.3465        5.8902  0.9077 0.3640        -6.1981       16.8910\n",
      "Mean_win_by_Submission                   -2.8090        5.9589 -0.4714 0.6374       -14.4883        8.8702\n",
      "Diff_win_by_Submission                    5.0339        5.1626  0.9751 0.3295        -5.0847       15.1525\n",
      "Mean_win_by_TKO_Doctor_Stoppage          -1.1484        1.2491 -0.9194 0.3579        -3.5965        1.2998\n",
      "Diff_win_by_TKO_Doctor_Stoppage           0.5762        1.1694  0.4927 0.6222        -1.7158        2.8682\n",
      "Mean_wins                                 7.8415       17.6520  0.4442 0.6569       -26.7558       42.4389\n",
      "Diff_wins                                -9.3128       10.7994 -0.8623 0.3885       -30.4793       11.8537\n",
      "Mean_avg_opp_KD                          -0.4354        0.4040 -1.0777 0.2811        -1.2271        0.3564\n",
      "Diff_avg_opp_KD                          -0.9142        0.3862 -2.3671 0.0179        -1.6712       -0.1573\n",
      "Mean_avg_opp_PASS                        -0.4473        0.4647 -0.9626 0.3358        -1.3581        0.4635\n",
      "Diff_avg_opp_PASS                        -0.8306        0.4341 -1.9132 0.0557        -1.6815        0.0203\n",
      "Mean_avg_opp_REV                         -0.2407        0.4560 -0.5278 0.5976        -1.1344        0.6530\n",
      "Diff_avg_opp_REV                         -0.2275        0.4194 -0.5424 0.5876        -1.0494        0.5945\n",
      "Mean_avg_opp_BODY_pct                    -0.8379        0.5501 -1.5231 0.1277        -1.9161        0.2403\n",
      "Diff_avg_opp_BODY_pct                    -0.6091        0.5430 -1.1217 0.2620        -1.6733        0.4552\n",
      "Mean_avg_opp_CLINCH_pct                  -0.8211        0.5188 -1.5829 0.1134        -1.8379        0.1956\n",
      "Diff_avg_opp_CLINCH_pct                   0.8786        0.5202  1.6888 0.0913        -0.1411        1.8982\n",
      "Mean_avg_opp_DISTANCE_pct                 0.2943        0.6486  0.4537 0.6500        -0.9769        1.5655\n",
      "Diff_avg_opp_DISTANCE_pct                 1.7315        0.6345  2.7289 0.0064         0.4879        2.9750\n",
      "Mean_avg_opp_GROUND_pct                  -0.5423        0.4926 -1.1010 0.2709        -1.5077        0.4231\n",
      "Diff_avg_opp_GROUND_pct                   0.8467        0.4706  1.7992 0.0720        -0.0757        1.7691\n",
      "Mean_avg_opp_HEAD_pct                     0.7982        1.3254  0.6023 0.5470        -1.7995        3.3960\n",
      "Diff_avg_opp_HEAD_pct                     0.6975        1.2960  0.5382 0.5904        -1.8426        3.2377\n",
      "Mean_avg_opp_LEG_pct                      0.1023        0.4567  0.2241 0.8227        -0.7928        0.9974\n",
      "Diff_avg_opp_LEG_pct                     -0.2153        0.4556 -0.4725 0.6366        -1.1082        0.6776\n",
      "Mean_avg_opp_SIG_STR_pct                 -0.9777        1.6834 -0.5808 0.5614        -4.2772        2.3218\n",
      "Diff_avg_opp_SIG_STR_pct                 -0.2943        1.6066 -0.1832 0.8546        -3.4433        2.8546\n",
      "Mean_avg_opp_TD_pct                       0.1222        0.4718  0.2590 0.7957        -0.8026        1.0470\n",
      "Diff_avg_opp_TD_pct                      -0.0012        0.4619 -0.0025 0.9980        -0.9064        0.9041\n",
      "Mean_avg_opp_TOTAL_STR_pct               -1.7502        1.0384 -1.6856 0.0919        -3.7854        0.2849\n",
      "Diff_avg_opp_TOTAL_STR_pct                0.2157        0.9524  0.2265 0.8208        -1.6509        2.0823\n",
      "weight_class_catch_weight                -1.1599        0.8526 -1.3604 0.1737        -2.8309        0.5112\n",
      "weight_class_open_weight                 -1.8865        1.0613 -1.7776 0.0755        -3.9665        0.1935\n",
      "womens                                   -0.3490        0.4389 -0.7953 0.4264        -1.2092        0.5111\n",
      "date_year                                -6.0113        0.6749 -8.9068 0.0000        -7.3341       -4.6885\n",
      "date_month                               -0.8261        0.3549 -2.3275 0.0199        -1.5217       -0.1304\n",
      "date_dayofmonth                          -0.1211        0.3428 -0.3531 0.7240        -0.7930        0.5509\n",
      "date_dayofweek                           -1.0772        0.4130 -2.6084 0.0091        -1.8866       -0.2678\n",
      "date_frisat                               0.9386        0.3843  2.4424 0.0146         0.1854        1.6918\n",
      "Referee_Dan Miragliotta                  -0.0250  8435125.3414 -0.0000 1.0000 -16532541.8992 16532541.8492\n",
      "Referee_Herb Dean                        -0.0686 11361575.3019 -0.0000 1.0000 -22268278.4679 22268278.3307\n",
      "Referee_John McCarthy                     0.1135 10011288.8128  0.0000 1.0000 -19621765.3985 19621765.6255\n",
      "Referee_Keith Peterson                    0.4910  5270082.6253  0.0000 1.0000 -10329171.6501 10329172.6321\n",
      "Referee_Leon Roberts                     -0.7918  5747030.6488 -0.0000 1.0000 -11263973.8815 11263972.2980\n",
      "Referee_Marc Goddard                     -0.3447  7426721.4012 -0.0000 1.0000 -14556106.8143 14556106.1250\n",
      "Referee_Mario Yamasaki                    0.0595  8364418.1931  0.0000 1.0000 -16393958.3507 16393958.4697\n",
      "Referee_Other                             0.0432 15347296.9251  0.0000 1.0000 -30080149.1900 30080149.2764\n",
      "Referee_Steve Mazzagatti                  0.6276  5418185.2969  0.0000 1.0000 -10619447.4159 10619448.6711\n",
      "Referee_Yves Lavigne                     -0.0259  7171171.3184 -0.0000 1.0000 -14055237.5370 14055237.4852\n",
      "location_Chicago, Illinois, USA          -0.5867           nan     nan    nan            nan           nan\n",
      "location_Dallas, Texas, USA              -0.3859           nan     nan    nan            nan           nan\n",
      "location_Las Vegas, Nevada, USA           0.0209           nan     nan    nan            nan           nan\n",
      "location_London, England, United Kingdom  0.6194           nan     nan    nan            nan           nan\n",
      "location_Los Angeles, California, USA     0.0553           nan     nan    nan            nan           nan\n",
      "location_Montreal, Quebec, Canada        -0.3590           nan     nan    nan            nan           nan\n",
      "location_Newark, New Jersey, USA         -1.5102           nan     nan    nan            nan           nan\n",
      "location_Other                            0.7563           nan     nan    nan            nan           nan\n",
      "location_Rio de Janeiro, Brazil           0.3669           nan     nan    nan            nan           nan\n",
      "location_Toronto, Ontario, Canada        -1.1794           nan     nan    nan            nan           nan\n",
      "==========================================================================================================\n",
      "\n"
     ]
    },
    {
     "name": "stderr",
     "output_type": "stream",
     "text": [
      "c:\\users\\bryce\\documents\\python37\\lib\\site-packages\\statsmodels\\base\\model.py:1286: RuntimeWarning: invalid value encountered in sqrt\n",
      "  bse_ = np.sqrt(np.diag(self.cov_params()))\n",
      "c:\\users\\bryce\\documents\\python37\\lib\\site-packages\\scipy\\stats\\_distn_infrastructure.py:901: RuntimeWarning: invalid value encountered in greater\n",
      "  return (a < x) & (x < b)\n",
      "c:\\users\\bryce\\documents\\python37\\lib\\site-packages\\scipy\\stats\\_distn_infrastructure.py:901: RuntimeWarning: invalid value encountered in less\n",
      "  return (a < x) & (x < b)\n",
      "c:\\users\\bryce\\documents\\python37\\lib\\site-packages\\scipy\\stats\\_distn_infrastructure.py:1892: RuntimeWarning: invalid value encountered in less_equal\n",
      "  cond2 = cond0 & (x <= _a)\n"
     ]
    }
   ],
   "source": [
    "# Naive throw everything in\n",
    "logit_model = sm.Logit( y, X )\n",
    "result = logit_model.fit()\n",
    "print(result.summary2())"
   ]
  },
  {
   "cell_type": "code",
   "execution_count": 3,
   "metadata": {},
   "outputs": [
    {
     "name": "stdout",
     "output_type": "stream",
     "text": [
      "Mean wins: 0.6633109619686801 \n",
      "Mean predict: 0.4936013393769369\n",
      "\n",
      "Accuracy predicting all wins:\n",
      "\n",
      "              precision    recall  f1-score   support\n",
      "\n",
      "           0       0.00      0.00      0.00      1204\n",
      "           1       0.66      1.00      0.80      2372\n",
      "\n",
      "    accuracy                           0.66      3576\n",
      "   macro avg       0.33      0.50      0.40      3576\n",
      "weighted avg       0.44      0.66      0.53      3576\n",
      "\n",
      "Accuracy with varying cutoffs:\n",
      "\n",
      "0.0: \t f1-score: 0.4   \t precision 0.66   \t recall: 1.0\n",
      "0.1: \t f1-score: 0.4   \t precision 0.66   \t recall: 1.0\n",
      "0.2: \t f1-score: 0.47   \t precision 0.68   \t recall: 0.98\n",
      "0.3: \t f1-score: 0.59   \t precision 0.71   \t recall: 0.91\n",
      "0.4: \t f1-score: 0.65   \t precision 0.77   \t recall: 0.77\n",
      "0.5: \t f1-score: 0.64   \t precision 0.83   \t recall: 0.59\n",
      "0.6: \t f1-score: 0.56   \t precision 0.89   \t recall: 0.38\n",
      "0.7: \t f1-score: 0.45   \t precision 0.94   \t recall: 0.21\n",
      "0.8: \t f1-score: 0.34   \t precision 1.0   \t recall: 0.08\n",
      "0.9: \t f1-score: 0.26   \t precision 1.0   \t recall: 0.01\n",
      "1.0: \t f1-score: 0.25   \t precision 0.0   \t recall: 0.0\n"
     ]
    },
    {
     "name": "stderr",
     "output_type": "stream",
     "text": [
      "c:\\users\\bryce\\documents\\python37\\lib\\site-packages\\sklearn\\metrics\\classification.py:1437: UndefinedMetricWarning: Precision and F-score are ill-defined and being set to 0.0 in labels with no predicted samples.\n",
      "  'precision', 'predicted', average, warn_for)\n",
      "c:\\users\\bryce\\documents\\python37\\lib\\site-packages\\sklearn\\metrics\\classification.py:1437: UndefinedMetricWarning: F-score is ill-defined and being set to 0.0 due to no predicted samples.\n",
      "  'precision', 'predicted', average, warn_for)\n",
      "c:\\users\\bryce\\documents\\python37\\lib\\site-packages\\sklearn\\metrics\\classification.py:1437: UndefinedMetricWarning: Precision is ill-defined and being set to 0.0 due to no predicted samples.\n",
      "  'precision', 'predicted', average, warn_for)\n"
     ]
    }
   ],
   "source": [
    "# make predictions and check recall, precision, f1 score.\n",
    "\n",
    "from sklearn.metrics import confusion_matrix, classification_report, f1_score, precision_score, recall_score\n",
    "\n",
    "pred = result.predict()\n",
    "print( \n",
    "    'Mean wins: %s \\nMean predict: %s\\n' % ( \n",
    "    y.mean(),\n",
    "    pred.mean()\n",
    "))\n",
    "\n",
    "# what is our base level if we predict the majority?\n",
    "print( 'Accuracy predicting all wins:\\n')\n",
    "print( classification_report( \n",
    "    y, \n",
    "    [ 1 for x in pred ]\n",
    "))\n",
    "\n",
    "# what is the outcome of different cutoffs?\n",
    "print( 'Accuracy with varying cutoffs:\\n' )\n",
    "for i in range(11): \n",
    "    \n",
    "    icutoff = i/10\n",
    "    \n",
    "    predwin = [ 1 if x > i/10 else 0 for x in pred ]\n",
    "    predloss = [ 0 if x > i/10 else 1 for x in pred ]\n",
    "    \n",
    "    fscorewin = f1_score( y, predwin )\n",
    "    fscoreloss = f1_score( ( y == 0 ) * 1, predloss )    \n",
    "    prec = precision_score( y, predwin )\n",
    "    recall = recall_score( y, predwin )\n",
    "    \n",
    "    print(\n",
    "        '%s: \\t f1-score: %s   \\t precision %s   \\t recall: %s' % ( \n",
    "            i/10, \n",
    "            round( (fscorewin + fscoreloss) / 2, 2 ),\n",
    "            round( prec, 2 ),\n",
    "            round( recall, 2 )\n",
    "    ))"
   ]
  },
  {
   "cell_type": "markdown",
   "metadata": {},
   "source": [
    "Seems like a cutoff of around .5 gives us way above average wins \n",
    "while participating in a large number of fights.\n",
    "We are capturing 71% of the wins (recall) and winning 75% of the time (precision).\n",
    "Strangely though, we could win 63% of the time and capture 100% of the wins by\n",
    "always betting to win.\n",
    "I guess we need to think about betting and what make the most sense."
   ]
  },
  {
   "cell_type": "code",
   "execution_count": 4,
   "metadata": {},
   "outputs": [
    {
     "name": "stdout",
     "output_type": "stream",
     "text": [
      "Optimization terminated successfully.\n",
      "         Current function value: 0.616990\n",
      "         Iterations 6\n"
     ]
    }
   ],
   "source": [
    "# train-test split.\n",
    "from sklearn.model_selection import train_test_split\n",
    "X_train , X_test, y_train, y_test = train_test_split(\n",
    "    X, y, \n",
    "    random_state = 729,\n",
    "    test_size = 0.25\n",
    ")\n",
    "\n",
    "# fit on train and get in-model accuracy.\n",
    "m = sm.Logit( y_train, X_train ).fit()"
   ]
  },
  {
   "cell_type": "code",
   "execution_count": 5,
   "metadata": {},
   "outputs": [
    {
     "name": "stdout",
     "output_type": "stream",
     "text": [
      "              precision    recall  f1-score   support\n",
      "\n",
      "           0       0.49      0.78      0.61       896\n",
      "           1       0.85      0.60      0.70      1786\n",
      "\n",
      "    accuracy                           0.66      2682\n",
      "   macro avg       0.67      0.69      0.65      2682\n",
      "weighted avg       0.73      0.66      0.67      2682\n",
      "\n"
     ]
    }
   ],
   "source": [
    "print( \n",
    "    classification_report( \n",
    "        y_train, [ 1 if x > 0.5 else 0 for x in m.predict(X_train) ] \n",
    "))"
   ]
  },
  {
   "cell_type": "code",
   "execution_count": 6,
   "metadata": {},
   "outputs": [
    {
     "name": "stdout",
     "output_type": "stream",
     "text": [
      "              precision    recall  f1-score   support\n",
      "\n",
      "           0       0.45      0.72      0.55       308\n",
      "           1       0.78      0.53      0.63       586\n",
      "\n",
      "    accuracy                           0.60       894\n",
      "   macro avg       0.62      0.63      0.59       894\n",
      "weighted avg       0.67      0.60      0.60       894\n",
      "\n"
     ]
    }
   ],
   "source": [
    "print( \n",
    "    classification_report( \n",
    "        y_test, [ 1 if x > 0.5 else 0 for x in m.predict(X_test) ] \n",
    "))"
   ]
  },
  {
   "cell_type": "markdown",
   "metadata": {},
   "source": [
    "Test accuracy is similar to in-model, so there doesn't seem to be overfitting.\n",
    "\n",
    "f1-score is lower than test on decision tree though."
   ]
  },
  {
   "cell_type": "markdown",
   "metadata": {},
   "source": [
    "Remove most of the insignificant features to see if something looks better. The only problem is that there isn't much predictive value regardless."
   ]
  },
  {
   "cell_type": "code",
   "execution_count": 7,
   "metadata": {},
   "outputs": [
    {
     "ename": "ValueError",
     "evalue": "Pandas data cast to numpy dtype of object. Check input data with np.asarray(data).",
     "output_type": "error",
     "traceback": [
      "\u001b[1;31m---------------------------------------------------------------------------\u001b[0m",
      "\u001b[1;31mValueError\u001b[0m                                Traceback (most recent call last)",
      "\u001b[1;32m<ipython-input-7-4ffae2f65052>\u001b[0m in \u001b[0;36m<module>\u001b[1;34m\u001b[0m\n\u001b[0;32m     23\u001b[0m \u001b[1;33m\u001b[0m\u001b[0m\n\u001b[0;32m     24\u001b[0m \u001b[1;31m# Naive throw everything in\u001b[0m\u001b[1;33m\u001b[0m\u001b[1;33m\u001b[0m\u001b[1;33m\u001b[0m\u001b[0m\n\u001b[1;32m---> 25\u001b[1;33m \u001b[0mlogit_model\u001b[0m \u001b[1;33m=\u001b[0m \u001b[0msm\u001b[0m\u001b[1;33m.\u001b[0m\u001b[0mLogit\u001b[0m\u001b[1;33m(\u001b[0m \u001b[0mdata\u001b[0m\u001b[1;33m[\u001b[0m\u001b[0mtarget\u001b[0m\u001b[1;33m]\u001b[0m\u001b[1;33m,\u001b[0m \u001b[0mdata\u001b[0m\u001b[1;33m[\u001b[0m\u001b[0mfeatures\u001b[0m\u001b[1;33m]\u001b[0m\u001b[1;33m)\u001b[0m\u001b[1;33m\u001b[0m\u001b[1;33m\u001b[0m\u001b[0m\n\u001b[0m\u001b[0;32m     26\u001b[0m \u001b[0mresult\u001b[0m \u001b[1;33m=\u001b[0m \u001b[0mlogit_model\u001b[0m\u001b[1;33m.\u001b[0m\u001b[0mfit\u001b[0m\u001b[1;33m(\u001b[0m\u001b[1;33m)\u001b[0m\u001b[1;33m\u001b[0m\u001b[1;33m\u001b[0m\u001b[0m\n\u001b[0;32m     27\u001b[0m \u001b[0mprint\u001b[0m\u001b[1;33m(\u001b[0m\u001b[0mresult\u001b[0m\u001b[1;33m.\u001b[0m\u001b[0msummary2\u001b[0m\u001b[1;33m(\u001b[0m\u001b[1;33m)\u001b[0m\u001b[1;33m)\u001b[0m\u001b[1;33m\u001b[0m\u001b[1;33m\u001b[0m\u001b[0m\n",
      "\u001b[1;32mc:\\users\\bryce\\documents\\python37\\lib\\site-packages\\statsmodels\\discrete\\discrete_model.py\u001b[0m in \u001b[0;36m__init__\u001b[1;34m(self, endog, exog, **kwargs)\u001b[0m\n\u001b[0;32m    427\u001b[0m \u001b[1;33m\u001b[0m\u001b[0m\n\u001b[0;32m    428\u001b[0m     \u001b[1;32mdef\u001b[0m \u001b[0m__init__\u001b[0m\u001b[1;33m(\u001b[0m\u001b[0mself\u001b[0m\u001b[1;33m,\u001b[0m \u001b[0mendog\u001b[0m\u001b[1;33m,\u001b[0m \u001b[0mexog\u001b[0m\u001b[1;33m,\u001b[0m \u001b[1;33m**\u001b[0m\u001b[0mkwargs\u001b[0m\u001b[1;33m)\u001b[0m\u001b[1;33m:\u001b[0m\u001b[1;33m\u001b[0m\u001b[1;33m\u001b[0m\u001b[0m\n\u001b[1;32m--> 429\u001b[1;33m         \u001b[0msuper\u001b[0m\u001b[1;33m(\u001b[0m\u001b[0mBinaryModel\u001b[0m\u001b[1;33m,\u001b[0m \u001b[0mself\u001b[0m\u001b[1;33m)\u001b[0m\u001b[1;33m.\u001b[0m\u001b[0m__init__\u001b[0m\u001b[1;33m(\u001b[0m\u001b[0mendog\u001b[0m\u001b[1;33m,\u001b[0m \u001b[0mexog\u001b[0m\u001b[1;33m,\u001b[0m \u001b[1;33m**\u001b[0m\u001b[0mkwargs\u001b[0m\u001b[1;33m)\u001b[0m\u001b[1;33m\u001b[0m\u001b[1;33m\u001b[0m\u001b[0m\n\u001b[0m\u001b[0;32m    430\u001b[0m         if (not issubclass(self.__class__, MultinomialModel) and\n\u001b[0;32m    431\u001b[0m                 not np.all((self.endog >= 0) & (self.endog <= 1))):\n",
      "\u001b[1;32mc:\\users\\bryce\\documents\\python37\\lib\\site-packages\\statsmodels\\discrete\\discrete_model.py\u001b[0m in \u001b[0;36m__init__\u001b[1;34m(self, endog, exog, **kwargs)\u001b[0m\n\u001b[0;32m    166\u001b[0m     \"\"\"\n\u001b[0;32m    167\u001b[0m     \u001b[1;32mdef\u001b[0m \u001b[0m__init__\u001b[0m\u001b[1;33m(\u001b[0m\u001b[0mself\u001b[0m\u001b[1;33m,\u001b[0m \u001b[0mendog\u001b[0m\u001b[1;33m,\u001b[0m \u001b[0mexog\u001b[0m\u001b[1;33m,\u001b[0m \u001b[1;33m**\u001b[0m\u001b[0mkwargs\u001b[0m\u001b[1;33m)\u001b[0m\u001b[1;33m:\u001b[0m\u001b[1;33m\u001b[0m\u001b[1;33m\u001b[0m\u001b[0m\n\u001b[1;32m--> 168\u001b[1;33m         \u001b[0msuper\u001b[0m\u001b[1;33m(\u001b[0m\u001b[0mDiscreteModel\u001b[0m\u001b[1;33m,\u001b[0m \u001b[0mself\u001b[0m\u001b[1;33m)\u001b[0m\u001b[1;33m.\u001b[0m\u001b[0m__init__\u001b[0m\u001b[1;33m(\u001b[0m\u001b[0mendog\u001b[0m\u001b[1;33m,\u001b[0m \u001b[0mexog\u001b[0m\u001b[1;33m,\u001b[0m \u001b[1;33m**\u001b[0m\u001b[0mkwargs\u001b[0m\u001b[1;33m)\u001b[0m\u001b[1;33m\u001b[0m\u001b[1;33m\u001b[0m\u001b[0m\n\u001b[0m\u001b[0;32m    169\u001b[0m         \u001b[0mself\u001b[0m\u001b[1;33m.\u001b[0m\u001b[0mraise_on_perfect_prediction\u001b[0m \u001b[1;33m=\u001b[0m \u001b[1;32mTrue\u001b[0m\u001b[1;33m\u001b[0m\u001b[1;33m\u001b[0m\u001b[0m\n\u001b[0;32m    170\u001b[0m \u001b[1;33m\u001b[0m\u001b[0m\n",
      "\u001b[1;32mc:\\users\\bryce\\documents\\python37\\lib\\site-packages\\statsmodels\\base\\model.py\u001b[0m in \u001b[0;36m__init__\u001b[1;34m(self, endog, exog, **kwargs)\u001b[0m\n\u001b[0;32m    214\u001b[0m \u001b[1;33m\u001b[0m\u001b[0m\n\u001b[0;32m    215\u001b[0m     \u001b[1;32mdef\u001b[0m \u001b[0m__init__\u001b[0m\u001b[1;33m(\u001b[0m\u001b[0mself\u001b[0m\u001b[1;33m,\u001b[0m \u001b[0mendog\u001b[0m\u001b[1;33m,\u001b[0m \u001b[0mexog\u001b[0m\u001b[1;33m=\u001b[0m\u001b[1;32mNone\u001b[0m\u001b[1;33m,\u001b[0m \u001b[1;33m**\u001b[0m\u001b[0mkwargs\u001b[0m\u001b[1;33m)\u001b[0m\u001b[1;33m:\u001b[0m\u001b[1;33m\u001b[0m\u001b[1;33m\u001b[0m\u001b[0m\n\u001b[1;32m--> 216\u001b[1;33m         \u001b[0msuper\u001b[0m\u001b[1;33m(\u001b[0m\u001b[0mLikelihoodModel\u001b[0m\u001b[1;33m,\u001b[0m \u001b[0mself\u001b[0m\u001b[1;33m)\u001b[0m\u001b[1;33m.\u001b[0m\u001b[0m__init__\u001b[0m\u001b[1;33m(\u001b[0m\u001b[0mendog\u001b[0m\u001b[1;33m,\u001b[0m \u001b[0mexog\u001b[0m\u001b[1;33m,\u001b[0m \u001b[1;33m**\u001b[0m\u001b[0mkwargs\u001b[0m\u001b[1;33m)\u001b[0m\u001b[1;33m\u001b[0m\u001b[1;33m\u001b[0m\u001b[0m\n\u001b[0m\u001b[0;32m    217\u001b[0m         \u001b[0mself\u001b[0m\u001b[1;33m.\u001b[0m\u001b[0minitialize\u001b[0m\u001b[1;33m(\u001b[0m\u001b[1;33m)\u001b[0m\u001b[1;33m\u001b[0m\u001b[1;33m\u001b[0m\u001b[0m\n\u001b[0;32m    218\u001b[0m \u001b[1;33m\u001b[0m\u001b[0m\n",
      "\u001b[1;32mc:\\users\\bryce\\documents\\python37\\lib\\site-packages\\statsmodels\\base\\model.py\u001b[0m in \u001b[0;36m__init__\u001b[1;34m(self, endog, exog, **kwargs)\u001b[0m\n\u001b[0;32m     66\u001b[0m         \u001b[0mhasconst\u001b[0m \u001b[1;33m=\u001b[0m \u001b[0mkwargs\u001b[0m\u001b[1;33m.\u001b[0m\u001b[0mpop\u001b[0m\u001b[1;33m(\u001b[0m\u001b[1;34m'hasconst'\u001b[0m\u001b[1;33m,\u001b[0m \u001b[1;32mNone\u001b[0m\u001b[1;33m)\u001b[0m\u001b[1;33m\u001b[0m\u001b[1;33m\u001b[0m\u001b[0m\n\u001b[0;32m     67\u001b[0m         self.data = self._handle_data(endog, exog, missing, hasconst,\n\u001b[1;32m---> 68\u001b[1;33m                                       **kwargs)\n\u001b[0m\u001b[0;32m     69\u001b[0m         \u001b[0mself\u001b[0m\u001b[1;33m.\u001b[0m\u001b[0mk_constant\u001b[0m \u001b[1;33m=\u001b[0m \u001b[0mself\u001b[0m\u001b[1;33m.\u001b[0m\u001b[0mdata\u001b[0m\u001b[1;33m.\u001b[0m\u001b[0mk_constant\u001b[0m\u001b[1;33m\u001b[0m\u001b[1;33m\u001b[0m\u001b[0m\n\u001b[0;32m     70\u001b[0m         \u001b[0mself\u001b[0m\u001b[1;33m.\u001b[0m\u001b[0mexog\u001b[0m \u001b[1;33m=\u001b[0m \u001b[0mself\u001b[0m\u001b[1;33m.\u001b[0m\u001b[0mdata\u001b[0m\u001b[1;33m.\u001b[0m\u001b[0mexog\u001b[0m\u001b[1;33m\u001b[0m\u001b[1;33m\u001b[0m\u001b[0m\n",
      "\u001b[1;32mc:\\users\\bryce\\documents\\python37\\lib\\site-packages\\statsmodels\\base\\model.py\u001b[0m in \u001b[0;36m_handle_data\u001b[1;34m(self, endog, exog, missing, hasconst, **kwargs)\u001b[0m\n\u001b[0;32m     89\u001b[0m \u001b[1;33m\u001b[0m\u001b[0m\n\u001b[0;32m     90\u001b[0m     \u001b[1;32mdef\u001b[0m \u001b[0m_handle_data\u001b[0m\u001b[1;33m(\u001b[0m\u001b[0mself\u001b[0m\u001b[1;33m,\u001b[0m \u001b[0mendog\u001b[0m\u001b[1;33m,\u001b[0m \u001b[0mexog\u001b[0m\u001b[1;33m,\u001b[0m \u001b[0mmissing\u001b[0m\u001b[1;33m,\u001b[0m \u001b[0mhasconst\u001b[0m\u001b[1;33m,\u001b[0m \u001b[1;33m**\u001b[0m\u001b[0mkwargs\u001b[0m\u001b[1;33m)\u001b[0m\u001b[1;33m:\u001b[0m\u001b[1;33m\u001b[0m\u001b[1;33m\u001b[0m\u001b[0m\n\u001b[1;32m---> 91\u001b[1;33m         \u001b[0mdata\u001b[0m \u001b[1;33m=\u001b[0m \u001b[0mhandle_data\u001b[0m\u001b[1;33m(\u001b[0m\u001b[0mendog\u001b[0m\u001b[1;33m,\u001b[0m \u001b[0mexog\u001b[0m\u001b[1;33m,\u001b[0m \u001b[0mmissing\u001b[0m\u001b[1;33m,\u001b[0m \u001b[0mhasconst\u001b[0m\u001b[1;33m,\u001b[0m \u001b[1;33m**\u001b[0m\u001b[0mkwargs\u001b[0m\u001b[1;33m)\u001b[0m\u001b[1;33m\u001b[0m\u001b[1;33m\u001b[0m\u001b[0m\n\u001b[0m\u001b[0;32m     92\u001b[0m         \u001b[1;31m# kwargs arrays could have changed, easier to just attach here\u001b[0m\u001b[1;33m\u001b[0m\u001b[1;33m\u001b[0m\u001b[1;33m\u001b[0m\u001b[0m\n\u001b[0;32m     93\u001b[0m         \u001b[1;32mfor\u001b[0m \u001b[0mkey\u001b[0m \u001b[1;32min\u001b[0m \u001b[0mkwargs\u001b[0m\u001b[1;33m:\u001b[0m\u001b[1;33m\u001b[0m\u001b[1;33m\u001b[0m\u001b[0m\n",
      "\u001b[1;32mc:\\users\\bryce\\documents\\python37\\lib\\site-packages\\statsmodels\\base\\data.py\u001b[0m in \u001b[0;36mhandle_data\u001b[1;34m(endog, exog, missing, hasconst, **kwargs)\u001b[0m\n\u001b[0;32m    633\u001b[0m     \u001b[0mklass\u001b[0m \u001b[1;33m=\u001b[0m \u001b[0mhandle_data_class_factory\u001b[0m\u001b[1;33m(\u001b[0m\u001b[0mendog\u001b[0m\u001b[1;33m,\u001b[0m \u001b[0mexog\u001b[0m\u001b[1;33m)\u001b[0m\u001b[1;33m\u001b[0m\u001b[1;33m\u001b[0m\u001b[0m\n\u001b[0;32m    634\u001b[0m     return klass(endog, exog=exog, missing=missing, hasconst=hasconst,\n\u001b[1;32m--> 635\u001b[1;33m                  **kwargs)\n\u001b[0m",
      "\u001b[1;32mc:\\users\\bryce\\documents\\python37\\lib\\site-packages\\statsmodels\\base\\data.py\u001b[0m in \u001b[0;36m__init__\u001b[1;34m(self, endog, exog, missing, hasconst, **kwargs)\u001b[0m\n\u001b[0;32m     74\u001b[0m             \u001b[0mself\u001b[0m\u001b[1;33m.\u001b[0m\u001b[0morig_endog\u001b[0m \u001b[1;33m=\u001b[0m \u001b[0mendog\u001b[0m\u001b[1;33m\u001b[0m\u001b[1;33m\u001b[0m\u001b[0m\n\u001b[0;32m     75\u001b[0m             \u001b[0mself\u001b[0m\u001b[1;33m.\u001b[0m\u001b[0morig_exog\u001b[0m \u001b[1;33m=\u001b[0m \u001b[0mexog\u001b[0m\u001b[1;33m\u001b[0m\u001b[1;33m\u001b[0m\u001b[0m\n\u001b[1;32m---> 76\u001b[1;33m             \u001b[0mself\u001b[0m\u001b[1;33m.\u001b[0m\u001b[0mendog\u001b[0m\u001b[1;33m,\u001b[0m \u001b[0mself\u001b[0m\u001b[1;33m.\u001b[0m\u001b[0mexog\u001b[0m \u001b[1;33m=\u001b[0m \u001b[0mself\u001b[0m\u001b[1;33m.\u001b[0m\u001b[0m_convert_endog_exog\u001b[0m\u001b[1;33m(\u001b[0m\u001b[0mendog\u001b[0m\u001b[1;33m,\u001b[0m \u001b[0mexog\u001b[0m\u001b[1;33m)\u001b[0m\u001b[1;33m\u001b[0m\u001b[1;33m\u001b[0m\u001b[0m\n\u001b[0m\u001b[0;32m     77\u001b[0m \u001b[1;33m\u001b[0m\u001b[0m\n\u001b[0;32m     78\u001b[0m         \u001b[0mself\u001b[0m\u001b[1;33m.\u001b[0m\u001b[0mconst_idx\u001b[0m \u001b[1;33m=\u001b[0m \u001b[1;32mNone\u001b[0m\u001b[1;33m\u001b[0m\u001b[1;33m\u001b[0m\u001b[0m\n",
      "\u001b[1;32mc:\\users\\bryce\\documents\\python37\\lib\\site-packages\\statsmodels\\base\\data.py\u001b[0m in \u001b[0;36m_convert_endog_exog\u001b[1;34m(self, endog, exog)\u001b[0m\n\u001b[0;32m    473\u001b[0m         \u001b[0mexog\u001b[0m \u001b[1;33m=\u001b[0m \u001b[0mexog\u001b[0m \u001b[1;32mif\u001b[0m \u001b[0mexog\u001b[0m \u001b[1;32mis\u001b[0m \u001b[1;32mNone\u001b[0m \u001b[1;32melse\u001b[0m \u001b[0mnp\u001b[0m\u001b[1;33m.\u001b[0m\u001b[0masarray\u001b[0m\u001b[1;33m(\u001b[0m\u001b[0mexog\u001b[0m\u001b[1;33m)\u001b[0m\u001b[1;33m\u001b[0m\u001b[1;33m\u001b[0m\u001b[0m\n\u001b[0;32m    474\u001b[0m         \u001b[1;32mif\u001b[0m \u001b[0mendog\u001b[0m\u001b[1;33m.\u001b[0m\u001b[0mdtype\u001b[0m \u001b[1;33m==\u001b[0m \u001b[0mobject\u001b[0m \u001b[1;32mor\u001b[0m \u001b[0mexog\u001b[0m \u001b[1;32mis\u001b[0m \u001b[1;32mnot\u001b[0m \u001b[1;32mNone\u001b[0m \u001b[1;32mand\u001b[0m \u001b[0mexog\u001b[0m\u001b[1;33m.\u001b[0m\u001b[0mdtype\u001b[0m \u001b[1;33m==\u001b[0m \u001b[0mobject\u001b[0m\u001b[1;33m:\u001b[0m\u001b[1;33m\u001b[0m\u001b[1;33m\u001b[0m\u001b[0m\n\u001b[1;32m--> 475\u001b[1;33m             raise ValueError(\"Pandas data cast to numpy dtype of object. \"\n\u001b[0m\u001b[0;32m    476\u001b[0m                              \"Check input data with np.asarray(data).\")\n\u001b[0;32m    477\u001b[0m         \u001b[1;32mreturn\u001b[0m \u001b[0msuper\u001b[0m\u001b[1;33m(\u001b[0m\u001b[0mPandasData\u001b[0m\u001b[1;33m,\u001b[0m \u001b[0mself\u001b[0m\u001b[1;33m)\u001b[0m\u001b[1;33m.\u001b[0m\u001b[0m_convert_endog_exog\u001b[0m\u001b[1;33m(\u001b[0m\u001b[0mendog\u001b[0m\u001b[1;33m,\u001b[0m \u001b[0mexog\u001b[0m\u001b[1;33m)\u001b[0m\u001b[1;33m\u001b[0m\u001b[1;33m\u001b[0m\u001b[0m\n",
      "\u001b[1;31mValueError\u001b[0m: Pandas data cast to numpy dtype of object. Check input data with np.asarray(data)."
     ]
    }
   ],
   "source": [
    "# prior model with incomplete dataset:\n",
    "\n",
    "data = pd.read_csv(\"../out/d1-fight-level-transform.csv\", index_col = 0)\n",
    "\n",
    "# Change winner to binary 1/0:\\n\",\n",
    "data.Winner = data.Winner.apply(lambda x: np.where(x == -1, 0, 1))\n",
    "\n",
    "# Initial features and target\\n\",\n",
    "features = pd.Series(data.columns, index = data.columns)\n",
    "target = \"Winner\"\n",
    "\n",
    "# Remove referree, date, location, winner, title_bout, weight_class, no_of_rounds\\n\",\n",
    "features.drop(index = [\"Referee\", \"date\", \"location\", \"Winner\", \"title_bout\",\n",
    "                       \"weight_class\", \"no_of_rounds\"], inplace = True)\n",
    "\n",
    "# Lots of win columns\\n\",\n",
    "features.drop(index = [\"Diff_win_by_Decision_Majority\",\n",
    "                       \"Diff_win_by_Decision_Split\",\n",
    "                       \"Diff_win_by_Decision_Unanimous\",\n",
    "                       \"Diff_win_by_KO/TKO\",\n",
    "                       \"Diff_win_by_Submission\",\n",
    "                       \"Diff_win_by_TKO_Doctor_Stoppage\"], inplace = True)\n",
    "\n",
    "# Naive throw everything in\n",
    "logit_model = sm.Logit( data[target], data[features])\n",
    "result = logit_model.fit()\n",
    "print(result.summary2())"
   ]
  },
  {
   "cell_type": "code",
   "execution_count": 8,
   "metadata": {},
   "outputs": [
    {
     "ename": "KeyError",
     "evalue": "\"['title_bout' 'weight_class' 'no_of_rounds'\\n 'Diff_win_by_Decision_Majority' 'Diff_win_by_Decision_Split'\\n 'Diff_win_by_Decision_Unanimous' 'Diff_win_by_KO/TKO'\\n 'Diff_win_by_Submission' 'Diff_win_by_TKO_Doctor_Stoppage'\\n 'date_dayofmonth' 'Referee_Dan Miragliotta' 'Referee_Herb Dean'\\n 'Referee_John McCarthy' 'Referee_Keith Peterson' 'Referee_Leon Roberts'\\n 'Referee_Marc Goddard' 'Referee_Mario Yamasaki' 'Referee_Other'\\n 'Referee_Steve Mazzagatti' 'Referee_Yves Lavigne'] not found in axis\"",
     "output_type": "error",
     "traceback": [
      "\u001b[1;31m---------------------------------------------------------------------------\u001b[0m",
      "\u001b[1;31mKeyError\u001b[0m                                  Traceback (most recent call last)",
      "\u001b[1;32m<ipython-input-8-2319919ecf44>\u001b[0m in \u001b[0;36m<module>\u001b[1;34m\u001b[0m\n\u001b[1;32m----> 1\u001b[1;33m \u001b[0mfeatures_adj\u001b[0m \u001b[1;33m=\u001b[0m \u001b[0mfeatures\u001b[0m\u001b[1;33m.\u001b[0m\u001b[0mdrop\u001b[0m\u001b[1;33m(\u001b[0m\u001b[0mindex\u001b[0m \u001b[1;33m=\u001b[0m \u001b[0mresult\u001b[0m\u001b[1;33m.\u001b[0m\u001b[0msummary2\u001b[0m\u001b[1;33m(\u001b[0m\u001b[1;33m)\u001b[0m\u001b[1;33m.\u001b[0m\u001b[0mtables\u001b[0m\u001b[1;33m[\u001b[0m\u001b[1;36m1\u001b[0m\u001b[1;33m]\u001b[0m\u001b[1;33m.\u001b[0m\u001b[0mindex\u001b[0m\u001b[1;33m[\u001b[0m\u001b[0mresult\u001b[0m\u001b[1;33m.\u001b[0m\u001b[0msummary2\u001b[0m\u001b[1;33m(\u001b[0m\u001b[1;33m)\u001b[0m\u001b[1;33m.\u001b[0m\u001b[0mtables\u001b[0m\u001b[1;33m[\u001b[0m\u001b[1;36m1\u001b[0m\u001b[1;33m]\u001b[0m\u001b[1;33m[\u001b[0m\u001b[1;34m\"P>|z|\"\u001b[0m\u001b[1;33m]\u001b[0m \u001b[1;33m>\u001b[0m \u001b[1;36m.15\u001b[0m\u001b[1;33m]\u001b[0m\u001b[1;33m)\u001b[0m\u001b[1;33m\u001b[0m\u001b[1;33m\u001b[0m\u001b[0m\n\u001b[0m\u001b[0;32m      2\u001b[0m \u001b[0mlogit_model\u001b[0m \u001b[1;33m=\u001b[0m \u001b[0msm\u001b[0m\u001b[1;33m.\u001b[0m\u001b[0mLogit\u001b[0m\u001b[1;33m(\u001b[0m\u001b[0mdata\u001b[0m\u001b[1;33m[\u001b[0m\u001b[0mtarget\u001b[0m\u001b[1;33m]\u001b[0m\u001b[1;33m,\u001b[0m \u001b[0mdata\u001b[0m\u001b[1;33m[\u001b[0m\u001b[0mfeatures_adj\u001b[0m\u001b[1;33m]\u001b[0m\u001b[1;33m)\u001b[0m\u001b[1;33m\u001b[0m\u001b[1;33m\u001b[0m\u001b[0m\n\u001b[0;32m      3\u001b[0m \u001b[0mresult\u001b[0m \u001b[1;33m=\u001b[0m \u001b[0mlogit_model\u001b[0m\u001b[1;33m.\u001b[0m\u001b[0mfit\u001b[0m\u001b[1;33m(\u001b[0m\u001b[1;33m)\u001b[0m\u001b[1;33m\u001b[0m\u001b[1;33m\u001b[0m\u001b[0m\n\u001b[0;32m      4\u001b[0m \u001b[0mprint\u001b[0m\u001b[1;33m(\u001b[0m\u001b[0mresult\u001b[0m\u001b[1;33m.\u001b[0m\u001b[0msummary2\u001b[0m\u001b[1;33m(\u001b[0m\u001b[1;33m)\u001b[0m\u001b[1;33m)\u001b[0m\u001b[1;33m\u001b[0m\u001b[1;33m\u001b[0m\u001b[0m\n",
      "\u001b[1;32mc:\\users\\bryce\\documents\\python37\\lib\\site-packages\\pandas\\core\\series.py\u001b[0m in \u001b[0;36mdrop\u001b[1;34m(self, labels, axis, index, columns, level, inplace, errors)\u001b[0m\n\u001b[0;32m   4321\u001b[0m             \u001b[0mlevel\u001b[0m\u001b[1;33m=\u001b[0m\u001b[0mlevel\u001b[0m\u001b[1;33m,\u001b[0m\u001b[1;33m\u001b[0m\u001b[1;33m\u001b[0m\u001b[0m\n\u001b[0;32m   4322\u001b[0m             \u001b[0minplace\u001b[0m\u001b[1;33m=\u001b[0m\u001b[0minplace\u001b[0m\u001b[1;33m,\u001b[0m\u001b[1;33m\u001b[0m\u001b[1;33m\u001b[0m\u001b[0m\n\u001b[1;32m-> 4323\u001b[1;33m             \u001b[0merrors\u001b[0m\u001b[1;33m=\u001b[0m\u001b[0merrors\u001b[0m\u001b[1;33m,\u001b[0m\u001b[1;33m\u001b[0m\u001b[1;33m\u001b[0m\u001b[0m\n\u001b[0m\u001b[0;32m   4324\u001b[0m         )\n\u001b[0;32m   4325\u001b[0m \u001b[1;33m\u001b[0m\u001b[0m\n",
      "\u001b[1;32mc:\\users\\bryce\\documents\\python37\\lib\\site-packages\\pandas\\core\\generic.py\u001b[0m in \u001b[0;36mdrop\u001b[1;34m(self, labels, axis, index, columns, level, inplace, errors)\u001b[0m\n\u001b[0;32m   3912\u001b[0m         \u001b[1;32mfor\u001b[0m \u001b[0maxis\u001b[0m\u001b[1;33m,\u001b[0m \u001b[0mlabels\u001b[0m \u001b[1;32min\u001b[0m \u001b[0maxes\u001b[0m\u001b[1;33m.\u001b[0m\u001b[0mitems\u001b[0m\u001b[1;33m(\u001b[0m\u001b[1;33m)\u001b[0m\u001b[1;33m:\u001b[0m\u001b[1;33m\u001b[0m\u001b[1;33m\u001b[0m\u001b[0m\n\u001b[0;32m   3913\u001b[0m             \u001b[1;32mif\u001b[0m \u001b[0mlabels\u001b[0m \u001b[1;32mis\u001b[0m \u001b[1;32mnot\u001b[0m \u001b[1;32mNone\u001b[0m\u001b[1;33m:\u001b[0m\u001b[1;33m\u001b[0m\u001b[1;33m\u001b[0m\u001b[0m\n\u001b[1;32m-> 3914\u001b[1;33m                 \u001b[0mobj\u001b[0m \u001b[1;33m=\u001b[0m \u001b[0mobj\u001b[0m\u001b[1;33m.\u001b[0m\u001b[0m_drop_axis\u001b[0m\u001b[1;33m(\u001b[0m\u001b[0mlabels\u001b[0m\u001b[1;33m,\u001b[0m \u001b[0maxis\u001b[0m\u001b[1;33m,\u001b[0m \u001b[0mlevel\u001b[0m\u001b[1;33m=\u001b[0m\u001b[0mlevel\u001b[0m\u001b[1;33m,\u001b[0m \u001b[0merrors\u001b[0m\u001b[1;33m=\u001b[0m\u001b[0merrors\u001b[0m\u001b[1;33m)\u001b[0m\u001b[1;33m\u001b[0m\u001b[1;33m\u001b[0m\u001b[0m\n\u001b[0m\u001b[0;32m   3915\u001b[0m \u001b[1;33m\u001b[0m\u001b[0m\n\u001b[0;32m   3916\u001b[0m         \u001b[1;32mif\u001b[0m \u001b[0minplace\u001b[0m\u001b[1;33m:\u001b[0m\u001b[1;33m\u001b[0m\u001b[1;33m\u001b[0m\u001b[0m\n",
      "\u001b[1;32mc:\\users\\bryce\\documents\\python37\\lib\\site-packages\\pandas\\core\\generic.py\u001b[0m in \u001b[0;36m_drop_axis\u001b[1;34m(self, labels, axis, level, errors)\u001b[0m\n\u001b[0;32m   3944\u001b[0m                 \u001b[0mnew_axis\u001b[0m \u001b[1;33m=\u001b[0m \u001b[0maxis\u001b[0m\u001b[1;33m.\u001b[0m\u001b[0mdrop\u001b[0m\u001b[1;33m(\u001b[0m\u001b[0mlabels\u001b[0m\u001b[1;33m,\u001b[0m \u001b[0mlevel\u001b[0m\u001b[1;33m=\u001b[0m\u001b[0mlevel\u001b[0m\u001b[1;33m,\u001b[0m \u001b[0merrors\u001b[0m\u001b[1;33m=\u001b[0m\u001b[0merrors\u001b[0m\u001b[1;33m)\u001b[0m\u001b[1;33m\u001b[0m\u001b[1;33m\u001b[0m\u001b[0m\n\u001b[0;32m   3945\u001b[0m             \u001b[1;32melse\u001b[0m\u001b[1;33m:\u001b[0m\u001b[1;33m\u001b[0m\u001b[1;33m\u001b[0m\u001b[0m\n\u001b[1;32m-> 3946\u001b[1;33m                 \u001b[0mnew_axis\u001b[0m \u001b[1;33m=\u001b[0m \u001b[0maxis\u001b[0m\u001b[1;33m.\u001b[0m\u001b[0mdrop\u001b[0m\u001b[1;33m(\u001b[0m\u001b[0mlabels\u001b[0m\u001b[1;33m,\u001b[0m \u001b[0merrors\u001b[0m\u001b[1;33m=\u001b[0m\u001b[0merrors\u001b[0m\u001b[1;33m)\u001b[0m\u001b[1;33m\u001b[0m\u001b[1;33m\u001b[0m\u001b[0m\n\u001b[0m\u001b[0;32m   3947\u001b[0m             \u001b[0mresult\u001b[0m \u001b[1;33m=\u001b[0m \u001b[0mself\u001b[0m\u001b[1;33m.\u001b[0m\u001b[0mreindex\u001b[0m\u001b[1;33m(\u001b[0m\u001b[1;33m**\u001b[0m\u001b[1;33m{\u001b[0m\u001b[0maxis_name\u001b[0m\u001b[1;33m:\u001b[0m \u001b[0mnew_axis\u001b[0m\u001b[1;33m}\u001b[0m\u001b[1;33m)\u001b[0m\u001b[1;33m\u001b[0m\u001b[1;33m\u001b[0m\u001b[0m\n\u001b[0;32m   3948\u001b[0m \u001b[1;33m\u001b[0m\u001b[0m\n",
      "\u001b[1;32mc:\\users\\bryce\\documents\\python37\\lib\\site-packages\\pandas\\core\\indexes\\base.py\u001b[0m in \u001b[0;36mdrop\u001b[1;34m(self, labels, errors)\u001b[0m\n\u001b[0;32m   5338\u001b[0m         \u001b[1;32mif\u001b[0m \u001b[0mmask\u001b[0m\u001b[1;33m.\u001b[0m\u001b[0many\u001b[0m\u001b[1;33m(\u001b[0m\u001b[1;33m)\u001b[0m\u001b[1;33m:\u001b[0m\u001b[1;33m\u001b[0m\u001b[1;33m\u001b[0m\u001b[0m\n\u001b[0;32m   5339\u001b[0m             \u001b[1;32mif\u001b[0m \u001b[0merrors\u001b[0m \u001b[1;33m!=\u001b[0m \u001b[1;34m\"ignore\"\u001b[0m\u001b[1;33m:\u001b[0m\u001b[1;33m\u001b[0m\u001b[1;33m\u001b[0m\u001b[0m\n\u001b[1;32m-> 5340\u001b[1;33m                 \u001b[1;32mraise\u001b[0m \u001b[0mKeyError\u001b[0m\u001b[1;33m(\u001b[0m\u001b[1;34m\"{} not found in axis\"\u001b[0m\u001b[1;33m.\u001b[0m\u001b[0mformat\u001b[0m\u001b[1;33m(\u001b[0m\u001b[0mlabels\u001b[0m\u001b[1;33m[\u001b[0m\u001b[0mmask\u001b[0m\u001b[1;33m]\u001b[0m\u001b[1;33m)\u001b[0m\u001b[1;33m)\u001b[0m\u001b[1;33m\u001b[0m\u001b[1;33m\u001b[0m\u001b[0m\n\u001b[0m\u001b[0;32m   5341\u001b[0m             \u001b[0mindexer\u001b[0m \u001b[1;33m=\u001b[0m \u001b[0mindexer\u001b[0m\u001b[1;33m[\u001b[0m\u001b[1;33m~\u001b[0m\u001b[0mmask\u001b[0m\u001b[1;33m]\u001b[0m\u001b[1;33m\u001b[0m\u001b[1;33m\u001b[0m\u001b[0m\n\u001b[0;32m   5342\u001b[0m         \u001b[1;32mreturn\u001b[0m \u001b[0mself\u001b[0m\u001b[1;33m.\u001b[0m\u001b[0mdelete\u001b[0m\u001b[1;33m(\u001b[0m\u001b[0mindexer\u001b[0m\u001b[1;33m)\u001b[0m\u001b[1;33m\u001b[0m\u001b[1;33m\u001b[0m\u001b[0m\n",
      "\u001b[1;31mKeyError\u001b[0m: \"['title_bout' 'weight_class' 'no_of_rounds'\\n 'Diff_win_by_Decision_Majority' 'Diff_win_by_Decision_Split'\\n 'Diff_win_by_Decision_Unanimous' 'Diff_win_by_KO/TKO'\\n 'Diff_win_by_Submission' 'Diff_win_by_TKO_Doctor_Stoppage'\\n 'date_dayofmonth' 'Referee_Dan Miragliotta' 'Referee_Herb Dean'\\n 'Referee_John McCarthy' 'Referee_Keith Peterson' 'Referee_Leon Roberts'\\n 'Referee_Marc Goddard' 'Referee_Mario Yamasaki' 'Referee_Other'\\n 'Referee_Steve Mazzagatti' 'Referee_Yves Lavigne'] not found in axis\""
     ]
    }
   ],
   "source": [
    "features_adj = features.drop(index = result.summary2().tables[1].index[result.summary2().tables[1][\"P>|z|\"] > .15])\n",
    "logit_model = sm.Logit(data[target], data[features_adj])\n",
    "result = logit_model.fit()\n",
    "print(result.summary2())"
   ]
  },
  {
   "cell_type": "markdown",
   "metadata": {},
   "source": [
    "Maybe the effects are different by weight class? These results show more promise in some cases (though probably not enough effectiveness for a betting strategy)."
   ]
  },
  {
   "cell_type": "code",
   "execution_count": 9,
   "metadata": {},
   "outputs": [
    {
     "ename": "TypeError",
     "evalue": "can only concatenate str (not \"numpy.int64\") to str",
     "output_type": "error",
     "traceback": [
      "\u001b[1;31m---------------------------------------------------------------------------\u001b[0m",
      "\u001b[1;31mTypeError\u001b[0m                                 Traceback (most recent call last)",
      "\u001b[1;32m<ipython-input-9-8896d709ad10>\u001b[0m in \u001b[0;36m<module>\u001b[1;34m\u001b[0m\n\u001b[0;32m      4\u001b[0m \u001b[1;32mfor\u001b[0m \u001b[0mx\u001b[0m \u001b[1;32min\u001b[0m \u001b[0mrange\u001b[0m\u001b[1;33m(\u001b[0m\u001b[0mlen\u001b[0m\u001b[1;33m(\u001b[0m\u001b[0mclasses\u001b[0m\u001b[1;33m.\u001b[0m\u001b[0mindex\u001b[0m\u001b[1;33m)\u001b[0m\u001b[1;33m)\u001b[0m\u001b[1;33m:\u001b[0m\u001b[1;33m\u001b[0m\u001b[1;33m\u001b[0m\u001b[0m\n\u001b[0;32m      5\u001b[0m     \u001b[0mdf\u001b[0m \u001b[1;33m=\u001b[0m \u001b[0mdata\u001b[0m\u001b[1;33m.\u001b[0m\u001b[0mloc\u001b[0m\u001b[1;33m[\u001b[0m\u001b[0mdata\u001b[0m\u001b[1;33m.\u001b[0m\u001b[0mweight_class\u001b[0m \u001b[1;33m==\u001b[0m \u001b[0mclasses\u001b[0m\u001b[1;33m.\u001b[0m\u001b[0mindex\u001b[0m\u001b[1;33m[\u001b[0m\u001b[0mx\u001b[0m\u001b[1;33m]\u001b[0m\u001b[1;33m]\u001b[0m\u001b[1;33m\u001b[0m\u001b[1;33m\u001b[0m\u001b[0m\n\u001b[1;32m----> 6\u001b[1;33m     \u001b[0mprint\u001b[0m\u001b[1;33m(\u001b[0m\u001b[1;34m\"Class: \"\u001b[0m \u001b[1;33m+\u001b[0m \u001b[0mclasses\u001b[0m\u001b[1;33m.\u001b[0m\u001b[0mindex\u001b[0m\u001b[1;33m[\u001b[0m\u001b[0mx\u001b[0m\u001b[1;33m]\u001b[0m\u001b[1;33m)\u001b[0m\u001b[1;33m\u001b[0m\u001b[1;33m\u001b[0m\u001b[0m\n\u001b[0m\u001b[0;32m      7\u001b[0m     \u001b[0mlogit_model\u001b[0m \u001b[1;33m=\u001b[0m \u001b[0msm\u001b[0m\u001b[1;33m.\u001b[0m\u001b[0mLogit\u001b[0m\u001b[1;33m(\u001b[0m\u001b[0mdf\u001b[0m\u001b[1;33m[\u001b[0m\u001b[0mtarget\u001b[0m\u001b[1;33m]\u001b[0m\u001b[1;33m,\u001b[0m \u001b[0mdf\u001b[0m\u001b[1;33m[\u001b[0m\u001b[0mfeatures_adj\u001b[0m\u001b[1;33m]\u001b[0m\u001b[1;33m)\u001b[0m\u001b[1;33m\u001b[0m\u001b[1;33m\u001b[0m\u001b[0m\n\u001b[0;32m      8\u001b[0m     \u001b[0mresult\u001b[0m \u001b[1;33m=\u001b[0m \u001b[0mlogit_model\u001b[0m\u001b[1;33m.\u001b[0m\u001b[0mfit\u001b[0m\u001b[1;33m(\u001b[0m\u001b[1;33m)\u001b[0m\u001b[1;33m\u001b[0m\u001b[1;33m\u001b[0m\u001b[0m\n",
      "\u001b[1;31mTypeError\u001b[0m: can only concatenate str (not \"numpy.int64\") to str"
     ]
    }
   ],
   "source": [
    "classes = pd.DataFrame(data.weight_class.value_counts())\n",
    "classes.drop(index = classes.index[np.where(classes.weight_class < 100)], inplace = True)\n",
    "\n",
    "for x in range(len(classes.index)):\n",
    "    df = data.loc[data.weight_class == classes.index[x]]\n",
    "    print(\"Class: \" + classes.index[x])\n",
    "    logit_model = sm.Logit(df[target], df[features_adj])\n",
    "    result = logit_model.fit()\n",
    "    print(result.summary2())"
   ]
  }
 ],
 "metadata": {
  "kernelspec": {
   "display_name": "Python 3",
   "language": "python",
   "name": "python3"
  },
  "language_info": {
   "codemirror_mode": {
    "name": "ipython",
    "version": 3
   },
   "file_extension": ".py",
   "mimetype": "text/x-python",
   "name": "python",
   "nbconvert_exporter": "python",
   "pygments_lexer": "ipython3",
   "version": "3.7.5"
  }
 },
 "nbformat": 4,
 "nbformat_minor": 2
}
