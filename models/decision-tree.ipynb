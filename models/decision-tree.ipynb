{
 "cells": [
  {
   "cell_type": "code",
   "execution_count": 1,
   "metadata": {},
   "outputs": [
    {
     "name": "stdout",
     "output_type": "stream",
     "text": [
      "(4368, 165)\n"
     ]
    }
   ],
   "source": [
    "import os\n",
    "for f in os.listdir('../fun/'): exec(open('../fun/'+f).read())\n",
    "del f\n",
    "\n",
    "# Load data.\n",
    "load( '../out/d3-fight-level-transform.pkl' )\n",
    "print( X.shape )"
   ]
  },
  {
   "cell_type": "code",
   "execution_count": 2,
   "metadata": {},
   "outputs": [],
   "source": [
    "# train test split.\n",
    "from sklearn.model_selection import train_test_split\n",
    "X_train , X_test, y_train, y_test = train_test_split(\n",
    "    X, y, \n",
    "    random_state = 718,\n",
    "    test_size = 0.25\n",
    ")"
   ]
  },
  {
   "cell_type": "code",
   "execution_count": 3,
   "metadata": {},
   "outputs": [
    {
     "name": "stdout",
     "output_type": "stream",
     "text": [
      "              precision    recall  f1-score   support\n",
      "\n",
      "           0       0.59      0.41      0.48      1056\n",
      "           1       0.76      0.87      0.81      2220\n",
      "\n",
      "    accuracy                           0.72      3276\n",
      "   macro avg       0.67      0.64      0.65      3276\n",
      "weighted avg       0.70      0.72      0.70      3276\n",
      "\n"
     ]
    }
   ],
   "source": [
    "# Fit decision tree.\n",
    "from sklearn.tree import DecisionTreeClassifier\n",
    "m = DecisionTreeClassifier( max_depth = 6, min_samples_split = .1, random_state = 716 )\n",
    "m.fit( X_train, y_train )\n",
    "\n",
    "# accuracy against train data (in-model).\n",
    "from sklearn.metrics import confusion_matrix, classification_report, f1_score, precision_score, recall_score\n",
    "print( classification_report( y_train, m.predict(X_train) ) )"
   ]
  },
  {
   "cell_type": "code",
   "execution_count": 4,
   "metadata": {},
   "outputs": [
    {
     "name": "stdout",
     "output_type": "stream",
     "text": [
      "              precision    recall  f1-score   support\n",
      "\n",
      "           0       0.50      0.29      0.37       384\n",
      "           1       0.69      0.84      0.76       708\n",
      "\n",
      "    accuracy                           0.65      1092\n",
      "   macro avg       0.59      0.57      0.56      1092\n",
      "weighted avg       0.62      0.65      0.62      1092\n",
      "\n"
     ]
    }
   ],
   "source": [
    "# accuracy against test data.\n",
    "from sklearn.metrics import confusion_matrix, classification_report, f1_score, precision_score, recall_score\n",
    "print( classification_report( y_test, m.predict(X_test) ) )"
   ]
  },
  {
   "cell_type": "markdown",
   "metadata": {},
   "source": [
    "f1-score in-model is higher than on test indicating **over-fitting**. \n",
    "\n",
    "Test-set precision is still not great at 69% (predicting all-wins give 60%)."
   ]
  }
 ],
 "metadata": {
  "kernelspec": {
   "display_name": "Python 3",
   "language": "python",
   "name": "python3"
  },
  "language_info": {
   "codemirror_mode": {
    "name": "ipython",
    "version": 3
   },
   "file_extension": ".py",
   "mimetype": "text/x-python",
   "name": "python",
   "nbconvert_exporter": "python",
   "pygments_lexer": "ipython3",
   "version": "3.7.4"
  }
 },
 "nbformat": 4,
 "nbformat_minor": 2
}
