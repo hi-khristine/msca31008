{
 "cells": [
  {
   "cell_type": "markdown",
   "metadata": {},
   "source": [
    "## UFC Fight-level dataset SVM Notebook\n",
    "(thre is no quick rule as to which kernel performs best in every scenario; testing & learning is key)\n",
    "\n",
    "Kernel trick reference:\n",
    "https://towardsdatascience.com/understanding-support-vector-machine-part-2-kernel-trick-mercers-theorem-e1e6848c6c4d"
   ]
  },
  {
   "cell_type": "markdown",
   "metadata": {},
   "source": [
    "#### Import necessary modules"
   ]
  },
  {
   "cell_type": "code",
   "execution_count": 32,
   "metadata": {},
   "outputs": [],
   "source": [
    "import os\n",
    "import sys\n",
    "import pandas as pd\n",
    "import numpy as np\n",
    "import pickle\n",
    "from sklearn.metrics import classification_report, confusion_matrix, f1_score, precision_score, recall_score\n",
    "from sklearn.model_selection import train_test_split, GridSearchCV\n",
    "from sklearn.svm import SVC\n",
    "import matplotlib.pyplot as plt\n",
    "%matplotlib inline"
   ]
  },
  {
   "cell_type": "markdown",
   "metadata": {},
   "source": [
    "#### Helper functions"
   ]
  },
  {
   "cell_type": "code",
   "execution_count": 50,
   "metadata": {},
   "outputs": [],
   "source": [
    "# rtns best params for C and Gamma; they are the parameters for a nonlinear support vector machine\n",
    "\n",
    "def svc_parameter_optimization(X, y, nfolds):\n",
    "    Cs = [0.001, 0.01, 0.1, 1, 10] # C is trade off betw. low train error and low test error (ability to generalize) \n",
    "    gammas = [0.001, 0.01, 0.1, 1] # free parameter of the Gaussian radial basis function\n",
    "    param_grid = {'C': Cs, 'gamma' : gammas}\n",
    "    grid_search = GridSearchCV(SVC(kernel='rbf'), param_grid, cv=nfolds) # instantiate grid search\n",
    "    grid_search.fit(X, y)\n",
    "    grid_search.best_params_\n",
    "    return grid_search.best_params_"
   ]
  },
  {
   "cell_type": "markdown",
   "metadata": {},
   "source": [
    "#### Set working directory"
   ]
  },
  {
   "cell_type": "code",
   "execution_count": 2,
   "metadata": {},
   "outputs": [],
   "source": [
    "os.chdir(r'/Users/colella2/Google Drive/Graduate School/MScA/Courses/31008 Data Mining Principles/Final_Project/msca31008/fun/')"
   ]
  },
  {
   "cell_type": "code",
   "execution_count": 3,
   "metadata": {},
   "outputs": [
    {
     "data": {
      "text/plain": [
       "'/Users/colella2/Google Drive/Graduate School/MScA/Courses/31008 Data Mining Principles/Final_Project/msca31008/fun'"
      ]
     },
     "execution_count": 3,
     "metadata": {},
     "output_type": "execute_result"
    }
   ],
   "source": [
    "pwd"
   ]
  },
  {
   "cell_type": "code",
   "execution_count": 4,
   "metadata": {},
   "outputs": [
    {
     "data": {
      "text/plain": [
       "['.DS_Store',\n",
       " 'r.py',\n",
       " 'tonum.py',\n",
       " 'hierarchical_imputation.py',\n",
       " 'fillna-kmeans.py',\n",
       " 'settings.py',\n",
       " 'pkl.py',\n",
       " 'spl.py',\n",
       " 'untitled',\n",
       " 'ddict.py']"
      ]
     },
     "execution_count": 4,
     "metadata": {},
     "output_type": "execute_result"
    }
   ],
   "source": [
    "os.listdir('../fun/') # confirm items in function folder"
   ]
  },
  {
   "cell_type": "code",
   "execution_count": 5,
   "metadata": {},
   "outputs": [],
   "source": [
    "exec(open('r.py').read()) # test ability to read .py script from function folder"
   ]
  },
  {
   "cell_type": "code",
   "execution_count": 6,
   "metadata": {},
   "outputs": [],
   "source": [
    "# read-in all the functions\n",
    "for filename in os.listdir('../fun/'):\n",
    "    if filename.endswith('.py'):\n",
    "        exec(open(filename).read())\n",
    "        continue\n",
    "    else:\n",
    "        continue"
   ]
  },
  {
   "cell_type": "markdown",
   "metadata": {},
   "source": [
    "#### Open file of interest"
   ]
  },
  {
   "cell_type": "code",
   "execution_count": 7,
   "metadata": {},
   "outputs": [],
   "source": [
    "os.chdir(r'/Users/colella2/Google Drive/Graduate School/MScA/Courses/31008 Data Mining Principles/Final_Project/msca31008/out')\n",
    "\n",
    "with open('d3-fight-level-transform.pkl', 'rb') as f:\n",
    "    data = pickle.load(f)"
   ]
  },
  {
   "cell_type": "code",
   "execution_count": 8,
   "metadata": {},
   "outputs": [
    {
     "name": "stdout",
     "output_type": "stream",
     "text": [
      "(4368, 165)\n"
     ]
    }
   ],
   "source": [
    "load( '../out/d3-fight-level-transform.pkl' )\n",
    "print( X.shape )"
   ]
  },
  {
   "cell_type": "markdown",
   "metadata": {},
   "source": [
    "#### Examine key-value pairs in dict"
   ]
  },
  {
   "cell_type": "code",
   "execution_count": 9,
   "metadata": {},
   "outputs": [
    {
     "name": "stdout",
     "output_type": "stream",
     "text": [
      "X [[ 2.91491784e-01 -9.60590063e-02  2.50234064e-01 ... -7.94744912e-03\n",
      "   3.10245107e-03 -1.87224280e-03]\n",
      " [ 2.70915901e-01 -1.24214845e-01  2.32611941e-01 ...  7.75837707e-03\n",
      "   1.68645662e-03 -2.72968561e-04]\n",
      " [-9.60671224e-03 -1.16270731e-02 -9.73710726e-03 ... -2.94963859e-01\n",
      "   6.74519642e-04  2.24984217e-04]\n",
      " ...\n",
      " [-1.24919035e-02 -1.80251541e-01 -1.85625621e-01 ... -1.63732606e-03\n",
      "   2.16095113e-03 -1.86365288e-03]\n",
      " [-1.20995932e-02 -1.73834821e-01 -1.79162807e-01 ... -1.52725608e-04\n",
      "   7.74126643e-04 -3.98965666e-04]\n",
      " [-1.29588989e-02 -1.83460266e-01 -1.89608127e-01 ... -2.01230682e-03\n",
      "   1.44181940e-03 -1.33855060e-03]]\n",
      "y 0       1\n",
      "1       1\n",
      "2       1\n",
      "3       0\n",
      "4       0\n",
      "5       1\n",
      "6       1\n",
      "7       0\n",
      "8       0\n",
      "9       1\n",
      "10      0\n",
      "11      1\n",
      "12      0\n",
      "13      0\n",
      "14      1\n",
      "15      0\n",
      "16      0\n",
      "17      0\n",
      "18      0\n",
      "19      0\n",
      "20      1\n",
      "21      0\n",
      "22      1\n",
      "23      1\n",
      "24      0\n",
      "       ..\n",
      "4343    1\n",
      "4344    1\n",
      "4345    1\n",
      "4346    1\n",
      "4347    1\n",
      "4348    0\n",
      "4349    1\n",
      "4350    1\n",
      "4351    1\n",
      "4352    1\n",
      "4353    1\n",
      "4354    1\n",
      "4355    1\n",
      "4356    1\n",
      "4357    1\n",
      "4358    1\n",
      "4359    1\n",
      "4360    1\n",
      "4361    1\n",
      "4362    1\n",
      "4363    1\n",
      "4364    1\n",
      "4365    1\n",
      "4366    1\n",
      "4367    1\n",
      "Name: Winner, Length: 4368, dtype: int64\n",
      "cols Index(['title_bout', 'weight_class', 'no_of_rounds', 'date_year', 'date_month', 'date_dayofmonth', 'date_dayofweek', 'date_frisat', 'womens', 'weight_class_catch_weight',\n",
      "       ...\n",
      "       'Mean_avg_opp_HEAD_pct', 'Diff_avg_opp_HEAD_pct', 'Mean_avg_opp_LEG_pct', 'Diff_avg_opp_LEG_pct', 'Mean_avg_opp_SIG_STR_pct', 'Diff_avg_opp_SIG_STR_pct', 'Mean_avg_opp_TD_pct',\n",
      "       'Diff_avg_opp_TD_pct', 'Mean_avg_opp_TOTAL_STR_pct', 'Diff_avg_opp_TOTAL_STR_pct'],\n",
      "      dtype='object', length=165)\n"
     ]
    }
   ],
   "source": [
    "for key, value in data.items():\n",
    "  print(key, value)"
   ]
  },
  {
   "cell_type": "code",
   "execution_count": 10,
   "metadata": {},
   "outputs": [
    {
     "name": "stdout",
     "output_type": "stream",
     "text": [
      "(4368, 165)\n"
     ]
    }
   ],
   "source": [
    "print(X.shape) # view feature shape; 4368 rows, 165 columns"
   ]
  },
  {
   "cell_type": "code",
   "execution_count": 11,
   "metadata": {},
   "outputs": [
    {
     "name": "stdout",
     "output_type": "stream",
     "text": [
      "(4368,)\n"
     ]
    }
   ],
   "source": [
    "print(y.shape) # view predicted value shape; 4368 rows, 1 column"
   ]
  },
  {
   "cell_type": "markdown",
   "metadata": {},
   "source": [
    "#### Train-test split"
   ]
  },
  {
   "cell_type": "code",
   "execution_count": 12,
   "metadata": {},
   "outputs": [],
   "source": [
    "X_train , X_test, y_train, y_test = train_test_split(X, y, random_state = 718, test_size = 0.3)"
   ]
  },
  {
   "cell_type": "markdown",
   "metadata": {},
   "source": [
    "#### Fit model (linear kernel)\n",
    "(find decision boundary for linearly separable data)"
   ]
  },
  {
   "cell_type": "code",
   "execution_count": 13,
   "metadata": {},
   "outputs": [
    {
     "data": {
      "text/plain": [
       "SVC(C=1.0, cache_size=200, class_weight=None, coef0=0.0,\n",
       "    decision_function_shape='ovr', degree=3, gamma='auto_deprecated',\n",
       "    kernel='linear', max_iter=-1, probability=False, random_state=None,\n",
       "    shrinking=True, tol=0.001, verbose=False)"
      ]
     },
     "execution_count": 13,
     "metadata": {},
     "output_type": "execute_result"
    }
   ],
   "source": [
    "svclassifier_linear = SVC(kernel='linear')\n",
    "svclassifier_linear.fit(X_train, y_train)"
   ]
  },
  {
   "cell_type": "code",
   "execution_count": 14,
   "metadata": {},
   "outputs": [
    {
     "name": "stdout",
     "output_type": "stream",
     "text": [
      "              precision    recall  f1-score   support\n",
      "\n",
      "           0       0.61      0.16      0.26       981\n",
      "           1       0.71      0.95      0.81      2076\n",
      "\n",
      "    accuracy                           0.70      3057\n",
      "   macro avg       0.66      0.56      0.53      3057\n",
      "weighted avg       0.68      0.70      0.63      3057\n",
      "\n"
     ]
    }
   ],
   "source": [
    "# accuracy against train data\n",
    "print(classification_report(y_train,svclassifier_linear.predict(X_train)))"
   ]
  },
  {
   "cell_type": "code",
   "execution_count": 15,
   "metadata": {},
   "outputs": [
    {
     "name": "stdout",
     "output_type": "stream",
     "text": [
      "              precision    recall  f1-score   support\n",
      "\n",
      "           0       0.49      0.10      0.16       459\n",
      "           1       0.66      0.94      0.78       852\n",
      "\n",
      "    accuracy                           0.65      1311\n",
      "   macro avg       0.57      0.52      0.47      1311\n",
      "weighted avg       0.60      0.65      0.56      1311\n",
      "\n"
     ]
    }
   ],
   "source": [
    "# accuracy against test data\n",
    "print(classification_report(y_test, svclassifier_linear.predict(X_test)))"
   ]
  },
  {
   "cell_type": "code",
   "execution_count": 16,
   "metadata": {},
   "outputs": [
    {
     "name": "stdout",
     "output_type": "stream",
     "text": [
      "[[ 45 414]\n",
      " [ 47 805]]\n"
     ]
    }
   ],
   "source": [
    "# store predicted values on X_test & print confusion matrix\n",
    "y_pred_linear = svclassifier_linear.predict(X_test)\n",
    "print(confusion_matrix(y_test,y_pred_linear))"
   ]
  },
  {
   "cell_type": "markdown",
   "metadata": {},
   "source": [
    "### Begin section for non-linear investigation"
   ]
  },
  {
   "cell_type": "markdown",
   "metadata": {},
   "source": [
    "#### Fit model (poly kernel)"
   ]
  },
  {
   "cell_type": "code",
   "execution_count": 17,
   "metadata": {},
   "outputs": [
    {
     "name": "stderr",
     "output_type": "stream",
     "text": [
      "/Users/colella2/anaconda3/lib/python3.7/site-packages/sklearn/svm/base.py:193: FutureWarning: The default value of gamma will change from 'auto' to 'scale' in version 0.22 to account better for unscaled features. Set gamma explicitly to 'auto' or 'scale' to avoid this warning.\n",
      "  \"avoid this warning.\", FutureWarning)\n"
     ]
    },
    {
     "data": {
      "text/plain": [
       "SVC(C=1.0, cache_size=200, class_weight=None, coef0=0.0,\n",
       "    decision_function_shape='ovr', degree=8, gamma='auto_deprecated',\n",
       "    kernel='poly', max_iter=-1, probability=False, random_state=None,\n",
       "    shrinking=True, tol=0.001, verbose=False)"
      ]
     },
     "execution_count": 17,
     "metadata": {},
     "output_type": "execute_result"
    }
   ],
   "source": [
    "svclassifier_poly = SVC(kernel='poly', degree=8)\n",
    "svclassifier_poly.fit(X_train, y_train)"
   ]
  },
  {
   "cell_type": "code",
   "execution_count": 18,
   "metadata": {},
   "outputs": [
    {
     "name": "stdout",
     "output_type": "stream",
     "text": [
      "              precision    recall  f1-score   support\n",
      "\n",
      "           0       0.00      0.00      0.00       981\n",
      "           1       0.68      1.00      0.81      2076\n",
      "\n",
      "    accuracy                           0.68      3057\n",
      "   macro avg       0.34      0.50      0.40      3057\n",
      "weighted avg       0.46      0.68      0.55      3057\n",
      "\n"
     ]
    },
    {
     "name": "stderr",
     "output_type": "stream",
     "text": [
      "/Users/colella2/anaconda3/lib/python3.7/site-packages/sklearn/metrics/classification.py:1437: UndefinedMetricWarning: Precision and F-score are ill-defined and being set to 0.0 in labels with no predicted samples.\n",
      "  'precision', 'predicted', average, warn_for)\n"
     ]
    }
   ],
   "source": [
    "# accuracy against train data\n",
    "print(classification_report(y_train,svclassifier_poly.predict(X_train)))"
   ]
  },
  {
   "cell_type": "code",
   "execution_count": 19,
   "metadata": {},
   "outputs": [
    {
     "name": "stdout",
     "output_type": "stream",
     "text": [
      "              precision    recall  f1-score   support\n",
      "\n",
      "           0       0.00      0.00      0.00       459\n",
      "           1       0.65      1.00      0.79       852\n",
      "\n",
      "    accuracy                           0.65      1311\n",
      "   macro avg       0.32      0.50      0.39      1311\n",
      "weighted avg       0.42      0.65      0.51      1311\n",
      "\n"
     ]
    },
    {
     "name": "stderr",
     "output_type": "stream",
     "text": [
      "/Users/colella2/anaconda3/lib/python3.7/site-packages/sklearn/metrics/classification.py:1437: UndefinedMetricWarning: Precision and F-score are ill-defined and being set to 0.0 in labels with no predicted samples.\n",
      "  'precision', 'predicted', average, warn_for)\n"
     ]
    }
   ],
   "source": [
    "# accuracy against test data\n",
    "print(classification_report(y_test, svclassifier_poly.predict(X_test)))"
   ]
  },
  {
   "cell_type": "code",
   "execution_count": 20,
   "metadata": {},
   "outputs": [
    {
     "name": "stdout",
     "output_type": "stream",
     "text": [
      "[[  0 459]\n",
      " [  0 852]]\n"
     ]
    }
   ],
   "source": [
    "# store predicted values on X_test & print confusion matrix\n",
    "y_pred_poly = svclassifier_poly.predict(X_test)\n",
    "print(confusion_matrix(y_test,y_pred_poly))"
   ]
  },
  {
   "cell_type": "markdown",
   "metadata": {},
   "source": [
    "#### Fit model (Gaussian kernel)\n",
    "(this is a special case for rbf)"
   ]
  },
  {
   "cell_type": "code",
   "execution_count": 21,
   "metadata": {},
   "outputs": [
    {
     "name": "stderr",
     "output_type": "stream",
     "text": [
      "/Users/colella2/anaconda3/lib/python3.7/site-packages/sklearn/svm/base.py:193: FutureWarning: The default value of gamma will change from 'auto' to 'scale' in version 0.22 to account better for unscaled features. Set gamma explicitly to 'auto' or 'scale' to avoid this warning.\n",
      "  \"avoid this warning.\", FutureWarning)\n"
     ]
    },
    {
     "data": {
      "text/plain": [
       "SVC(C=1.0, cache_size=200, class_weight=None, coef0=0.0,\n",
       "    decision_function_shape='ovr', degree=3, gamma='auto_deprecated',\n",
       "    kernel='rbf', max_iter=-1, probability=False, random_state=None,\n",
       "    shrinking=True, tol=0.001, verbose=False)"
      ]
     },
     "execution_count": 21,
     "metadata": {},
     "output_type": "execute_result"
    }
   ],
   "source": [
    "svclassifier_gaus = SVC(kernel='rbf')\n",
    "svclassifier_gaus.fit(X_train, y_train)"
   ]
  },
  {
   "cell_type": "code",
   "execution_count": 22,
   "metadata": {},
   "outputs": [
    {
     "name": "stdout",
     "output_type": "stream",
     "text": [
      "              precision    recall  f1-score   support\n",
      "\n",
      "           0       0.00      0.00      0.00       981\n",
      "           1       0.68      1.00      0.81      2076\n",
      "\n",
      "    accuracy                           0.68      3057\n",
      "   macro avg       0.34      0.50      0.40      3057\n",
      "weighted avg       0.46      0.68      0.55      3057\n",
      "\n"
     ]
    },
    {
     "name": "stderr",
     "output_type": "stream",
     "text": [
      "/Users/colella2/anaconda3/lib/python3.7/site-packages/sklearn/metrics/classification.py:1437: UndefinedMetricWarning: Precision and F-score are ill-defined and being set to 0.0 in labels with no predicted samples.\n",
      "  'precision', 'predicted', average, warn_for)\n"
     ]
    }
   ],
   "source": [
    "# accuracy against train data\n",
    "print(classification_report(y_train,svclassifier_gaus.predict(X_train)))"
   ]
  },
  {
   "cell_type": "code",
   "execution_count": 23,
   "metadata": {},
   "outputs": [
    {
     "name": "stdout",
     "output_type": "stream",
     "text": [
      "              precision    recall  f1-score   support\n",
      "\n",
      "           0       0.00      0.00      0.00       459\n",
      "           1       0.65      1.00      0.79       852\n",
      "\n",
      "    accuracy                           0.65      1311\n",
      "   macro avg       0.32      0.50      0.39      1311\n",
      "weighted avg       0.42      0.65      0.51      1311\n",
      "\n"
     ]
    },
    {
     "name": "stderr",
     "output_type": "stream",
     "text": [
      "/Users/colella2/anaconda3/lib/python3.7/site-packages/sklearn/metrics/classification.py:1437: UndefinedMetricWarning: Precision and F-score are ill-defined and being set to 0.0 in labels with no predicted samples.\n",
      "  'precision', 'predicted', average, warn_for)\n"
     ]
    }
   ],
   "source": [
    "# accuracy against test data\n",
    "print(classification_report(y_test, svclassifier_gaus.predict(X_test)))"
   ]
  },
  {
   "cell_type": "code",
   "execution_count": 24,
   "metadata": {},
   "outputs": [
    {
     "name": "stdout",
     "output_type": "stream",
     "text": [
      "[[  0 459]\n",
      " [  0 852]]\n"
     ]
    }
   ],
   "source": [
    "# store predicted values on X_test & print confusion matrix\n",
    "y_pred_gaus = svclassifier_gaus.predict(X_test)\n",
    "print(confusion_matrix(y_test,y_pred_gaus))"
   ]
  },
  {
   "cell_type": "markdown",
   "metadata": {},
   "source": [
    "#### After first running simply (as was done above), commence optimization..."
   ]
  },
  {
   "cell_type": "code",
   "execution_count": 36,
   "metadata": {},
   "outputs": [
    {
     "data": {
      "text/plain": [
       "{'C': 1, 'gamma': 1}"
      ]
     },
     "execution_count": 36,
     "metadata": {},
     "output_type": "execute_result"
    }
   ],
   "source": [
    "# commence grid search for best parameters on training set\n",
    "svc_parameter_optimization(X_train, y_train, 5)"
   ]
  },
  {
   "cell_type": "code",
   "execution_count": 37,
   "metadata": {},
   "outputs": [
    {
     "data": {
      "text/plain": [
       "SVC(C=1, cache_size=200, class_weight=None, coef0=0.0,\n",
       "    decision_function_shape='ovr', degree=3, gamma=1, kernel='rbf', max_iter=-1,\n",
       "    probability=False, random_state=None, shrinking=True, tol=0.001,\n",
       "    verbose=False)"
      ]
     },
     "execution_count": 37,
     "metadata": {},
     "output_type": "execute_result"
    }
   ],
   "source": [
    "# instantiate with optimal parameters\n",
    "svclassifier_gaus_optim = SVC(kernel='rbf', C = 1, gamma = 1)\n",
    "svclassifier_gaus_optim.fit(X_train, y_train)"
   ]
  },
  {
   "cell_type": "code",
   "execution_count": 38,
   "metadata": {},
   "outputs": [
    {
     "name": "stdout",
     "output_type": "stream",
     "text": [
      "              precision    recall  f1-score   support\n",
      "\n",
      "           0       0.91      0.48      0.63       981\n",
      "           1       0.80      0.98      0.88      2076\n",
      "\n",
      "    accuracy                           0.82      3057\n",
      "   macro avg       0.86      0.73      0.75      3057\n",
      "weighted avg       0.84      0.82      0.80      3057\n",
      "\n"
     ]
    }
   ],
   "source": [
    "# view optimized results/accuracy on testing data\n",
    "print(classification_report(y_train,svclassifier_gaus_optim.predict(X_train)))"
   ]
  },
  {
   "cell_type": "code",
   "execution_count": 39,
   "metadata": {},
   "outputs": [
    {
     "name": "stdout",
     "output_type": "stream",
     "text": [
      "              precision    recall  f1-score   support\n",
      "\n",
      "           0       0.47      0.13      0.20       459\n",
      "           1       0.66      0.92      0.77       852\n",
      "\n",
      "    accuracy                           0.64      1311\n",
      "   macro avg       0.57      0.53      0.49      1311\n",
      "weighted avg       0.60      0.64      0.57      1311\n",
      "\n"
     ]
    }
   ],
   "source": [
    "# check accuracy against test data\n",
    "print(classification_report(y_test, svclassifier_gaus_optim.predict(X_test)))"
   ]
  },
  {
   "cell_type": "code",
   "execution_count": 40,
   "metadata": {},
   "outputs": [
    {
     "name": "stdout",
     "output_type": "stream",
     "text": [
      "[[ 60 399]\n",
      " [ 67 785]]\n"
     ]
    }
   ],
   "source": [
    "# store predicted values on X_test & print confusion matrix\n",
    "y_pred_gaus_optim = svclassifier_gaus_optim.predict(X_test)\n",
    "print(confusion_matrix(y_test,y_pred_gaus_optim))"
   ]
  },
  {
   "cell_type": "markdown",
   "metadata": {},
   "source": [
    "#### Fit model (Sigmoid kernel)\n",
    "(suitable for binary classification problems; rtns 0 or 1; activation functino for Neural Networks)"
   ]
  },
  {
   "cell_type": "code",
   "execution_count": 25,
   "metadata": {},
   "outputs": [
    {
     "name": "stderr",
     "output_type": "stream",
     "text": [
      "/Users/colella2/anaconda3/lib/python3.7/site-packages/sklearn/svm/base.py:193: FutureWarning: The default value of gamma will change from 'auto' to 'scale' in version 0.22 to account better for unscaled features. Set gamma explicitly to 'auto' or 'scale' to avoid this warning.\n",
      "  \"avoid this warning.\", FutureWarning)\n"
     ]
    },
    {
     "data": {
      "text/plain": [
       "SVC(C=1.0, cache_size=200, class_weight=None, coef0=0.0,\n",
       "    decision_function_shape='ovr', degree=3, gamma='auto_deprecated',\n",
       "    kernel='sigmoid', max_iter=-1, probability=False, random_state=None,\n",
       "    shrinking=True, tol=0.001, verbose=False)"
      ]
     },
     "execution_count": 25,
     "metadata": {},
     "output_type": "execute_result"
    }
   ],
   "source": [
    "svclassifier_sig = SVC(kernel='sigmoid')\n",
    "svclassifier_sig.fit(X_train, y_train)"
   ]
  },
  {
   "cell_type": "code",
   "execution_count": 26,
   "metadata": {},
   "outputs": [
    {
     "name": "stdout",
     "output_type": "stream",
     "text": [
      "              precision    recall  f1-score   support\n",
      "\n",
      "           0       0.00      0.00      0.00       981\n",
      "           1       0.68      1.00      0.81      2076\n",
      "\n",
      "    accuracy                           0.68      3057\n",
      "   macro avg       0.34      0.50      0.40      3057\n",
      "weighted avg       0.46      0.68      0.55      3057\n",
      "\n"
     ]
    },
    {
     "name": "stderr",
     "output_type": "stream",
     "text": [
      "/Users/colella2/anaconda3/lib/python3.7/site-packages/sklearn/metrics/classification.py:1437: UndefinedMetricWarning: Precision and F-score are ill-defined and being set to 0.0 in labels with no predicted samples.\n",
      "  'precision', 'predicted', average, warn_for)\n"
     ]
    }
   ],
   "source": [
    "# accuracy against train data\n",
    "print(classification_report(y_train,svclassifier_sig.predict(X_train)))"
   ]
  },
  {
   "cell_type": "code",
   "execution_count": 27,
   "metadata": {},
   "outputs": [
    {
     "name": "stdout",
     "output_type": "stream",
     "text": [
      "              precision    recall  f1-score   support\n",
      "\n",
      "           0       0.00      0.00      0.00       459\n",
      "           1       0.65      1.00      0.79       852\n",
      "\n",
      "    accuracy                           0.65      1311\n",
      "   macro avg       0.32      0.50      0.39      1311\n",
      "weighted avg       0.42      0.65      0.51      1311\n",
      "\n"
     ]
    },
    {
     "name": "stderr",
     "output_type": "stream",
     "text": [
      "/Users/colella2/anaconda3/lib/python3.7/site-packages/sklearn/metrics/classification.py:1437: UndefinedMetricWarning: Precision and F-score are ill-defined and being set to 0.0 in labels with no predicted samples.\n",
      "  'precision', 'predicted', average, warn_for)\n"
     ]
    }
   ],
   "source": [
    "# accuracy against test data\n",
    "print(classification_report(y_test, svclassifier_sig.predict(X_test)))"
   ]
  },
  {
   "cell_type": "code",
   "execution_count": 28,
   "metadata": {},
   "outputs": [
    {
     "name": "stdout",
     "output_type": "stream",
     "text": [
      "[[  0 459]\n",
      " [  0 852]]\n"
     ]
    }
   ],
   "source": [
    "# store predicted values on X_test & print confusion matrix\n",
    "y_pred_sig = svclassifier_sig.predict(X_test)\n",
    "print(confusion_matrix(y_test,y_pred_sig))"
   ]
  },
  {
   "cell_type": "markdown",
   "metadata": {},
   "source": [
    "#### Conclusion\n",
    "Linear SVM performs similarly to optimized Gaussian RBF on test sets."
   ]
  }
 ],
 "metadata": {
  "kernelspec": {
   "display_name": "Python 3",
   "language": "python",
   "name": "python3"
  },
  "language_info": {
   "codemirror_mode": {
    "name": "ipython",
    "version": 3
   },
   "file_extension": ".py",
   "mimetype": "text/x-python",
   "name": "python",
   "nbconvert_exporter": "python",
   "pygments_lexer": "ipython3",
   "version": "3.7.3"
  }
 },
 "nbformat": 4,
 "nbformat_minor": 2
}
