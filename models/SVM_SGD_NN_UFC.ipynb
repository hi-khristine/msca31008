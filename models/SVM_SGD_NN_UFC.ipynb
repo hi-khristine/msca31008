{
 "cells": [
  {
   "cell_type": "markdown",
   "metadata": {},
   "source": [
    "## UFC Fight-level dataset SVM, SGD & NN Notebook\n",
    "(thre is no quick rule as to which kernel performs best in every scenario; testing & learning is key)\n",
    "\n",
    "Kernel trick reference:\n",
    "https://towardsdatascience.com/understanding-support-vector-machine-part-2-kernel-trick-mercers-theorem-e1e6848c6c4d"
   ]
  },
  {
   "cell_type": "markdown",
   "metadata": {},
   "source": [
    "#### Import necessary modules"
   ]
  },
  {
   "cell_type": "code",
   "execution_count": 34,
   "metadata": {},
   "outputs": [],
   "source": [
    "import os\n",
    "import sys\n",
    "import pandas as pd\n",
    "import numpy as np\n",
    "import pickle\n",
    "import tensorflow as tf\n",
    "from tensorflow import keras\n",
    "from sklearn.metrics import classification_report, confusion_matrix, f1_score, precision_score, recall_score\n",
    "from sklearn.model_selection import train_test_split, GridSearchCV\n",
    "from sklearn.linear_model import SGDClassifier\n",
    "from sklearn.svm import SVC\n",
    "from keras.layers import Input, Lambda, Dense, Dropout\n",
    "from keras.models import Model, Sequential\n",
    "from keras import optimizers\n",
    "from keras.optimizers import Adam, SGD, RMSprop, Adagrad, Nadam, Adamax, Adadelta\n",
    "from keras.wrappers.scikit_learn import KerasClassifier\n",
    "import matplotlib.pyplot as plt\n",
    "\n",
    "plt.rcParams.update({'font.size': 22})\n",
    "%matplotlib inline"
   ]
  },
  {
   "cell_type": "markdown",
   "metadata": {},
   "source": [
    "#### Helper functions"
   ]
  },
  {
   "cell_type": "code",
   "execution_count": 9,
   "metadata": {},
   "outputs": [],
   "source": [
    "# rtns best params for C and Gamma; they are the parameters for a nonlinear support vector machine\n",
    "\n",
    "def svc_parameter_optimization(X, y, nfolds):\n",
    "    Cs = [0.001, 0.01, 0.1, 1, 10] # C is trade off betw. low train error and low test error (ability to generalize) \n",
    "    gammas = [0.001, 0.01, 0.1, 1] # free parameter of the Gaussian radial basis function\n",
    "    param_grid = {'C': Cs, 'gamma' : gammas}\n",
    "    grid_search = GridSearchCV(SVC(kernel='rbf'), param_grid, cv=nfolds) # instantiate grid search\n",
    "    grid_search.fit(X, y)\n",
    "    grid_search.best_params_\n",
    "    return grid_search.best_params_"
   ]
  },
  {
   "cell_type": "markdown",
   "metadata": {},
   "source": [
    "#### Set working directory"
   ]
  },
  {
   "cell_type": "code",
   "execution_count": 10,
   "metadata": {},
   "outputs": [],
   "source": [
    "os.chdir(r'/Users/colella2/Google Drive/Graduate School/MScA/Courses/31008 Data Mining Principles/Final_Project/msca31008/fun/')"
   ]
  },
  {
   "cell_type": "code",
   "execution_count": 11,
   "metadata": {},
   "outputs": [
    {
     "data": {
      "text/plain": [
       "'/Users/colella2/Google Drive/Graduate School/MScA/Courses/31008 Data Mining Principles/Final_Project/msca31008/fun'"
      ]
     },
     "execution_count": 11,
     "metadata": {},
     "output_type": "execute_result"
    }
   ],
   "source": [
    "pwd"
   ]
  },
  {
   "cell_type": "code",
   "execution_count": 12,
   "metadata": {},
   "outputs": [
    {
     "data": {
      "text/plain": [
       "['.DS_Store',\n",
       " 'r.py',\n",
       " 'tonum.py',\n",
       " 'hierarchical_imputation.py',\n",
       " 'fillna-kmeans.py',\n",
       " 'settings.py',\n",
       " 'pkl.py',\n",
       " 'spl.py',\n",
       " 'untitled',\n",
       " 'ddict.py']"
      ]
     },
     "execution_count": 12,
     "metadata": {},
     "output_type": "execute_result"
    }
   ],
   "source": [
    "os.listdir('../fun/') # confirm items in function folder"
   ]
  },
  {
   "cell_type": "code",
   "execution_count": 13,
   "metadata": {},
   "outputs": [],
   "source": [
    "exec(open('r.py').read()) # test ability to read .py script from function folder"
   ]
  },
  {
   "cell_type": "code",
   "execution_count": 14,
   "metadata": {},
   "outputs": [],
   "source": [
    "# read-in all the functions\n",
    "for filename in os.listdir('../fun/'):\n",
    "    if filename.endswith('.py'):\n",
    "        exec(open(filename).read())\n",
    "        continue\n",
    "    else:\n",
    "        continue"
   ]
  },
  {
   "cell_type": "markdown",
   "metadata": {},
   "source": [
    "#### Open file of interest"
   ]
  },
  {
   "cell_type": "code",
   "execution_count": 15,
   "metadata": {},
   "outputs": [],
   "source": [
    "os.chdir(r'/Users/colella2/Google Drive/Graduate School/MScA/Courses/31008 Data Mining Principles/Final_Project/msca31008/out')\n",
    "\n",
    "with open('d3-fight-level-transform.pkl', 'rb') as f:\n",
    "    data = pickle.load(f)"
   ]
  },
  {
   "cell_type": "code",
   "execution_count": 16,
   "metadata": {},
   "outputs": [
    {
     "name": "stdout",
     "output_type": "stream",
     "text": [
      "(4368, 165)\n"
     ]
    }
   ],
   "source": [
    "load( '../out/d3-fight-level-transform.pkl' )\n",
    "print( X.shape )"
   ]
  },
  {
   "cell_type": "markdown",
   "metadata": {},
   "source": [
    "#### Examine key-value pairs in dict"
   ]
  },
  {
   "cell_type": "code",
   "execution_count": 17,
   "metadata": {},
   "outputs": [
    {
     "name": "stdout",
     "output_type": "stream",
     "text": [
      "X [[ 2.91491784e-01 -9.60590063e-02  2.50234064e-01 ... -7.94744912e-03\n",
      "   3.10245107e-03 -1.87224280e-03]\n",
      " [ 2.70915901e-01 -1.24214845e-01  2.32611941e-01 ...  7.75837707e-03\n",
      "   1.68645662e-03 -2.72968561e-04]\n",
      " [-9.60671224e-03 -1.16270731e-02 -9.73710726e-03 ... -2.94963859e-01\n",
      "   6.74519642e-04  2.24984217e-04]\n",
      " ...\n",
      " [-1.24919035e-02 -1.80251541e-01 -1.85625621e-01 ... -1.63732606e-03\n",
      "   2.16095113e-03 -1.86365288e-03]\n",
      " [-1.20995932e-02 -1.73834821e-01 -1.79162807e-01 ... -1.52725608e-04\n",
      "   7.74126643e-04 -3.98965666e-04]\n",
      " [-1.29588989e-02 -1.83460266e-01 -1.89608127e-01 ... -2.01230682e-03\n",
      "   1.44181940e-03 -1.33855060e-03]]\n",
      "y 0       1\n",
      "1       1\n",
      "2       1\n",
      "3       0\n",
      "4       0\n",
      "       ..\n",
      "4363    1\n",
      "4364    1\n",
      "4365    1\n",
      "4366    1\n",
      "4367    1\n",
      "Name: Winner, Length: 4368, dtype: int64\n",
      "cols Index(['title_bout', 'weight_class', 'no_of_rounds', 'date_year', 'date_month', 'date_dayofmonth', 'date_dayofweek', 'date_frisat', 'womens', 'weight_class_catch_weight',\n",
      "       ...\n",
      "       'Mean_avg_opp_HEAD_pct', 'Diff_avg_opp_HEAD_pct', 'Mean_avg_opp_LEG_pct', 'Diff_avg_opp_LEG_pct', 'Mean_avg_opp_SIG_STR_pct', 'Diff_avg_opp_SIG_STR_pct', 'Mean_avg_opp_TD_pct',\n",
      "       'Diff_avg_opp_TD_pct', 'Mean_avg_opp_TOTAL_STR_pct', 'Diff_avg_opp_TOTAL_STR_pct'],\n",
      "      dtype='object', length=165)\n"
     ]
    }
   ],
   "source": [
    "for key, value in data.items():\n",
    "  print(key, value)"
   ]
  },
  {
   "cell_type": "code",
   "execution_count": 18,
   "metadata": {},
   "outputs": [
    {
     "name": "stdout",
     "output_type": "stream",
     "text": [
      "(4368, 165)\n"
     ]
    }
   ],
   "source": [
    "print(X.shape) # view feature shape; 4368 rows, 165 columns"
   ]
  },
  {
   "cell_type": "code",
   "execution_count": 19,
   "metadata": {},
   "outputs": [
    {
     "name": "stdout",
     "output_type": "stream",
     "text": [
      "(4368,)\n"
     ]
    }
   ],
   "source": [
    "print(y.shape) # view predicted value shape; 4368 rows, 1 column"
   ]
  },
  {
   "cell_type": "markdown",
   "metadata": {},
   "source": [
    "#### Train-test split"
   ]
  },
  {
   "cell_type": "code",
   "execution_count": 20,
   "metadata": {},
   "outputs": [],
   "source": [
    "X_train , X_test, y_train, y_test = train_test_split(X, y, random_state = 718, test_size = 0.3)"
   ]
  },
  {
   "cell_type": "markdown",
   "metadata": {},
   "source": [
    "### SVM"
   ]
  },
  {
   "cell_type": "markdown",
   "metadata": {},
   "source": [
    "#### Fit model (linear kernel)\n",
    "(find decision boundary for linearly separable data)"
   ]
  },
  {
   "cell_type": "code",
   "execution_count": 14,
   "metadata": {},
   "outputs": [
    {
     "data": {
      "text/plain": [
       "SVC(C=1.0, cache_size=200, class_weight=None, coef0=0.0,\n",
       "    decision_function_shape='ovr', degree=3, gamma='auto_deprecated',\n",
       "    kernel='linear', max_iter=-1, probability=False, random_state=None,\n",
       "    shrinking=True, tol=0.001, verbose=False)"
      ]
     },
     "execution_count": 14,
     "metadata": {},
     "output_type": "execute_result"
    }
   ],
   "source": [
    "svclassifier_linear = SVC(kernel='linear')\n",
    "svclassifier_linear.fit(X_train, y_train)"
   ]
  },
  {
   "cell_type": "code",
   "execution_count": 15,
   "metadata": {},
   "outputs": [
    {
     "name": "stdout",
     "output_type": "stream",
     "text": [
      "              precision    recall  f1-score   support\n",
      "\n",
      "           0       0.61      0.16      0.26       981\n",
      "           1       0.71      0.95      0.81      2076\n",
      "\n",
      "    accuracy                           0.70      3057\n",
      "   macro avg       0.66      0.56      0.53      3057\n",
      "weighted avg       0.68      0.70      0.63      3057\n",
      "\n"
     ]
    }
   ],
   "source": [
    "# accuracy against train data\n",
    "print(classification_report(y_train,svclassifier_linear.predict(X_train)))"
   ]
  },
  {
   "cell_type": "code",
   "execution_count": 16,
   "metadata": {},
   "outputs": [
    {
     "name": "stdout",
     "output_type": "stream",
     "text": [
      "              precision    recall  f1-score   support\n",
      "\n",
      "           0       0.49      0.10      0.16       459\n",
      "           1       0.66      0.94      0.78       852\n",
      "\n",
      "    accuracy                           0.65      1311\n",
      "   macro avg       0.57      0.52      0.47      1311\n",
      "weighted avg       0.60      0.65      0.56      1311\n",
      "\n"
     ]
    }
   ],
   "source": [
    "# accuracy against test data\n",
    "print(classification_report(y_test, svclassifier_linear.predict(X_test)))"
   ]
  },
  {
   "cell_type": "code",
   "execution_count": 17,
   "metadata": {},
   "outputs": [
    {
     "name": "stdout",
     "output_type": "stream",
     "text": [
      "[[ 45 414]\n",
      " [ 47 805]]\n"
     ]
    }
   ],
   "source": [
    "# store predicted values on X_test & print confusion matrix\n",
    "y_pred_linear = svclassifier_linear.predict(X_test)\n",
    "print(confusion_matrix(y_test,y_pred_linear))"
   ]
  },
  {
   "cell_type": "markdown",
   "metadata": {},
   "source": [
    "### Begin section for non-linear investigation"
   ]
  },
  {
   "cell_type": "markdown",
   "metadata": {},
   "source": [
    "#### Fit model (poly kernel)"
   ]
  },
  {
   "cell_type": "code",
   "execution_count": 18,
   "metadata": {},
   "outputs": [
    {
     "name": "stderr",
     "output_type": "stream",
     "text": [
      "/Users/colella2/anaconda3/lib/python3.7/site-packages/sklearn/svm/base.py:193: FutureWarning: The default value of gamma will change from 'auto' to 'scale' in version 0.22 to account better for unscaled features. Set gamma explicitly to 'auto' or 'scale' to avoid this warning.\n",
      "  \"avoid this warning.\", FutureWarning)\n"
     ]
    },
    {
     "data": {
      "text/plain": [
       "SVC(C=1.0, cache_size=200, class_weight=None, coef0=0.0,\n",
       "    decision_function_shape='ovr', degree=8, gamma='auto_deprecated',\n",
       "    kernel='poly', max_iter=-1, probability=False, random_state=None,\n",
       "    shrinking=True, tol=0.001, verbose=False)"
      ]
     },
     "execution_count": 18,
     "metadata": {},
     "output_type": "execute_result"
    }
   ],
   "source": [
    "svclassifier_poly = SVC(kernel='poly', degree=8)\n",
    "svclassifier_poly.fit(X_train, y_train)"
   ]
  },
  {
   "cell_type": "code",
   "execution_count": 19,
   "metadata": {},
   "outputs": [
    {
     "name": "stdout",
     "output_type": "stream",
     "text": [
      "              precision    recall  f1-score   support\n",
      "\n",
      "           0       0.00      0.00      0.00       981\n",
      "           1       0.68      1.00      0.81      2076\n",
      "\n",
      "    accuracy                           0.68      3057\n",
      "   macro avg       0.34      0.50      0.40      3057\n",
      "weighted avg       0.46      0.68      0.55      3057\n",
      "\n"
     ]
    },
    {
     "name": "stderr",
     "output_type": "stream",
     "text": [
      "/Users/colella2/anaconda3/lib/python3.7/site-packages/sklearn/metrics/classification.py:1437: UndefinedMetricWarning: Precision and F-score are ill-defined and being set to 0.0 in labels with no predicted samples.\n",
      "  'precision', 'predicted', average, warn_for)\n"
     ]
    }
   ],
   "source": [
    "# accuracy against train data\n",
    "print(classification_report(y_train,svclassifier_poly.predict(X_train)))"
   ]
  },
  {
   "cell_type": "code",
   "execution_count": 20,
   "metadata": {},
   "outputs": [
    {
     "name": "stdout",
     "output_type": "stream",
     "text": [
      "              precision    recall  f1-score   support\n",
      "\n",
      "           0       0.00      0.00      0.00       459\n",
      "           1       0.65      1.00      0.79       852\n",
      "\n",
      "    accuracy                           0.65      1311\n",
      "   macro avg       0.32      0.50      0.39      1311\n",
      "weighted avg       0.42      0.65      0.51      1311\n",
      "\n"
     ]
    },
    {
     "name": "stderr",
     "output_type": "stream",
     "text": [
      "/Users/colella2/anaconda3/lib/python3.7/site-packages/sklearn/metrics/classification.py:1437: UndefinedMetricWarning: Precision and F-score are ill-defined and being set to 0.0 in labels with no predicted samples.\n",
      "  'precision', 'predicted', average, warn_for)\n"
     ]
    }
   ],
   "source": [
    "# accuracy against test data\n",
    "print(classification_report(y_test, svclassifier_poly.predict(X_test)))"
   ]
  },
  {
   "cell_type": "code",
   "execution_count": 21,
   "metadata": {},
   "outputs": [
    {
     "name": "stdout",
     "output_type": "stream",
     "text": [
      "[[  0 459]\n",
      " [  0 852]]\n"
     ]
    }
   ],
   "source": [
    "# store predicted values on X_test & print confusion matrix\n",
    "y_pred_poly = svclassifier_poly.predict(X_test)\n",
    "print(confusion_matrix(y_test,y_pred_poly))"
   ]
  },
  {
   "cell_type": "markdown",
   "metadata": {},
   "source": [
    "#### Fit model (Gaussian kernel)\n",
    "(this is a special case for rbf)"
   ]
  },
  {
   "cell_type": "code",
   "execution_count": 22,
   "metadata": {},
   "outputs": [
    {
     "name": "stderr",
     "output_type": "stream",
     "text": [
      "/Users/colella2/anaconda3/lib/python3.7/site-packages/sklearn/svm/base.py:193: FutureWarning: The default value of gamma will change from 'auto' to 'scale' in version 0.22 to account better for unscaled features. Set gamma explicitly to 'auto' or 'scale' to avoid this warning.\n",
      "  \"avoid this warning.\", FutureWarning)\n"
     ]
    },
    {
     "data": {
      "text/plain": [
       "SVC(C=1.0, cache_size=200, class_weight=None, coef0=0.0,\n",
       "    decision_function_shape='ovr', degree=3, gamma='auto_deprecated',\n",
       "    kernel='rbf', max_iter=-1, probability=False, random_state=None,\n",
       "    shrinking=True, tol=0.001, verbose=False)"
      ]
     },
     "execution_count": 22,
     "metadata": {},
     "output_type": "execute_result"
    }
   ],
   "source": [
    "svclassifier_gaus = SVC(kernel='rbf')\n",
    "svclassifier_gaus.fit(X_train, y_train)"
   ]
  },
  {
   "cell_type": "code",
   "execution_count": 23,
   "metadata": {},
   "outputs": [
    {
     "name": "stdout",
     "output_type": "stream",
     "text": [
      "              precision    recall  f1-score   support\n",
      "\n",
      "           0       0.00      0.00      0.00       981\n",
      "           1       0.68      1.00      0.81      2076\n",
      "\n",
      "    accuracy                           0.68      3057\n",
      "   macro avg       0.34      0.50      0.40      3057\n",
      "weighted avg       0.46      0.68      0.55      3057\n",
      "\n"
     ]
    },
    {
     "name": "stderr",
     "output_type": "stream",
     "text": [
      "/Users/colella2/anaconda3/lib/python3.7/site-packages/sklearn/metrics/classification.py:1437: UndefinedMetricWarning: Precision and F-score are ill-defined and being set to 0.0 in labels with no predicted samples.\n",
      "  'precision', 'predicted', average, warn_for)\n"
     ]
    }
   ],
   "source": [
    "# accuracy against train data\n",
    "print(classification_report(y_train,svclassifier_gaus.predict(X_train)))"
   ]
  },
  {
   "cell_type": "code",
   "execution_count": 24,
   "metadata": {},
   "outputs": [
    {
     "name": "stdout",
     "output_type": "stream",
     "text": [
      "              precision    recall  f1-score   support\n",
      "\n",
      "           0       0.00      0.00      0.00       459\n",
      "           1       0.65      1.00      0.79       852\n",
      "\n",
      "    accuracy                           0.65      1311\n",
      "   macro avg       0.32      0.50      0.39      1311\n",
      "weighted avg       0.42      0.65      0.51      1311\n",
      "\n"
     ]
    },
    {
     "name": "stderr",
     "output_type": "stream",
     "text": [
      "/Users/colella2/anaconda3/lib/python3.7/site-packages/sklearn/metrics/classification.py:1437: UndefinedMetricWarning: Precision and F-score are ill-defined and being set to 0.0 in labels with no predicted samples.\n",
      "  'precision', 'predicted', average, warn_for)\n"
     ]
    }
   ],
   "source": [
    "# accuracy against test data\n",
    "print(classification_report(y_test, svclassifier_gaus.predict(X_test)))"
   ]
  },
  {
   "cell_type": "code",
   "execution_count": 25,
   "metadata": {},
   "outputs": [
    {
     "name": "stdout",
     "output_type": "stream",
     "text": [
      "[[  0 459]\n",
      " [  0 852]]\n"
     ]
    }
   ],
   "source": [
    "# store predicted values on X_test & print confusion matrix\n",
    "y_pred_gaus = svclassifier_gaus.predict(X_test)\n",
    "print(confusion_matrix(y_test,y_pred_gaus))"
   ]
  },
  {
   "cell_type": "markdown",
   "metadata": {},
   "source": [
    "#### After first running simply (as was done above), commence optimization..."
   ]
  },
  {
   "cell_type": "code",
   "execution_count": 26,
   "metadata": {},
   "outputs": [
    {
     "data": {
      "text/plain": [
       "{'C': 1, 'gamma': 1}"
      ]
     },
     "execution_count": 26,
     "metadata": {},
     "output_type": "execute_result"
    }
   ],
   "source": [
    "# commence grid search for best parameters on training set\n",
    "svc_parameter_optimization(X_train, y_train, 5)"
   ]
  },
  {
   "cell_type": "code",
   "execution_count": 27,
   "metadata": {},
   "outputs": [
    {
     "data": {
      "text/plain": [
       "SVC(C=1, cache_size=200, class_weight=None, coef0=0.0,\n",
       "    decision_function_shape='ovr', degree=3, gamma=1, kernel='rbf', max_iter=-1,\n",
       "    probability=False, random_state=None, shrinking=True, tol=0.001,\n",
       "    verbose=False)"
      ]
     },
     "execution_count": 27,
     "metadata": {},
     "output_type": "execute_result"
    }
   ],
   "source": [
    "# instantiate with optimal parameters\n",
    "svclassifier_gaus_optim = SVC(kernel='rbf', C = 1, gamma = 1)\n",
    "svclassifier_gaus_optim.fit(X_train, y_train)"
   ]
  },
  {
   "cell_type": "code",
   "execution_count": 28,
   "metadata": {},
   "outputs": [
    {
     "name": "stdout",
     "output_type": "stream",
     "text": [
      "              precision    recall  f1-score   support\n",
      "\n",
      "           0       0.91      0.48      0.63       981\n",
      "           1       0.80      0.98      0.88      2076\n",
      "\n",
      "    accuracy                           0.82      3057\n",
      "   macro avg       0.86      0.73      0.75      3057\n",
      "weighted avg       0.84      0.82      0.80      3057\n",
      "\n"
     ]
    }
   ],
   "source": [
    "# view optimized results/accuracy on training data\n",
    "print(classification_report(y_train,svclassifier_gaus_optim.predict(X_train)))"
   ]
  },
  {
   "cell_type": "code",
   "execution_count": 29,
   "metadata": {},
   "outputs": [
    {
     "name": "stdout",
     "output_type": "stream",
     "text": [
      "              precision    recall  f1-score   support\n",
      "\n",
      "           0       0.47      0.13      0.20       459\n",
      "           1       0.66      0.92      0.77       852\n",
      "\n",
      "    accuracy                           0.64      1311\n",
      "   macro avg       0.57      0.53      0.49      1311\n",
      "weighted avg       0.60      0.64      0.57      1311\n",
      "\n"
     ]
    }
   ],
   "source": [
    "# view optimized results/accuracy on testing data\n",
    "print(classification_report(y_test, svclassifier_gaus_optim.predict(X_test)))"
   ]
  },
  {
   "cell_type": "code",
   "execution_count": 30,
   "metadata": {},
   "outputs": [
    {
     "name": "stdout",
     "output_type": "stream",
     "text": [
      "[[ 60 399]\n",
      " [ 67 785]]\n"
     ]
    }
   ],
   "source": [
    "# store predicted values on X_test & print confusion matrix\n",
    "y_pred_gaus_optim = svclassifier_gaus_optim.predict(X_test)\n",
    "print(confusion_matrix(y_test,y_pred_gaus_optim))"
   ]
  },
  {
   "cell_type": "markdown",
   "metadata": {},
   "source": [
    "#### Fit model (Sigmoid kernel)\n",
    "(suitable for binary classification problems; rtns 0 or 1; activation functino for Neural Networks)"
   ]
  },
  {
   "cell_type": "code",
   "execution_count": 31,
   "metadata": {},
   "outputs": [
    {
     "name": "stderr",
     "output_type": "stream",
     "text": [
      "/Users/colella2/anaconda3/lib/python3.7/site-packages/sklearn/svm/base.py:193: FutureWarning: The default value of gamma will change from 'auto' to 'scale' in version 0.22 to account better for unscaled features. Set gamma explicitly to 'auto' or 'scale' to avoid this warning.\n",
      "  \"avoid this warning.\", FutureWarning)\n"
     ]
    },
    {
     "data": {
      "text/plain": [
       "SVC(C=1.0, cache_size=200, class_weight=None, coef0=0.0,\n",
       "    decision_function_shape='ovr', degree=3, gamma='auto_deprecated',\n",
       "    kernel='sigmoid', max_iter=-1, probability=False, random_state=None,\n",
       "    shrinking=True, tol=0.001, verbose=False)"
      ]
     },
     "execution_count": 31,
     "metadata": {},
     "output_type": "execute_result"
    }
   ],
   "source": [
    "svclassifier_sig = SVC(kernel='sigmoid')\n",
    "svclassifier_sig.fit(X_train, y_train)"
   ]
  },
  {
   "cell_type": "code",
   "execution_count": 32,
   "metadata": {},
   "outputs": [
    {
     "name": "stdout",
     "output_type": "stream",
     "text": [
      "              precision    recall  f1-score   support\n",
      "\n",
      "           0       0.00      0.00      0.00       981\n",
      "           1       0.68      1.00      0.81      2076\n",
      "\n",
      "    accuracy                           0.68      3057\n",
      "   macro avg       0.34      0.50      0.40      3057\n",
      "weighted avg       0.46      0.68      0.55      3057\n",
      "\n"
     ]
    },
    {
     "name": "stderr",
     "output_type": "stream",
     "text": [
      "/Users/colella2/anaconda3/lib/python3.7/site-packages/sklearn/metrics/classification.py:1437: UndefinedMetricWarning: Precision and F-score are ill-defined and being set to 0.0 in labels with no predicted samples.\n",
      "  'precision', 'predicted', average, warn_for)\n"
     ]
    }
   ],
   "source": [
    "# accuracy against train data\n",
    "print(classification_report(y_train,svclassifier_sig.predict(X_train)))"
   ]
  },
  {
   "cell_type": "code",
   "execution_count": 33,
   "metadata": {},
   "outputs": [
    {
     "name": "stdout",
     "output_type": "stream",
     "text": [
      "              precision    recall  f1-score   support\n",
      "\n",
      "           0       0.00      0.00      0.00       459\n",
      "           1       0.65      1.00      0.79       852\n",
      "\n",
      "    accuracy                           0.65      1311\n",
      "   macro avg       0.32      0.50      0.39      1311\n",
      "weighted avg       0.42      0.65      0.51      1311\n",
      "\n"
     ]
    },
    {
     "name": "stderr",
     "output_type": "stream",
     "text": [
      "/Users/colella2/anaconda3/lib/python3.7/site-packages/sklearn/metrics/classification.py:1437: UndefinedMetricWarning: Precision and F-score are ill-defined and being set to 0.0 in labels with no predicted samples.\n",
      "  'precision', 'predicted', average, warn_for)\n"
     ]
    }
   ],
   "source": [
    "# accuracy against test data\n",
    "print(classification_report(y_test, svclassifier_sig.predict(X_test)))"
   ]
  },
  {
   "cell_type": "code",
   "execution_count": 34,
   "metadata": {},
   "outputs": [
    {
     "name": "stdout",
     "output_type": "stream",
     "text": [
      "[[  0 459]\n",
      " [  0 852]]\n"
     ]
    }
   ],
   "source": [
    "# store predicted values on X_test & print confusion matrix\n",
    "y_pred_sig = svclassifier_sig.predict(X_test)\n",
    "print(confusion_matrix(y_test,y_pred_sig))"
   ]
  },
  {
   "cell_type": "markdown",
   "metadata": {},
   "source": [
    "#### Conclusion\n",
    "Linear SVM performs similarly to optimized Gaussian RBF on test sets."
   ]
  },
  {
   "cell_type": "markdown",
   "metadata": {},
   "source": [
    "### SGD"
   ]
  },
  {
   "cell_type": "code",
   "execution_count": 35,
   "metadata": {},
   "outputs": [],
   "source": [
    "# instantiate SGD classifier\n",
    "linear_sgd_classifier = SGDClassifier(random_state = 0)"
   ]
  },
  {
   "cell_type": "code",
   "execution_count": 36,
   "metadata": {},
   "outputs": [
    {
     "data": {
      "text/plain": [
       "GridSearchCV(cv=5, error_score='raise-deprecating',\n",
       "             estimator=SGDClassifier(alpha=0.0001, average=False,\n",
       "                                     class_weight=None, early_stopping=False,\n",
       "                                     epsilon=0.1, eta0=0.0, fit_intercept=True,\n",
       "                                     l1_ratio=0.15, learning_rate='optimal',\n",
       "                                     loss='hinge', max_iter=1000,\n",
       "                                     n_iter_no_change=5, n_jobs=None,\n",
       "                                     penalty='l2', power_t=0.5, random_state=0,\n",
       "                                     shuffle=True, tol=0.001,\n",
       "                                     validation_fraction=0.1, verbose=0,\n",
       "                                     warm_start=False),\n",
       "             iid='warn', n_jobs=None,\n",
       "             param_grid={'alpha': [1e-05, 0.0001, 0.001, 0.01, 0.1, 1],\n",
       "                         'loss': ['hinge', 'log'], 'penalty': ['l1', 'l2']},\n",
       "             pre_dispatch='2*n_jobs', refit=True, return_train_score=False,\n",
       "             scoring=None, verbose=0)"
      ]
     },
     "execution_count": 36,
     "metadata": {},
     "output_type": "execute_result"
    }
   ],
   "source": [
    "# instantiate the GridSearchCV object and run search\n",
    "params = {'alpha':[0.00001, 0.0001, 0.001, 0.01, 0.1, 1], 'loss':['hinge', 'log'], 'penalty':['l1','l2']}\n",
    "\n",
    "grid_search = GridSearchCV(linear_sgd_classifier, params, cv = 5)\n",
    "\n",
    "grid_search.fit(X_train, y_train)"
   ]
  },
  {
   "cell_type": "code",
   "execution_count": 37,
   "metadata": {},
   "outputs": [
    {
     "name": "stdout",
     "output_type": "stream",
     "text": [
      "Best CV params {'alpha': 0.001, 'loss': 'log', 'penalty': 'l2'}\n",
      "Best CV accuracy 0.6810598626104023\n",
      "Test accuracy of best grid search hypers: 0.6559877955758963\n"
     ]
    }
   ],
   "source": [
    "# best parameters & the corresponding score\n",
    "print(\"Best CV params\", grid_search.best_params_)\n",
    "print(\"Best CV accuracy\", grid_search.best_score_)\n",
    "print(\"Test accuracy of best grid search hypers:\", grid_search.score(X_test, y_test))"
   ]
  },
  {
   "cell_type": "code",
   "execution_count": 38,
   "metadata": {},
   "outputs": [
    {
     "name": "stdout",
     "output_type": "stream",
     "text": [
      "CPU times: user 65.4 ms, sys: 981 µs, total: 66.3 ms\n",
      "Wall time: 66.4 ms\n"
     ]
    },
    {
     "data": {
      "text/plain": [
       "SGDClassifier(alpha=0.0001, average=False, class_weight=None,\n",
       "              early_stopping=False, epsilon=0.1, eta0=0.0, fit_intercept=True,\n",
       "              l1_ratio=0.15, learning_rate='optimal', loss='hinge',\n",
       "              max_iter=1000, n_iter_no_change=5, n_jobs=None, penalty='l2',\n",
       "              power_t=0.5, random_state=0, shuffle=True, tol=0.001,\n",
       "              validation_fraction=0.1, verbose=0, warm_start=False)"
      ]
     },
     "execution_count": 38,
     "metadata": {},
     "output_type": "execute_result"
    }
   ],
   "source": [
    "%%time\n",
    "\n",
    "# fit SGD classifier\n",
    "linear_sgd_classifier.fit(X_train, y_train)"
   ]
  },
  {
   "cell_type": "code",
   "execution_count": 39,
   "metadata": {},
   "outputs": [
    {
     "name": "stdout",
     "output_type": "stream",
     "text": [
      "              precision    recall  f1-score   support\n",
      "\n",
      "           0       0.61      0.32      0.42       981\n",
      "           1       0.74      0.90      0.81      2076\n",
      "\n",
      "    accuracy                           0.72      3057\n",
      "   macro avg       0.67      0.61      0.62      3057\n",
      "weighted avg       0.70      0.72      0.69      3057\n",
      "\n"
     ]
    }
   ],
   "source": [
    "# accuracy against train data\n",
    "print(classification_report(y_train, linear_sgd_classifier.predict(X_train)))"
   ]
  },
  {
   "cell_type": "code",
   "execution_count": 40,
   "metadata": {},
   "outputs": [
    {
     "name": "stdout",
     "output_type": "stream",
     "text": [
      "              precision    recall  f1-score   support\n",
      "\n",
      "           0       0.51      0.22      0.30       459\n",
      "           1       0.68      0.88      0.77       852\n",
      "\n",
      "    accuracy                           0.65      1311\n",
      "   macro avg       0.59      0.55      0.54      1311\n",
      "weighted avg       0.62      0.65      0.61      1311\n",
      "\n"
     ]
    }
   ],
   "source": [
    "# accuracy against test data\n",
    "print(classification_report(y_test, linear_sgd_classifier.predict(X_test)))"
   ]
  },
  {
   "cell_type": "markdown",
   "metadata": {},
   "source": [
    "As one can see, the accuracy on the test set is 0.65, matching Gaussian-RBD and linear SVM. It also better precision and recall than optimized Gaussian-RBF & matches of betters linear SVM. It matches linear SVM on recall."
   ]
  },
  {
   "cell_type": "markdown",
   "metadata": {},
   "source": [
    "### Neural Network\n",
    "ReLu activation function for hidden layers.\n",
    "Sigmoid activation function for binary classification. CAUTION: Large neural nets trained on relatively small datasets can overfit the training data. Generalization error increases due to overfitting."
   ]
  },
  {
   "cell_type": "markdown",
   "metadata": {},
   "source": [
    "#### Instance 1\n",
    "3 layers of 55 nodes/neurons/perceptrons mapping to 1 target variable"
   ]
  },
  {
   "cell_type": "code",
   "execution_count": 41,
   "metadata": {},
   "outputs": [
    {
     "name": "stdout",
     "output_type": "stream",
     "text": [
      "WARNING:tensorflow:From /Users/colella2/anaconda3/lib/python3.7/site-packages/keras/backend/tensorflow_backend.py:74: The name tf.get_default_graph is deprecated. Please use tf.compat.v1.get_default_graph instead.\n",
      "\n",
      "WARNING:tensorflow:From /Users/colella2/anaconda3/lib/python3.7/site-packages/keras/backend/tensorflow_backend.py:517: The name tf.placeholder is deprecated. Please use tf.compat.v1.placeholder instead.\n",
      "\n",
      "WARNING:tensorflow:From /Users/colella2/anaconda3/lib/python3.7/site-packages/keras/backend/tensorflow_backend.py:4115: The name tf.random_normal is deprecated. Please use tf.random.normal instead.\n",
      "\n"
     ]
    }
   ],
   "source": [
    "# instantiate classifier\n",
    "classifier = Sequential()\n",
    "\n",
    "# optimal size of the hidden layer is usually between the size of the input and size of the output layers\n",
    "# general rule I used was # input features of 165 / # hidden layers = # nodes per layer\n",
    "\n",
    "# ReLu is based on principle that linear models are easier to optimize\n",
    "# random normal initializer generates tensors with a normal distribution\n",
    "\n",
    "# hidden layer 1 - # of neurons comprising this layer is equal to number of features\n",
    "classifier.add(Dense(55, activation = 'relu', kernel_initializer = 'random_normal', input_dim = 165))\n",
    "\n",
    "# hidden layer 2\n",
    "classifier.add(Dense(55, activation = 'relu', kernel_initializer = 'random_normal'))\n",
    "\n",
    "# hidden layer 3\n",
    "classifier.add(Dense(55, activation = 'relu', kernel_initializer = 'random_normal'))\n",
    "\n",
    "# output layer\n",
    "# single node for classification unless softmax is used -- then one node per class label\n",
    "# Sigmoid function is the special case of Softmax function where the number of classes are 2\n",
    "classifier.add(Dense(1, activation = 'sigmoid', kernel_initializer = 'random_normal'))"
   ]
  },
  {
   "cell_type": "code",
   "execution_count": 42,
   "metadata": {},
   "outputs": [
    {
     "name": "stdout",
     "output_type": "stream",
     "text": [
      "WARNING:tensorflow:From /Users/colella2/anaconda3/lib/python3.7/site-packages/keras/optimizers.py:790: The name tf.train.Optimizer is deprecated. Please use tf.compat.v1.train.Optimizer instead.\n",
      "\n",
      "WARNING:tensorflow:From /Users/colella2/anaconda3/lib/python3.7/site-packages/keras/backend/tensorflow_backend.py:3376: The name tf.log is deprecated. Please use tf.math.log instead.\n",
      "\n",
      "WARNING:tensorflow:From /Users/colella2/anaconda3/lib/python3.7/site-packages/tensorflow/python/ops/nn_impl.py:180: add_dispatch_support.<locals>.wrapper (from tensorflow.python.ops.array_ops) is deprecated and will be removed in a future version.\n",
      "Instructions for updating:\n",
      "Use tf.where in 2.0, which has the same broadcast rule as np.where\n"
     ]
    }
   ],
   "source": [
    "# compile NN\n",
    "classifier.compile(optimizer = 'adam',loss = 'binary_crossentropy', metrics = ['accuracy'])\n",
    "\n",
    "# use Adam optimization -- \"adaptive moment estimation\"; it's a combo of RMSProp + Momentum"
   ]
  },
  {
   "cell_type": "code",
   "execution_count": 43,
   "metadata": {},
   "outputs": [
    {
     "name": "stdout",
     "output_type": "stream",
     "text": [
      "WARNING:tensorflow:From /Users/colella2/anaconda3/lib/python3.7/site-packages/keras/backend/tensorflow_backend.py:986: The name tf.assign_add is deprecated. Please use tf.compat.v1.assign_add instead.\n",
      "\n",
      "Epoch 1/60\n",
      "3057/3057 [==============================] - 1s 316us/step - loss: 0.6509 - acc: 0.6745\n",
      "Epoch 2/60\n",
      "3057/3057 [==============================] - 0s 43us/step - loss: 0.5880 - acc: 0.6791\n",
      "Epoch 3/60\n",
      "3057/3057 [==============================] - 0s 45us/step - loss: 0.5567 - acc: 0.6791\n",
      "Epoch 4/60\n",
      "3057/3057 [==============================] - 0s 48us/step - loss: 0.5389 - acc: 0.6991\n",
      "Epoch 5/60\n",
      "3057/3057 [==============================] - 0s 42us/step - loss: 0.5263 - acc: 0.7252\n",
      "Epoch 6/60\n",
      "3057/3057 [==============================] - 0s 45us/step - loss: 0.5116 - acc: 0.7406\n",
      "Epoch 7/60\n",
      "3057/3057 [==============================] - 0s 44us/step - loss: 0.4948 - acc: 0.7484\n",
      "Epoch 8/60\n",
      "3057/3057 [==============================] - 0s 46us/step - loss: 0.4716 - acc: 0.7723\n",
      "Epoch 9/60\n",
      "3057/3057 [==============================] - 0s 46us/step - loss: 0.4403 - acc: 0.7952\n",
      "Epoch 10/60\n",
      "3057/3057 [==============================] - 0s 45us/step - loss: 0.4005 - acc: 0.8240\n",
      "Epoch 11/60\n",
      "3057/3057 [==============================] - 0s 47us/step - loss: 0.3592 - acc: 0.8535\n",
      "Epoch 12/60\n",
      "3057/3057 [==============================] - 0s 45us/step - loss: 0.3209 - acc: 0.8747\n",
      "Epoch 13/60\n",
      "3057/3057 [==============================] - 0s 47us/step - loss: 0.2779 - acc: 0.8937\n",
      "Epoch 14/60\n",
      "3057/3057 [==============================] - 0s 46us/step - loss: 0.2488 - acc: 0.9107\n",
      "Epoch 15/60\n",
      "3057/3057 [==============================] - 0s 45us/step - loss: 0.2007 - acc: 0.9369\n",
      "Epoch 16/60\n",
      "3057/3057 [==============================] - 0s 44us/step - loss: 0.1708 - acc: 0.9496\n",
      "Epoch 17/60\n",
      "3057/3057 [==============================] - 0s 44us/step - loss: 0.1453 - acc: 0.9585\n",
      "Epoch 18/60\n",
      "3057/3057 [==============================] - 0s 44us/step - loss: 0.1263 - acc: 0.9627\n",
      "Epoch 19/60\n",
      "3057/3057 [==============================] - 0s 43us/step - loss: 0.1073 - acc: 0.9715\n",
      "Epoch 20/60\n",
      "3057/3057 [==============================] - 0s 43us/step - loss: 0.0912 - acc: 0.9764\n",
      "Epoch 21/60\n",
      "3057/3057 [==============================] - 0s 46us/step - loss: 0.0751 - acc: 0.9830\n",
      "Epoch 22/60\n",
      "3057/3057 [==============================] - 0s 44us/step - loss: 0.0657 - acc: 0.9856\n",
      "Epoch 23/60\n",
      "3057/3057 [==============================] - 0s 43us/step - loss: 0.0572 - acc: 0.9882\n",
      "Epoch 24/60\n",
      "3057/3057 [==============================] - 0s 43us/step - loss: 0.0500 - acc: 0.9902\n",
      "Epoch 25/60\n",
      "3057/3057 [==============================] - 0s 43us/step - loss: 0.0446 - acc: 0.9899\n",
      "Epoch 26/60\n",
      "3057/3057 [==============================] - 0s 45us/step - loss: 0.0390 - acc: 0.9912\n",
      "Epoch 27/60\n",
      "3057/3057 [==============================] - 0s 42us/step - loss: 0.0409 - acc: 0.9915\n",
      "Epoch 28/60\n",
      "3057/3057 [==============================] - 0s 42us/step - loss: 0.0344 - acc: 0.9928\n",
      "Epoch 29/60\n",
      "3057/3057 [==============================] - 0s 44us/step - loss: 0.0317 - acc: 0.9938\n",
      "Epoch 30/60\n",
      "3057/3057 [==============================] - 0s 44us/step - loss: 0.0305 - acc: 0.9938\n",
      "Epoch 31/60\n",
      "3057/3057 [==============================] - 0s 44us/step - loss: 0.0338 - acc: 0.9915\n",
      "Epoch 32/60\n",
      "3057/3057 [==============================] - 0s 44us/step - loss: 0.0370 - acc: 0.9915\n",
      "Epoch 33/60\n",
      "3057/3057 [==============================] - 0s 46us/step - loss: 0.0558 - acc: 0.9820\n",
      "Epoch 34/60\n",
      "3057/3057 [==============================] - 0s 47us/step - loss: 0.0751 - acc: 0.9755\n",
      "Epoch 35/60\n",
      "3057/3057 [==============================] - 0s 43us/step - loss: 0.0957 - acc: 0.9689\n",
      "Epoch 36/60\n",
      "3057/3057 [==============================] - 0s 43us/step - loss: 0.0585 - acc: 0.9814\n",
      "Epoch 37/60\n",
      "3057/3057 [==============================] - 0s 42us/step - loss: 0.0365 - acc: 0.9905\n",
      "Epoch 38/60\n",
      "3057/3057 [==============================] - 0s 43us/step - loss: 0.0232 - acc: 0.9954\n",
      "Epoch 39/60\n",
      "3057/3057 [==============================] - 0s 43us/step - loss: 0.0223 - acc: 0.9954\n",
      "Epoch 40/60\n",
      "3057/3057 [==============================] - 0s 44us/step - loss: 0.0208 - acc: 0.9954\n",
      "Epoch 41/60\n",
      "3057/3057 [==============================] - 0s 46us/step - loss: 0.0169 - acc: 0.9964\n",
      "Epoch 42/60\n",
      "3057/3057 [==============================] - 0s 42us/step - loss: 0.0185 - acc: 0.9964\n",
      "Epoch 43/60\n",
      "3057/3057 [==============================] - 0s 44us/step - loss: 0.0155 - acc: 0.9967\n",
      "Epoch 44/60\n",
      "3057/3057 [==============================] - 0s 42us/step - loss: 0.0151 - acc: 0.9957\n",
      "Epoch 45/60\n",
      "3057/3057 [==============================] - 0s 44us/step - loss: 0.0124 - acc: 0.9974\n",
      "Epoch 46/60\n",
      "3057/3057 [==============================] - 0s 43us/step - loss: 0.0102 - acc: 0.9980\n",
      "Epoch 47/60\n",
      "3057/3057 [==============================] - 0s 43us/step - loss: 0.0114 - acc: 0.9977\n",
      "Epoch 48/60\n",
      "3057/3057 [==============================] - 0s 45us/step - loss: 0.0099 - acc: 0.9980\n",
      "Epoch 49/60\n",
      "3057/3057 [==============================] - 0s 43us/step - loss: 0.0081 - acc: 0.9980\n",
      "Epoch 50/60\n",
      "3057/3057 [==============================] - 0s 42us/step - loss: 0.0120 - acc: 0.9967\n",
      "Epoch 51/60\n",
      "3057/3057 [==============================] - 0s 43us/step - loss: 0.0124 - acc: 0.9967\n",
      "Epoch 52/60\n",
      "3057/3057 [==============================] - 0s 45us/step - loss: 0.0196 - acc: 0.9948\n",
      "Epoch 53/60\n",
      "3057/3057 [==============================] - 0s 40us/step - loss: 0.0279 - acc: 0.9928\n",
      "Epoch 54/60\n",
      "3057/3057 [==============================] - 0s 41us/step - loss: 0.0373 - acc: 0.9859\n",
      "Epoch 55/60\n",
      "3057/3057 [==============================] - 0s 40us/step - loss: 0.0529 - acc: 0.9814\n",
      "Epoch 56/60\n",
      "3057/3057 [==============================] - 0s 46us/step - loss: 0.0364 - acc: 0.9856\n",
      "Epoch 57/60\n",
      "3057/3057 [==============================] - 0s 42us/step - loss: 0.0287 - acc: 0.9921\n",
      "Epoch 58/60\n",
      "3057/3057 [==============================] - 0s 41us/step - loss: 0.0121 - acc: 0.9967\n",
      "Epoch 59/60\n",
      "3057/3057 [==============================] - 0s 41us/step - loss: 0.0053 - acc: 0.9990\n",
      "Epoch 60/60\n",
      "3057/3057 [==============================] - 0s 41us/step - loss: 0.0024 - acc: 0.9993\n",
      "CPU times: user 21.1 s, sys: 2.9 s, total: 24 s\n",
      "Wall time: 9.22 s\n"
     ]
    },
    {
     "data": {
      "text/plain": [
       "<keras.callbacks.History at 0x1a46d91e10>"
      ]
     },
     "execution_count": 43,
     "metadata": {},
     "output_type": "execute_result"
    }
   ],
   "source": [
    "%%time\n",
    "\n",
    "# fit training data to model\n",
    "# batch size 55 means 55 samples per gradient update AKA # of patterns shown to NN before weights updated\n",
    "# also training optimization -- how many patterns to read at a time and keep in memory\n",
    "\n",
    "# train w/ 60 epochs -- epoch is an iteration over entire data set\n",
    "classifier.fit(X_train, y_train, batch_size = 55, epochs = 60)"
   ]
  },
  {
   "cell_type": "code",
   "execution_count": 44,
   "metadata": {},
   "outputs": [
    {
     "name": "stdout",
     "output_type": "stream",
     "text": [
      "3057/3057 [==============================] - 0s 54us/step\n"
     ]
    },
    {
     "data": {
      "text/plain": [
       "[0.00195889087198293, 0.9996728819103696]"
      ]
     },
     "execution_count": 44,
     "metadata": {},
     "output_type": "execute_result"
    }
   ],
   "source": [
    "# evaluate loss & metrics values for model\n",
    "classifier.evaluate(X_train, y_train) # accuracy near 100% on training data, which is a sign of overfitting"
   ]
  },
  {
   "cell_type": "code",
   "execution_count": 45,
   "metadata": {},
   "outputs": [],
   "source": [
    "# predict on test data\n",
    "# if prediction is greater than 0.5, output is 1; otherwise, output is 0\n",
    "y_pred = classifier.predict(X_test)\n",
    "y_pred = (y_pred > 0.5)"
   ]
  },
  {
   "cell_type": "code",
   "execution_count": 46,
   "metadata": {},
   "outputs": [
    {
     "data": {
      "text/plain": [
       "array([[154, 305],\n",
       "       [185, 667]])"
      ]
     },
     "execution_count": 46,
     "metadata": {},
     "output_type": "execute_result"
    }
   ],
   "source": [
    "# accuracy on test: ~63%\n",
    "confusion_matrix(y_test, y_pred) # TP + TN = 829; 829/1311 total = ~63% accurate"
   ]
  },
  {
   "cell_type": "markdown",
   "metadata": {},
   "source": [
    "#### Instance 2\n",
    "5 layers of 33 nodes mapping to 1 target variable"
   ]
  },
  {
   "cell_type": "markdown",
   "metadata": {},
   "source": [
    "2 additional layers introduced b/c, empirically, deep NN's perform better"
   ]
  },
  {
   "cell_type": "code",
   "execution_count": 47,
   "metadata": {},
   "outputs": [],
   "source": [
    "# instantiate classifier 2\n",
    "classifier_2 = Sequential()\n",
    "\n",
    "# hidden layer 1\n",
    "classifier_2.add(Dense(33, activation = 'relu', kernel_initializer = 'random_normal', input_dim = 165))\n",
    "\n",
    "# hidden layer 2\n",
    "classifier_2.add(Dense(33, activation = 'relu', kernel_initializer = 'random_normal'))\n",
    "\n",
    "# hidden layer 3\n",
    "classifier_2.add(Dense(33, activation ='relu', kernel_initializer = 'random_normal'))\n",
    "\n",
    "# hidden layer 4\n",
    "classifier_2.add(Dense(33, activation = 'relu', kernel_initializer = 'random_normal'))\n",
    "\n",
    "# hidden layer 5\n",
    "classifier_2.add(Dense(33, activation = 'relu', kernel_initializer = 'random_normal'))\n",
    "\n",
    "# output layer\n",
    "classifier_2.add(Dense(1, activation = 'sigmoid', kernel_initializer = 'random_normal'))"
   ]
  },
  {
   "cell_type": "code",
   "execution_count": 48,
   "metadata": {},
   "outputs": [],
   "source": [
    "# compile NN\n",
    "classifier_2.compile(optimizer = 'adam', loss = 'binary_crossentropy', metrics = ['accuracy'])"
   ]
  },
  {
   "cell_type": "code",
   "execution_count": 49,
   "metadata": {},
   "outputs": [
    {
     "name": "stdout",
     "output_type": "stream",
     "text": [
      "Epoch 1/70\n",
      "3057/3057 [==============================] - 2s 538us/step - loss: 0.6209 - acc: 0.6798\n",
      "Epoch 2/70\n",
      "3057/3057 [==============================] - 0s 144us/step - loss: 0.5574 - acc: 0.6791\n",
      "Epoch 3/70\n",
      "3057/3057 [==============================] - 0s 140us/step - loss: 0.5400 - acc: 0.7017\n",
      "Epoch 4/70\n",
      "3057/3057 [==============================] - 0s 142us/step - loss: 0.5264 - acc: 0.7138\n",
      "Epoch 5/70\n",
      "3057/3057 [==============================] - 0s 141us/step - loss: 0.5109 - acc: 0.7295\n",
      "Epoch 6/70\n",
      "3057/3057 [==============================] - 0s 142us/step - loss: 0.4947 - acc: 0.7488\n",
      "Epoch 7/70\n",
      "3057/3057 [==============================] - 0s 140us/step - loss: 0.4744 - acc: 0.7638\n",
      "Epoch 8/70\n",
      "3057/3057 [==============================] - 0s 141us/step - loss: 0.4516 - acc: 0.7851\n",
      "Epoch 9/70\n",
      "3057/3057 [==============================] - 0s 143us/step - loss: 0.4233 - acc: 0.8024\n",
      "Epoch 10/70\n",
      "3057/3057 [==============================] - 0s 141us/step - loss: 0.3821 - acc: 0.8306\n",
      "Epoch 11/70\n",
      "3057/3057 [==============================] - 0s 143us/step - loss: 0.3563 - acc: 0.8469\n",
      "Epoch 12/70\n",
      "3057/3057 [==============================] - 0s 141us/step - loss: 0.3282 - acc: 0.8606\n",
      "Epoch 13/70\n",
      "3057/3057 [==============================] - 0s 143us/step - loss: 0.2967 - acc: 0.8760\n",
      "Epoch 14/70\n",
      "3057/3057 [==============================] - 0s 141us/step - loss: 0.2676 - acc: 0.8937\n",
      "Epoch 15/70\n",
      "3057/3057 [==============================] - 0s 142us/step - loss: 0.2557 - acc: 0.8934\n",
      "Epoch 16/70\n",
      "3057/3057 [==============================] - 0s 143us/step - loss: 0.2454 - acc: 0.9032\n",
      "Epoch 17/70\n",
      "3057/3057 [==============================] - 0s 140us/step - loss: 0.2171 - acc: 0.9169\n",
      "Epoch 18/70\n",
      "3057/3057 [==============================] - 0s 144us/step - loss: 0.2027 - acc: 0.9221\n",
      "Epoch 19/70\n",
      "3057/3057 [==============================] - 0s 142us/step - loss: 0.2117 - acc: 0.9199\n",
      "Epoch 20/70\n",
      "3057/3057 [==============================] - 0s 144us/step - loss: 0.2092 - acc: 0.9225\n",
      "Epoch 21/70\n",
      "3057/3057 [==============================] - 0s 142us/step - loss: 0.2046 - acc: 0.9189\n",
      "Epoch 22/70\n",
      "3057/3057 [==============================] - 0s 144us/step - loss: 0.1934 - acc: 0.9271\n",
      "Epoch 23/70\n",
      "3057/3057 [==============================] - 0s 141us/step - loss: 0.1922 - acc: 0.9271\n",
      "Epoch 24/70\n",
      "3057/3057 [==============================] - 0s 142us/step - loss: 0.1801 - acc: 0.9323\n",
      "Epoch 25/70\n",
      "3057/3057 [==============================] - 0s 145us/step - loss: 0.1868 - acc: 0.9323\n",
      "Epoch 26/70\n",
      "3057/3057 [==============================] - 0s 144us/step - loss: 0.1713 - acc: 0.9395\n",
      "Epoch 27/70\n",
      "3057/3057 [==============================] - 0s 144us/step - loss: 0.1687 - acc: 0.9392\n",
      "Epoch 28/70\n",
      "3057/3057 [==============================] - 0s 142us/step - loss: 0.1773 - acc: 0.9365\n",
      "Epoch 29/70\n",
      "3057/3057 [==============================] - 0s 149us/step - loss: 0.1786 - acc: 0.9356\n",
      "Epoch 30/70\n",
      "3057/3057 [==============================] - 0s 143us/step - loss: 0.1722 - acc: 0.9395\n",
      "Epoch 31/70\n",
      "3057/3057 [==============================] - 0s 145us/step - loss: 0.1875 - acc: 0.9313\n",
      "Epoch 32/70\n",
      "3057/3057 [==============================] - 0s 142us/step - loss: 0.1755 - acc: 0.9352\n",
      "Epoch 33/70\n",
      "3057/3057 [==============================] - 0s 144us/step - loss: 0.1715 - acc: 0.9388\n",
      "Epoch 34/70\n",
      "3057/3057 [==============================] - 0s 145us/step - loss: 0.1676 - acc: 0.9398\n",
      "Epoch 35/70\n",
      "3057/3057 [==============================] - 0s 143us/step - loss: 0.1852 - acc: 0.9336\n",
      "Epoch 36/70\n",
      "3057/3057 [==============================] - 0s 146us/step - loss: 0.1698 - acc: 0.9405\n",
      "Epoch 37/70\n",
      "3057/3057 [==============================] - 0s 143us/step - loss: 0.1604 - acc: 0.9437\n",
      "Epoch 38/70\n",
      "3057/3057 [==============================] - 0s 149us/step - loss: 0.1624 - acc: 0.9434\n",
      "Epoch 39/70\n",
      "3057/3057 [==============================] - 0s 143us/step - loss: 0.1680 - acc: 0.9398\n",
      "Epoch 40/70\n",
      "3057/3057 [==============================] - 0s 144us/step - loss: 0.1712 - acc: 0.9382\n",
      "Epoch 41/70\n",
      "3057/3057 [==============================] - 0s 145us/step - loss: 0.1709 - acc: 0.9388\n",
      "Epoch 42/70\n",
      "3057/3057 [==============================] - 1s 175us/step - loss: 0.1629 - acc: 0.9428\n",
      "Epoch 43/70\n",
      "3057/3057 [==============================] - 0s 147us/step - loss: 0.1664 - acc: 0.9411\n",
      "Epoch 44/70\n",
      "3057/3057 [==============================] - 0s 144us/step - loss: 0.1696 - acc: 0.9398\n",
      "Epoch 45/70\n",
      "3057/3057 [==============================] - 0s 147us/step - loss: 0.1670 - acc: 0.9401\n",
      "Epoch 46/70\n",
      "3057/3057 [==============================] - 0s 144us/step - loss: 0.1565 - acc: 0.9467\n",
      "Epoch 47/70\n",
      "3057/3057 [==============================] - 0s 146us/step - loss: 0.1558 - acc: 0.9464\n",
      "Epoch 48/70\n",
      "3057/3057 [==============================] - 0s 143us/step - loss: 0.1583 - acc: 0.9447\n",
      "Epoch 49/70\n",
      "3057/3057 [==============================] - 0s 146us/step - loss: 0.1653 - acc: 0.9424\n",
      "Epoch 50/70\n",
      "3057/3057 [==============================] - 0s 145us/step - loss: 0.1517 - acc: 0.9477\n",
      "Epoch 51/70\n",
      "3057/3057 [==============================] - 0s 143us/step - loss: 0.1481 - acc: 0.9493\n",
      "Epoch 52/70\n",
      "3057/3057 [==============================] - 0s 150us/step - loss: 0.1488 - acc: 0.9490\n",
      "Epoch 53/70\n",
      "3057/3057 [==============================] - 0s 146us/step - loss: 0.1781 - acc: 0.9375\n",
      "Epoch 54/70\n",
      "3057/3057 [==============================] - 0s 145us/step - loss: 0.1707 - acc: 0.9378\n",
      "Epoch 55/70\n",
      "3057/3057 [==============================] - 0s 143us/step - loss: 0.1536 - acc: 0.9473\n",
      "Epoch 56/70\n",
      "3057/3057 [==============================] - 0s 144us/step - loss: 0.1470 - acc: 0.9506\n",
      "Epoch 57/70\n",
      "3057/3057 [==============================] - 0s 141us/step - loss: 0.1469 - acc: 0.9503\n",
      "Epoch 58/70\n",
      "3057/3057 [==============================] - 0s 146us/step - loss: 0.1591 - acc: 0.9434\n",
      "Epoch 59/70\n",
      "3057/3057 [==============================] - 0s 142us/step - loss: 0.1629 - acc: 0.9431\n",
      "Epoch 60/70\n",
      "3057/3057 [==============================] - 0s 143us/step - loss: 0.1529 - acc: 0.9467\n",
      "Epoch 61/70\n",
      "3057/3057 [==============================] - 0s 146us/step - loss: 0.1586 - acc: 0.9431\n",
      "Epoch 62/70\n",
      "3057/3057 [==============================] - 0s 141us/step - loss: 0.1749 - acc: 0.9395\n",
      "Epoch 63/70\n",
      "3057/3057 [==============================] - 0s 145us/step - loss: 0.1562 - acc: 0.9447\n",
      "Epoch 64/70\n",
      "3057/3057 [==============================] - 0s 144us/step - loss: 0.1461 - acc: 0.9509\n",
      "Epoch 65/70\n",
      "3057/3057 [==============================] - 0s 144us/step - loss: 0.1445 - acc: 0.9513\n",
      "Epoch 66/70\n",
      "3057/3057 [==============================] - 0s 142us/step - loss: 0.1444 - acc: 0.9513\n",
      "Epoch 67/70\n",
      "3057/3057 [==============================] - 0s 144us/step - loss: 0.1438 - acc: 0.9516\n",
      "Epoch 68/70\n",
      "3057/3057 [==============================] - 0s 141us/step - loss: 0.1564 - acc: 0.9457\n",
      "Epoch 69/70\n",
      "3057/3057 [==============================] - 0s 143us/step - loss: 0.1552 - acc: 0.9473\n",
      "Epoch 70/70\n",
      "3057/3057 [==============================] - 0s 145us/step - loss: 0.1756 - acc: 0.9382\n",
      "CPU times: user 1min 24s, sys: 11.3 s, total: 1min 35s\n",
      "Wall time: 32.4 s\n"
     ]
    },
    {
     "data": {
      "text/plain": [
       "<keras.callbacks.History at 0x1a47892198>"
      ]
     },
     "execution_count": 49,
     "metadata": {},
     "output_type": "execute_result"
    }
   ],
   "source": [
    "%%time\n",
    "\n",
    "# fit training data to model\n",
    "classifier_2.fit(X_train, y_train, batch_size = 15, epochs = 70)"
   ]
  },
  {
   "cell_type": "code",
   "execution_count": 50,
   "metadata": {},
   "outputs": [
    {
     "name": "stdout",
     "output_type": "stream",
     "text": [
      "3057/3057 [==============================] - 0s 77us/step\n"
     ]
    },
    {
     "data": {
      "text/plain": [
       "[0.15603088445920044, 0.9453712790512282]"
      ]
     },
     "execution_count": 50,
     "metadata": {},
     "output_type": "execute_result"
    }
   ],
   "source": [
    "# evaluate loss & metrics values for model\n",
    "classifier_2.evaluate(X_train, y_train) # accuracy near 94% on training data, which is also a sign of overfitting"
   ]
  },
  {
   "cell_type": "code",
   "execution_count": 51,
   "metadata": {},
   "outputs": [],
   "source": [
    "# predict on test data\n",
    "# if prediction is greater than 0.5, output is 1; otherwise, output is 0\n",
    "y_pred_2 = classifier_2.predict(X_test)\n",
    "y_pred_2 = (y_pred_2 > 0.5)"
   ]
  },
  {
   "cell_type": "code",
   "execution_count": 52,
   "metadata": {},
   "outputs": [
    {
     "data": {
      "text/plain": [
       "array([[196, 263],\n",
       "       [226, 626]])"
      ]
     },
     "execution_count": 52,
     "metadata": {},
     "output_type": "execute_result"
    }
   ],
   "source": [
    "# accuracy on test: ~63%\n",
    "confusion_matrix(y_test, y_pred_2) # TP + TN = 802; 802/1311 total = ~63% accurate"
   ]
  },
  {
   "cell_type": "markdown",
   "metadata": {},
   "source": [
    "#### Instance 3 -- tackle overfitting during model training\n",
    "5 layers of 33 nodes mapping to 1 target variable"
   ]
  },
  {
   "cell_type": "code",
   "execution_count": 53,
   "metadata": {},
   "outputs": [],
   "source": [
    "# instantiate classifier 3\n",
    "classifier_3 = Sequential()"
   ]
  },
  {
   "cell_type": "markdown",
   "metadata": {},
   "source": [
    "Implementation of dropout regularization to approximate training a large # of NN's w/ unique architectures in parallel, which we don't have the time or compute for."
   ]
  },
  {
   "cell_type": "code",
   "execution_count": 54,
   "metadata": {},
   "outputs": [
    {
     "name": "stdout",
     "output_type": "stream",
     "text": [
      "WARNING:tensorflow:From /Users/colella2/anaconda3/lib/python3.7/site-packages/keras/backend/tensorflow_backend.py:3445: calling dropout (from tensorflow.python.ops.nn_ops) with keep_prob is deprecated and will be removed in a future version.\n",
      "Instructions for updating:\n",
      "Please use `rate` instead of `keep_prob`. Rate should be set to `rate = 1 - keep_prob`.\n"
     ]
    }
   ],
   "source": [
    "# hidden layer 1\n",
    "classifier_3.add(Dense(33, activation = 'relu', kernel_initializer = 'random_normal', input_dim = 165))\n",
    "classifier_3.add(Dropout(0.1))\n",
    "\n",
    "# hidden layer 2\n",
    "classifier_3.add(Dense(33, activation = 'relu', kernel_initializer = 'random_normal'))\n",
    "classifier_3.add(Dropout(0.1))\n",
    "\n",
    "# hidden layer 3\n",
    "classifier_3.add(Dense(33, activation = 'relu', kernel_initializer = 'random_normal'))\n",
    "classifier_3.add(Dropout(0.1))\n",
    "\n",
    "# hidden layer 4\n",
    "classifier_3.add(Dense(33, activation = 'relu', kernel_initializer = 'random_normal'))\n",
    "classifier_3.add(Dropout(0.1))\n",
    "\n",
    "# hidden layer 5\n",
    "classifier_3.add(Dense(33, activation = 'relu', kernel_initializer = 'random_normal'))\n",
    "classifier_3.add(Dropout(0.1))\n",
    "\n",
    "# output layer\n",
    "classifier_3.add(Dense(1, activation = 'sigmoid', kernel_initializer = 'random_normal'))"
   ]
  },
  {
   "cell_type": "code",
   "execution_count": 55,
   "metadata": {},
   "outputs": [],
   "source": [
    "# compile NN\n",
    "classifier_3.compile(optimizer = 'adam', loss = 'binary_crossentropy', metrics = ['accuracy'])"
   ]
  },
  {
   "cell_type": "code",
   "execution_count": 56,
   "metadata": {
    "scrolled": true
   },
   "outputs": [
    {
     "name": "stdout",
     "output_type": "stream",
     "text": [
      "Epoch 1/60\n",
      "3057/3057 [==============================] - 2s 744us/step - loss: 0.6295 - acc: 0.6781\n",
      "Epoch 2/60\n",
      "3057/3057 [==============================] - 1s 220us/step - loss: 0.5645 - acc: 0.6791\n",
      "Epoch 3/60\n",
      "3057/3057 [==============================] - 1s 213us/step - loss: 0.5369 - acc: 0.6791\n",
      "Epoch 4/60\n",
      "3057/3057 [==============================] - 1s 214us/step - loss: 0.5260 - acc: 0.6984\n",
      "Epoch 5/60\n",
      "3057/3057 [==============================] - 1s 216us/step - loss: 0.5126 - acc: 0.7216\n",
      "Epoch 6/60\n",
      "3057/3057 [==============================] - 1s 212us/step - loss: 0.4924 - acc: 0.7478\n",
      "Epoch 7/60\n",
      "3057/3057 [==============================] - 1s 214us/step - loss: 0.4712 - acc: 0.7573\n",
      "Epoch 8/60\n",
      "3057/3057 [==============================] - 1s 214us/step - loss: 0.4452 - acc: 0.7740\n",
      "Epoch 9/60\n",
      "3057/3057 [==============================] - 1s 213us/step - loss: 0.4164 - acc: 0.7959\n",
      "Epoch 10/60\n",
      "3057/3057 [==============================] - 1s 216us/step - loss: 0.4010 - acc: 0.8099\n",
      "Epoch 11/60\n",
      "3057/3057 [==============================] - 1s 216us/step - loss: 0.3842 - acc: 0.8184\n",
      "Epoch 12/60\n",
      "3057/3057 [==============================] - 1s 213us/step - loss: 0.3562 - acc: 0.8387\n",
      "Epoch 13/60\n",
      "3057/3057 [==============================] - 1s 216us/step - loss: 0.3380 - acc: 0.8456\n",
      "Epoch 14/60\n",
      "3057/3057 [==============================] - 1s 217us/step - loss: 0.3310 - acc: 0.8459\n",
      "Epoch 15/60\n",
      "3057/3057 [==============================] - 1s 216us/step - loss: 0.3241 - acc: 0.8548\n",
      "Epoch 16/60\n",
      "3057/3057 [==============================] - 1s 213us/step - loss: 0.2978 - acc: 0.8724\n",
      "Epoch 17/60\n",
      "3057/3057 [==============================] - 1s 215us/step - loss: 0.3004 - acc: 0.8698\n",
      "Epoch 18/60\n",
      "3057/3057 [==============================] - 1s 212us/step - loss: 0.2805 - acc: 0.8724\n",
      "Epoch 19/60\n",
      "3057/3057 [==============================] - 1s 213us/step - loss: 0.2843 - acc: 0.8777\n",
      "Epoch 20/60\n",
      "3057/3057 [==============================] - 1s 214us/step - loss: 0.2675 - acc: 0.8845\n",
      "Epoch 21/60\n",
      "3057/3057 [==============================] - 1s 212us/step - loss: 0.2563 - acc: 0.8924\n",
      "Epoch 22/60\n",
      "3057/3057 [==============================] - 1s 213us/step - loss: 0.2461 - acc: 0.8989\n",
      "Epoch 23/60\n",
      "3057/3057 [==============================] - 1s 216us/step - loss: 0.2393 - acc: 0.9028\n",
      "Epoch 24/60\n",
      "3057/3057 [==============================] - 1s 211us/step - loss: 0.2436 - acc: 0.9035\n",
      "Epoch 25/60\n",
      "3057/3057 [==============================] - 1s 214us/step - loss: 0.2398 - acc: 0.9038\n",
      "Epoch 26/60\n",
      "3057/3057 [==============================] - 1s 212us/step - loss: 0.2401 - acc: 0.8960\n",
      "Epoch 27/60\n",
      "3057/3057 [==============================] - 1s 212us/step - loss: 0.2274 - acc: 0.9094\n",
      "Epoch 28/60\n",
      "3057/3057 [==============================] - 1s 216us/step - loss: 0.2175 - acc: 0.9120\n",
      "Epoch 29/60\n",
      "3057/3057 [==============================] - 1s 214us/step - loss: 0.2211 - acc: 0.9140\n",
      "Epoch 30/60\n",
      "3057/3057 [==============================] - 1s 216us/step - loss: 0.2112 - acc: 0.9185\n",
      "Epoch 31/60\n",
      "3057/3057 [==============================] - 1s 215us/step - loss: 0.2113 - acc: 0.9153\n",
      "Epoch 32/60\n",
      "3057/3057 [==============================] - 1s 212us/step - loss: 0.1997 - acc: 0.9238\n",
      "Epoch 33/60\n",
      "3057/3057 [==============================] - 1s 217us/step - loss: 0.2013 - acc: 0.9228\n",
      "Epoch 34/60\n",
      "3057/3057 [==============================] - 1s 213us/step - loss: 0.1990 - acc: 0.9235\n",
      "Epoch 35/60\n",
      "3057/3057 [==============================] - 1s 215us/step - loss: 0.1897 - acc: 0.9287\n",
      "Epoch 36/60\n",
      "3057/3057 [==============================] - 1s 226us/step - loss: 0.1912 - acc: 0.9261\n",
      "Epoch 37/60\n",
      "3057/3057 [==============================] - 1s 217us/step - loss: 0.1946 - acc: 0.9264\n",
      "Epoch 38/60\n",
      "3057/3057 [==============================] - 1s 211us/step - loss: 0.1931 - acc: 0.9274\n",
      "Epoch 39/60\n",
      "3057/3057 [==============================] - 1s 214us/step - loss: 0.1876 - acc: 0.9307\n",
      "Epoch 40/60\n",
      "3057/3057 [==============================] - 1s 214us/step - loss: 0.1880 - acc: 0.9290\n",
      "Epoch 41/60\n",
      "3057/3057 [==============================] - 1s 212us/step - loss: 0.1908 - acc: 0.9244\n",
      "Epoch 42/60\n",
      "3057/3057 [==============================] - 1s 214us/step - loss: 0.1766 - acc: 0.9359\n",
      "Epoch 43/60\n",
      "3057/3057 [==============================] - 1s 216us/step - loss: 0.1850 - acc: 0.9293\n",
      "Epoch 44/60\n",
      "3057/3057 [==============================] - 1s 218us/step - loss: 0.1860 - acc: 0.9300\n",
      "Epoch 45/60\n",
      "3057/3057 [==============================] - 1s 213us/step - loss: 0.1773 - acc: 0.9349\n",
      "Epoch 46/60\n",
      "3057/3057 [==============================] - 1s 217us/step - loss: 0.1713 - acc: 0.9369\n",
      "Epoch 47/60\n",
      "3057/3057 [==============================] - 1s 217us/step - loss: 0.1669 - acc: 0.9414\n",
      "Epoch 48/60\n",
      "3057/3057 [==============================] - 1s 219us/step - loss: 0.1718 - acc: 0.9365\n",
      "Epoch 49/60\n",
      "3057/3057 [==============================] - 1s 220us/step - loss: 0.1613 - acc: 0.9444\n",
      "Epoch 50/60\n",
      "3057/3057 [==============================] - 1s 218us/step - loss: 0.1617 - acc: 0.9428\n",
      "Epoch 51/60\n",
      "3057/3057 [==============================] - 1s 216us/step - loss: 0.1586 - acc: 0.9428\n",
      "Epoch 52/60\n",
      "3057/3057 [==============================] - 1s 213us/step - loss: 0.1659 - acc: 0.9378\n",
      "Epoch 53/60\n",
      "3057/3057 [==============================] - 1s 212us/step - loss: 0.1551 - acc: 0.9470\n",
      "Epoch 54/60\n",
      "3057/3057 [==============================] - 1s 213us/step - loss: 0.1593 - acc: 0.9447\n",
      "Epoch 55/60\n",
      "3057/3057 [==============================] - 1s 213us/step - loss: 0.1659 - acc: 0.9421\n",
      "Epoch 56/60\n",
      "3057/3057 [==============================] - 1s 211us/step - loss: 0.1483 - acc: 0.9483\n",
      "Epoch 57/60\n",
      "3057/3057 [==============================] - 1s 214us/step - loss: 0.1504 - acc: 0.9473\n",
      "Epoch 58/60\n",
      "3057/3057 [==============================] - 1s 220us/step - loss: 0.1415 - acc: 0.9519\n",
      "Epoch 59/60\n",
      "3057/3057 [==============================] - 1s 219us/step - loss: 0.1529 - acc: 0.9470\n",
      "Epoch 60/60\n",
      "3057/3057 [==============================] - 1s 221us/step - loss: 0.1577 - acc: 0.9467\n",
      "CPU times: user 1min 35s, sys: 11.3 s, total: 1min 47s\n",
      "Wall time: 41.5 s\n"
     ]
    },
    {
     "data": {
      "text/plain": [
       "<keras.callbacks.History at 0x109305860>"
      ]
     },
     "execution_count": 56,
     "metadata": {},
     "output_type": "execute_result"
    }
   ],
   "source": [
    "%%time\n",
    "\n",
    "# fit training data to model\n",
    "classifier_3.fit(X_train,y_train, batch_size = 15, epochs = 60)"
   ]
  },
  {
   "cell_type": "code",
   "execution_count": 57,
   "metadata": {},
   "outputs": [
    {
     "name": "stdout",
     "output_type": "stream",
     "text": [
      "3057/3057 [==============================] - 0s 121us/step\n"
     ]
    },
    {
     "data": {
      "text/plain": [
       "[0.11654213809834456, 0.9659797186979406]"
      ]
     },
     "execution_count": 57,
     "metadata": {},
     "output_type": "execute_result"
    }
   ],
   "source": [
    "# evaluate loss & metrics values for model\n",
    "classifier_3.evaluate(X_train, y_train) # accuracy near 94% on training data"
   ]
  },
  {
   "cell_type": "code",
   "execution_count": 58,
   "metadata": {},
   "outputs": [],
   "source": [
    "# predict on test data\n",
    "# if prediction is greater than 0.5, output is 1; otherwise, output is 0\n",
    "y_pred_3 = classifier_3.predict(X_test)\n",
    "y_pred_3 = (y_pred_3 > 0.5)"
   ]
  },
  {
   "cell_type": "code",
   "execution_count": 59,
   "metadata": {},
   "outputs": [
    {
     "data": {
      "text/plain": [
       "array([[176, 283],\n",
       "       [199, 653]])"
      ]
     },
     "execution_count": 59,
     "metadata": {},
     "output_type": "execute_result"
    }
   ],
   "source": [
    "# accuracy on test: ~63%\n",
    "confusion_matrix(y_test, y_pred_3) # TP + TN = 858; 858/1311 total = ~63% accurate"
   ]
  },
  {
   "cell_type": "markdown",
   "metadata": {},
   "source": [
    "#### Instance 4\n",
    "11 layers of 15 nodes mapping to 1 target variable"
   ]
  },
  {
   "cell_type": "code",
   "execution_count": 60,
   "metadata": {},
   "outputs": [],
   "source": [
    "# instantiate classifier 4\n",
    "classifier_4 = Sequential()"
   ]
  },
  {
   "cell_type": "code",
   "execution_count": 61,
   "metadata": {},
   "outputs": [],
   "source": [
    "# hidden layer 1\n",
    "classifier_4.add(Dense(15, activation = 'relu', kernel_initializer = 'random_normal', input_dim = 165))\n",
    "classifier_4.add(Dropout(0.1))\n",
    "\n",
    "# hidden layer 2\n",
    "classifier_4.add(Dense(15, activation = 'relu', kernel_initializer = 'random_normal'))\n",
    "classifier_4.add(Dropout(0.1))\n",
    "\n",
    "# hidden layer 3\n",
    "classifier_4.add(Dense(15, activation = 'relu', kernel_initializer = 'random_normal'))\n",
    "classifier_4.add(Dropout(0.1))\n",
    "\n",
    "# hidden layer 4\n",
    "classifier_4.add(Dense(15, activation = 'relu', kernel_initializer = 'random_normal'))\n",
    "classifier_4.add(Dropout(0.1))\n",
    "\n",
    "# hidden layer 5\n",
    "classifier_4.add(Dense(15, activation = 'relu', kernel_initializer = 'random_normal'))\n",
    "classifier_4.add(Dropout(0.1))\n",
    "\n",
    "# hidden layer 6\n",
    "classifier_4.add(Dense(15, activation = 'relu', kernel_initializer = 'random_normal'))\n",
    "classifier_4.add(Dropout(0.1))\n",
    "\n",
    "# hidden layer 7\n",
    "classifier_4.add(Dense(15, activation = 'relu', kernel_initializer = 'random_normal'))\n",
    "classifier_4.add(Dropout(0.1))\n",
    "\n",
    "# hidden layer 8\n",
    "classifier_4.add(Dense(15, activation = 'relu', kernel_initializer = 'random_normal'))\n",
    "classifier_4.add(Dropout(0.1))\n",
    "\n",
    "# hidden layer 9\n",
    "classifier_4.add(Dense(15, activation = 'relu', kernel_initializer = 'random_normal'))\n",
    "classifier_4.add(Dropout(0.1))\n",
    "\n",
    "# hidden layer 10\n",
    "classifier_4.add(Dense(15, activation = 'relu', kernel_initializer = 'random_normal'))\n",
    "classifier_4.add(Dropout(0.1))\n",
    "\n",
    "# hidden layer 11\n",
    "classifier_4.add(Dense(15, activation = 'relu', kernel_initializer = 'random_normal'))\n",
    "classifier_4.add(Dropout(0.1))\n",
    "\n",
    "# output layer\n",
    "classifier_4.add(Dense(1, activation = 'sigmoid', kernel_initializer = 'random_normal'))"
   ]
  },
  {
   "cell_type": "code",
   "execution_count": 62,
   "metadata": {},
   "outputs": [],
   "source": [
    "# compile NN\n",
    "classifier_4.compile(optimizer = 'adam', loss = 'binary_crossentropy', metrics = ['accuracy'])"
   ]
  },
  {
   "cell_type": "code",
   "execution_count": 63,
   "metadata": {},
   "outputs": [
    {
     "name": "stdout",
     "output_type": "stream",
     "text": [
      "Epoch 1/200\n",
      "3057/3057 [==============================] - 4s 1ms/step - loss: 0.6533 - acc: 0.6768\n",
      "Epoch 2/200\n",
      "3057/3057 [==============================] - 1s 304us/step - loss: 0.6251 - acc: 0.6791\n",
      "Epoch 3/200\n",
      "3057/3057 [==============================] - 1s 308us/step - loss: 0.5800 - acc: 0.6791\n",
      "Epoch 4/200\n",
      "3057/3057 [==============================] - 1s 303us/step - loss: 0.5678 - acc: 0.6791\n",
      "Epoch 5/200\n",
      "3057/3057 [==============================] - 1s 308us/step - loss: 0.5569 - acc: 0.6791\n",
      "Epoch 6/200\n",
      "3057/3057 [==============================] - 1s 308us/step - loss: 0.5494 - acc: 0.6791\n",
      "Epoch 7/200\n",
      "3057/3057 [==============================] - 1s 311us/step - loss: 0.5450 - acc: 0.6791\n",
      "Epoch 8/200\n",
      "3057/3057 [==============================] - 1s 310us/step - loss: 0.5414 - acc: 0.6791\n",
      "Epoch 9/200\n",
      "3057/3057 [==============================] - 1s 307us/step - loss: 0.5358 - acc: 0.6791\n",
      "Epoch 10/200\n",
      "3057/3057 [==============================] - 1s 310us/step - loss: 0.5376 - acc: 0.6791\n",
      "Epoch 11/200\n",
      "3057/3057 [==============================] - 1s 310us/step - loss: 0.5307 - acc: 0.6791\n",
      "Epoch 12/200\n",
      "3057/3057 [==============================] - 1s 311us/step - loss: 0.5237 - acc: 0.6791\n",
      "Epoch 13/200\n",
      "3057/3057 [==============================] - 1s 312us/step - loss: 0.5182 - acc: 0.6791\n",
      "Epoch 14/200\n",
      "3057/3057 [==============================] - 1s 317us/step - loss: 0.5242 - acc: 0.6791\n",
      "Epoch 15/200\n",
      "3057/3057 [==============================] - 1s 322us/step - loss: 0.5178 - acc: 0.6791\n",
      "Epoch 16/200\n",
      "3057/3057 [==============================] - 1s 321us/step - loss: 0.5167 - acc: 0.6791\n",
      "Epoch 17/200\n",
      "3057/3057 [==============================] - 1s 321us/step - loss: 0.5119 - acc: 0.6791\n",
      "Epoch 18/200\n",
      "3057/3057 [==============================] - 1s 321us/step - loss: 0.5149 - acc: 0.6791\n",
      "Epoch 19/200\n",
      "3057/3057 [==============================] - 1s 323us/step - loss: 0.5050 - acc: 0.6791\n",
      "Epoch 20/200\n",
      "3057/3057 [==============================] - 1s 320us/step - loss: 0.5015 - acc: 0.6791\n",
      "Epoch 21/200\n",
      "3057/3057 [==============================] - 1s 319us/step - loss: 0.4996 - acc: 0.6791\n",
      "Epoch 22/200\n",
      "3057/3057 [==============================] - 1s 313us/step - loss: 0.4987 - acc: 0.6791\n",
      "Epoch 23/200\n",
      "3057/3057 [==============================] - 1s 313us/step - loss: 0.4975 - acc: 0.6791\n",
      "Epoch 24/200\n",
      "3057/3057 [==============================] - 1s 312us/step - loss: 0.4970 - acc: 0.6791\n",
      "Epoch 25/200\n",
      "3057/3057 [==============================] - 1s 317us/step - loss: 0.4894 - acc: 0.6791\n",
      "Epoch 26/200\n",
      "3057/3057 [==============================] - 1s 324us/step - loss: 0.4920 - acc: 0.6791\n",
      "Epoch 27/200\n",
      "3057/3057 [==============================] - 1s 322us/step - loss: 0.4933 - acc: 0.6791\n",
      "Epoch 28/200\n",
      "3057/3057 [==============================] - 1s 318us/step - loss: 0.4846 - acc: 0.6791\n",
      "Epoch 29/200\n",
      "3057/3057 [==============================] - 1s 313us/step - loss: 0.4890 - acc: 0.6791\n",
      "Epoch 30/200\n",
      "3057/3057 [==============================] - 1s 314us/step - loss: 0.4918 - acc: 0.6791\n",
      "Epoch 31/200\n",
      "3057/3057 [==============================] - 1s 313us/step - loss: 0.4918 - acc: 0.6791\n",
      "Epoch 32/200\n",
      "3057/3057 [==============================] - 1s 316us/step - loss: 0.4899 - acc: 0.6791\n",
      "Epoch 33/200\n",
      "3057/3057 [==============================] - 1s 321us/step - loss: 0.4795 - acc: 0.6791\n",
      "Epoch 34/200\n",
      "3057/3057 [==============================] - 1s 321us/step - loss: 0.4881 - acc: 0.6791\n",
      "Epoch 35/200\n",
      "3057/3057 [==============================] - 1s 321us/step - loss: 0.4841 - acc: 0.6791\n",
      "Epoch 36/200\n",
      "3057/3057 [==============================] - 1s 314us/step - loss: 0.4814 - acc: 0.6791\n",
      "Epoch 37/200\n",
      "3057/3057 [==============================] - 1s 316us/step - loss: 0.4780 - acc: 0.6791\n",
      "Epoch 38/200\n",
      "3057/3057 [==============================] - 1s 315us/step - loss: 0.4764 - acc: 0.6791\n",
      "Epoch 39/200\n",
      "3057/3057 [==============================] - 1s 330us/step - loss: 0.4757 - acc: 0.6791\n",
      "Epoch 40/200\n",
      "3057/3057 [==============================] - 1s 323us/step - loss: 0.4725 - acc: 0.6791\n",
      "Epoch 41/200\n",
      "3057/3057 [==============================] - 1s 322us/step - loss: 0.4791 - acc: 0.6791\n",
      "Epoch 42/200\n",
      "3057/3057 [==============================] - 1s 323us/step - loss: 0.4815 - acc: 0.6791\n",
      "Epoch 43/200\n",
      "3057/3057 [==============================] - 1s 315us/step - loss: 0.4689 - acc: 0.6791\n",
      "Epoch 44/200\n",
      "3057/3057 [==============================] - 1s 314us/step - loss: 0.4829 - acc: 0.6791\n",
      "Epoch 45/200\n",
      "3057/3057 [==============================] - 1s 314us/step - loss: 0.4668 - acc: 0.6791\n",
      "Epoch 46/200\n",
      "3057/3057 [==============================] - 1s 318us/step - loss: 0.4788 - acc: 0.6791\n",
      "Epoch 47/200\n",
      "3057/3057 [==============================] - 1s 323us/step - loss: 0.4799 - acc: 0.6791\n",
      "Epoch 48/200\n",
      "3057/3057 [==============================] - 1s 323us/step - loss: 0.4722 - acc: 0.6791\n",
      "Epoch 49/200\n",
      "3057/3057 [==============================] - 1s 324us/step - loss: 0.4722 - acc: 0.6791\n",
      "Epoch 50/200\n",
      "3057/3057 [==============================] - 1s 317us/step - loss: 0.4745 - acc: 0.6791\n",
      "Epoch 51/200\n",
      "3057/3057 [==============================] - 1s 313us/step - loss: 0.4701 - acc: 0.6791\n",
      "Epoch 52/200\n",
      "3057/3057 [==============================] - 1s 314us/step - loss: 0.4674 - acc: 0.6791\n",
      "Epoch 53/200\n",
      "3057/3057 [==============================] - 1s 317us/step - loss: 0.4712 - acc: 0.6791\n",
      "Epoch 54/200\n",
      "3057/3057 [==============================] - 1s 321us/step - loss: 0.4688 - acc: 0.6791\n",
      "Epoch 55/200\n",
      "3057/3057 [==============================] - 1s 322us/step - loss: 0.4712 - acc: 0.6791\n",
      "Epoch 56/200\n",
      "3057/3057 [==============================] - 1s 323us/step - loss: 0.4671 - acc: 0.6791\n",
      "Epoch 57/200\n",
      "3057/3057 [==============================] - 1s 318us/step - loss: 0.4660 - acc: 0.6791\n",
      "Epoch 58/200\n",
      "3057/3057 [==============================] - 1s 313us/step - loss: 0.4669 - acc: 0.6791\n",
      "Epoch 59/200\n",
      "3057/3057 [==============================] - 1s 313us/step - loss: 0.4698 - acc: 0.6791\n",
      "Epoch 60/200\n",
      "3057/3057 [==============================] - 1s 317us/step - loss: 0.4659 - acc: 0.6791\n",
      "Epoch 61/200\n",
      "3057/3057 [==============================] - 1s 321us/step - loss: 0.4597 - acc: 0.6791\n",
      "Epoch 62/200\n",
      "3057/3057 [==============================] - 1s 321us/step - loss: 0.4618 - acc: 0.6784\n",
      "Epoch 63/200\n",
      "3057/3057 [==============================] - 1s 321us/step - loss: 0.4601 - acc: 0.6771\n",
      "Epoch 64/200\n",
      "3057/3057 [==============================] - 1s 315us/step - loss: 0.4696 - acc: 0.6791\n",
      "Epoch 65/200\n",
      "3057/3057 [==============================] - 1s 313us/step - loss: 0.4606 - acc: 0.6794\n",
      "Epoch 66/200\n",
      "3057/3057 [==============================] - 1s 313us/step - loss: 0.4653 - acc: 0.6706\n",
      "Epoch 67/200\n",
      "3057/3057 [==============================] - 1s 319us/step - loss: 0.4586 - acc: 0.6791\n",
      "Epoch 68/200\n",
      "3057/3057 [==============================] - 1s 321us/step - loss: 0.4606 - acc: 0.6742\n",
      "Epoch 69/200\n",
      "3057/3057 [==============================] - 1s 322us/step - loss: 0.4648 - acc: 0.6578\n",
      "Epoch 70/200\n",
      "3057/3057 [==============================] - 1s 320us/step - loss: 0.4664 - acc: 0.6719\n",
      "Epoch 71/200\n",
      "3057/3057 [==============================] - 1s 317us/step - loss: 0.4595 - acc: 0.6775\n",
      "Epoch 72/200\n",
      "3057/3057 [==============================] - 1s 314us/step - loss: 0.4655 - acc: 0.6824\n",
      "Epoch 73/200\n",
      "3057/3057 [==============================] - 1s 314us/step - loss: 0.4566 - acc: 0.6768\n",
      "Epoch 74/200\n",
      "3057/3057 [==============================] - 1s 318us/step - loss: 0.4594 - acc: 0.6905\n",
      "Epoch 75/200\n",
      "3057/3057 [==============================] - 1s 324us/step - loss: 0.4617 - acc: 0.6771\n",
      "Epoch 76/200\n",
      "3057/3057 [==============================] - 1s 322us/step - loss: 0.4631 - acc: 0.6533\n",
      "Epoch 77/200\n",
      "3057/3057 [==============================] - 1s 325us/step - loss: 0.4558 - acc: 0.6807\n",
      "Epoch 78/200\n",
      "3057/3057 [==============================] - 1s 319us/step - loss: 0.4592 - acc: 0.6873\n",
      "Epoch 79/200\n",
      "3057/3057 [==============================] - 1s 313us/step - loss: 0.4562 - acc: 0.6833\n",
      "Epoch 80/200\n",
      "3057/3057 [==============================] - 1s 314us/step - loss: 0.4654 - acc: 0.6726\n",
      "Epoch 81/200\n",
      "3057/3057 [==============================] - 1s 317us/step - loss: 0.4559 - acc: 0.6765\n",
      "Epoch 82/200\n"
     ]
    },
    {
     "name": "stdout",
     "output_type": "stream",
     "text": [
      "3057/3057 [==============================] - 1s 320us/step - loss: 0.4603 - acc: 0.6788\n",
      "Epoch 83/200\n",
      "3057/3057 [==============================] - 1s 318us/step - loss: 0.4574 - acc: 0.6807\n",
      "Epoch 84/200\n",
      "3057/3057 [==============================] - 1s 320us/step - loss: 0.4615 - acc: 0.6801\n",
      "Epoch 85/200\n",
      "3057/3057 [==============================] - 1s 318us/step - loss: 0.4513 - acc: 0.6801\n",
      "Epoch 86/200\n",
      "3057/3057 [==============================] - 1s 309us/step - loss: 0.4513 - acc: 0.6869\n",
      "Epoch 87/200\n",
      "3057/3057 [==============================] - 1s 314us/step - loss: 0.4534 - acc: 0.6883\n",
      "Epoch 88/200\n",
      "3057/3057 [==============================] - 1s 313us/step - loss: 0.4545 - acc: 0.6873\n",
      "Epoch 89/200\n",
      "3057/3057 [==============================] - 1s 316us/step - loss: 0.4563 - acc: 0.6876\n",
      "Epoch 90/200\n",
      "3057/3057 [==============================] - 1s 319us/step - loss: 0.4572 - acc: 0.6860\n",
      "Epoch 91/200\n",
      "3057/3057 [==============================] - 1s 320us/step - loss: 0.4575 - acc: 0.6869\n",
      "Epoch 92/200\n",
      "3057/3057 [==============================] - 1s 318us/step - loss: 0.4589 - acc: 0.6811\n",
      "Epoch 93/200\n",
      "3057/3057 [==============================] - 1s 311us/step - loss: 0.4585 - acc: 0.6820\n",
      "Epoch 94/200\n",
      "3057/3057 [==============================] - 1s 312us/step - loss: 0.4590 - acc: 0.6863\n",
      "Epoch 95/200\n",
      "3057/3057 [==============================] - 1s 311us/step - loss: 0.4564 - acc: 0.6840\n",
      "Epoch 96/200\n",
      "3057/3057 [==============================] - 1s 315us/step - loss: 0.4636 - acc: 0.6863\n",
      "Epoch 97/200\n",
      "3057/3057 [==============================] - 1s 320us/step - loss: 0.4481 - acc: 0.6902\n",
      "Epoch 98/200\n",
      "3057/3057 [==============================] - 1s 319us/step - loss: 0.4536 - acc: 0.6883\n",
      "Epoch 99/200\n",
      "3057/3057 [==============================] - 1s 318us/step - loss: 0.4542 - acc: 0.6896\n",
      "Epoch 100/200\n",
      "3057/3057 [==============================] - 1s 318us/step - loss: 0.4576 - acc: 0.6863\n",
      "Epoch 101/200\n",
      "3057/3057 [==============================] - 1s 314us/step - loss: 0.4566 - acc: 0.6909\n",
      "Epoch 102/200\n",
      "3057/3057 [==============================] - 1s 311us/step - loss: 0.4555 - acc: 0.6896\n",
      "Epoch 103/200\n",
      "3057/3057 [==============================] - 1s 311us/step - loss: 0.4547 - acc: 0.6977\n",
      "Epoch 104/200\n",
      "3057/3057 [==============================] - 1s 320us/step - loss: 0.4459 - acc: 0.6922\n",
      "Epoch 105/200\n",
      "3057/3057 [==============================] - 1s 319us/step - loss: 0.4542 - acc: 0.6915\n",
      "Epoch 106/200\n",
      "3057/3057 [==============================] - 1s 319us/step - loss: 0.4517 - acc: 0.6919\n",
      "Epoch 107/200\n",
      "3057/3057 [==============================] - 1s 320us/step - loss: 0.4438 - acc: 0.6951\n",
      "Epoch 108/200\n",
      "3057/3057 [==============================] - 1s 314us/step - loss: 0.4477 - acc: 0.6945\n",
      "Epoch 109/200\n",
      "3057/3057 [==============================] - 1s 316us/step - loss: 0.4481 - acc: 0.6925\n",
      "Epoch 110/200\n",
      "3057/3057 [==============================] - 1s 312us/step - loss: 0.4501 - acc: 0.6905\n",
      "Epoch 111/200\n",
      "3057/3057 [==============================] - 1s 322us/step - loss: 0.4532 - acc: 0.6892\n",
      "Epoch 112/200\n",
      "3057/3057 [==============================] - 1s 320us/step - loss: 0.4593 - acc: 0.6919\n",
      "Epoch 113/200\n",
      "3057/3057 [==============================] - 1s 319us/step - loss: 0.4457 - acc: 0.6925\n",
      "Epoch 114/200\n",
      "3057/3057 [==============================] - 1s 321us/step - loss: 0.4535 - acc: 0.6915\n",
      "Epoch 115/200\n",
      "3057/3057 [==============================] - 1s 318us/step - loss: 0.4509 - acc: 0.6935\n",
      "Epoch 116/200\n",
      "3057/3057 [==============================] - 1s 312us/step - loss: 0.4486 - acc: 0.6941\n",
      "Epoch 117/200\n",
      "3057/3057 [==============================] - 1s 312us/step - loss: 0.4506 - acc: 0.6935\n",
      "Epoch 118/200\n",
      "3057/3057 [==============================] - 1s 318us/step - loss: 0.4464 - acc: 0.6984\n",
      "Epoch 119/200\n",
      "3057/3057 [==============================] - 1s 323us/step - loss: 0.4512 - acc: 0.6981\n",
      "Epoch 120/200\n",
      "3057/3057 [==============================] - 1s 321us/step - loss: 0.4450 - acc: 0.6977\n",
      "Epoch 121/200\n",
      "3057/3057 [==============================] - 1s 320us/step - loss: 0.4520 - acc: 0.6909\n",
      "Epoch 122/200\n",
      "3057/3057 [==============================] - 1s 322us/step - loss: 0.4478 - acc: 0.6968\n",
      "Epoch 123/200\n",
      "3057/3057 [==============================] - 1s 320us/step - loss: 0.4464 - acc: 0.6958\n",
      "Epoch 124/200\n",
      "3057/3057 [==============================] - 1s 311us/step - loss: 0.4480 - acc: 0.6948\n",
      "Epoch 125/200\n",
      "3057/3057 [==============================] - 1s 312us/step - loss: 0.4453 - acc: 0.6991\n",
      "Epoch 126/200\n",
      "3057/3057 [==============================] - 1s 318us/step - loss: 0.4474 - acc: 0.6984\n",
      "Epoch 127/200\n",
      "3057/3057 [==============================] - 1s 322us/step - loss: 0.4389 - acc: 0.7023\n",
      "Epoch 128/200\n",
      "3057/3057 [==============================] - 1s 320us/step - loss: 0.4430 - acc: 0.7000\n",
      "Epoch 129/200\n",
      "3057/3057 [==============================] - 1s 324us/step - loss: 0.4476 - acc: 0.6971\n",
      "Epoch 130/200\n",
      "3057/3057 [==============================] - 1s 320us/step - loss: 0.4464 - acc: 0.7004\n",
      "Epoch 131/200\n",
      "3057/3057 [==============================] - 1s 321us/step - loss: 0.4376 - acc: 0.7046\n",
      "Epoch 132/200\n",
      "3057/3057 [==============================] - 1s 318us/step - loss: 0.4415 - acc: 0.7017\n",
      "Epoch 133/200\n",
      "3057/3057 [==============================] - 1s 313us/step - loss: 0.4453 - acc: 0.6971\n",
      "Epoch 134/200\n",
      "3057/3057 [==============================] - 1s 312us/step - loss: 0.4431 - acc: 0.7023\n",
      "Epoch 135/200\n",
      "3057/3057 [==============================] - 1s 320us/step - loss: 0.4494 - acc: 0.7023\n",
      "Epoch 136/200\n",
      "3057/3057 [==============================] - 1s 322us/step - loss: 0.4437 - acc: 0.7013\n",
      "Epoch 137/200\n",
      "3057/3057 [==============================] - 1s 321us/step - loss: 0.4462 - acc: 0.7010\n",
      "Epoch 138/200\n",
      "3057/3057 [==============================] - 1s 321us/step - loss: 0.4475 - acc: 0.6961\n",
      "Epoch 139/200\n",
      "3057/3057 [==============================] - 1s 325us/step - loss: 0.4498 - acc: 0.7007\n",
      "Epoch 140/200\n",
      "3057/3057 [==============================] - 1s 321us/step - loss: 0.4428 - acc: 0.7040\n",
      "Epoch 141/200\n",
      "3057/3057 [==============================] - 1s 318us/step - loss: 0.4418 - acc: 0.7020\n",
      "Epoch 142/200\n",
      "3057/3057 [==============================] - 1s 313us/step - loss: 0.4408 - acc: 0.7033\n",
      "Epoch 143/200\n",
      "3057/3057 [==============================] - 1s 313us/step - loss: 0.4378 - acc: 0.7053\n",
      "Epoch 144/200\n",
      "3057/3057 [==============================] - 1s 321us/step - loss: 0.4401 - acc: 0.7053\n",
      "Epoch 145/200\n",
      "3057/3057 [==============================] - 1s 321us/step - loss: 0.4372 - acc: 0.7056\n",
      "Epoch 146/200\n",
      "3057/3057 [==============================] - 1s 321us/step - loss: 0.4492 - acc: 0.6987\n",
      "Epoch 147/200\n",
      "3057/3057 [==============================] - 1s 322us/step - loss: 0.4411 - acc: 0.7040\n",
      "Epoch 148/200\n",
      "3057/3057 [==============================] - 1s 321us/step - loss: 0.4367 - acc: 0.7095\n",
      "Epoch 149/200\n",
      "3057/3057 [==============================] - 1s 322us/step - loss: 0.4399 - acc: 0.7059\n",
      "Epoch 150/200\n",
      "3057/3057 [==============================] - 1s 324us/step - loss: 0.4505 - acc: 0.7040\n",
      "Epoch 151/200\n",
      "3057/3057 [==============================] - 1s 322us/step - loss: 0.4368 - acc: 0.7030\n",
      "Epoch 152/200\n",
      "3057/3057 [==============================] - 1s 321us/step - loss: 0.4445 - acc: 0.7049\n",
      "Epoch 153/200\n",
      "3057/3057 [==============================] - 1s 313us/step - loss: 0.4531 - acc: 0.6987\n",
      "Epoch 154/200\n",
      "3057/3057 [==============================] - 1s 315us/step - loss: 0.4352 - acc: 0.7089\n",
      "Epoch 155/200\n",
      "3057/3057 [==============================] - 1s 321us/step - loss: 0.4326 - acc: 0.7108\n",
      "Epoch 156/200\n",
      "3057/3057 [==============================] - 1s 321us/step - loss: 0.4395 - acc: 0.7056\n",
      "Epoch 157/200\n",
      "3057/3057 [==============================] - 1s 321us/step - loss: 0.4436 - acc: 0.7059\n",
      "Epoch 158/200\n",
      "3057/3057 [==============================] - 1s 321us/step - loss: 0.4373 - acc: 0.7066\n",
      "Epoch 159/200\n",
      "3057/3057 [==============================] - 1s 325us/step - loss: 0.4363 - acc: 0.7066\n",
      "Epoch 160/200\n",
      "3057/3057 [==============================] - 1s 323us/step - loss: 0.4382 - acc: 0.7092\n",
      "Epoch 161/200\n",
      "3057/3057 [==============================] - 1s 321us/step - loss: 0.4394 - acc: 0.7066\n",
      "Epoch 162/200\n"
     ]
    },
    {
     "name": "stdout",
     "output_type": "stream",
     "text": [
      "3057/3057 [==============================] - 1s 319us/step - loss: 0.4389 - acc: 0.7072\n",
      "Epoch 163/200\n",
      "3057/3057 [==============================] - 1s 319us/step - loss: 0.4418 - acc: 0.7036\n",
      "Epoch 164/200\n",
      "3057/3057 [==============================] - 1s 320us/step - loss: 0.4369 - acc: 0.7085\n",
      "Epoch 165/200\n",
      "3057/3057 [==============================] - 1s 317us/step - loss: 0.4392 - acc: 0.7040\n",
      "Epoch 166/200\n",
      "3057/3057 [==============================] - 1s 310us/step - loss: 0.4398 - acc: 0.7082\n",
      "Epoch 167/200\n",
      "3057/3057 [==============================] - 1s 313us/step - loss: 0.4368 - acc: 0.7082\n",
      "Epoch 168/200\n",
      "3057/3057 [==============================] - 1s 315us/step - loss: 0.4400 - acc: 0.7069\n",
      "Epoch 169/200\n",
      "3057/3057 [==============================] - 1s 321us/step - loss: 0.4446 - acc: 0.7049\n",
      "Epoch 170/200\n",
      "3057/3057 [==============================] - 1s 320us/step - loss: 0.4371 - acc: 0.7102\n",
      "Epoch 171/200\n",
      "3057/3057 [==============================] - 1s 319us/step - loss: 0.4369 - acc: 0.7076\n",
      "Epoch 172/200\n",
      "3057/3057 [==============================] - 1s 326us/step - loss: 0.4380 - acc: 0.7066\n",
      "Epoch 173/200\n",
      "3057/3057 [==============================] - 1s 327us/step - loss: 0.4341 - acc: 0.7092\n",
      "Epoch 174/200\n",
      "3057/3057 [==============================] - 1s 323us/step - loss: 0.4402 - acc: 0.7076\n",
      "Epoch 175/200\n",
      "3057/3057 [==============================] - 1s 320us/step - loss: 0.4367 - acc: 0.7102\n",
      "Epoch 176/200\n",
      "3057/3057 [==============================] - 1s 319us/step - loss: 0.4365 - acc: 0.7131\n",
      "Epoch 177/200\n",
      "3057/3057 [==============================] - 1s 318us/step - loss: 0.4318 - acc: 0.7138\n",
      "Epoch 178/200\n",
      "3057/3057 [==============================] - 1s 318us/step - loss: 0.4311 - acc: 0.7098\n",
      "Epoch 179/200\n",
      "3057/3057 [==============================] - 1s 318us/step - loss: 0.4447 - acc: 0.7062\n",
      "Epoch 180/200\n",
      "3057/3057 [==============================] - 1s 328us/step - loss: 0.4449 - acc: 0.7066\n",
      "Epoch 181/200\n",
      "3057/3057 [==============================] - 1s 320us/step - loss: 0.4437 - acc: 0.7046\n",
      "Epoch 182/200\n",
      "3057/3057 [==============================] - 1s 316us/step - loss: 0.4359 - acc: 0.7092\n",
      "Epoch 183/200\n",
      "3057/3057 [==============================] - 1s 310us/step - loss: 0.4402 - acc: 0.7141\n",
      "Epoch 184/200\n",
      "3057/3057 [==============================] - 1s 315us/step - loss: 0.4349 - acc: 0.7138\n",
      "Epoch 185/200\n",
      "3057/3057 [==============================] - 1s 320us/step - loss: 0.4341 - acc: 0.7102\n",
      "Epoch 186/200\n",
      "3057/3057 [==============================] - 1s 320us/step - loss: 0.4380 - acc: 0.7115\n",
      "Epoch 187/200\n",
      "3057/3057 [==============================] - 1s 320us/step - loss: 0.4317 - acc: 0.7161\n",
      "Epoch 188/200\n",
      "3057/3057 [==============================] - 1s 320us/step - loss: 0.4336 - acc: 0.7144\n",
      "Epoch 189/200\n",
      "3057/3057 [==============================] - 1s 320us/step - loss: 0.4365 - acc: 0.7141\n",
      "Epoch 190/200\n",
      "3057/3057 [==============================] - 1s 321us/step - loss: 0.4336 - acc: 0.7128\n",
      "Epoch 191/200\n",
      "3057/3057 [==============================] - 1s 321us/step - loss: 0.4355 - acc: 0.7076\n",
      "Epoch 192/200\n",
      "3057/3057 [==============================] - 1s 320us/step - loss: 0.4371 - acc: 0.7141\n",
      "Epoch 193/200\n",
      "3057/3057 [==============================] - 1s 316us/step - loss: 0.4448 - acc: 0.7007\n",
      "Epoch 194/200\n",
      "3057/3057 [==============================] - 1s 311us/step - loss: 0.4476 - acc: 0.7053\n",
      "Epoch 195/200\n",
      "3057/3057 [==============================] - 1s 315us/step - loss: 0.4339 - acc: 0.7108\n",
      "Epoch 196/200\n",
      "3057/3057 [==============================] - 1s 320us/step - loss: 0.4348 - acc: 0.7095\n",
      "Epoch 197/200\n",
      "3057/3057 [==============================] - 1s 320us/step - loss: 0.4306 - acc: 0.7144\n",
      "Epoch 198/200\n",
      "3057/3057 [==============================] - 1s 320us/step - loss: 0.4278 - acc: 0.7177\n",
      "Epoch 199/200\n",
      "3057/3057 [==============================] - 1s 320us/step - loss: 0.4312 - acc: 0.7161\n",
      "Epoch 200/200\n",
      "3057/3057 [==============================] - 1s 325us/step - loss: 0.4344 - acc: 0.7144\n",
      "CPU times: user 8min 1s, sys: 57 s, total: 8min 58s\n",
      "Wall time: 3min 18s\n"
     ]
    },
    {
     "data": {
      "text/plain": [
       "<keras.callbacks.History at 0x1a5a0335f8>"
      ]
     },
     "execution_count": 63,
     "metadata": {},
     "output_type": "execute_result"
    }
   ],
   "source": [
    "%%time\n",
    "\n",
    "# fit training data to model\n",
    "classifier_4.fit(X_train,y_train, batch_size = 15, epochs = 200)"
   ]
  },
  {
   "cell_type": "code",
   "execution_count": 64,
   "metadata": {},
   "outputs": [
    {
     "name": "stdout",
     "output_type": "stream",
     "text": [
      "3057/3057 [==============================] - 1s 207us/step\n"
     ]
    },
    {
     "data": {
      "text/plain": [
       "[0.4251628810570916, 0.7167157344581022]"
      ]
     },
     "execution_count": 64,
     "metadata": {},
     "output_type": "execute_result"
    }
   ],
   "source": [
    "# evaluate loss & metrics values for model\n",
    "classifier_4.evaluate(X_train, y_train) # accuracy near 91% on training data"
   ]
  },
  {
   "cell_type": "code",
   "execution_count": 65,
   "metadata": {},
   "outputs": [],
   "source": [
    "# predict on test data\n",
    "# if prediction is greater than 0.5, output is 1; otherwise, output is 0\n",
    "y_pred_4 = classifier_4.predict(X_test)\n",
    "y_pred_4 = (y_pred_4 > 0.5)"
   ]
  },
  {
   "cell_type": "code",
   "execution_count": 66,
   "metadata": {},
   "outputs": [
    {
     "data": {
      "text/plain": [
       "array([[388,  71],\n",
       "       [457, 395]])"
      ]
     },
     "execution_count": 66,
     "metadata": {},
     "output_type": "execute_result"
    }
   ],
   "source": [
    "# accuracy on test: ~XX%\n",
    "confusion_matrix(y_test, y_pred_4) # TP + TN = XXX; XXX/1311 total = ~XX% accurate"
   ]
  },
  {
   "cell_type": "markdown",
   "metadata": {},
   "source": [
    "#### Instance 5"
   ]
  },
  {
   "cell_type": "markdown",
   "metadata": {},
   "source": [
    "Grid Search w/ Keras Classifier & 5-fold CV (Adam optimization)"
   ]
  },
  {
   "cell_type": "code",
   "execution_count": 67,
   "metadata": {},
   "outputs": [],
   "source": [
    "# function to create model\n",
    "\n",
    "def classifier_model():\n",
    "    \n",
    "    # create model\n",
    "    model = Sequential()\n",
    "    \n",
    "    # hidden layer 1\n",
    "    model.add(Dense(33, activation = 'relu', kernel_initializer = 'random_normal', input_dim = 165))\n",
    "    model.add(Dropout(0.1))\n",
    "\n",
    "    # hidden layer 2\n",
    "    model.add(Dense(33, activation = 'relu', kernel_initializer = 'random_normal'))\n",
    "    model.add(Dropout(0.1))\n",
    "\n",
    "    # hidden layer 3\n",
    "    model.add(Dense(33, activation = 'relu', kernel_initializer = 'random_normal'))\n",
    "    model.add(Dropout(0.1))\n",
    "\n",
    "    # hidden layer 4\n",
    "    model.add(Dense(33, activation = 'relu', kernel_initializer = 'random_normal'))\n",
    "    model.add(Dropout(0.1))\n",
    "\n",
    "    # hidden layer 5\n",
    "    model.add(Dense(33, activation = 'relu', kernel_initializer = 'random_normal'))\n",
    "    model.add(Dropout(0.1))\n",
    "\n",
    "    # output layer\n",
    "    model.add(Dense(1, activation = 'sigmoid', kernel_initializer = 'random_normal'))\n",
    "    \n",
    "    # compile model\n",
    "    model.compile(loss='binary_crossentropy', optimizer='adam', metrics=['accuracy'])\n",
    "    \n",
    "    return model"
   ]
  },
  {
   "cell_type": "code",
   "execution_count": 68,
   "metadata": {},
   "outputs": [],
   "source": [
    "# instantiate keras classifier model -- note that dropout is baked into the model\n",
    "model = KerasClassifier(build_fn = classifier_model, verbose = 0)"
   ]
  },
  {
   "cell_type": "code",
   "execution_count": 69,
   "metadata": {},
   "outputs": [],
   "source": [
    "# create grid search parameters\n",
    "\n",
    "batches = [10, 15, 20, 25]\n",
    "epochs = [25, 50, 100, 150, 200]\n",
    "\n",
    "params = dict(batch_size = batches, epochs = epochs)"
   ]
  },
  {
   "cell_type": "code",
   "execution_count": 70,
   "metadata": {},
   "outputs": [
    {
     "name": "stderr",
     "output_type": "stream",
     "text": [
      "/Users/colella2/anaconda3/lib/python3.7/site-packages/joblib/externals/loky/process_executor.py:706: UserWarning: A worker stopped while some jobs were given to the executor. This can be caused by a too short worker timeout or by a memory leak.\n",
      "  \"timeout or by a memory leak.\", UserWarning\n"
     ]
    },
    {
     "name": "stdout",
     "output_type": "stream",
     "text": [
      "CPU times: user 17min 12s, sys: 2min 12s, total: 19min 25s\n",
      "Wall time: 3h 2min 23s\n"
     ]
    }
   ],
   "source": [
    "%%time\n",
    "\n",
    "# instantiate the GridSearchCV object and run search\n",
    "grid_search_2 = GridSearchCV(estimator = model, param_grid = params, n_jobs = -1, cv = 5)\n",
    "grid_search_2_fit = grid_search_2.fit(X_train, y_train)"
   ]
  },
  {
   "cell_type": "code",
   "execution_count": 71,
   "metadata": {},
   "outputs": [
    {
     "name": "stdout",
     "output_type": "stream",
     "text": [
      "0.6705921007442756 {'batch_size': 15, 'epochs': 200}\n"
     ]
    }
   ],
   "source": [
    "# summarize results\n",
    "# best_score is the mean cross-validated score of the best_estimator\n",
    "print(grid_search_2_fit.best_score_, grid_search_2_fit.best_params_) # 68% model accuracy during train"
   ]
  },
  {
   "cell_type": "code",
   "execution_count": 72,
   "metadata": {},
   "outputs": [],
   "source": [
    "# instantiate model with best parameters as object for plotting\n",
    "# get model history for plotting\n",
    "history = model.fit(X_train, y_train, epochs = 200, batch_size = 20, validation_split = 0.2)"
   ]
  },
  {
   "cell_type": "code",
   "execution_count": 73,
   "metadata": {},
   "outputs": [],
   "source": [
    "# extract metrics of value from model\n",
    "loss = history.history['loss']\n",
    "val_loss = history.history['val_loss']\n",
    "epochs = range(1, len(loss) + 1)"
   ]
  },
  {
   "cell_type": "code",
   "execution_count": 84,
   "metadata": {},
   "outputs": [
    {
     "data": {
      "image/png": "[encoded data removed]",
      "text/plain": [
       "<Figure size 432x288 with 1 Axes>"
      ]
     },
     "metadata": {
      "needs_background": "light"
     },
     "output_type": "display_data"
    }
   ],
   "source": [
    "# plot loss & validation during training\n",
    "plt.plot(epochs, loss, 'b', label = 'train loss')\n",
    "plt.plot(epochs, val_loss, 'g', label='validation loss')\n",
    "plt.title('training and validation loss')\n",
    "plt.xlabel('epochs')\n",
    "plt.ylabel('loss')\n",
    "plt.legend()\n",
    "plt.show()"
   ]
  },
  {
   "cell_type": "markdown",
   "metadata": {},
   "source": [
    "Training loss decreases as expected with more epics. Near 200 epoachs, validation loss starts to stabalize, decreasing little by little."
   ]
  },
  {
   "cell_type": "code",
   "execution_count": 85,
   "metadata": {},
   "outputs": [
    {
     "data": {
      "image/png": "[encoded data removed]",
      "text/plain": [
       "<Figure size 432x288 with 1 Axes>"
      ]
     },
     "metadata": {
      "needs_background": "light"
     },
     "output_type": "display_data"
    }
   ],
   "source": [
    "# plot accuracy during training\n",
    "accuracy = history.history['acc']\n",
    "valid_accuracy = history.history['val_acc']\n",
    "\n",
    "plt.plot(epochs, accuracy, 'b', label = 'train accuracy')\n",
    "plt.plot(epochs, valid_accuracy, 'g', label = 'validation accuracy')\n",
    "plt.title('training & validation accuracy')\n",
    "plt.xlabel('epochs')\n",
    "plt.ylabel('accuracy')\n",
    "plt.legend()\n",
    "plt.show()"
   ]
  },
  {
   "cell_type": "markdown",
   "metadata": {},
   "source": [
    "Training accuracy increases significantly as epics are added, starting to stabilize around 200 epochs. Validation accuracy dips and continues to increase little by little with more epics."
   ]
  },
  {
   "cell_type": "code",
   "execution_count": 76,
   "metadata": {},
   "outputs": [
    {
     "data": {
      "text/plain": [
       "0.6407322829729906"
      ]
     },
     "execution_count": 76,
     "metadata": {},
     "output_type": "execute_result"
    }
   ],
   "source": [
    "# evaluate NN on test set\n",
    "grid_search_2_fit.score(X_test, y_test) # 64% accuracy during test -- model generalizes well"
   ]
  },
  {
   "cell_type": "markdown",
   "metadata": {},
   "source": [
    "The model generalizes well as there is only a 0.038 drop in accuracy from training to test."
   ]
  },
  {
   "cell_type": "markdown",
   "metadata": {},
   "source": [
    "#### Instance 6"
   ]
  },
  {
   "cell_type": "markdown",
   "metadata": {},
   "source": [
    "Grid Search w/ Keras Classifier & 5-fold CV (SGD optimization)"
   ]
  },
  {
   "cell_type": "code",
   "execution_count": 26,
   "metadata": {},
   "outputs": [],
   "source": [
    "# function to create model\n",
    "\n",
    "def classifier_model2():\n",
    "    \n",
    "    # create model\n",
    "    model = Sequential()\n",
    "    \n",
    "    # hidden layer 1\n",
    "    model.add(Dense(33, activation = 'relu', kernel_initializer = 'random_normal', input_dim = 165))\n",
    "    model.add(Dropout(0.1))\n",
    "\n",
    "    # hidden layer 2\n",
    "    model.add(Dense(33, activation = 'relu', kernel_initializer = 'random_normal'))\n",
    "    model.add(Dropout(0.1))\n",
    "\n",
    "    # hidden layer 3\n",
    "    model.add(Dense(33, activation = 'relu', kernel_initializer = 'random_normal'))\n",
    "    model.add(Dropout(0.1))\n",
    "\n",
    "    # hidden layer 4\n",
    "    model.add(Dense(33, activation = 'relu', kernel_initializer = 'random_normal'))\n",
    "    model.add(Dropout(0.1))\n",
    "\n",
    "    # hidden layer 5\n",
    "    model.add(Dense(33, activation = 'relu', kernel_initializer = 'random_normal'))\n",
    "    model.add(Dropout(0.1))\n",
    "\n",
    "    # output layer\n",
    "    model.add(Dense(1, activation = 'sigmoid', kernel_initializer = 'random_normal'))\n",
    "    \n",
    "    # specify optimization parameters\n",
    "    sgd = optimizers.SGD(lr = 0.1) # no momentum is used by default\n",
    "    \n",
    "    # compile model\n",
    "    model.compile(loss = 'binary_crossentropy', optimizer = sgd, metrics = ['accuracy'])\n",
    "    \n",
    "    return model"
   ]
  },
  {
   "cell_type": "code",
   "execution_count": 27,
   "metadata": {},
   "outputs": [],
   "source": [
    "# instantiate keras classifier model -- note that dropout is baked into the model\n",
    "model2 = KerasClassifier(build_fn = classifier_model2, verbose = 0)"
   ]
  },
  {
   "cell_type": "code",
   "execution_count": 28,
   "metadata": {},
   "outputs": [],
   "source": [
    "# create grid search parameters\n",
    "\n",
    "batches2 = [10, 15, 20, 25]\n",
    "epochs2 = [25, 50, 100, 150, 200]\n",
    "\n",
    "params2 = dict(batch_size = batches2, epochs = epochs2)"
   ]
  },
  {
   "cell_type": "code",
   "execution_count": 29,
   "metadata": {},
   "outputs": [
    {
     "name": "stdout",
     "output_type": "stream",
     "text": [
      "WARNING:tensorflow:From /Users/colella2/anaconda3/lib/python3.7/site-packages/keras/backend/tensorflow_backend.py:74: The name tf.get_default_graph is deprecated. Please use tf.compat.v1.get_default_graph instead.\n",
      "\n",
      "WARNING:tensorflow:From /Users/colella2/anaconda3/lib/python3.7/site-packages/keras/backend/tensorflow_backend.py:517: The name tf.placeholder is deprecated. Please use tf.compat.v1.placeholder instead.\n",
      "\n",
      "WARNING:tensorflow:From /Users/colella2/anaconda3/lib/python3.7/site-packages/keras/backend/tensorflow_backend.py:4115: The name tf.random_normal is deprecated. Please use tf.random.normal instead.\n",
      "\n",
      "WARNING:tensorflow:From /Users/colella2/anaconda3/lib/python3.7/site-packages/keras/backend/tensorflow_backend.py:133: The name tf.placeholder_with_default is deprecated. Please use tf.compat.v1.placeholder_with_default instead.\n",
      "\n",
      "WARNING:tensorflow:From /Users/colella2/anaconda3/lib/python3.7/site-packages/keras/backend/tensorflow_backend.py:3445: calling dropout (from tensorflow.python.ops.nn_ops) with keep_prob is deprecated and will be removed in a future version.\n",
      "Instructions for updating:\n",
      "Please use `rate` instead of `keep_prob`. Rate should be set to `rate = 1 - keep_prob`.\n",
      "WARNING:tensorflow:From /Users/colella2/anaconda3/lib/python3.7/site-packages/keras/optimizers.py:790: The name tf.train.Optimizer is deprecated. Please use tf.compat.v1.train.Optimizer instead.\n",
      "\n",
      "WARNING:tensorflow:From /Users/colella2/anaconda3/lib/python3.7/site-packages/keras/backend/tensorflow_backend.py:3376: The name tf.log is deprecated. Please use tf.math.log instead.\n",
      "\n",
      "WARNING:tensorflow:From /Users/colella2/anaconda3/lib/python3.7/site-packages/tensorflow/python/ops/nn_impl.py:180: add_dispatch_support.<locals>.wrapper (from tensorflow.python.ops.array_ops) is deprecated and will be removed in a future version.\n",
      "Instructions for updating:\n",
      "Use tf.where in 2.0, which has the same broadcast rule as np.where\n",
      "CPU times: user 58.5 s, sys: 6.78 s, total: 1min 5s\n",
      "Wall time: 2h 19min 39s\n"
     ]
    }
   ],
   "source": [
    "%%time\n",
    "\n",
    "# instantiate the GridSearchCV object and run search\n",
    "grid_search_3 = GridSearchCV(estimator = model2, param_grid = params2, n_jobs = -1, cv = 5)\n",
    "grid_search_3_fit = grid_search_3.fit(X_train, y_train)"
   ]
  },
  {
   "cell_type": "code",
   "execution_count": 30,
   "metadata": {},
   "outputs": [
    {
     "name": "stdout",
     "output_type": "stream",
     "text": [
      "0.6790971704019921 {'batch_size': 15, 'epochs': 25}\n"
     ]
    }
   ],
   "source": [
    "# summarize results\n",
    "# best_score is the mean cross-validated score of the best_estimator\n",
    "print(grid_search_3_fit.best_score_, grid_search_3_fit.best_params_) # 68% model accuracy during train"
   ]
  },
  {
   "cell_type": "code",
   "execution_count": 31,
   "metadata": {},
   "outputs": [],
   "source": [
    "# instantiate model with best parameters as object for plotting\n",
    "# get model history for plotting\n",
    "history2 = model2.fit(X_train, y_train, epochs = 25, batch_size = 15, validation_split = 0.2)"
   ]
  },
  {
   "cell_type": "code",
   "execution_count": 32,
   "metadata": {},
   "outputs": [],
   "source": [
    "# extract metrics of value from model\n",
    "loss2 = history2.history['loss']\n",
    "val_loss2 = history2.history['val_loss']\n",
    "epochs2 = range(1, len(loss2) + 1)"
   ]
  },
  {
   "cell_type": "code",
   "execution_count": 35,
   "metadata": {},
   "outputs": [
    {
     "data": {
      "image/png": "[encoded data removed]",
      "text/plain": [
       "<Figure size 432x288 with 1 Axes>"
      ]
     },
     "metadata": {
      "needs_background": "light"
     },
     "output_type": "display_data"
    }
   ],
   "source": [
    "# plot loss & validation during training\n",
    "plt.plot(epochs2, loss2, 'r', label = 'train loss')\n",
    "plt.plot(epochs2, val_loss2, 'y', label = 'validation loss')\n",
    "plt.title('training and validation loss')\n",
    "plt.xlabel('epochs')\n",
    "plt.ylabel('loss')\n",
    "plt.legend()\n",
    "plt.show()"
   ]
  },
  {
   "cell_type": "markdown",
   "metadata": {},
   "source": [
    "Training loss decreases as expected with more epics. Near 200 epoachs, validation loss starts to stabalize."
   ]
  },
  {
   "cell_type": "code",
   "execution_count": 36,
   "metadata": {},
   "outputs": [
    {
     "data": {
      "image/png": "[encoded data removed]",
      "text/plain": [
       "<Figure size 432x288 with 1 Axes>"
      ]
     },
     "metadata": {
      "needs_background": "light"
     },
     "output_type": "display_data"
    }
   ],
   "source": [
    "# plot accuracy during training\n",
    "accuracy2 = history2.history['acc']\n",
    "valid_accuracy2 = history2.history['val_acc']\n",
    "\n",
    "plt.plot(epochs2, accuracy2, 'y', label = 'train accuracy')\n",
    "plt.plot(epochs2, valid_accuracy2, 'b', label = 'validation accuracy')\n",
    "plt.title('training & validation accuracy')\n",
    "plt.xlabel('epochs')\n",
    "plt.ylabel('accuracy')\n",
    "plt.legend()\n",
    "plt.show()"
   ]
  },
  {
   "cell_type": "markdown",
   "metadata": {},
   "source": [
    "Training accuracy increases around 3 epochs then remains relatively stable. Validation pretty consistent."
   ]
  },
  {
   "cell_type": "code",
   "execution_count": 37,
   "metadata": {},
   "outputs": [
    {
     "data": {
      "text/plain": [
       "0.6498855994822504"
      ]
     },
     "execution_count": 37,
     "metadata": {},
     "output_type": "execute_result"
    }
   ],
   "source": [
    "# evaluate NN on test set\n",
    "grid_search_3_fit.score(X_test, y_test) # 65% accuracy during test -- model generalizes well"
   ]
  },
  {
   "cell_type": "markdown",
   "metadata": {},
   "source": [
    "The model generalizes well as there is only a 0.030 drop in accuracy from training to test. This slightly beats previous NN with Adam optimizer."
   ]
  },
  {
   "cell_type": "code",
   "execution_count": null,
   "metadata": {},
   "outputs": [],
   "source": []
  }
 ],
 "metadata": {
  "kernelspec": {
   "display_name": "Python 3",
   "language": "python",
   "name": "python3"
  },
  "language_info": {
   "codemirror_mode": {
    "name": "ipython",
    "version": 3
   },
   "file_extension": ".py",
   "mimetype": "text/x-python",
   "name": "python",
   "nbconvert_exporter": "python",
   "pygments_lexer": "ipython3",
   "version": "3.7.3"
  }
 },
 "nbformat": 4,
 "nbformat_minor": 2
}
