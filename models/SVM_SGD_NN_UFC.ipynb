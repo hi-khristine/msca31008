{
 "cells": [
  {
   "cell_type": "markdown",
   "metadata": {},
   "source": [
    "## UFC Fight-level dataset SVM, SGD & NN Notebook\n",
    "(thre is no quick rule as to which kernel performs best in every scenario; testing & learning is key)\n",
    "\n",
    "Kernel trick reference:\n",
    "https://towardsdatascience.com/understanding-support-vector-machine-part-2-kernel-trick-mercers-theorem-e1e6848c6c4d"
   ]
  },
  {
   "cell_type": "markdown",
   "metadata": {},
   "source": [
    "#### Import necessary modules"
   ]
  },
  {
   "cell_type": "code",
   "execution_count": 419,
   "metadata": {},
   "outputs": [],
   "source": [
    "import os\n",
    "import sys\n",
    "import pandas as pd\n",
    "import numpy as np\n",
    "import pickle\n",
    "import tensorflow as tf\n",
    "from tensorflow import keras\n",
    "from sklearn.metrics import classification_report, confusion_matrix, f1_score, precision_score, recall_score\n",
    "from sklearn.model_selection import train_test_split, GridSearchCV\n",
    "from sklearn.linear_model import SGDClassifier\n",
    "from sklearn.svm import SVC\n",
    "from keras.layers import Input, Lambda, Dense, Dropout\n",
    "from keras.models import Model, Sequential\n",
    "from keras.optimizers import Adam\n",
    "from keras.wrappers.scikit_learn import KerasClassifier\n",
    "import matplotlib.pyplot as plt\n",
    "%matplotlib inline"
   ]
  },
  {
   "cell_type": "markdown",
   "metadata": {},
   "source": [
    "#### Helper functions"
   ]
  },
  {
   "cell_type": "code",
   "execution_count": 420,
   "metadata": {},
   "outputs": [],
   "source": [
    "# rtns best params for C and Gamma; they are the parameters for a nonlinear support vector machine\n",
    "\n",
    "def svc_parameter_optimization(X, y, nfolds):\n",
    "    Cs = [0.001, 0.01, 0.1, 1, 10] # C is trade off betw. low train error and low test error (ability to generalize) \n",
    "    gammas = [0.001, 0.01, 0.1, 1] # free parameter of the Gaussian radial basis function\n",
    "    param_grid = {'C': Cs, 'gamma' : gammas}\n",
    "    grid_search = GridSearchCV(SVC(kernel='rbf'), param_grid, cv=nfolds) # instantiate grid search\n",
    "    grid_search.fit(X, y)\n",
    "    grid_search.best_params_\n",
    "    return grid_search.best_params_"
   ]
  },
  {
   "cell_type": "markdown",
   "metadata": {},
   "source": [
    "#### Set working directory"
   ]
  },
  {
   "cell_type": "code",
   "execution_count": 421,
   "metadata": {},
   "outputs": [],
   "source": [
    "os.chdir(r'/Users/colella2/Google Drive/Graduate School/MScA/Courses/31008 Data Mining Principles/Final_Project/msca31008/fun/')"
   ]
  },
  {
   "cell_type": "code",
   "execution_count": 422,
   "metadata": {},
   "outputs": [
    {
     "data": {
      "text/plain": [
       "'/Users/colella2/Google Drive/Graduate School/MScA/Courses/31008 Data Mining Principles/Final_Project/msca31008/fun'"
      ]
     },
     "execution_count": 422,
     "metadata": {},
     "output_type": "execute_result"
    }
   ],
   "source": [
    "pwd"
   ]
  },
  {
   "cell_type": "code",
   "execution_count": 423,
   "metadata": {},
   "outputs": [
    {
     "data": {
      "text/plain": [
       "['.DS_Store',\n",
       " 'r.py',\n",
       " 'tonum.py',\n",
       " 'hierarchical_imputation.py',\n",
       " 'fillna-kmeans.py',\n",
       " 'settings.py',\n",
       " 'pkl.py',\n",
       " 'spl.py',\n",
       " 'untitled',\n",
       " 'ddict.py']"
      ]
     },
     "execution_count": 423,
     "metadata": {},
     "output_type": "execute_result"
    }
   ],
   "source": [
    "os.listdir('../fun/') # confirm items in function folder"
   ]
  },
  {
   "cell_type": "code",
   "execution_count": 424,
   "metadata": {},
   "outputs": [],
   "source": [
    "exec(open('r.py').read()) # test ability to read .py script from function folder"
   ]
  },
  {
   "cell_type": "code",
   "execution_count": 425,
   "metadata": {},
   "outputs": [],
   "source": [
    "# read-in all the functions\n",
    "for filename in os.listdir('../fun/'):\n",
    "    if filename.endswith('.py'):\n",
    "        exec(open(filename).read())\n",
    "        continue\n",
    "    else:\n",
    "        continue"
   ]
  },
  {
   "cell_type": "markdown",
   "metadata": {},
   "source": [
    "#### Open file of interest"
   ]
  },
  {
   "cell_type": "code",
   "execution_count": 426,
   "metadata": {},
   "outputs": [],
   "source": [
    "os.chdir(r'/Users/colella2/Google Drive/Graduate School/MScA/Courses/31008 Data Mining Principles/Final_Project/msca31008/out')\n",
    "\n",
    "with open('d3-fight-level-transform.pkl', 'rb') as f:\n",
    "    data = pickle.load(f)"
   ]
  },
  {
   "cell_type": "code",
   "execution_count": 427,
   "metadata": {},
   "outputs": [
    {
     "name": "stdout",
     "output_type": "stream",
     "text": [
      "(4368, 165)\n"
     ]
    }
   ],
   "source": [
    "load( '../out/d3-fight-level-transform.pkl' )\n",
    "print( X.shape )"
   ]
  },
  {
   "cell_type": "markdown",
   "metadata": {},
   "source": [
    "#### Examine key-value pairs in dict"
   ]
  },
  {
   "cell_type": "code",
   "execution_count": 428,
   "metadata": {},
   "outputs": [
    {
     "name": "stdout",
     "output_type": "stream",
     "text": [
      "X [[ 2.91491784e-01 -9.60590063e-02  2.50234064e-01 ... -7.94744912e-03\n",
      "   3.10245107e-03 -1.87224280e-03]\n",
      " [ 2.70915901e-01 -1.24214845e-01  2.32611941e-01 ...  7.75837707e-03\n",
      "   1.68645662e-03 -2.72968561e-04]\n",
      " [-9.60671224e-03 -1.16270731e-02 -9.73710726e-03 ... -2.94963859e-01\n",
      "   6.74519642e-04  2.24984217e-04]\n",
      " ...\n",
      " [-1.24919035e-02 -1.80251541e-01 -1.85625621e-01 ... -1.63732606e-03\n",
      "   2.16095113e-03 -1.86365288e-03]\n",
      " [-1.20995932e-02 -1.73834821e-01 -1.79162807e-01 ... -1.52725608e-04\n",
      "   7.74126643e-04 -3.98965666e-04]\n",
      " [-1.29588989e-02 -1.83460266e-01 -1.89608127e-01 ... -2.01230682e-03\n",
      "   1.44181940e-03 -1.33855060e-03]]\n",
      "y 0       1\n",
      "1       1\n",
      "2       1\n",
      "3       0\n",
      "4       0\n",
      "       ..\n",
      "4363    1\n",
      "4364    1\n",
      "4365    1\n",
      "4366    1\n",
      "4367    1\n",
      "Name: Winner, Length: 4368, dtype: int64\n",
      "cols Index(['title_bout', 'weight_class', 'no_of_rounds', 'date_year', 'date_month', 'date_dayofmonth', 'date_dayofweek', 'date_frisat', 'womens', 'weight_class_catch_weight',\n",
      "       ...\n",
      "       'Mean_avg_opp_HEAD_pct', 'Diff_avg_opp_HEAD_pct', 'Mean_avg_opp_LEG_pct', 'Diff_avg_opp_LEG_pct', 'Mean_avg_opp_SIG_STR_pct', 'Diff_avg_opp_SIG_STR_pct', 'Mean_avg_opp_TD_pct',\n",
      "       'Diff_avg_opp_TD_pct', 'Mean_avg_opp_TOTAL_STR_pct', 'Diff_avg_opp_TOTAL_STR_pct'],\n",
      "      dtype='object', length=165)\n"
     ]
    }
   ],
   "source": [
    "for key, value in data.items():\n",
    "  print(key, value)"
   ]
  },
  {
   "cell_type": "code",
   "execution_count": 429,
   "metadata": {},
   "outputs": [
    {
     "name": "stdout",
     "output_type": "stream",
     "text": [
      "(4368, 165)\n"
     ]
    }
   ],
   "source": [
    "print(X.shape) # view feature shape; 4368 rows, 165 columns"
   ]
  },
  {
   "cell_type": "code",
   "execution_count": 430,
   "metadata": {},
   "outputs": [
    {
     "name": "stdout",
     "output_type": "stream",
     "text": [
      "(4368,)\n"
     ]
    }
   ],
   "source": [
    "print(y.shape) # view predicted value shape; 4368 rows, 1 column"
   ]
  },
  {
   "cell_type": "markdown",
   "metadata": {},
   "source": [
    "#### Train-test split"
   ]
  },
  {
   "cell_type": "code",
   "execution_count": 431,
   "metadata": {},
   "outputs": [],
   "source": [
    "X_train , X_test, y_train, y_test = train_test_split(X, y, random_state = 718, test_size = 0.3)"
   ]
  },
  {
   "cell_type": "markdown",
   "metadata": {},
   "source": [
    "### SVM"
   ]
  },
  {
   "cell_type": "markdown",
   "metadata": {},
   "source": [
    "#### Fit model (linear kernel)\n",
    "(find decision boundary for linearly separable data)"
   ]
  },
  {
   "cell_type": "code",
   "execution_count": 158,
   "metadata": {},
   "outputs": [
    {
     "data": {
      "text/plain": [
       "SVC(C=1.0, cache_size=200, class_weight=None, coef0=0.0,\n",
       "    decision_function_shape='ovr', degree=3, gamma='auto_deprecated',\n",
       "    kernel='linear', max_iter=-1, probability=False, random_state=None,\n",
       "    shrinking=True, tol=0.001, verbose=False)"
      ]
     },
     "execution_count": 158,
     "metadata": {},
     "output_type": "execute_result"
    }
   ],
   "source": [
    "svclassifier_linear = SVC(kernel='linear')\n",
    "svclassifier_linear.fit(X_train, y_train)"
   ]
  },
  {
   "cell_type": "code",
   "execution_count": 159,
   "metadata": {},
   "outputs": [
    {
     "name": "stdout",
     "output_type": "stream",
     "text": [
      "              precision    recall  f1-score   support\n",
      "\n",
      "           0       0.61      0.16      0.26       981\n",
      "           1       0.71      0.95      0.81      2076\n",
      "\n",
      "    accuracy                           0.70      3057\n",
      "   macro avg       0.66      0.56      0.53      3057\n",
      "weighted avg       0.68      0.70      0.63      3057\n",
      "\n"
     ]
    }
   ],
   "source": [
    "# accuracy against train data\n",
    "print(classification_report(y_train,svclassifier_linear.predict(X_train)))"
   ]
  },
  {
   "cell_type": "code",
   "execution_count": 160,
   "metadata": {},
   "outputs": [
    {
     "name": "stdout",
     "output_type": "stream",
     "text": [
      "              precision    recall  f1-score   support\n",
      "\n",
      "           0       0.49      0.10      0.16       459\n",
      "           1       0.66      0.94      0.78       852\n",
      "\n",
      "    accuracy                           0.65      1311\n",
      "   macro avg       0.57      0.52      0.47      1311\n",
      "weighted avg       0.60      0.65      0.56      1311\n",
      "\n"
     ]
    }
   ],
   "source": [
    "# accuracy against test data\n",
    "print(classification_report(y_test, svclassifier_linear.predict(X_test)))"
   ]
  },
  {
   "cell_type": "code",
   "execution_count": 161,
   "metadata": {},
   "outputs": [
    {
     "name": "stdout",
     "output_type": "stream",
     "text": [
      "[[ 45 414]\n",
      " [ 47 805]]\n"
     ]
    }
   ],
   "source": [
    "# store predicted values on X_test & print confusion matrix\n",
    "y_pred_linear = svclassifier_linear.predict(X_test)\n",
    "print(confusion_matrix(y_test,y_pred_linear))"
   ]
  },
  {
   "cell_type": "markdown",
   "metadata": {},
   "source": [
    "### Begin section for non-linear investigation"
   ]
  },
  {
   "cell_type": "markdown",
   "metadata": {},
   "source": [
    "#### Fit model (poly kernel)"
   ]
  },
  {
   "cell_type": "code",
   "execution_count": 162,
   "metadata": {},
   "outputs": [
    {
     "name": "stderr",
     "output_type": "stream",
     "text": [
      "/Users/colella2/anaconda3/lib/python3.7/site-packages/sklearn/svm/base.py:193: FutureWarning: The default value of gamma will change from 'auto' to 'scale' in version 0.22 to account better for unscaled features. Set gamma explicitly to 'auto' or 'scale' to avoid this warning.\n",
      "  \"avoid this warning.\", FutureWarning)\n"
     ]
    },
    {
     "data": {
      "text/plain": [
       "SVC(C=1.0, cache_size=200, class_weight=None, coef0=0.0,\n",
       "    decision_function_shape='ovr', degree=8, gamma='auto_deprecated',\n",
       "    kernel='poly', max_iter=-1, probability=False, random_state=None,\n",
       "    shrinking=True, tol=0.001, verbose=False)"
      ]
     },
     "execution_count": 162,
     "metadata": {},
     "output_type": "execute_result"
    }
   ],
   "source": [
    "svclassifier_poly = SVC(kernel='poly', degree=8)\n",
    "svclassifier_poly.fit(X_train, y_train)"
   ]
  },
  {
   "cell_type": "code",
   "execution_count": 163,
   "metadata": {},
   "outputs": [
    {
     "name": "stdout",
     "output_type": "stream",
     "text": [
      "              precision    recall  f1-score   support\n",
      "\n",
      "           0       0.00      0.00      0.00       981\n",
      "           1       0.68      1.00      0.81      2076\n",
      "\n",
      "    accuracy                           0.68      3057\n",
      "   macro avg       0.34      0.50      0.40      3057\n",
      "weighted avg       0.46      0.68      0.55      3057\n",
      "\n"
     ]
    },
    {
     "name": "stderr",
     "output_type": "stream",
     "text": [
      "/Users/colella2/anaconda3/lib/python3.7/site-packages/sklearn/metrics/classification.py:1437: UndefinedMetricWarning: Precision and F-score are ill-defined and being set to 0.0 in labels with no predicted samples.\n",
      "  'precision', 'predicted', average, warn_for)\n"
     ]
    }
   ],
   "source": [
    "# accuracy against train data\n",
    "print(classification_report(y_train,svclassifier_poly.predict(X_train)))"
   ]
  },
  {
   "cell_type": "code",
   "execution_count": 164,
   "metadata": {},
   "outputs": [
    {
     "name": "stdout",
     "output_type": "stream",
     "text": [
      "              precision    recall  f1-score   support\n",
      "\n",
      "           0       0.00      0.00      0.00       459\n",
      "           1       0.65      1.00      0.79       852\n",
      "\n",
      "    accuracy                           0.65      1311\n",
      "   macro avg       0.32      0.50      0.39      1311\n",
      "weighted avg       0.42      0.65      0.51      1311\n",
      "\n"
     ]
    },
    {
     "name": "stderr",
     "output_type": "stream",
     "text": [
      "/Users/colella2/anaconda3/lib/python3.7/site-packages/sklearn/metrics/classification.py:1437: UndefinedMetricWarning: Precision and F-score are ill-defined and being set to 0.0 in labels with no predicted samples.\n",
      "  'precision', 'predicted', average, warn_for)\n"
     ]
    }
   ],
   "source": [
    "# accuracy against test data\n",
    "print(classification_report(y_test, svclassifier_poly.predict(X_test)))"
   ]
  },
  {
   "cell_type": "code",
   "execution_count": 165,
   "metadata": {},
   "outputs": [
    {
     "name": "stdout",
     "output_type": "stream",
     "text": [
      "[[  0 459]\n",
      " [  0 852]]\n"
     ]
    }
   ],
   "source": [
    "# store predicted values on X_test & print confusion matrix\n",
    "y_pred_poly = svclassifier_poly.predict(X_test)\n",
    "print(confusion_matrix(y_test,y_pred_poly))"
   ]
  },
  {
   "cell_type": "markdown",
   "metadata": {},
   "source": [
    "#### Fit model (Gaussian kernel)\n",
    "(this is a special case for rbf)"
   ]
  },
  {
   "cell_type": "code",
   "execution_count": 166,
   "metadata": {},
   "outputs": [
    {
     "name": "stderr",
     "output_type": "stream",
     "text": [
      "/Users/colella2/anaconda3/lib/python3.7/site-packages/sklearn/svm/base.py:193: FutureWarning: The default value of gamma will change from 'auto' to 'scale' in version 0.22 to account better for unscaled features. Set gamma explicitly to 'auto' or 'scale' to avoid this warning.\n",
      "  \"avoid this warning.\", FutureWarning)\n"
     ]
    },
    {
     "data": {
      "text/plain": [
       "SVC(C=1.0, cache_size=200, class_weight=None, coef0=0.0,\n",
       "    decision_function_shape='ovr', degree=3, gamma='auto_deprecated',\n",
       "    kernel='rbf', max_iter=-1, probability=False, random_state=None,\n",
       "    shrinking=True, tol=0.001, verbose=False)"
      ]
     },
     "execution_count": 166,
     "metadata": {},
     "output_type": "execute_result"
    }
   ],
   "source": [
    "svclassifier_gaus = SVC(kernel='rbf')\n",
    "svclassifier_gaus.fit(X_train, y_train)"
   ]
  },
  {
   "cell_type": "code",
   "execution_count": 167,
   "metadata": {},
   "outputs": [
    {
     "name": "stdout",
     "output_type": "stream",
     "text": [
      "              precision    recall  f1-score   support\n",
      "\n",
      "           0       0.00      0.00      0.00       981\n",
      "           1       0.68      1.00      0.81      2076\n",
      "\n",
      "    accuracy                           0.68      3057\n",
      "   macro avg       0.34      0.50      0.40      3057\n",
      "weighted avg       0.46      0.68      0.55      3057\n",
      "\n"
     ]
    },
    {
     "name": "stderr",
     "output_type": "stream",
     "text": [
      "/Users/colella2/anaconda3/lib/python3.7/site-packages/sklearn/metrics/classification.py:1437: UndefinedMetricWarning: Precision and F-score are ill-defined and being set to 0.0 in labels with no predicted samples.\n",
      "  'precision', 'predicted', average, warn_for)\n"
     ]
    }
   ],
   "source": [
    "# accuracy against train data\n",
    "print(classification_report(y_train,svclassifier_gaus.predict(X_train)))"
   ]
  },
  {
   "cell_type": "code",
   "execution_count": 168,
   "metadata": {},
   "outputs": [
    {
     "name": "stdout",
     "output_type": "stream",
     "text": [
      "              precision    recall  f1-score   support\n",
      "\n",
      "           0       0.00      0.00      0.00       459\n",
      "           1       0.65      1.00      0.79       852\n",
      "\n",
      "    accuracy                           0.65      1311\n",
      "   macro avg       0.32      0.50      0.39      1311\n",
      "weighted avg       0.42      0.65      0.51      1311\n",
      "\n"
     ]
    },
    {
     "name": "stderr",
     "output_type": "stream",
     "text": [
      "/Users/colella2/anaconda3/lib/python3.7/site-packages/sklearn/metrics/classification.py:1437: UndefinedMetricWarning: Precision and F-score are ill-defined and being set to 0.0 in labels with no predicted samples.\n",
      "  'precision', 'predicted', average, warn_for)\n"
     ]
    }
   ],
   "source": [
    "# accuracy against test data\n",
    "print(classification_report(y_test, svclassifier_gaus.predict(X_test)))"
   ]
  },
  {
   "cell_type": "code",
   "execution_count": 169,
   "metadata": {},
   "outputs": [
    {
     "name": "stdout",
     "output_type": "stream",
     "text": [
      "[[  0 459]\n",
      " [  0 852]]\n"
     ]
    }
   ],
   "source": [
    "# store predicted values on X_test & print confusion matrix\n",
    "y_pred_gaus = svclassifier_gaus.predict(X_test)\n",
    "print(confusion_matrix(y_test,y_pred_gaus))"
   ]
  },
  {
   "cell_type": "markdown",
   "metadata": {},
   "source": [
    "#### After first running simply (as was done above), commence optimization..."
   ]
  },
  {
   "cell_type": "code",
   "execution_count": 170,
   "metadata": {},
   "outputs": [
    {
     "data": {
      "text/plain": [
       "{'C': 1, 'gamma': 1}"
      ]
     },
     "execution_count": 170,
     "metadata": {},
     "output_type": "execute_result"
    }
   ],
   "source": [
    "# commence grid search for best parameters on training set\n",
    "svc_parameter_optimization(X_train, y_train, 5)"
   ]
  },
  {
   "cell_type": "code",
   "execution_count": 171,
   "metadata": {},
   "outputs": [
    {
     "data": {
      "text/plain": [
       "SVC(C=1, cache_size=200, class_weight=None, coef0=0.0,\n",
       "    decision_function_shape='ovr', degree=3, gamma=1, kernel='rbf', max_iter=-1,\n",
       "    probability=False, random_state=None, shrinking=True, tol=0.001,\n",
       "    verbose=False)"
      ]
     },
     "execution_count": 171,
     "metadata": {},
     "output_type": "execute_result"
    }
   ],
   "source": [
    "# instantiate with optimal parameters\n",
    "svclassifier_gaus_optim = SVC(kernel='rbf', C = 1, gamma = 1)\n",
    "svclassifier_gaus_optim.fit(X_train, y_train)"
   ]
  },
  {
   "cell_type": "code",
   "execution_count": 172,
   "metadata": {},
   "outputs": [
    {
     "name": "stdout",
     "output_type": "stream",
     "text": [
      "              precision    recall  f1-score   support\n",
      "\n",
      "           0       0.91      0.48      0.63       981\n",
      "           1       0.80      0.98      0.88      2076\n",
      "\n",
      "    accuracy                           0.82      3057\n",
      "   macro avg       0.86      0.73      0.75      3057\n",
      "weighted avg       0.84      0.82      0.80      3057\n",
      "\n"
     ]
    }
   ],
   "source": [
    "# view optimized results/accuracy on training data\n",
    "print(classification_report(y_train,svclassifier_gaus_optim.predict(X_train)))"
   ]
  },
  {
   "cell_type": "code",
   "execution_count": 173,
   "metadata": {},
   "outputs": [
    {
     "name": "stdout",
     "output_type": "stream",
     "text": [
      "              precision    recall  f1-score   support\n",
      "\n",
      "           0       0.47      0.13      0.20       459\n",
      "           1       0.66      0.92      0.77       852\n",
      "\n",
      "    accuracy                           0.64      1311\n",
      "   macro avg       0.57      0.53      0.49      1311\n",
      "weighted avg       0.60      0.64      0.57      1311\n",
      "\n"
     ]
    }
   ],
   "source": [
    "# view optimized results/accuracy on testing data\n",
    "print(classification_report(y_test, svclassifier_gaus_optim.predict(X_test)))"
   ]
  },
  {
   "cell_type": "code",
   "execution_count": 174,
   "metadata": {},
   "outputs": [
    {
     "name": "stdout",
     "output_type": "stream",
     "text": [
      "[[ 60 399]\n",
      " [ 67 785]]\n"
     ]
    }
   ],
   "source": [
    "# store predicted values on X_test & print confusion matrix\n",
    "y_pred_gaus_optim = svclassifier_gaus_optim.predict(X_test)\n",
    "print(confusion_matrix(y_test,y_pred_gaus_optim))"
   ]
  },
  {
   "cell_type": "markdown",
   "metadata": {},
   "source": [
    "#### Fit model (Sigmoid kernel)\n",
    "(suitable for binary classification problems; rtns 0 or 1; activation functino for Neural Networks)"
   ]
  },
  {
   "cell_type": "code",
   "execution_count": 175,
   "metadata": {},
   "outputs": [
    {
     "name": "stderr",
     "output_type": "stream",
     "text": [
      "/Users/colella2/anaconda3/lib/python3.7/site-packages/sklearn/svm/base.py:193: FutureWarning: The default value of gamma will change from 'auto' to 'scale' in version 0.22 to account better for unscaled features. Set gamma explicitly to 'auto' or 'scale' to avoid this warning.\n",
      "  \"avoid this warning.\", FutureWarning)\n"
     ]
    },
    {
     "data": {
      "text/plain": [
       "SVC(C=1.0, cache_size=200, class_weight=None, coef0=0.0,\n",
       "    decision_function_shape='ovr', degree=3, gamma='auto_deprecated',\n",
       "    kernel='sigmoid', max_iter=-1, probability=False, random_state=None,\n",
       "    shrinking=True, tol=0.001, verbose=False)"
      ]
     },
     "execution_count": 175,
     "metadata": {},
     "output_type": "execute_result"
    }
   ],
   "source": [
    "svclassifier_sig = SVC(kernel='sigmoid')\n",
    "svclassifier_sig.fit(X_train, y_train)"
   ]
  },
  {
   "cell_type": "code",
   "execution_count": 176,
   "metadata": {},
   "outputs": [
    {
     "name": "stdout",
     "output_type": "stream",
     "text": [
      "              precision    recall  f1-score   support\n",
      "\n",
      "           0       0.00      0.00      0.00       981\n",
      "           1       0.68      1.00      0.81      2076\n",
      "\n",
      "    accuracy                           0.68      3057\n",
      "   macro avg       0.34      0.50      0.40      3057\n",
      "weighted avg       0.46      0.68      0.55      3057\n",
      "\n"
     ]
    },
    {
     "name": "stderr",
     "output_type": "stream",
     "text": [
      "/Users/colella2/anaconda3/lib/python3.7/site-packages/sklearn/metrics/classification.py:1437: UndefinedMetricWarning: Precision and F-score are ill-defined and being set to 0.0 in labels with no predicted samples.\n",
      "  'precision', 'predicted', average, warn_for)\n"
     ]
    }
   ],
   "source": [
    "# accuracy against train data\n",
    "print(classification_report(y_train,svclassifier_sig.predict(X_train)))"
   ]
  },
  {
   "cell_type": "code",
   "execution_count": 177,
   "metadata": {},
   "outputs": [
    {
     "name": "stdout",
     "output_type": "stream",
     "text": [
      "              precision    recall  f1-score   support\n",
      "\n",
      "           0       0.00      0.00      0.00       459\n",
      "           1       0.65      1.00      0.79       852\n",
      "\n",
      "    accuracy                           0.65      1311\n",
      "   macro avg       0.32      0.50      0.39      1311\n",
      "weighted avg       0.42      0.65      0.51      1311\n",
      "\n"
     ]
    },
    {
     "name": "stderr",
     "output_type": "stream",
     "text": [
      "/Users/colella2/anaconda3/lib/python3.7/site-packages/sklearn/metrics/classification.py:1437: UndefinedMetricWarning: Precision and F-score are ill-defined and being set to 0.0 in labels with no predicted samples.\n",
      "  'precision', 'predicted', average, warn_for)\n"
     ]
    }
   ],
   "source": [
    "# accuracy against test data\n",
    "print(classification_report(y_test, svclassifier_sig.predict(X_test)))"
   ]
  },
  {
   "cell_type": "code",
   "execution_count": 178,
   "metadata": {},
   "outputs": [
    {
     "name": "stdout",
     "output_type": "stream",
     "text": [
      "[[  0 459]\n",
      " [  0 852]]\n"
     ]
    }
   ],
   "source": [
    "# store predicted values on X_test & print confusion matrix\n",
    "y_pred_sig = svclassifier_sig.predict(X_test)\n",
    "print(confusion_matrix(y_test,y_pred_sig))"
   ]
  },
  {
   "cell_type": "markdown",
   "metadata": {},
   "source": [
    "#### Conclusion\n",
    "Linear SVM performs similarly to optimized Gaussian RBF on test sets."
   ]
  },
  {
   "cell_type": "markdown",
   "metadata": {},
   "source": [
    "### SGD"
   ]
  },
  {
   "cell_type": "code",
   "execution_count": 179,
   "metadata": {},
   "outputs": [],
   "source": [
    "# instantiate SGD classifier\n",
    "linear_sgd_classifier = SGDClassifier(random_state = 0)"
   ]
  },
  {
   "cell_type": "code",
   "execution_count": 180,
   "metadata": {},
   "outputs": [
    {
     "data": {
      "text/plain": [
       "GridSearchCV(cv=5, error_score='raise-deprecating',\n",
       "             estimator=SGDClassifier(alpha=0.0001, average=False,\n",
       "                                     class_weight=None, early_stopping=False,\n",
       "                                     epsilon=0.1, eta0=0.0, fit_intercept=True,\n",
       "                                     l1_ratio=0.15, learning_rate='optimal',\n",
       "                                     loss='hinge', max_iter=1000,\n",
       "                                     n_iter_no_change=5, n_jobs=None,\n",
       "                                     penalty='l2', power_t=0.5, random_state=0,\n",
       "                                     shuffle=True, tol=0.001,\n",
       "                                     validation_fraction=0.1, verbose=0,\n",
       "                                     warm_start=False),\n",
       "             iid='warn', n_jobs=None,\n",
       "             param_grid={'alpha': [1e-05, 0.0001, 0.001, 0.01, 0.1, 1],\n",
       "                         'loss': ['hinge', 'log'], 'penalty': ['l1', 'l2']},\n",
       "             pre_dispatch='2*n_jobs', refit=True, return_train_score=False,\n",
       "             scoring=None, verbose=0)"
      ]
     },
     "execution_count": 180,
     "metadata": {},
     "output_type": "execute_result"
    }
   ],
   "source": [
    "# instantiate the GridSearchCV object and run search\n",
    "params = {'alpha':[0.00001, 0.0001, 0.001, 0.01, 0.1, 1], 'loss':['hinge', 'log'], 'penalty':['l1','l2']}\n",
    "\n",
    "grid_search = GridSearchCV(linear_sgd_classifier, params, cv = 5)\n",
    "\n",
    "grid_search.fit(X_train, y_train)"
   ]
  },
  {
   "cell_type": "code",
   "execution_count": 181,
   "metadata": {},
   "outputs": [
    {
     "name": "stdout",
     "output_type": "stream",
     "text": [
      "Best CV params {'alpha': 0.001, 'loss': 'log', 'penalty': 'l2'}\n",
      "Best CV accuracy 0.6810598626104023\n",
      "Test accuracy of best grid search hypers: 0.6559877955758963\n"
     ]
    }
   ],
   "source": [
    "# best parameters & the corresponding score\n",
    "print(\"Best CV params\", grid_search.best_params_)\n",
    "print(\"Best CV accuracy\", grid_search.best_score_)\n",
    "print(\"Test accuracy of best grid search hypers:\", grid_search.score(X_test, y_test))"
   ]
  },
  {
   "cell_type": "code",
   "execution_count": 182,
   "metadata": {},
   "outputs": [
    {
     "name": "stdout",
     "output_type": "stream",
     "text": [
      "CPU times: user 62.1 ms, sys: 914 µs, total: 63 ms\n",
      "Wall time: 62.4 ms\n"
     ]
    },
    {
     "data": {
      "text/plain": [
       "SGDClassifier(alpha=0.0001, average=False, class_weight=None,\n",
       "              early_stopping=False, epsilon=0.1, eta0=0.0, fit_intercept=True,\n",
       "              l1_ratio=0.15, learning_rate='optimal', loss='hinge',\n",
       "              max_iter=1000, n_iter_no_change=5, n_jobs=None, penalty='l2',\n",
       "              power_t=0.5, random_state=0, shuffle=True, tol=0.001,\n",
       "              validation_fraction=0.1, verbose=0, warm_start=False)"
      ]
     },
     "execution_count": 182,
     "metadata": {},
     "output_type": "execute_result"
    }
   ],
   "source": [
    "%%time\n",
    "\n",
    "# fit SGD classifier\n",
    "linear_sgd_classifier.fit(X_train, y_train)"
   ]
  },
  {
   "cell_type": "code",
   "execution_count": 183,
   "metadata": {},
   "outputs": [
    {
     "name": "stdout",
     "output_type": "stream",
     "text": [
      "              precision    recall  f1-score   support\n",
      "\n",
      "           0       0.61      0.32      0.42       981\n",
      "           1       0.74      0.90      0.81      2076\n",
      "\n",
      "    accuracy                           0.72      3057\n",
      "   macro avg       0.67      0.61      0.62      3057\n",
      "weighted avg       0.70      0.72      0.69      3057\n",
      "\n"
     ]
    }
   ],
   "source": [
    "# accuracy against train data\n",
    "print(classification_report(y_train, linear_sgd_classifier.predict(X_train)))"
   ]
  },
  {
   "cell_type": "code",
   "execution_count": 184,
   "metadata": {},
   "outputs": [
    {
     "name": "stdout",
     "output_type": "stream",
     "text": [
      "              precision    recall  f1-score   support\n",
      "\n",
      "           0       0.51      0.22      0.30       459\n",
      "           1       0.68      0.88      0.77       852\n",
      "\n",
      "    accuracy                           0.65      1311\n",
      "   macro avg       0.59      0.55      0.54      1311\n",
      "weighted avg       0.62      0.65      0.61      1311\n",
      "\n"
     ]
    }
   ],
   "source": [
    "# accuracy against test data\n",
    "print(classification_report(y_test, linear_sgd_classifier.predict(X_test)))"
   ]
  },
  {
   "cell_type": "markdown",
   "metadata": {},
   "source": [
    "As one can see, the accuracy on the test set is 0.65, matching Gaussian-RBD and linear SVM. It also better precision and recall than optimized Gaussian-RBF & matches of betters linear SVM. It matches linear SVM on recall."
   ]
  },
  {
   "cell_type": "markdown",
   "metadata": {},
   "source": [
    "### Neural Network\n",
    "ReLu activation function for hidden layers.\n",
    "Sigmoid activation function for binary classification. CAUTION: Large neural nets trained on relatively small datasets can overfit the training data. Generalization error increases due to overfitting."
   ]
  },
  {
   "cell_type": "markdown",
   "metadata": {},
   "source": [
    "#### Instance 1\n",
    "3 layers of 55 nodes/neurons/perceptrons mapping to 1 target variable"
   ]
  },
  {
   "cell_type": "code",
   "execution_count": 332,
   "metadata": {},
   "outputs": [],
   "source": [
    "# instantiate classifier\n",
    "classifier = Sequential()\n",
    "\n",
    "# optimal size of the hidden layer is usually between the size of the input and size of the output layers\n",
    "# general rule I used was # input features of 165 / # hidden layers = # nodes per layer\n",
    "\n",
    "# ReLu is based on principle that linear models are easier to optimize\n",
    "# random normal initializer generates tensors with a normal distribution\n",
    "\n",
    "# hidden layer 1 - # of neurons comprising this layer is equal to number of features\n",
    "classifier.add(Dense(55, activation = 'relu', kernel_initializer = 'random_normal', input_dim = 165))\n",
    "\n",
    "# hidden layer 2\n",
    "classifier.add(Dense(55, activation = 'relu', kernel_initializer = 'random_normal'))\n",
    "\n",
    "# hidden layer 3\n",
    "classifier.add(Dense(55, activation = 'relu', kernel_initializer = 'random_normal'))\n",
    "\n",
    "# output layer\n",
    "# single node for classification unless softmax is used -- then one node per class label\n",
    "# Sigmoid function is the special case of Softmax function where the number of classes are 2\n",
    "classifier.add(Dense(1, activation = 'sigmoid', kernel_initializer = 'random_normal'))"
   ]
  },
  {
   "cell_type": "code",
   "execution_count": 333,
   "metadata": {},
   "outputs": [],
   "source": [
    "# compile NN\n",
    "classifier.compile(optimizer = 'adam',loss = 'binary_crossentropy', metrics = ['accuracy'])\n",
    "\n",
    "# use Adam optimization -- \"adaptive moment estimation\"; it's a combo of RMSProp + Momentum"
   ]
  },
  {
   "cell_type": "code",
   "execution_count": 334,
   "metadata": {},
   "outputs": [
    {
     "name": "stdout",
     "output_type": "stream",
     "text": [
      "Epoch 1/60\n",
      "3057/3057 [==============================] - 4s 1ms/step - loss: 0.6511 - acc: 0.6771\n",
      "Epoch 2/60\n",
      "3057/3057 [==============================] - 0s 63us/step - loss: 0.5862 - acc: 0.6791\n",
      "Epoch 3/60\n",
      "3057/3057 [==============================] - 0s 62us/step - loss: 0.5556 - acc: 0.6791\n",
      "Epoch 4/60\n",
      "3057/3057 [==============================] - 0s 57us/step - loss: 0.5368 - acc: 0.7023\n",
      "Epoch 5/60\n",
      "3057/3057 [==============================] - 0s 59us/step - loss: 0.5223 - acc: 0.7288\n",
      "Epoch 6/60\n",
      "3057/3057 [==============================] - 0s 60us/step - loss: 0.5052 - acc: 0.7462\n",
      "Epoch 7/60\n",
      "3057/3057 [==============================] - 0s 60us/step - loss: 0.4849 - acc: 0.7586\n",
      "Epoch 8/60\n",
      "3057/3057 [==============================] - 0s 62us/step - loss: 0.4594 - acc: 0.7880\n",
      "Epoch 9/60\n",
      "3057/3057 [==============================] - 0s 64us/step - loss: 0.4256 - acc: 0.8106\n",
      "Epoch 10/60\n",
      "3057/3057 [==============================] - 0s 58us/step - loss: 0.3898 - acc: 0.8296\n",
      "Epoch 11/60\n",
      "3057/3057 [==============================] - 0s 61us/step - loss: 0.3445 - acc: 0.8606\n",
      "Epoch 12/60\n",
      "3057/3057 [==============================] - 0s 59us/step - loss: 0.3025 - acc: 0.8835\n",
      "Epoch 13/60\n",
      "3057/3057 [==============================] - 0s 59us/step - loss: 0.2517 - acc: 0.9078\n",
      "Epoch 14/60\n",
      "3057/3057 [==============================] - 0s 61us/step - loss: 0.2127 - acc: 0.9248\n",
      "Epoch 15/60\n",
      "3057/3057 [==============================] - 0s 58us/step - loss: 0.1768 - acc: 0.9378\n",
      "Epoch 16/60\n",
      "3057/3057 [==============================] - 0s 59us/step - loss: 0.1444 - acc: 0.9585\n",
      "Epoch 17/60\n",
      "3057/3057 [==============================] - 0s 77us/step - loss: 0.1120 - acc: 0.9715\n",
      "Epoch 18/60\n",
      "3057/3057 [==============================] - 0s 64us/step - loss: 0.0974 - acc: 0.9732\n",
      "Epoch 19/60\n",
      "3057/3057 [==============================] - 0s 61us/step - loss: 0.0731 - acc: 0.9827\n",
      "Epoch 20/60\n",
      "3057/3057 [==============================] - 0s 60us/step - loss: 0.0610 - acc: 0.9886\n",
      "Epoch 21/60\n",
      "3057/3057 [==============================] - 0s 65us/step - loss: 0.0515 - acc: 0.9869\n",
      "Epoch 22/60\n",
      "3057/3057 [==============================] - 0s 61us/step - loss: 0.0489 - acc: 0.9886\n",
      "Epoch 23/60\n",
      "3057/3057 [==============================] - 0s 62us/step - loss: 0.0327 - acc: 0.9925\n",
      "Epoch 24/60\n",
      "3057/3057 [==============================] - 0s 66us/step - loss: 0.0259 - acc: 0.9948\n",
      "Epoch 25/60\n",
      "3057/3057 [==============================] - 0s 62us/step - loss: 0.0228 - acc: 0.9948\n",
      "Epoch 26/60\n",
      "3057/3057 [==============================] - 0s 76us/step - loss: 0.0205 - acc: 0.9967\n",
      "Epoch 27/60\n",
      "3057/3057 [==============================] - 0s 74us/step - loss: 0.0150 - acc: 0.9977\n",
      "Epoch 28/60\n",
      "3057/3057 [==============================] - 0s 77us/step - loss: 0.0115 - acc: 0.9980\n",
      "Epoch 29/60\n",
      "3057/3057 [==============================] - 0s 74us/step - loss: 0.0098 - acc: 0.9990\n",
      "Epoch 30/60\n",
      "3057/3057 [==============================] - 0s 67us/step - loss: 0.0073 - acc: 0.9993\n",
      "Epoch 31/60\n",
      "3057/3057 [==============================] - 0s 72us/step - loss: 0.0067 - acc: 0.9984\n",
      "Epoch 32/60\n",
      "3057/3057 [==============================] - 0s 76us/step - loss: 0.0141 - acc: 0.9974\n",
      "Epoch 33/60\n",
      "3057/3057 [==============================] - 0s 76us/step - loss: 0.0240 - acc: 0.9921\n",
      "Epoch 34/60\n",
      "3057/3057 [==============================] - 0s 68us/step - loss: 0.0630 - acc: 0.9751\n",
      "Epoch 35/60\n",
      "3057/3057 [==============================] - 0s 61us/step - loss: 0.0923 - acc: 0.9696\n",
      "Epoch 36/60\n",
      "3057/3057 [==============================] - 0s 62us/step - loss: 0.0609 - acc: 0.9794\n",
      "Epoch 37/60\n",
      "3057/3057 [==============================] - 0s 77us/step - loss: 0.0372 - acc: 0.9886\n",
      "Epoch 38/60\n",
      "3057/3057 [==============================] - 0s 65us/step - loss: 0.0166 - acc: 0.9961\n",
      "Epoch 39/60\n",
      "3057/3057 [==============================] - 0s 67us/step - loss: 0.0076 - acc: 0.9987\n",
      "Epoch 40/60\n",
      "3057/3057 [==============================] - 0s 66us/step - loss: 0.0042 - acc: 0.9993\n",
      "Epoch 41/60\n",
      "3057/3057 [==============================] - 0s 68us/step - loss: 0.0037 - acc: 0.9997\n",
      "Epoch 42/60\n",
      "3057/3057 [==============================] - 0s 72us/step - loss: 0.0041 - acc: 0.9990\n",
      "Epoch 43/60\n",
      "3057/3057 [==============================] - 0s 64us/step - loss: 0.0035 - acc: 0.9993\n",
      "Epoch 44/60\n",
      "3057/3057 [==============================] - 0s 67us/step - loss: 0.0037 - acc: 0.9993\n",
      "Epoch 45/60\n",
      "3057/3057 [==============================] - 0s 72us/step - loss: 0.0038 - acc: 0.9993\n",
      "Epoch 46/60\n",
      "3057/3057 [==============================] - 0s 59us/step - loss: 0.0064 - acc: 0.9984\n",
      "Epoch 47/60\n",
      "3057/3057 [==============================] - 0s 62us/step - loss: 0.0033 - acc: 0.9993\n",
      "Epoch 48/60\n",
      "3057/3057 [==============================] - 0s 67us/step - loss: 0.0029 - acc: 0.9993\n",
      "Epoch 49/60\n",
      "3057/3057 [==============================] - 0s 65us/step - loss: 0.0016 - acc: 0.9997\n",
      "Epoch 50/60\n",
      "3057/3057 [==============================] - 0s 61us/step - loss: 0.0015 - acc: 0.9997\n",
      "Epoch 51/60\n",
      "3057/3057 [==============================] - 0s 64us/step - loss: 0.0046 - acc: 0.9990\n",
      "Epoch 52/60\n",
      "3057/3057 [==============================] - 0s 69us/step - loss: 0.0042 - acc: 0.9990\n",
      "Epoch 53/60\n",
      "3057/3057 [==============================] - 0s 68us/step - loss: 0.0078 - acc: 0.9984\n",
      "Epoch 54/60\n",
      "3057/3057 [==============================] - 0s 58us/step - loss: 0.0068 - acc: 0.9984\n",
      "Epoch 55/60\n",
      "3057/3057 [==============================] - 0s 58us/step - loss: 0.0152 - acc: 0.9967\n",
      "Epoch 56/60\n",
      "3057/3057 [==============================] - 0s 58us/step - loss: 0.0104 - acc: 0.9977\n",
      "Epoch 57/60\n",
      "3057/3057 [==============================] - 0s 59us/step - loss: 0.0067 - acc: 0.9971\n",
      "Epoch 58/60\n",
      "3057/3057 [==============================] - 0s 58us/step - loss: 0.0145 - acc: 0.9974\n",
      "Epoch 59/60\n",
      "3057/3057 [==============================] - 0s 58us/step - loss: 0.0124 - acc: 0.9967\n",
      "Epoch 60/60\n",
      "3057/3057 [==============================] - 0s 58us/step - loss: 0.0131 - acc: 0.9938\n",
      "CPU times: user 28.1 s, sys: 3.24 s, total: 31.4 s\n",
      "Wall time: 15.7 s\n"
     ]
    },
    {
     "data": {
      "text/plain": [
       "<keras.callbacks.History at 0x1a79d183c8>"
      ]
     },
     "execution_count": 334,
     "metadata": {},
     "output_type": "execute_result"
    }
   ],
   "source": [
    "%%time\n",
    "\n",
    "# fit training data to model\n",
    "# batch size 55 means 55 samples per gradient update AKA # of patterns shown to NN before weights updated\n",
    "# also training optimization -- how many patterns to read at a time and keep in memory\n",
    "\n",
    "# train w/ 60 epochs -- epoch is an iteration over entire data set\n",
    "classifier.fit(X_train, y_train, batch_size = 55, epochs = 60)"
   ]
  },
  {
   "cell_type": "code",
   "execution_count": 335,
   "metadata": {},
   "outputs": [
    {
     "name": "stdout",
     "output_type": "stream",
     "text": [
      "3057/3057 [==============================] - 1s 459us/step\n"
     ]
    },
    {
     "data": {
      "text/plain": [
       "[0.013447447802407175, 0.9970559371933267]"
      ]
     },
     "execution_count": 335,
     "metadata": {},
     "output_type": "execute_result"
    }
   ],
   "source": [
    "# evaluate loss & metrics values for model\n",
    "classifier.evaluate(X_train, y_train) # accuracy near 100% on training data, which is a sign of overfitting"
   ]
  },
  {
   "cell_type": "code",
   "execution_count": 336,
   "metadata": {},
   "outputs": [],
   "source": [
    "# predict on test data\n",
    "# if prediction is greater than 0.5, output is 1; otherwise, output is 0\n",
    "y_pred = classifier.predict(X_test)\n",
    "y_pred = (y_pred > 0.5)"
   ]
  },
  {
   "cell_type": "code",
   "execution_count": 337,
   "metadata": {},
   "outputs": [
    {
     "data": {
      "text/plain": [
       "array([[161, 298],\n",
       "       [231, 621]])"
      ]
     },
     "execution_count": 337,
     "metadata": {},
     "output_type": "execute_result"
    }
   ],
   "source": [
    "# accuracy on test: ~63%\n",
    "confusion_matrix(y_test, y_pred) # TP + TN = 829; 829/1311 total = ~63% accurate"
   ]
  },
  {
   "cell_type": "markdown",
   "metadata": {},
   "source": [
    "#### Instance 2\n",
    "5 layers of 33 nodes mapping to 1 target variable"
   ]
  },
  {
   "cell_type": "markdown",
   "metadata": {},
   "source": [
    "2 additional layers introduced b/c, empirically, deep NN's perform better"
   ]
  },
  {
   "cell_type": "code",
   "execution_count": 216,
   "metadata": {},
   "outputs": [],
   "source": [
    "# instantiate classifier 2\n",
    "classifier_2 = Sequential()\n",
    "\n",
    "# hidden layer 1\n",
    "classifier_2.add(Dense(33, activation = 'relu', kernel_initializer = 'random_normal', input_dim = 165))\n",
    "\n",
    "# hidden layer 2\n",
    "classifier_2.add(Dense(33, activation = 'relu', kernel_initializer = 'random_normal'))\n",
    "\n",
    "# hidden layer 3\n",
    "classifier_2.add(Dense(33, activation ='relu', kernel_initializer = 'random_normal'))\n",
    "\n",
    "# hidden layer 4\n",
    "classifier_2.add(Dense(33, activation = 'relu', kernel_initializer = 'random_normal'))\n",
    "\n",
    "# hidden layer 5\n",
    "classifier_2.add(Dense(33, activation = 'relu', kernel_initializer = 'random_normal'))\n",
    "\n",
    "# output layer\n",
    "classifier_2.add(Dense(1, activation = 'sigmoid', kernel_initializer = 'random_normal'))"
   ]
  },
  {
   "cell_type": "code",
   "execution_count": 217,
   "metadata": {},
   "outputs": [],
   "source": [
    "# compile NN\n",
    "classifier_2.compile(optimizer = 'adam', loss = 'binary_crossentropy', metrics = ['accuracy'])"
   ]
  },
  {
   "cell_type": "code",
   "execution_count": 218,
   "metadata": {},
   "outputs": [
    {
     "name": "stdout",
     "output_type": "stream",
     "text": [
      "Epoch 1/70\n",
      "3057/3057 [==============================] - 3s 988us/step - loss: 0.6512 - acc: 0.6784\n",
      "Epoch 2/70\n",
      "3057/3057 [==============================] - 1s 174us/step - loss: 0.5854 - acc: 0.6791\n",
      "Epoch 3/70\n",
      "3057/3057 [==============================] - 0s 159us/step - loss: 0.5563 - acc: 0.6791\n",
      "Epoch 4/70\n",
      "3057/3057 [==============================] - 0s 155us/step - loss: 0.5428 - acc: 0.6814\n",
      "Epoch 5/70\n",
      "3057/3057 [==============================] - 0s 151us/step - loss: 0.5345 - acc: 0.7046\n",
      "Epoch 6/70\n",
      "3057/3057 [==============================] - 0s 146us/step - loss: 0.5287 - acc: 0.7157\n",
      "Epoch 7/70\n",
      "3057/3057 [==============================] - 0s 161us/step - loss: 0.5218 - acc: 0.7327\n",
      "Epoch 8/70\n",
      "3057/3057 [==============================] - 0s 150us/step - loss: 0.5161 - acc: 0.7347\n",
      "Epoch 9/70\n",
      "3057/3057 [==============================] - 0s 152us/step - loss: 0.5085 - acc: 0.7488\n",
      "Epoch 10/70\n",
      "3057/3057 [==============================] - 0s 147us/step - loss: 0.5012 - acc: 0.7501\n",
      "Epoch 11/70\n",
      "3057/3057 [==============================] - 0s 146us/step - loss: 0.4907 - acc: 0.7599\n",
      "Epoch 12/70\n",
      "3057/3057 [==============================] - 0s 144us/step - loss: 0.4822 - acc: 0.7674\n",
      "Epoch 13/70\n",
      "3057/3057 [==============================] - 0s 145us/step - loss: 0.4708 - acc: 0.7772\n",
      "Epoch 14/70\n",
      "3057/3057 [==============================] - 0s 150us/step - loss: 0.4572 - acc: 0.7867\n",
      "Epoch 15/70\n",
      "3057/3057 [==============================] - 0s 148us/step - loss: 0.4451 - acc: 0.7884\n",
      "Epoch 16/70\n",
      "3057/3057 [==============================] - 0s 144us/step - loss: 0.4281 - acc: 0.8057\n",
      "Epoch 17/70\n",
      "3057/3057 [==============================] - 0s 145us/step - loss: 0.4110 - acc: 0.8155\n",
      "Epoch 18/70\n",
      "3057/3057 [==============================] - 0s 153us/step - loss: 0.3965 - acc: 0.8273\n",
      "Epoch 19/70\n",
      "3057/3057 [==============================] - 1s 164us/step - loss: 0.3764 - acc: 0.8345\n",
      "Epoch 20/70\n",
      "3057/3057 [==============================] - 0s 160us/step - loss: 0.3587 - acc: 0.8476\n",
      "Epoch 21/70\n",
      "3057/3057 [==============================] - 0s 155us/step - loss: 0.3410 - acc: 0.8508\n",
      "Epoch 22/70\n",
      "3057/3057 [==============================] - 0s 147us/step - loss: 0.3193 - acc: 0.8718\n",
      "Epoch 23/70\n",
      "3057/3057 [==============================] - 0s 156us/step - loss: 0.3046 - acc: 0.8754\n",
      "Epoch 24/70\n",
      "3057/3057 [==============================] - 0s 148us/step - loss: 0.2857 - acc: 0.8868\n",
      "Epoch 25/70\n",
      "3057/3057 [==============================] - 0s 151us/step - loss: 0.2716 - acc: 0.8901\n",
      "Epoch 26/70\n",
      "3057/3057 [==============================] - 0s 149us/step - loss: 0.2585 - acc: 0.8983\n",
      "Epoch 27/70\n",
      "3057/3057 [==============================] - 0s 151us/step - loss: 0.2531 - acc: 0.8989\n",
      "Epoch 28/70\n",
      "3057/3057 [==============================] - 0s 149us/step - loss: 0.2380 - acc: 0.9064\n",
      "Epoch 29/70\n",
      "3057/3057 [==============================] - 0s 149us/step - loss: 0.2321 - acc: 0.9091\n",
      "Epoch 30/70\n",
      "3057/3057 [==============================] - 0s 149us/step - loss: 0.2238 - acc: 0.9136\n",
      "Epoch 31/70\n",
      "3057/3057 [==============================] - 0s 150us/step - loss: 0.2263 - acc: 0.9074\n",
      "Epoch 32/70\n",
      "3057/3057 [==============================] - 0s 154us/step - loss: 0.2116 - acc: 0.9185\n",
      "Epoch 33/70\n",
      "3057/3057 [==============================] - 0s 150us/step - loss: 0.2138 - acc: 0.9163\n",
      "Epoch 34/70\n",
      "3057/3057 [==============================] - 1s 166us/step - loss: 0.2098 - acc: 0.9172\n",
      "Epoch 35/70\n",
      "3057/3057 [==============================] - 0s 155us/step - loss: 0.2014 - acc: 0.9225\n",
      "Epoch 36/70\n",
      "3057/3057 [==============================] - 0s 155us/step - loss: 0.2027 - acc: 0.9228\n",
      "Epoch 37/70\n",
      "3057/3057 [==============================] - 0s 158us/step - loss: 0.2017 - acc: 0.9218\n",
      "Epoch 38/70\n",
      "3057/3057 [==============================] - 1s 188us/step - loss: 0.1931 - acc: 0.9267\n",
      "Epoch 39/70\n",
      "3057/3057 [==============================] - 1s 183us/step - loss: 0.1974 - acc: 0.9264\n",
      "Epoch 40/70\n",
      "3057/3057 [==============================] - 1s 164us/step - loss: 0.1990 - acc: 0.9218\n",
      "Epoch 41/70\n",
      "3057/3057 [==============================] - 0s 139us/step - loss: 0.1928 - acc: 0.9271\n",
      "Epoch 42/70\n",
      "3057/3057 [==============================] - 0s 141us/step - loss: 0.2030 - acc: 0.9218\n",
      "Epoch 43/70\n",
      "3057/3057 [==============================] - 0s 160us/step - loss: 0.1969 - acc: 0.9238\n",
      "Epoch 44/70\n",
      "3057/3057 [==============================] - 1s 164us/step - loss: 0.1804 - acc: 0.9316\n",
      "Epoch 45/70\n",
      "3057/3057 [==============================] - 0s 139us/step - loss: 0.1731 - acc: 0.9365\n",
      "Epoch 46/70\n",
      "3057/3057 [==============================] - 0s 143us/step - loss: 0.1702 - acc: 0.9385\n",
      "Epoch 47/70\n",
      "3057/3057 [==============================] - 0s 139us/step - loss: 0.1697 - acc: 0.9388\n",
      "Epoch 48/70\n",
      "3057/3057 [==============================] - 0s 141us/step - loss: 0.1819 - acc: 0.9310\n",
      "Epoch 49/70\n",
      "3057/3057 [==============================] - 0s 138us/step - loss: 0.1938 - acc: 0.9271\n",
      "Epoch 50/70\n",
      "3057/3057 [==============================] - 0s 139us/step - loss: 0.1892 - acc: 0.9287\n",
      "Epoch 51/70\n",
      "3057/3057 [==============================] - 0s 149us/step - loss: 0.1976 - acc: 0.9257\n",
      "Epoch 52/70\n",
      "3057/3057 [==============================] - 0s 149us/step - loss: 0.1875 - acc: 0.9313\n",
      "Epoch 53/70\n",
      "3057/3057 [==============================] - 0s 143us/step - loss: 0.1768 - acc: 0.9356\n",
      "Epoch 54/70\n",
      "3057/3057 [==============================] - 0s 141us/step - loss: 0.1734 - acc: 0.9372\n",
      "Epoch 55/70\n",
      "3057/3057 [==============================] - 0s 157us/step - loss: 0.1743 - acc: 0.9356\n",
      "Epoch 56/70\n",
      "3057/3057 [==============================] - 0s 159us/step - loss: 0.1875 - acc: 0.9310\n",
      "Epoch 57/70\n",
      "3057/3057 [==============================] - 1s 221us/step - loss: 0.1789 - acc: 0.9346\n",
      "Epoch 58/70\n",
      "3057/3057 [==============================] - 0s 145us/step - loss: 0.1943 - acc: 0.9261\n",
      "Epoch 59/70\n",
      "3057/3057 [==============================] - 0s 157us/step - loss: 0.1750 - acc: 0.9359\n",
      "Epoch 60/70\n",
      "3057/3057 [==============================] - 0s 143us/step - loss: 0.1780 - acc: 0.9349\n",
      "Epoch 61/70\n",
      "3057/3057 [==============================] - 0s 140us/step - loss: 0.1680 - acc: 0.9398\n",
      "Epoch 62/70\n",
      "3057/3057 [==============================] - 0s 141us/step - loss: 0.1776 - acc: 0.9339\n",
      "Epoch 63/70\n",
      "3057/3057 [==============================] - 0s 139us/step - loss: 0.1867 - acc: 0.9313\n",
      "Epoch 64/70\n",
      "3057/3057 [==============================] - 0s 140us/step - loss: 0.1835 - acc: 0.9316\n",
      "Epoch 65/70\n",
      "3057/3057 [==============================] - 0s 142us/step - loss: 0.1750 - acc: 0.9356\n",
      "Epoch 66/70\n",
      "3057/3057 [==============================] - 0s 139us/step - loss: 0.1718 - acc: 0.9365\n",
      "Epoch 67/70\n",
      "3057/3057 [==============================] - 0s 148us/step - loss: 0.1858 - acc: 0.9323\n",
      "Epoch 68/70\n",
      "3057/3057 [==============================] - 0s 141us/step - loss: 0.1724 - acc: 0.9365\n",
      "Epoch 69/70\n",
      "3057/3057 [==============================] - 0s 144us/step - loss: 0.1676 - acc: 0.9388\n",
      "Epoch 70/70\n",
      "3057/3057 [==============================] - 0s 139us/step - loss: 0.1676 - acc: 0.9408\n",
      "CPU times: user 1min 19s, sys: 9.64 s, total: 1min 29s\n",
      "Wall time: 35.3 s\n"
     ]
    },
    {
     "data": {
      "text/plain": [
       "<keras.callbacks.History at 0x1a6f7f3400>"
      ]
     },
     "execution_count": 218,
     "metadata": {},
     "output_type": "execute_result"
    }
   ],
   "source": [
    "%%time\n",
    "\n",
    "# fit training data to model\n",
    "classifier_2.fit(X_train, y_train, batch_size = 15, epochs = 70)"
   ]
  },
  {
   "cell_type": "code",
   "execution_count": 338,
   "metadata": {},
   "outputs": [
    {
     "name": "stdout",
     "output_type": "stream",
     "text": [
      "3057/3057 [==============================] - 0s 67us/step\n"
     ]
    },
    {
     "data": {
      "text/plain": [
       "[0.16292443052592293, 0.9421000981549247]"
      ]
     },
     "execution_count": 338,
     "metadata": {},
     "output_type": "execute_result"
    }
   ],
   "source": [
    "# evaluate loss & metrics values for model\n",
    "classifier_2.evaluate(X_train, y_train) # accuracy near 94% on training data, which is also a sign of overfitting"
   ]
  },
  {
   "cell_type": "code",
   "execution_count": 339,
   "metadata": {},
   "outputs": [],
   "source": [
    "# predict on test data\n",
    "# if prediction is greater than 0.5, output is 1; otherwise, output is 0\n",
    "y_pred_2 = classifier_2.predict(X_test)\n",
    "y_pred_2 = (y_pred_2 > 0.5)"
   ]
  },
  {
   "cell_type": "code",
   "execution_count": 340,
   "metadata": {},
   "outputs": [
    {
     "data": {
      "text/plain": [
       "array([[237, 222],\n",
       "       [268, 584]])"
      ]
     },
     "execution_count": 340,
     "metadata": {},
     "output_type": "execute_result"
    }
   ],
   "source": [
    "# accuracy on test: ~63%\n",
    "confusion_matrix(y_test, y_pred_2) # TP + TN = 802; 802/1311 total = ~63% accurate"
   ]
  },
  {
   "cell_type": "markdown",
   "metadata": {},
   "source": [
    "#### Instance 3 -- tackle overfitting during model training\n",
    "5 layers of 33 nodes mapping to 1 target variable"
   ]
  },
  {
   "cell_type": "code",
   "execution_count": 348,
   "metadata": {},
   "outputs": [],
   "source": [
    "# instantiate classifier 3\n",
    "classifier_3 = Sequential()"
   ]
  },
  {
   "cell_type": "markdown",
   "metadata": {},
   "source": [
    "Implementation of dropout regularization to approximate training a large # of NN's w/ unique architectures in parallel, which we don't have the time or compute for."
   ]
  },
  {
   "cell_type": "code",
   "execution_count": 349,
   "metadata": {},
   "outputs": [],
   "source": [
    "# hidden layer 1\n",
    "classifier_3.add(Dense(33, activation = 'relu', kernel_initializer = 'random_normal', input_dim = 165))\n",
    "classifier_3.add(Dropout(0.1))\n",
    "\n",
    "# hidden layer 2\n",
    "classifier_3.add(Dense(33, activation = 'relu', kernel_initializer = 'random_normal'))\n",
    "classifier_3.add(Dropout(0.1))\n",
    "\n",
    "# hidden layer 3\n",
    "classifier_3.add(Dense(33, activation = 'relu', kernel_initializer = 'random_normal'))\n",
    "classifier_3.add(Dropout(0.1))\n",
    "\n",
    "# hidden layer 4\n",
    "classifier_3.add(Dense(33, activation = 'relu', kernel_initializer = 'random_normal'))\n",
    "classifier_3.add(Dropout(0.1))\n",
    "\n",
    "# hidden layer 5\n",
    "classifier_3.add(Dense(33, activation = 'relu', kernel_initializer = 'random_normal'))\n",
    "classifier_3.add(Dropout(0.1))\n",
    "\n",
    "# output layer\n",
    "classifier_3.add(Dense(1, activation = 'sigmoid', kernel_initializer = 'random_normal'))"
   ]
  },
  {
   "cell_type": "code",
   "execution_count": 350,
   "metadata": {},
   "outputs": [],
   "source": [
    "# compile NN\n",
    "classifier_3.compile(optimizer = 'adam', loss = 'binary_crossentropy', metrics = ['accuracy'])"
   ]
  },
  {
   "cell_type": "code",
   "execution_count": 351,
   "metadata": {
    "scrolled": true
   },
   "outputs": [
    {
     "name": "stdout",
     "output_type": "stream",
     "text": [
      "Epoch 1/60\n",
      "3057/3057 [==============================] - 5s 2ms/step - loss: 0.6302 - acc: 0.6788\n",
      "Epoch 2/60\n",
      "3057/3057 [==============================] - 1s 265us/step - loss: 0.5633 - acc: 0.6791\n",
      "Epoch 3/60\n",
      "3057/3057 [==============================] - 1s 266us/step - loss: 0.5443 - acc: 0.6791\n",
      "Epoch 4/60\n",
      "3057/3057 [==============================] - 1s 291us/step - loss: 0.5329 - acc: 0.6830\n",
      "Epoch 5/60\n",
      "3057/3057 [==============================] - 1s 293us/step - loss: 0.5199 - acc: 0.7180\n",
      "Epoch 6/60\n",
      "3057/3057 [==============================] - 1s 284us/step - loss: 0.5055 - acc: 0.7324\n",
      "Epoch 7/60\n",
      "3057/3057 [==============================] - 1s 321us/step - loss: 0.4873 - acc: 0.7527\n",
      "Epoch 8/60\n",
      "3057/3057 [==============================] - 1s 298us/step - loss: 0.4608 - acc: 0.7756\n",
      "Epoch 9/60\n",
      "3057/3057 [==============================] - 1s 255us/step - loss: 0.4431 - acc: 0.7903\n",
      "Epoch 10/60\n",
      "3057/3057 [==============================] - 1s 289us/step - loss: 0.4172 - acc: 0.8083\n",
      "Epoch 11/60\n",
      "3057/3057 [==============================] - 1s 269us/step - loss: 0.3976 - acc: 0.8237\n",
      "Epoch 12/60\n",
      "3057/3057 [==============================] - 1s 248us/step - loss: 0.3737 - acc: 0.8312\n",
      "Epoch 13/60\n",
      "3057/3057 [==============================] - 1s 254us/step - loss: 0.3425 - acc: 0.8485\n",
      "Epoch 14/60\n",
      "3057/3057 [==============================] - 1s 262us/step - loss: 0.3300 - acc: 0.8580\n",
      "Epoch 15/60\n",
      "3057/3057 [==============================] - 1s 250us/step - loss: 0.3058 - acc: 0.8737\n",
      "Epoch 16/60\n",
      "3057/3057 [==============================] - 1s 249us/step - loss: 0.3032 - acc: 0.8701\n",
      "Epoch 17/60\n",
      "3057/3057 [==============================] - 1s 264us/step - loss: 0.2795 - acc: 0.8865\n",
      "Epoch 18/60\n",
      "3057/3057 [==============================] - 1s 250us/step - loss: 0.2667 - acc: 0.8953\n",
      "Epoch 19/60\n",
      "3057/3057 [==============================] - 1s 258us/step - loss: 0.2573 - acc: 0.8999\n",
      "Epoch 20/60\n",
      "3057/3057 [==============================] - 1s 264us/step - loss: 0.2562 - acc: 0.8992\n",
      "Epoch 21/60\n",
      "3057/3057 [==============================] - 1s 249us/step - loss: 0.2328 - acc: 0.9123\n",
      "Epoch 22/60\n",
      "3057/3057 [==============================] - 1s 249us/step - loss: 0.2310 - acc: 0.9120\n",
      "Epoch 23/60\n",
      "3057/3057 [==============================] - 1s 249us/step - loss: 0.2237 - acc: 0.9130\n",
      "Epoch 24/60\n",
      "3057/3057 [==============================] - 1s 252us/step - loss: 0.2297 - acc: 0.9143\n",
      "Epoch 25/60\n",
      "3057/3057 [==============================] - 1s 259us/step - loss: 0.2177 - acc: 0.9133\n",
      "Epoch 26/60\n",
      "3057/3057 [==============================] - 1s 249us/step - loss: 0.1904 - acc: 0.9300\n",
      "Epoch 27/60\n",
      "3057/3057 [==============================] - 1s 247us/step - loss: 0.2100 - acc: 0.9215\n",
      "Epoch 28/60\n",
      "3057/3057 [==============================] - 1s 246us/step - loss: 0.2100 - acc: 0.9163\n",
      "Epoch 29/60\n",
      "3057/3057 [==============================] - 1s 249us/step - loss: 0.1731 - acc: 0.9372\n",
      "Epoch 30/60\n",
      "3057/3057 [==============================] - 1s 247us/step - loss: 0.2021 - acc: 0.9254\n",
      "Epoch 31/60\n",
      "3057/3057 [==============================] - 1s 247us/step - loss: 0.1815 - acc: 0.9378\n",
      "Epoch 32/60\n",
      "3057/3057 [==============================] - 1s 249us/step - loss: 0.1781 - acc: 0.9385\n",
      "Epoch 33/60\n",
      "3057/3057 [==============================] - 1s 256us/step - loss: 0.1825 - acc: 0.9352\n",
      "Epoch 34/60\n",
      "3057/3057 [==============================] - 1s 262us/step - loss: 0.1705 - acc: 0.9408\n",
      "Epoch 35/60\n",
      "3057/3057 [==============================] - 1s 255us/step - loss: 0.1915 - acc: 0.9293\n",
      "Epoch 36/60\n",
      "3057/3057 [==============================] - 1s 263us/step - loss: 0.1672 - acc: 0.9428\n",
      "Epoch 37/60\n",
      "3057/3057 [==============================] - 1s 296us/step - loss: 0.1719 - acc: 0.9414\n",
      "Epoch 38/60\n",
      "3057/3057 [==============================] - 1s 308us/step - loss: 0.1714 - acc: 0.9401\n",
      "Epoch 39/60\n",
      "3057/3057 [==============================] - 1s 291us/step - loss: 0.1653 - acc: 0.9441\n",
      "Epoch 40/60\n",
      "3057/3057 [==============================] - 1s 269us/step - loss: 0.1721 - acc: 0.9401\n",
      "Epoch 41/60\n",
      "3057/3057 [==============================] - 1s 267us/step - loss: 0.1629 - acc: 0.9457\n",
      "Epoch 42/60\n",
      "3057/3057 [==============================] - 1s 259us/step - loss: 0.1582 - acc: 0.9444\n",
      "Epoch 43/60\n",
      "3057/3057 [==============================] - 1s 253us/step - loss: 0.1604 - acc: 0.9450\n",
      "Epoch 44/60\n",
      "3057/3057 [==============================] - 1s 258us/step - loss: 0.1702 - acc: 0.9398\n",
      "Epoch 45/60\n",
      "3057/3057 [==============================] - 1s 264us/step - loss: 0.1536 - acc: 0.9493\n",
      "Epoch 46/60\n",
      "3057/3057 [==============================] - 1s 259us/step - loss: 0.1542 - acc: 0.9493\n",
      "Epoch 47/60\n",
      "3057/3057 [==============================] - 1s 266us/step - loss: 0.1458 - acc: 0.9496\n",
      "Epoch 48/60\n",
      "3057/3057 [==============================] - 1s 267us/step - loss: 0.1564 - acc: 0.9470\n",
      "Epoch 49/60\n",
      "3057/3057 [==============================] - 1s 262us/step - loss: 0.1539 - acc: 0.9490\n",
      "Epoch 50/60\n",
      "3057/3057 [==============================] - 1s 257us/step - loss: 0.1442 - acc: 0.9542\n",
      "Epoch 51/60\n",
      "3057/3057 [==============================] - 1s 265us/step - loss: 0.1485 - acc: 0.9526\n",
      "Epoch 52/60\n",
      "3057/3057 [==============================] - 1s 285us/step - loss: 0.1505 - acc: 0.9503\n",
      "Epoch 53/60\n",
      "3057/3057 [==============================] - 1s 279us/step - loss: 0.1480 - acc: 0.9506\n",
      "Epoch 54/60\n",
      "3057/3057 [==============================] - 1s 277us/step - loss: 0.1433 - acc: 0.9513\n",
      "Epoch 55/60\n",
      "3057/3057 [==============================] - 1s 269us/step - loss: 0.1421 - acc: 0.9496\n",
      "Epoch 56/60\n",
      "3057/3057 [==============================] - 1s 282us/step - loss: 0.1516 - acc: 0.9480\n",
      "Epoch 57/60\n",
      "3057/3057 [==============================] - 1s 320us/step - loss: 0.1270 - acc: 0.9575\n",
      "Epoch 58/60\n",
      "3057/3057 [==============================] - 1s 336us/step - loss: 0.1413 - acc: 0.9558\n",
      "Epoch 59/60\n",
      "3057/3057 [==============================] - 1s 343us/step - loss: 0.1334 - acc: 0.9555\n",
      "Epoch 60/60\n",
      "3057/3057 [==============================] - 1s 322us/step - loss: 0.1397 - acc: 0.9549\n",
      "CPU times: user 1min 50s, sys: 12.1 s, total: 2min 2s\n",
      "Wall time: 54.6 s\n"
     ]
    },
    {
     "data": {
      "text/plain": [
       "<keras.callbacks.History at 0x1a7b27aa90>"
      ]
     },
     "execution_count": 351,
     "metadata": {},
     "output_type": "execute_result"
    }
   ],
   "source": [
    "%%time\n",
    "\n",
    "# fit training data to model\n",
    "classifier_3.fit(X_train,y_train, batch_size = 15, epochs = 60)"
   ]
  },
  {
   "cell_type": "code",
   "execution_count": 352,
   "metadata": {},
   "outputs": [
    {
     "name": "stdout",
     "output_type": "stream",
     "text": [
      "3057/3057 [==============================] - 2s 557us/step\n"
     ]
    },
    {
     "data": {
      "text/plain": [
       "[0.09575048808007214, 0.9744847890283299]"
      ]
     },
     "execution_count": 352,
     "metadata": {},
     "output_type": "execute_result"
    }
   ],
   "source": [
    "# evaluate loss & metrics values for model\n",
    "classifier_3.evaluate(X_train, y_train) # accuracy near 94% on training data"
   ]
  },
  {
   "cell_type": "code",
   "execution_count": 353,
   "metadata": {},
   "outputs": [],
   "source": [
    "# predict on test data\n",
    "# if prediction is greater than 0.5, output is 1; otherwise, output is 0\n",
    "y_pred_3 = classifier_3.predict(X_test)\n",
    "y_pred_3 = (y_pred_3 > 0.5)"
   ]
  },
  {
   "cell_type": "code",
   "execution_count": 354,
   "metadata": {},
   "outputs": [
    {
     "data": {
      "text/plain": [
       "array([[160, 299],\n",
       "       [185, 667]])"
      ]
     },
     "execution_count": 354,
     "metadata": {},
     "output_type": "execute_result"
    }
   ],
   "source": [
    "# accuracy on test: ~63%\n",
    "confusion_matrix(y_test, y_pred_3) # TP + TN = 858; 858/1311 total = ~63% accurate"
   ]
  },
  {
   "cell_type": "markdown",
   "metadata": {},
   "source": [
    "#### Instance 4\n",
    "11 layers of 15 nodes mapping to 1 target variable"
   ]
  },
  {
   "cell_type": "code",
   "execution_count": 398,
   "metadata": {},
   "outputs": [],
   "source": [
    "# instantiate classifier 4\n",
    "classifier_4 = Sequential()"
   ]
  },
  {
   "cell_type": "code",
   "execution_count": 399,
   "metadata": {},
   "outputs": [],
   "source": [
    "# hidden layer 1\n",
    "classifier_4.add(Dense(15, activation = 'relu', kernel_initializer = 'random_normal', input_dim = 165))\n",
    "classifier_4.add(Dropout(0.1))\n",
    "\n",
    "# hidden layer 2\n",
    "classifier_4.add(Dense(15, activation = 'relu', kernel_initializer = 'random_normal'))\n",
    "classifier_4.add(Dropout(0.1))\n",
    "\n",
    "# hidden layer 3\n",
    "classifier_4.add(Dense(15, activation = 'relu', kernel_initializer = 'random_normal'))\n",
    "classifier_4.add(Dropout(0.1))\n",
    "\n",
    "# hidden layer 4\n",
    "classifier_4.add(Dense(15, activation = 'relu', kernel_initializer = 'random_normal'))\n",
    "classifier_4.add(Dropout(0.1))\n",
    "\n",
    "# hidden layer 5\n",
    "classifier_4.add(Dense(15, activation = 'relu', kernel_initializer = 'random_normal'))\n",
    "classifier_4.add(Dropout(0.1))\n",
    "\n",
    "# hidden layer 6\n",
    "classifier_4.add(Dense(15, activation = 'relu', kernel_initializer = 'random_normal'))\n",
    "classifier_4.add(Dropout(0.1))\n",
    "\n",
    "# hidden layer 7\n",
    "classifier_4.add(Dense(15, activation = 'relu', kernel_initializer = 'random_normal'))\n",
    "classifier_4.add(Dropout(0.1))\n",
    "\n",
    "# hidden layer 8\n",
    "classifier_4.add(Dense(15, activation = 'relu', kernel_initializer = 'random_normal'))\n",
    "classifier_4.add(Dropout(0.1))\n",
    "\n",
    "# hidden layer 9\n",
    "classifier_4.add(Dense(15, activation = 'relu', kernel_initializer = 'random_normal'))\n",
    "classifier_4.add(Dropout(0.1))\n",
    "\n",
    "# hidden layer 10\n",
    "classifier_4.add(Dense(15, activation = 'relu', kernel_initializer = 'random_normal'))\n",
    "classifier_4.add(Dropout(0.1))\n",
    "\n",
    "# hidden layer 11\n",
    "classifier_4.add(Dense(15, activation = 'relu', kernel_initializer = 'random_normal'))\n",
    "classifier_4.add(Dropout(0.1))\n",
    "\n",
    "# output layer\n",
    "classifier_4.add(Dense(1, activation = 'sigmoid', kernel_initializer = 'random_normal'))"
   ]
  },
  {
   "cell_type": "code",
   "execution_count": 400,
   "metadata": {},
   "outputs": [],
   "source": [
    "# compile NN\n",
    "classifier_4.compile(optimizer = 'adam', loss = 'binary_crossentropy', metrics = ['accuracy'])"
   ]
  },
  {
   "cell_type": "code",
   "execution_count": 401,
   "metadata": {},
   "outputs": [
    {
     "name": "stdout",
     "output_type": "stream",
     "text": [
      "Epoch 1/200\n",
      "3057/3057 [==============================] - 8s 3ms/step - loss: 0.6535 - acc: 0.6775\n",
      "Epoch 2/200\n",
      "3057/3057 [==============================] - 1s 405us/step - loss: 0.6302 - acc: 0.6791\n",
      "Epoch 3/200\n",
      "3057/3057 [==============================] - 1s 404us/step - loss: 0.5882 - acc: 0.6791\n",
      "Epoch 4/200\n",
      "3057/3057 [==============================] - 1s 398us/step - loss: 0.5606 - acc: 0.6791\n",
      "Epoch 5/200\n",
      "3057/3057 [==============================] - 1s 401us/step - loss: 0.5569 - acc: 0.6791\n",
      "Epoch 6/200\n",
      "3057/3057 [==============================] - 1s 437us/step - loss: 0.5493 - acc: 0.6791\n",
      "Epoch 7/200\n",
      "3057/3057 [==============================] - 1s 394us/step - loss: 0.5394 - acc: 0.6791\n",
      "Epoch 8/200\n",
      "3057/3057 [==============================] - 1s 391us/step - loss: 0.5347 - acc: 0.6791\n",
      "Epoch 9/200\n",
      "3057/3057 [==============================] - 1s 397us/step - loss: 0.5307 - acc: 0.6791\n",
      "Epoch 10/200\n",
      "3057/3057 [==============================] - 1s 400us/step - loss: 0.5318 - acc: 0.6791\n",
      "Epoch 11/200\n",
      "3057/3057 [==============================] - 1s 400us/step - loss: 0.5204 - acc: 0.6791\n",
      "Epoch 12/200\n",
      "3057/3057 [==============================] - 1s 422us/step - loss: 0.5235 - acc: 0.6791\n",
      "Epoch 13/200\n",
      "3057/3057 [==============================] - 1s 404us/step - loss: 0.5110 - acc: 0.6791\n",
      "Epoch 14/200\n",
      "3057/3057 [==============================] - 1s 401us/step - loss: 0.5079 - acc: 0.6791\n",
      "Epoch 15/200\n",
      "3057/3057 [==============================] - 1s 410us/step - loss: 0.5048 - acc: 0.6791\n",
      "Epoch 16/200\n",
      "3057/3057 [==============================] - 1s 402us/step - loss: 0.4983 - acc: 0.6791\n",
      "Epoch 17/200\n",
      "3057/3057 [==============================] - 1s 405us/step - loss: 0.4917 - acc: 0.6791\n",
      "Epoch 18/200\n",
      "3057/3057 [==============================] - 1s 401us/step - loss: 0.4946 - acc: 0.6791\n",
      "Epoch 19/200\n",
      "3057/3057 [==============================] - 1s 407us/step - loss: 0.4839 - acc: 0.6775\n",
      "Epoch 20/200\n",
      "3057/3057 [==============================] - 1s 404us/step - loss: 0.4803 - acc: 0.6830\n",
      "Epoch 21/200\n",
      "3057/3057 [==============================] - 1s 403us/step - loss: 0.4721 - acc: 0.6945\n",
      "Epoch 22/200\n",
      "3057/3057 [==============================] - 1s 403us/step - loss: 0.4752 - acc: 0.6987\n",
      "Epoch 23/200\n",
      "3057/3057 [==============================] - 1s 402us/step - loss: 0.4742 - acc: 0.6987\n",
      "Epoch 24/200\n",
      "3057/3057 [==============================] - 1s 407us/step - loss: 0.4645 - acc: 0.6974\n",
      "Epoch 25/200\n",
      "3057/3057 [==============================] - 1s 403us/step - loss: 0.4703 - acc: 0.7125\n",
      "Epoch 26/200\n",
      "3057/3057 [==============================] - 1s 412us/step - loss: 0.4695 - acc: 0.6961\n",
      "Epoch 27/200\n",
      "3057/3057 [==============================] - 1s 404us/step - loss: 0.4589 - acc: 0.7020\n",
      "Epoch 28/200\n",
      "3057/3057 [==============================] - 1s 409us/step - loss: 0.4609 - acc: 0.7134\n",
      "Epoch 29/200\n",
      "3057/3057 [==============================] - 1s 408us/step - loss: 0.4564 - acc: 0.7079\n",
      "Epoch 30/200\n",
      "3057/3057 [==============================] - 1s 407us/step - loss: 0.4569 - acc: 0.7092\n",
      "Epoch 31/200\n",
      "3057/3057 [==============================] - 1s 409us/step - loss: 0.4508 - acc: 0.7105\n",
      "Epoch 32/200\n",
      "3057/3057 [==============================] - 1s 413us/step - loss: 0.4611 - acc: 0.7053\n",
      "Epoch 33/200\n",
      "3057/3057 [==============================] - 1s 412us/step - loss: 0.4561 - acc: 0.7092\n",
      "Epoch 34/200\n",
      "3057/3057 [==============================] - 1s 414us/step - loss: 0.4448 - acc: 0.7167\n",
      "Epoch 35/200\n",
      "3057/3057 [==============================] - 1s 415us/step - loss: 0.4515 - acc: 0.7115\n",
      "Epoch 36/200\n",
      "3057/3057 [==============================] - 1s 418us/step - loss: 0.4523 - acc: 0.7174\n",
      "Epoch 37/200\n",
      "3057/3057 [==============================] - 1s 415us/step - loss: 0.4539 - acc: 0.7161\n",
      "Epoch 38/200\n",
      "3057/3057 [==============================] - 1s 416us/step - loss: 0.4543 - acc: 0.7203\n",
      "Epoch 39/200\n",
      "3057/3057 [==============================] - 1s 414us/step - loss: 0.4500 - acc: 0.7239\n",
      "Epoch 40/200\n",
      "3057/3057 [==============================] - 1s 416us/step - loss: 0.4437 - acc: 0.7180\n",
      "Epoch 41/200\n",
      "3057/3057 [==============================] - 1s 414us/step - loss: 0.4361 - acc: 0.7321\n",
      "Epoch 42/200\n",
      "3057/3057 [==============================] - 1s 415us/step - loss: 0.4420 - acc: 0.7252\n",
      "Epoch 43/200\n",
      "3057/3057 [==============================] - 1s 425us/step - loss: 0.4451 - acc: 0.7278\n",
      "Epoch 44/200\n",
      "3057/3057 [==============================] - 1s 426us/step - loss: 0.4451 - acc: 0.7259\n",
      "Epoch 45/200\n",
      "3057/3057 [==============================] - 1s 424us/step - loss: 0.4412 - acc: 0.7291\n",
      "Epoch 46/200\n",
      "3057/3057 [==============================] - 1s 427us/step - loss: 0.4452 - acc: 0.7242\n",
      "Epoch 47/200\n",
      "3057/3057 [==============================] - 1s 426us/step - loss: 0.4329 - acc: 0.7282\n",
      "Epoch 48/200\n",
      "3057/3057 [==============================] - 1s 432us/step - loss: 0.4390 - acc: 0.7265\n",
      "Epoch 49/200\n",
      "3057/3057 [==============================] - 1s 431us/step - loss: 0.4369 - acc: 0.7337\n",
      "Epoch 50/200\n",
      "3057/3057 [==============================] - 1s 420us/step - loss: 0.4395 - acc: 0.7255\n",
      "Epoch 51/200\n",
      "3057/3057 [==============================] - 1s 417us/step - loss: 0.4367 - acc: 0.7308\n",
      "Epoch 52/200\n",
      "3057/3057 [==============================] - 1s 423us/step - loss: 0.4332 - acc: 0.7314\n",
      "Epoch 53/200\n",
      "3057/3057 [==============================] - 1s 424us/step - loss: 0.4266 - acc: 0.7334\n",
      "Epoch 54/200\n",
      "3057/3057 [==============================] - 1s 416us/step - loss: 0.4289 - acc: 0.7354\n",
      "Epoch 55/200\n",
      "3057/3057 [==============================] - 1s 417us/step - loss: 0.4374 - acc: 0.7334\n",
      "Epoch 56/200\n",
      "3057/3057 [==============================] - 1s 423us/step - loss: 0.4310 - acc: 0.7377\n",
      "Epoch 57/200\n",
      "3057/3057 [==============================] - 1s 414us/step - loss: 0.4290 - acc: 0.7334\n",
      "Epoch 58/200\n",
      "3057/3057 [==============================] - 1s 418us/step - loss: 0.4271 - acc: 0.7350\n",
      "Epoch 59/200\n",
      "3057/3057 [==============================] - 1s 420us/step - loss: 0.4265 - acc: 0.7350\n",
      "Epoch 60/200\n",
      "3057/3057 [==============================] - 1s 418us/step - loss: 0.4272 - acc: 0.7334\n",
      "Epoch 61/200\n",
      "3057/3057 [==============================] - 1s 418us/step - loss: 0.4303 - acc: 0.7327\n",
      "Epoch 62/200\n",
      "3057/3057 [==============================] - 1s 420us/step - loss: 0.4247 - acc: 0.7337\n",
      "Epoch 63/200\n",
      "3057/3057 [==============================] - 1s 425us/step - loss: 0.4328 - acc: 0.7324\n",
      "Epoch 64/200\n",
      "3057/3057 [==============================] - 1s 421us/step - loss: 0.4249 - acc: 0.7305\n",
      "Epoch 65/200\n",
      "3057/3057 [==============================] - 1s 415us/step - loss: 0.4257 - acc: 0.7383\n",
      "Epoch 66/200\n",
      "3057/3057 [==============================] - 1s 424us/step - loss: 0.4238 - acc: 0.7409\n",
      "Epoch 67/200\n",
      "3057/3057 [==============================] - 1s 419us/step - loss: 0.4208 - acc: 0.7406\n",
      "Epoch 68/200\n",
      "3057/3057 [==============================] - 1s 416us/step - loss: 0.4164 - acc: 0.7429\n",
      "Epoch 69/200\n",
      "3057/3057 [==============================] - 1s 441us/step - loss: 0.4210 - acc: 0.7396\n",
      "Epoch 70/200\n",
      "3057/3057 [==============================] - 1s 441us/step - loss: 0.4118 - acc: 0.7419\n",
      "Epoch 71/200\n",
      "3057/3057 [==============================] - 1s 419us/step - loss: 0.4217 - acc: 0.7462\n",
      "Epoch 72/200\n",
      "3057/3057 [==============================] - 1s 424us/step - loss: 0.4208 - acc: 0.7448\n",
      "Epoch 73/200\n",
      "3057/3057 [==============================] - 1s 421us/step - loss: 0.4154 - acc: 0.7484\n",
      "Epoch 74/200\n",
      "3057/3057 [==============================] - 1s 419us/step - loss: 0.4093 - acc: 0.7494\n",
      "Epoch 75/200\n",
      "3057/3057 [==============================] - 1s 417us/step - loss: 0.4120 - acc: 0.7478\n",
      "Epoch 76/200\n",
      "3057/3057 [==============================] - 1s 427us/step - loss: 0.4174 - acc: 0.7442\n",
      "Epoch 77/200\n",
      "3057/3057 [==============================] - 1s 418us/step - loss: 0.4080 - acc: 0.7458\n",
      "Epoch 78/200\n",
      "3057/3057 [==============================] - 1s 421us/step - loss: 0.4110 - acc: 0.7491\n",
      "Epoch 79/200\n",
      "3057/3057 [==============================] - 1s 421us/step - loss: 0.4087 - acc: 0.7524\n",
      "Epoch 80/200\n",
      "3057/3057 [==============================] - 1s 413us/step - loss: 0.4031 - acc: 0.7573\n",
      "Epoch 81/200\n",
      "3057/3057 [==============================] - 1s 415us/step - loss: 0.4140 - acc: 0.7429\n",
      "Epoch 82/200\n"
     ]
    },
    {
     "name": "stdout",
     "output_type": "stream",
     "text": [
      "3057/3057 [==============================] - 1s 404us/step - loss: 0.4125 - acc: 0.7498\n",
      "Epoch 83/200\n",
      "3057/3057 [==============================] - 1s 401us/step - loss: 0.4082 - acc: 0.7537\n",
      "Epoch 84/200\n",
      "3057/3057 [==============================] - 1s 400us/step - loss: 0.4080 - acc: 0.7491\n",
      "Epoch 85/200\n",
      "3057/3057 [==============================] - 1s 398us/step - loss: 0.4075 - acc: 0.7553\n",
      "Epoch 86/200\n",
      "3057/3057 [==============================] - 1s 399us/step - loss: 0.4057 - acc: 0.7570\n",
      "Epoch 87/200\n",
      "3057/3057 [==============================] - 1s 398us/step - loss: 0.4004 - acc: 0.7576\n",
      "Epoch 88/200\n",
      "3057/3057 [==============================] - 1s 400us/step - loss: 0.4143 - acc: 0.7524\n",
      "Epoch 89/200\n",
      "3057/3057 [==============================] - 1s 399us/step - loss: 0.3994 - acc: 0.7556\n",
      "Epoch 90/200\n",
      "3057/3057 [==============================] - 1s 398us/step - loss: 0.4089 - acc: 0.7599\n",
      "Epoch 91/200\n",
      "3057/3057 [==============================] - 1s 400us/step - loss: 0.3978 - acc: 0.7632\n",
      "Epoch 92/200\n",
      "3057/3057 [==============================] - 1s 398us/step - loss: 0.3963 - acc: 0.7655\n",
      "Epoch 93/200\n",
      "3057/3057 [==============================] - 1s 398us/step - loss: 0.4053 - acc: 0.7615\n",
      "Epoch 94/200\n",
      "3057/3057 [==============================] - 1s 400us/step - loss: 0.3889 - acc: 0.7700\n",
      "Epoch 95/200\n",
      "3057/3057 [==============================] - 1s 401us/step - loss: 0.3919 - acc: 0.7674\n",
      "Epoch 96/200\n",
      "3057/3057 [==============================] - 1s 398us/step - loss: 0.3967 - acc: 0.7641\n",
      "Epoch 97/200\n",
      "3057/3057 [==============================] - 1s 398us/step - loss: 0.3924 - acc: 0.7658\n",
      "Epoch 98/200\n",
      "3057/3057 [==============================] - 1s 398us/step - loss: 0.4120 - acc: 0.7599\n",
      "Epoch 99/200\n",
      "3057/3057 [==============================] - 1s 400us/step - loss: 0.3923 - acc: 0.7677\n",
      "Epoch 100/200\n",
      "3057/3057 [==============================] - 1s 398us/step - loss: 0.3913 - acc: 0.7658\n",
      "Epoch 101/200\n",
      "3057/3057 [==============================] - 1s 397us/step - loss: 0.3981 - acc: 0.7641\n",
      "Epoch 102/200\n",
      "3057/3057 [==============================] - 1s 398us/step - loss: 0.4004 - acc: 0.7645\n",
      "Epoch 103/200\n",
      "3057/3057 [==============================] - 1s 400us/step - loss: 0.3949 - acc: 0.7707\n",
      "Epoch 104/200\n",
      "3057/3057 [==============================] - 1s 399us/step - loss: 0.3848 - acc: 0.7782\n",
      "Epoch 105/200\n",
      "3057/3057 [==============================] - 1s 400us/step - loss: 0.3840 - acc: 0.7707\n",
      "Epoch 106/200\n",
      "3057/3057 [==============================] - 1s 400us/step - loss: 0.3966 - acc: 0.7691\n",
      "Epoch 107/200\n",
      "3057/3057 [==============================] - 1s 398us/step - loss: 0.3895 - acc: 0.7655\n",
      "Epoch 108/200\n",
      "3057/3057 [==============================] - 1s 401us/step - loss: 0.3853 - acc: 0.7779\n",
      "Epoch 109/200\n",
      "3057/3057 [==============================] - 1s 397us/step - loss: 0.3849 - acc: 0.7736\n",
      "Epoch 110/200\n",
      "3057/3057 [==============================] - 1s 403us/step - loss: 0.3889 - acc: 0.7723\n",
      "Epoch 111/200\n",
      "3057/3057 [==============================] - 1s 404us/step - loss: 0.3911 - acc: 0.7740\n",
      "Epoch 112/200\n",
      "3057/3057 [==============================] - 1s 404us/step - loss: 0.3867 - acc: 0.7782\n",
      "Epoch 113/200\n",
      "3057/3057 [==============================] - 1s 395us/step - loss: 0.3838 - acc: 0.7713\n",
      "Epoch 114/200\n",
      "3057/3057 [==============================] - 1s 396us/step - loss: 0.3872 - acc: 0.7681\n",
      "Epoch 115/200\n",
      "3057/3057 [==============================] - 1s 396us/step - loss: 0.3964 - acc: 0.7684\n",
      "Epoch 116/200\n",
      "3057/3057 [==============================] - 1s 402us/step - loss: 0.3906 - acc: 0.7697\n",
      "Epoch 117/200\n",
      "3057/3057 [==============================] - 1s 404us/step - loss: 0.3922 - acc: 0.7733\n",
      "Epoch 118/200\n",
      "3057/3057 [==============================] - 1s 403us/step - loss: 0.3872 - acc: 0.7746\n",
      "Epoch 119/200\n",
      "3057/3057 [==============================] - 1s 393us/step - loss: 0.3892 - acc: 0.7756\n",
      "Epoch 120/200\n",
      "3057/3057 [==============================] - 1s 396us/step - loss: 0.3898 - acc: 0.7776\n",
      "Epoch 121/200\n",
      "3057/3057 [==============================] - 1s 395us/step - loss: 0.3857 - acc: 0.7740\n",
      "Epoch 122/200\n",
      "3057/3057 [==============================] - 1s 399us/step - loss: 0.3818 - acc: 0.7730\n",
      "Epoch 123/200\n",
      "3057/3057 [==============================] - 1s 405us/step - loss: 0.3829 - acc: 0.7812\n",
      "Epoch 124/200\n",
      "3057/3057 [==============================] - 1s 404us/step - loss: 0.3833 - acc: 0.7769\n",
      "Epoch 125/200\n",
      "3057/3057 [==============================] - 1s 399us/step - loss: 0.3802 - acc: 0.7808\n",
      "Epoch 126/200\n",
      "3057/3057 [==============================] - 1s 395us/step - loss: 0.3823 - acc: 0.7779\n",
      "Epoch 127/200\n",
      "3057/3057 [==============================] - 1s 397us/step - loss: 0.3838 - acc: 0.7789\n",
      "Epoch 128/200\n",
      "3057/3057 [==============================] - 1s 403us/step - loss: 0.3772 - acc: 0.7782\n",
      "Epoch 129/200\n",
      "3057/3057 [==============================] - 1s 404us/step - loss: 0.3782 - acc: 0.7802\n",
      "Epoch 130/200\n",
      "3057/3057 [==============================] - 1s 403us/step - loss: 0.3794 - acc: 0.7769\n",
      "Epoch 131/200\n",
      "3057/3057 [==============================] - 1s 398us/step - loss: 0.3764 - acc: 0.7782\n",
      "Epoch 132/200\n",
      "3057/3057 [==============================] - 1s 396us/step - loss: 0.3860 - acc: 0.7792\n",
      "Epoch 133/200\n",
      "3057/3057 [==============================] - 1s 400us/step - loss: 0.3860 - acc: 0.7727\n",
      "Epoch 134/200\n",
      "3057/3057 [==============================] - 1s 404us/step - loss: 0.3805 - acc: 0.7795\n",
      "Epoch 135/200\n",
      "3057/3057 [==============================] - 1s 403us/step - loss: 0.3783 - acc: 0.7746\n",
      "Epoch 136/200\n",
      "3057/3057 [==============================] - 1s 402us/step - loss: 0.3828 - acc: 0.7677\n",
      "Epoch 137/200\n",
      "3057/3057 [==============================] - 1s 409us/step - loss: 0.3874 - acc: 0.7707\n",
      "Epoch 138/200\n",
      "3057/3057 [==============================] - 1s 394us/step - loss: 0.3813 - acc: 0.7759\n",
      "Epoch 139/200\n",
      "3057/3057 [==============================] - 1s 412us/step - loss: 0.3747 - acc: 0.7844\n",
      "Epoch 140/200\n",
      "3057/3057 [==============================] - 1s 414us/step - loss: 0.3829 - acc: 0.7740\n",
      "Epoch 141/200\n",
      "3057/3057 [==============================] - 1s 414us/step - loss: 0.3861 - acc: 0.7749\n",
      "Epoch 142/200\n",
      "3057/3057 [==============================] - 1s 410us/step - loss: 0.3736 - acc: 0.7828\n",
      "Epoch 143/200\n",
      "3057/3057 [==============================] - 1s 409us/step - loss: 0.3767 - acc: 0.7834\n",
      "Epoch 144/200\n",
      "3057/3057 [==============================] - 1s 413us/step - loss: 0.3825 - acc: 0.7779\n",
      "Epoch 145/200\n",
      "3057/3057 [==============================] - 1s 412us/step - loss: 0.3764 - acc: 0.7841\n",
      "Epoch 146/200\n",
      "3057/3057 [==============================] - 1s 401us/step - loss: 0.3791 - acc: 0.7831\n",
      "Epoch 147/200\n",
      "3057/3057 [==============================] - 1s 409us/step - loss: 0.3754 - acc: 0.7815\n",
      "Epoch 148/200\n",
      "3057/3057 [==============================] - 1s 406us/step - loss: 0.3789 - acc: 0.7805\n",
      "Epoch 149/200\n",
      "3057/3057 [==============================] - 1s 406us/step - loss: 0.3864 - acc: 0.7638\n",
      "Epoch 150/200\n",
      "3057/3057 [==============================] - 1s 398us/step - loss: 0.3774 - acc: 0.7795\n",
      "Epoch 151/200\n",
      "3057/3057 [==============================] - 1s 398us/step - loss: 0.3774 - acc: 0.7812\n",
      "Epoch 152/200\n",
      "3057/3057 [==============================] - 1s 400us/step - loss: 0.3773 - acc: 0.7795\n",
      "Epoch 153/200\n",
      "3057/3057 [==============================] - 1s 406us/step - loss: 0.3814 - acc: 0.7821\n",
      "Epoch 154/200\n",
      "3057/3057 [==============================] - 1s 404us/step - loss: 0.3778 - acc: 0.7828\n",
      "Epoch 155/200\n",
      "3057/3057 [==============================] - 1s 407us/step - loss: 0.3725 - acc: 0.7857\n",
      "Epoch 156/200\n",
      "3057/3057 [==============================] - 1s 402us/step - loss: 0.3787 - acc: 0.7825\n",
      "Epoch 157/200\n",
      "3057/3057 [==============================] - 1s 397us/step - loss: 0.3715 - acc: 0.7821\n",
      "Epoch 158/200\n",
      "3057/3057 [==============================] - 1s 398us/step - loss: 0.3733 - acc: 0.7825\n",
      "Epoch 159/200\n",
      "3057/3057 [==============================] - 1s 407us/step - loss: 0.3794 - acc: 0.7870\n",
      "Epoch 160/200\n",
      "3057/3057 [==============================] - 1s 409us/step - loss: 0.3745 - acc: 0.7854\n",
      "Epoch 161/200\n",
      "3057/3057 [==============================] - 1s 409us/step - loss: 0.3697 - acc: 0.7887\n",
      "Epoch 162/200\n"
     ]
    },
    {
     "name": "stdout",
     "output_type": "stream",
     "text": [
      "3057/3057 [==============================] - 1s 401us/step - loss: 0.3697 - acc: 0.7884\n",
      "Epoch 163/200\n",
      "3057/3057 [==============================] - 1s 393us/step - loss: 0.3694 - acc: 0.7857\n",
      "Epoch 164/200\n",
      "3057/3057 [==============================] - 1s 395us/step - loss: 0.3657 - acc: 0.7929\n",
      "Epoch 165/200\n",
      "3057/3057 [==============================] - 1s 392us/step - loss: 0.3753 - acc: 0.7884\n",
      "Epoch 166/200\n",
      "3057/3057 [==============================] - 1s 400us/step - loss: 0.3727 - acc: 0.7910\n",
      "Epoch 167/200\n",
      "3057/3057 [==============================] - 1s 404us/step - loss: 0.3709 - acc: 0.7890\n",
      "Epoch 168/200\n",
      "3057/3057 [==============================] - 1s 404us/step - loss: 0.3682 - acc: 0.7874\n",
      "Epoch 169/200\n",
      "3057/3057 [==============================] - 1s 398us/step - loss: 0.3818 - acc: 0.7756\n",
      "Epoch 170/200\n",
      "3057/3057 [==============================] - 1s 393us/step - loss: 0.3707 - acc: 0.7913\n",
      "Epoch 171/200\n",
      "3057/3057 [==============================] - 1s 393us/step - loss: 0.3695 - acc: 0.7893\n",
      "Epoch 172/200\n",
      "3057/3057 [==============================] - 1s 404us/step - loss: 0.3675 - acc: 0.7884\n",
      "Epoch 173/200\n",
      "3057/3057 [==============================] - 1s 405us/step - loss: 0.3671 - acc: 0.7942\n",
      "Epoch 174/200\n",
      "3057/3057 [==============================] - 1s 402us/step - loss: 0.3683 - acc: 0.7942\n",
      "Epoch 175/200\n",
      "3057/3057 [==============================] - 1s 400us/step - loss: 0.3637 - acc: 0.7916\n",
      "Epoch 176/200\n",
      "3057/3057 [==============================] - 1s 395us/step - loss: 0.3661 - acc: 0.7926\n",
      "Epoch 177/200\n",
      "3057/3057 [==============================] - 1s 396us/step - loss: 0.3577 - acc: 0.7965\n",
      "Epoch 178/200\n",
      "3057/3057 [==============================] - 1s 403us/step - loss: 0.3736 - acc: 0.7939\n",
      "Epoch 179/200\n",
      "3057/3057 [==============================] - 1s 403us/step - loss: 0.3652 - acc: 0.7942\n",
      "Epoch 180/200\n",
      "3057/3057 [==============================] - 1s 405us/step - loss: 0.3649 - acc: 0.7942\n",
      "Epoch 181/200\n",
      "3057/3057 [==============================] - 1s 404us/step - loss: 0.3677 - acc: 0.7929\n",
      "Epoch 182/200\n",
      "3057/3057 [==============================] - 1s 398us/step - loss: 0.3667 - acc: 0.7939\n",
      "Epoch 183/200\n",
      "3057/3057 [==============================] - 1s 396us/step - loss: 0.3656 - acc: 0.7920\n",
      "Epoch 184/200\n",
      "3057/3057 [==============================] - 1s 396us/step - loss: 0.3738 - acc: 0.7897\n",
      "Epoch 185/200\n",
      "3057/3057 [==============================] - 1s 403us/step - loss: 0.3669 - acc: 0.7926\n",
      "Epoch 186/200\n",
      "3057/3057 [==============================] - 1s 404us/step - loss: 0.3625 - acc: 0.7949\n",
      "Epoch 187/200\n",
      "3057/3057 [==============================] - 1s 402us/step - loss: 0.3679 - acc: 0.7946\n",
      "Epoch 188/200\n",
      "3057/3057 [==============================] - 1s 408us/step - loss: 0.3742 - acc: 0.7887\n",
      "Epoch 189/200\n",
      "3057/3057 [==============================] - 1s 404us/step - loss: 0.3600 - acc: 0.7956\n",
      "Epoch 190/200\n",
      "3057/3057 [==============================] - 1s 393us/step - loss: 0.3662 - acc: 0.7893\n",
      "Epoch 191/200\n",
      "3057/3057 [==============================] - 1s 395us/step - loss: 0.3696 - acc: 0.7890\n",
      "Epoch 192/200\n",
      "3057/3057 [==============================] - 1s 401us/step - loss: 0.3591 - acc: 0.7985\n",
      "Epoch 193/200\n",
      "3057/3057 [==============================] - 1s 410us/step - loss: 0.3607 - acc: 0.7946\n",
      "Epoch 194/200\n",
      "3057/3057 [==============================] - 1s 404us/step - loss: 0.3652 - acc: 0.7880\n",
      "Epoch 195/200\n",
      "3057/3057 [==============================] - 1s 403us/step - loss: 0.3706 - acc: 0.7985\n",
      "Epoch 196/200\n",
      "3057/3057 [==============================] - 1s 406us/step - loss: 0.3597 - acc: 0.7965\n",
      "Epoch 197/200\n",
      "3057/3057 [==============================] - 1s 400us/step - loss: 0.3718 - acc: 0.7897\n",
      "Epoch 198/200\n",
      "3057/3057 [==============================] - 1s 394us/step - loss: 0.3700 - acc: 0.7897\n",
      "Epoch 199/200\n",
      "3057/3057 [==============================] - 1s 397us/step - loss: 0.3624 - acc: 0.7975\n",
      "Epoch 200/200\n",
      "3057/3057 [==============================] - 1s 405us/step - loss: 0.3701 - acc: 0.7913\n",
      "CPU times: user 9min, sys: 1min, total: 10min 1s\n",
      "Wall time: 4min 16s\n"
     ]
    },
    {
     "data": {
      "text/plain": [
       "<keras.callbacks.History at 0x1a87806160>"
      ]
     },
     "execution_count": 401,
     "metadata": {},
     "output_type": "execute_result"
    }
   ],
   "source": [
    "%%time\n",
    "\n",
    "# fit training data to model\n",
    "classifier_4.fit(X_train,y_train, batch_size = 15, epochs = 200)"
   ]
  },
  {
   "cell_type": "code",
   "execution_count": 402,
   "metadata": {},
   "outputs": [
    {
     "name": "stdout",
     "output_type": "stream",
     "text": [
      "3057/3057 [==============================] - 2s 797us/step\n"
     ]
    },
    {
     "data": {
      "text/plain": [
       "[0.3397591671095122, 0.812234216571673]"
      ]
     },
     "execution_count": 402,
     "metadata": {},
     "output_type": "execute_result"
    }
   ],
   "source": [
    "# evaluate loss & metrics values for model\n",
    "classifier_4.evaluate(X_train, y_train) # accuracy near 91% on training data"
   ]
  },
  {
   "cell_type": "code",
   "execution_count": 403,
   "metadata": {},
   "outputs": [],
   "source": [
    "# predict on test data\n",
    "# if prediction is greater than 0.5, output is 1; otherwise, output is 0\n",
    "y_pred_4 = classifier_4.predict(X_test)\n",
    "y_pred_4 = (y_pred_4 > 0.5)"
   ]
  },
  {
   "cell_type": "code",
   "execution_count": 404,
   "metadata": {},
   "outputs": [
    {
     "data": {
      "text/plain": [
       "array([[295, 164],\n",
       "       [338, 514]])"
      ]
     },
     "execution_count": 404,
     "metadata": {},
     "output_type": "execute_result"
    }
   ],
   "source": [
    "# accuracy on test: ~XX%\n",
    "confusion_matrix(y_test, y_pred_4) # TP + TN = XXX; XXX/1311 total = ~XX% accurate"
   ]
  },
  {
   "cell_type": "markdown",
   "metadata": {},
   "source": [
    "#### Instance 5"
   ]
  },
  {
   "cell_type": "markdown",
   "metadata": {},
   "source": [
    "Grid Search w/ Keras Classifier & 10-fold CV"
   ]
  },
  {
   "cell_type": "code",
   "execution_count": 436,
   "metadata": {},
   "outputs": [],
   "source": [
    "# function to create model\n",
    "\n",
    "def classifier_model():\n",
    "    \n",
    "    # create model\n",
    "    model = Sequential()\n",
    "    \n",
    "    # hidden layer 1\n",
    "    model.add(Dense(33, activation = 'relu', kernel_initializer = 'random_normal', input_dim = 165))\n",
    "    model.add(Dropout(0.1))\n",
    "\n",
    "    # hidden layer 2\n",
    "    model.add(Dense(33, activation = 'relu', kernel_initializer = 'random_normal'))\n",
    "    model.add(Dropout(0.1))\n",
    "\n",
    "    # hidden layer 3\n",
    "    model.add(Dense(33, activation = 'relu', kernel_initializer = 'random_normal'))\n",
    "    model.add(Dropout(0.1))\n",
    "\n",
    "    # hidden layer 4\n",
    "    model.add(Dense(33, activation = 'relu', kernel_initializer = 'random_normal'))\n",
    "    model.add(Dropout(0.1))\n",
    "\n",
    "    # hidden layer 5\n",
    "    model.add(Dense(33, activation = 'relu', kernel_initializer = 'random_normal'))\n",
    "    model.add(Dropout(0.1))\n",
    "\n",
    "    # output layer\n",
    "    model.add(Dense(1, activation = 'sigmoid', kernel_initializer = 'random_normal'))\n",
    "    \n",
    "    # compile model\n",
    "    model.compile(loss='binary_crossentropy', optimizer='adam', metrics=['accuracy'])\n",
    "    \n",
    "    return model"
   ]
  },
  {
   "cell_type": "code",
   "execution_count": 437,
   "metadata": {},
   "outputs": [],
   "source": [
    "# instantiate keras classifier model\n",
    "model = KerasClassifier(build_fn = classifier_model, verbose = 0)"
   ]
  },
  {
   "cell_type": "code",
   "execution_count": 438,
   "metadata": {},
   "outputs": [],
   "source": [
    "# create grid search parameters\n",
    "\n",
    "batches = [10, 15, 20, 25, 30]\n",
    "epochs = [25, 50, 100, 150, 200]\n",
    "\n",
    "params = dict(batch_size = batches, epochs = epochs)"
   ]
  },
  {
   "cell_type": "code",
   "execution_count": 439,
   "metadata": {},
   "outputs": [
    {
     "name": "stdout",
     "output_type": "stream",
     "text": [
      "CPU times: user 8min 2s, sys: 47.3 s, total: 8min 49s\n",
      "Wall time: 2h 4min 53s\n"
     ]
    }
   ],
   "source": [
    "%%time\n",
    "\n",
    "# instantiate the GridSearchCV object and run search\n",
    "grid_search_2 = GridSearchCV(estimator = model, param_grid = params, n_jobs = -1, cv = 10)\n",
    "grid_search_2_fit = grid.fit(X_train, y_train)"
   ]
  },
  {
   "cell_type": "code",
   "execution_count": 443,
   "metadata": {},
   "outputs": [
    {
     "name": "stdout",
     "output_type": "stream",
     "text": [
      "0.6774615658959572 {'batch_size': 10, 'epochs': 200}\n"
     ]
    }
   ],
   "source": [
    "# summarize results\n",
    "print(grid_search_2_fit.best_score_, grid_search_2_fit.best_params_)"
   ]
  },
  {
   "cell_type": "code",
   "execution_count": 445,
   "metadata": {},
   "outputs": [
    {
     "data": {
      "text/plain": [
       "0.6536994710803304"
      ]
     },
     "execution_count": 445,
     "metadata": {},
     "output_type": "execute_result"
    }
   ],
   "source": [
    "# evaluate NN on test set\n",
    "grid_search_2_fit.score(X_test, y_test)"
   ]
  },
  {
   "cell_type": "code",
   "execution_count": null,
   "metadata": {},
   "outputs": [],
   "source": []
  }
 ],
 "metadata": {
  "kernelspec": {
   "display_name": "Python 3",
   "language": "python",
   "name": "python3"
  },
  "language_info": {
   "codemirror_mode": {
    "name": "ipython",
    "version": 3
   },
   "file_extension": ".py",
   "mimetype": "text/x-python",
   "name": "python",
   "nbconvert_exporter": "python",
   "pygments_lexer": "ipython3",
   "version": "3.7.3"
  }
 },
 "nbformat": 4,
 "nbformat_minor": 2
}
