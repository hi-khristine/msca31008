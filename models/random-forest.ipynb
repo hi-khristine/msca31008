{
 "cells": [
  {
   "cell_type": "code",
   "execution_count": 33,
   "metadata": {},
   "outputs": [
    {
     "name": "stdout",
     "output_type": "stream",
     "text": [
      "(3576, 115)\n"
     ]
    }
   ],
   "source": [
    "import os\n",
    "for f in os.listdir('../fun/'): exec(open('../fun/'+f).read())\n",
    "del f\n",
    "\n",
    "# Load data. Change winner to binary 1/0:\n",
    "load( '../out/d3-fight-level-standardize-normalize.pkl' )\n",
    "y[ y == -1 ] = 0\n",
    "print( X.shape )"
   ]
  },
  {
   "cell_type": "code",
   "execution_count": 34,
   "metadata": {},
   "outputs": [],
   "source": [
    "# train test split.\n",
    "from sklearn.model_selection import train_test_split\n",
    "X_train , X_test, y_train, y_test = train_test_split(\n",
    "    X, y, \n",
    "    random_state = 718,\n",
    "    test_size = 0.25\n",
    ")"
   ]
  },
  {
   "cell_type": "code",
   "execution_count": 38,
   "metadata": {},
   "outputs": [
    {
     "data": {
      "text/plain": [
       "RandomForestRegressor(bootstrap=True, criterion='mse', max_depth=None,\n",
       "                      max_features='auto', max_leaf_nodes=None,\n",
       "                      min_impurity_decrease=0.0, min_impurity_split=None,\n",
       "                      min_samples_leaf=0.03, min_samples_split=2,\n",
       "                      min_weight_fraction_leaf=0.0, n_estimators=400,\n",
       "                      n_jobs=None, oob_score=False, random_state=841, verbose=0,\n",
       "                      warm_start=False)"
      ]
     },
     "execution_count": 38,
     "metadata": {},
     "output_type": "execute_result"
    }
   ],
   "source": [
    "# Fit decision tree.\n",
    "from sklearn.ensemble import RandomForestRegressor\n",
    "m = RandomForestRegressor( \n",
    "    n_estimators = 400, \n",
    "    min_samples_leaf = 0.03, \n",
    "    random_state = 841 \n",
    ")\n",
    "m.fit( X_train, y_train )"
   ]
  },
  {
   "cell_type": "code",
   "execution_count": 39,
   "metadata": {},
   "outputs": [
    {
     "name": "stdout",
     "output_type": "stream",
     "text": [
      "              precision    recall  f1-score   support\n",
      "\n",
      "           0       0.76      0.34      0.47       903\n",
      "           1       0.74      0.95      0.83      1779\n",
      "\n",
      "    accuracy                           0.74      2682\n",
      "   macro avg       0.75      0.64      0.65      2682\n",
      "weighted avg       0.75      0.74      0.71      2682\n",
      "\n"
     ]
    }
   ],
   "source": [
    "# accuracy against train data (in-model).\n",
    "from sklearn.metrics import confusion_matrix, classification_report, f1_score, precision_score, recall_score\n",
    "print( classification_report( \n",
    "    y_train, \n",
    "    [ 1 if x > .5 else 0 for x in m.predict(X_train) ] \n",
    "))"
   ]
  },
  {
   "cell_type": "code",
   "execution_count": 40,
   "metadata": {},
   "outputs": [
    {
     "name": "stdout",
     "output_type": "stream",
     "text": [
      "              precision    recall  f1-score   support\n",
      "\n",
      "           0       0.56      0.24      0.34       301\n",
      "           1       0.70      0.90      0.79       593\n",
      "\n",
      "    accuracy                           0.68       894\n",
      "   macro avg       0.63      0.57      0.56       894\n",
      "weighted avg       0.65      0.68      0.64       894\n",
      "\n"
     ]
    }
   ],
   "source": [
    "# accuracy against test data.\n",
    "from sklearn.metrics import confusion_matrix, classification_report, f1_score, precision_score, recall_score\n",
    "print( classification_report( \n",
    "    y_test, \n",
    "    [ 1 if x > .5 else 0 for x in m.predict(X_test) ] \n",
    "))"
   ]
  },
  {
   "cell_type": "markdown",
   "metadata": {},
   "source": [
    "f1-score in-model is higher than on test indicating **over-fitting**. \n",
    "\n",
    "Test-set precision is still not great at 69% (predicting all-wins give 60%)."
   ]
  }
 ],
 "metadata": {
  "kernelspec": {
   "display_name": "Python 3",
   "language": "python",
   "name": "python3"
  },
  "language_info": {
   "codemirror_mode": {
    "name": "ipython",
    "version": 3
   },
   "file_extension": ".py",
   "mimetype": "text/x-python",
   "name": "python",
   "nbconvert_exporter": "python",
   "pygments_lexer": "ipython3",
   "version": "3.7.4"
  }
 },
 "nbformat": 4,
 "nbformat_minor": 2
}
