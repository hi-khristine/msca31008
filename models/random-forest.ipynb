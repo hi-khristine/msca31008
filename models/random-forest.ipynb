{
 "cells": [
  {
   "cell_type": "code",
   "execution_count": 2,
   "metadata": {},
   "outputs": [
    {
     "name": "stdout",
     "output_type": "stream",
     "text": [
      "(2305, 113)\n"
     ]
    }
   ],
   "source": [
    "import os\n",
    "for f in os.listdir('../fun/'): exec(open('../fun/'+f).read())\n",
    "del f\n",
    "\n",
    "# Load data. Change winner to binary 1/0:\n",
    "load( '../out/d3-fight-level-standardize-normalize.pkl' )\n",
    "y[ y == -1 ] = 0\n",
    "print( X.shape )"
   ]
  },
  {
   "cell_type": "code",
   "execution_count": 3,
   "metadata": {},
   "outputs": [],
   "source": [
    "# train test split.\n",
    "from sklearn.model_selection import train_test_split\n",
    "X_train , X_test, y_train, y_test = train_test_split(\n",
    "    X, y, \n",
    "    random_state = 718,\n",
    "    test_size = 0.25\n",
    ")"
   ]
  },
  {
   "cell_type": "code",
   "execution_count": 27,
   "metadata": {},
   "outputs": [
    {
     "data": {
      "text/plain": [
       "RandomForestRegressor(bootstrap=True, criterion='mse', max_depth=None,\n",
       "                      max_features='auto', max_leaf_nodes=None,\n",
       "                      min_impurity_decrease=0.0, min_impurity_split=None,\n",
       "                      min_samples_leaf=0.01, min_samples_split=2,\n",
       "                      min_weight_fraction_leaf=0.0, n_estimators=400,\n",
       "                      n_jobs=None, oob_score=False, random_state=841, verbose=0,\n",
       "                      warm_start=False)"
      ]
     },
     "execution_count": 27,
     "metadata": {},
     "output_type": "execute_result"
    }
   ],
   "source": [
    "# Fit decision tree.\n",
    "from sklearn.ensemble import RandomForestRegressor\n",
    "m = RandomForestRegressor( \n",
    "    n_estimators = 400, \n",
    "    min_samples_leaf = 0.01, \n",
    "    random_state = 841 \n",
    ")\n",
    "m.fit( X_train, y_train )"
   ]
  },
  {
   "cell_type": "code",
   "execution_count": 28,
   "metadata": {},
   "outputs": [
    {
     "name": "stdout",
     "output_type": "stream",
     "text": [
      "              precision    recall  f1-score   support\n",
      "\n",
      "           0       0.96      0.69      0.80       625\n",
      "           1       0.85      0.98      0.91      1103\n",
      "\n",
      "    accuracy                           0.88      1728\n",
      "   macro avg       0.90      0.84      0.86      1728\n",
      "weighted avg       0.89      0.88      0.87      1728\n",
      "\n"
     ]
    }
   ],
   "source": [
    "# accuracy against train data (in-model).\n",
    "from sklearn.metrics import confusion_matrix, classification_report, f1_score, precision_score, recall_score\n",
    "print( classification_report( \n",
    "    y_train, \n",
    "    [ 1 if x > .5 else 0 for x in m.predict(X_train) ] \n",
    "))"
   ]
  },
  {
   "cell_type": "code",
   "execution_count": 30,
   "metadata": {},
   "outputs": [
    {
     "name": "stdout",
     "output_type": "stream",
     "text": [
      "              precision    recall  f1-score   support\n",
      "\n",
      "           0       0.60      0.25      0.35       223\n",
      "           1       0.65      0.89      0.76       354\n",
      "\n",
      "    accuracy                           0.64       577\n",
      "   macro avg       0.62      0.57      0.55       577\n",
      "weighted avg       0.63      0.64      0.60       577\n",
      "\n"
     ]
    }
   ],
   "source": [
    "# accuracy against test data.\n",
    "from sklearn.metrics import confusion_matrix, classification_report, f1_score, precision_score, recall_score\n",
    "print( classification_report( \n",
    "    y_test, \n",
    "    [ 1 if x > .5 else 0 for x in m.predict(X_test) ] \n",
    "))"
   ]
  },
  {
   "cell_type": "markdown",
   "metadata": {},
   "source": [
    "f1-score in-model is higher than on test indicating **over-fitting**. \n",
    "\n",
    "Test-set precision is still not great at 69% (predicting all-wins give 60%)."
   ]
  }
 ],
 "metadata": {
  "kernelspec": {
   "display_name": "Python 3",
   "language": "python",
   "name": "python3"
  },
  "language_info": {
   "codemirror_mode": {
    "name": "ipython",
    "version": 3
   },
   "file_extension": ".py",
   "mimetype": "text/x-python",
   "name": "python",
   "nbconvert_exporter": "python",
   "pygments_lexer": "ipython3",
   "version": "3.7.4"
  }
 },
 "nbformat": 4,
 "nbformat_minor": 2
}
