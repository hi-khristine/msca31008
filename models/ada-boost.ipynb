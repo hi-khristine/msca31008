{
 "cells": [
  {
   "cell_type": "code",
   "execution_count": 6,
   "metadata": {},
   "outputs": [
    {
     "name": "stdout",
     "output_type": "stream",
     "text": [
      "(2305, 114)\n"
     ]
    }
   ],
   "source": [
    "import pandas as pd\n",
    "import numpy as np\n",
    "import statsmodels.api as sm\n",
    "\n",
    "# read functions.\n",
    "import os\n",
    "for f in os.listdir('../fun/'): exec(open('../fun/'+f).read())\n",
    "del f\n",
    "\n",
    "# Load data\n",
    "load( '../out/d3-fight-level-transform.pkl' )\n",
    "print( X.shape )"
   ]
  },
  {
   "cell_type": "code",
   "execution_count": 10,
   "metadata": {},
   "outputs": [],
   "source": [
    "# train test split.\n",
    "from sklearn.model_selection import train_test_split\n",
    "X_train , X_test, y_train, y_test = train_test_split(\n",
    "    X, y, \n",
    "    random_state = 744,\n",
    "    test_size = 0.3\n",
    ")"
   ]
  },
  {
   "cell_type": "code",
   "execution_count": 11,
   "metadata": {},
   "outputs": [
    {
     "name": "stdout",
     "output_type": "stream",
     "text": [
      "              precision    recall  f1-score   support\n",
      "\n",
      "           0       0.68      0.57      0.62       585\n",
      "           1       0.78      0.85      0.81      1028\n",
      "\n",
      "    accuracy                           0.75      1613\n",
      "   macro avg       0.73      0.71      0.71      1613\n",
      "weighted avg       0.74      0.75      0.74      1613\n",
      "\n"
     ]
    }
   ],
   "source": [
    "# Fit model.\n",
    "from sklearn.ensemble import AdaBoostClassifier as classifier\n",
    "m = classifier( random_state = 1120 )\n",
    "m.fit( X_train, y_train )\n",
    "\n",
    "# accuracy against train data (in-model).\n",
    "from sklearn.metrics import confusion_matrix, classification_report, f1_score, precision_score, recall_score\n",
    "print( classification_report( y_train, m.predict(X_train) ) )"
   ]
  },
  {
   "cell_type": "code",
   "execution_count": 12,
   "metadata": {},
   "outputs": [
    {
     "name": "stdout",
     "output_type": "stream",
     "text": [
      "              precision    recall  f1-score   support\n",
      "\n",
      "           0       0.45      0.36      0.40       263\n",
      "           1       0.65      0.73      0.69       429\n",
      "\n",
      "    accuracy                           0.59       692\n",
      "   macro avg       0.55      0.54      0.54       692\n",
      "weighted avg       0.57      0.59      0.58       692\n",
      "\n"
     ]
    }
   ],
   "source": [
    "# accuracy against test data.\n",
    "from sklearn.metrics import confusion_matrix, classification_report, f1_score, precision_score, recall_score\n",
    "print( classification_report( y_test, m.predict(X_test) ) )"
   ]
  },
  {
   "cell_type": "markdown",
   "metadata": {},
   "source": [
    "f1-score in-model is higher than on test indicating **over-fitting**. \n",
    "\n",
    "Test-set precision is still not great at 69% (predicting all-wins give 60%)."
   ]
  }
 ],
 "metadata": {
  "kernelspec": {
   "display_name": "Python 3",
   "language": "python",
   "name": "python3"
  },
  "language_info": {
   "codemirror_mode": {
    "name": "ipython",
    "version": 3
   },
   "file_extension": ".py",
   "mimetype": "text/x-python",
   "name": "python",
   "nbconvert_exporter": "python",
   "pygments_lexer": "ipython3",
   "version": "3.7.4"
  }
 },
 "nbformat": 4,
 "nbformat_minor": 2
}
