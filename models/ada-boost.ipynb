{
 "cells": [
  {
   "cell_type": "code",
   "execution_count": 1,
   "metadata": {},
   "outputs": [
    {
     "name": "stdout",
     "output_type": "stream",
     "text": [
      "(3355, 164)\n"
     ]
    }
   ],
   "source": [
    "import pandas as pd\n",
    "import numpy as np\n",
    "import statsmodels.api as sm\n",
    "\n",
    "# read functions.\n",
    "import os, random\n",
    "for f in os.listdir('../fun/'): exec(open('../fun/'+f).read())\n",
    "del f\n",
    "\n",
    "# Load data\n",
    "load( '../out/d3-fight-level-transform.pkl' )\n",
    "print( X.shape )\n",
    "\n",
    "random.seed( 1207 )"
   ]
  },
  {
   "cell_type": "code",
   "execution_count": 2,
   "metadata": {},
   "outputs": [],
   "source": [
    "# train test split.\n",
    "from sklearn.model_selection import train_test_split\n",
    "X_train , X_test, y_train, y_test = train_test_split(\n",
    "    X, y, \n",
    "    random_state = 744,\n",
    "    test_size = 0.3\n",
    ")"
   ]
  },
  {
   "cell_type": "code",
   "execution_count": 7,
   "metadata": {},
   "outputs": [
    {
     "name": "stdout",
     "output_type": "stream",
     "text": [
      "Fitting 6 folds for each of 128 candidates, totalling 768 fits\n"
     ]
    },
    {
     "name": "stderr",
     "output_type": "stream",
     "text": [
      "[Parallel(n_jobs=-1)]: Using backend LokyBackend with 12 concurrent workers.\n",
      "[Parallel(n_jobs=-1)]: Done  26 tasks      | elapsed:   10.2s\n",
      "[Parallel(n_jobs=-1)]: Done 176 tasks      | elapsed:   46.6s\n",
      "[Parallel(n_jobs=-1)]: Done 426 tasks      | elapsed:  1.8min\n",
      "[Parallel(n_jobs=-1)]: Done 768 out of 768 | elapsed:  3.2min finished\n"
     ]
    },
    {
     "name": "stdout",
     "output_type": "stream",
     "text": [
      "{'algorithm': 'SAMME.R', 'learning_rate': 0.9, 'n_estimators': 45}\n",
      "0.6598357913703452\n"
     ]
    }
   ],
   "source": [
    "# run grid search on parameters.    \n",
    "from sklearn.ensemble import AdaBoostClassifier\n",
    "from sklearn.model_selection import GridSearchCV\n",
    "m = AdaBoostClassifier()\n",
    "readpriorgrid = False\n",
    "if ( not readpriorgrid  )  or ( 'grid-randomforest.pkl' not in os.listdir('../out/') ):\n",
    "    grid_adaboost = GridSearchCV(\n",
    "        m, cv = 6, scoring = 'precision', n_jobs = -1, verbose = True,\n",
    "        param_grid = dict(\n",
    "            n_estimators = range( 40, 80, 5 ),\n",
    "            learning_rate  = [ x/100 for x in range( 80, 120, 5 ) ],\n",
    "            algorithm = ['SAMME', 'SAMME.R']\n",
    "        )\n",
    "    )\n",
    "    grid_adaboost.fit( X_train, y_train )\n",
    "    save( '../out/grid-adaboost.pkl', grid_adaboost )\n",
    "else:\n",
    "    load( '../out/grid-adaboost.pkl' )\n",
    "print(grid_adaboost.best_params_)\n",
    "print(grid_adaboost.best_score_)\n",
    "m = grid_adaboost.best_estimator_"
   ]
  },
  {
   "cell_type": "code",
   "execution_count": 9,
   "metadata": {},
   "outputs": [
    {
     "name": "stdout",
     "output_type": "stream",
     "text": [
      "{'fscore': 0.7829432510420007, 'precision': 0.7333333333333333, 'recall': 0.8397524071526823}\n"
     ]
    }
   ],
   "source": [
    "# Fit model and check in-model fit.\n",
    "from sklearn.metrics import f1_score, precision_score, recall_score\n",
    "m.fit( X_train, y_train )\n",
    "p = m.predict(X_train)\n",
    "print({ \n",
    "    'fscore': f1_score( y_train, p ), \n",
    "    'precision': precision_score( y_train, p ), \n",
    "    'recall': recall_score( y_train, p ) \n",
    "})"
   ]
  },
  {
   "cell_type": "code",
   "execution_count": 10,
   "metadata": {},
   "outputs": [
    {
     "name": "stdout",
     "output_type": "stream",
     "text": [
      "{'fscore': 0.7267311988086375, 'precision': 0.7001434720229556, 'recall': 0.7554179566563467}\n"
     ]
    }
   ],
   "source": [
    "# accuracy against test data.\n",
    "p = m.predict(X_test)\n",
    "print( { \n",
    "    'fscore': f1_score( y_test, p ), \n",
    "    'precision': precision_score( y_test, p ), \n",
    "    'recall': recall_score( y_test, p ) \n",
    "} )"
   ]
  },
  {
   "cell_type": "code",
   "execution_count": 11,
   "metadata": {},
   "outputs": [
    {
     "name": "stdout",
     "output_type": "stream",
     "text": [
      "Mean precision: 0.5681560561112227 \n",
      "Mean recall 0.6071428571428571\n"
     ]
    }
   ],
   "source": [
    "from sklearn.model_selection import cross_validate\n",
    "kfold = cross_validate( \n",
    "    m, X, y, \n",
    "    cv = 10, \n",
    "    scoring = [ 'precision', 'recall' ], \n",
    "    n_jobs = -1 \n",
    ")\n",
    "print( \n",
    "  'Mean precision: %s \\nMean recall %s' % \n",
    "  ( kfold['test_precision'].mean(), kfold['test_recall'].mean() ) \n",
    ")"
   ]
  },
  {
   "cell_type": "markdown",
   "metadata": {},
   "source": [
    "f1-score in-model is higher than on test indicating **over-fitting**. \n",
    "\n",
    "Test-set precision is still not great at 69% (predicting all-wins give 60%)."
   ]
  }
 ],
 "metadata": {
  "kernelspec": {
   "display_name": "Python 3",
   "language": "python",
   "name": "python3"
  },
  "language_info": {
   "codemirror_mode": {
    "name": "ipython",
    "version": 3
   },
   "file_extension": ".py",
   "mimetype": "text/x-python",
   "name": "python",
   "nbconvert_exporter": "python",
   "pygments_lexer": "ipython3",
   "version": "3.7.4"
  }
 },
 "nbformat": 4,
 "nbformat_minor": 2
}
