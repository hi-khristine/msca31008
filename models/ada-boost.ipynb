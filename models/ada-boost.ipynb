{
 "cells": [
  {
   "cell_type": "code",
   "execution_count": 1,
   "metadata": {},
   "outputs": [
    {
     "name": "stdout",
     "output_type": "stream",
     "text": [
      "(4091, 161)\n"
     ]
    }
   ],
   "source": [
    "import pandas as pd\n",
    "import numpy as np\n",
    "import statsmodels.api as sm\n",
    "\n",
    "# read functions.\n",
    "import os, random\n",
    "for f in os.listdir('../fun/'): exec(open('../fun/'+f).read())\n",
    "del f\n",
    "\n",
    "# Load data\n",
    "load( '../out/d3-fight-level-transform.pkl' )\n",
    "print( X.shape )\n",
    "\n",
    "random.seed( 1207 )"
   ]
  },
  {
   "cell_type": "code",
   "execution_count": 2,
   "metadata": {},
   "outputs": [],
   "source": [
    "# train test split.\n",
    "from sklearn.model_selection import train_test_split\n",
    "X_train , X_test, y_train, y_test = train_test_split(\n",
    "    X, y, \n",
    "    random_state = 744,\n",
    "    test_size = 0.3\n",
    ")"
   ]
  },
  {
   "cell_type": "code",
   "execution_count": 3,
   "metadata": {},
   "outputs": [
    {
     "name": "stdout",
     "output_type": "stream",
     "text": [
      "Fitting 6 folds for each of 128 candidates, totalling 768 fits\n"
     ]
    },
    {
     "name": "stderr",
     "output_type": "stream",
     "text": [
      "[Parallel(n_jobs=-1)]: Using backend LokyBackend with 12 concurrent workers.\n",
      "[Parallel(n_jobs=-1)]: Done  26 tasks      | elapsed:   14.3s\n",
      "[Parallel(n_jobs=-1)]: Done 176 tasks      | elapsed:  1.0min\n",
      "[Parallel(n_jobs=-1)]: Done 426 tasks      | elapsed:  2.3min\n",
      "[Parallel(n_jobs=-1)]: Done 768 out of 768 | elapsed:  4.2min finished\n"
     ]
    },
    {
     "name": "stdout",
     "output_type": "stream",
     "text": [
      "{'algorithm': 'SAMME', 'learning_rate': 1.0, 'n_estimators': 70}\n",
      "0.6919315403422983\n"
     ]
    }
   ],
   "source": [
    "# run grid search on parameters.    \n",
    "from sklearn.ensemble import AdaBoostClassifier\n",
    "from sklearn.model_selection import GridSearchCV\n",
    "m = AdaBoostClassifier()\n",
    "readpriorgrid = False\n",
    "if ( not readpriorgrid  )  or ( 'grid-adaboost.pkl' not in os.listdir('../out/') ):\n",
    "    grid_adaboost = GridSearchCV(\n",
    "        m, cv = 6, scoring = 'accuracy', n_jobs = -1, verbose = True,\n",
    "        param_grid = dict(\n",
    "            n_estimators = range( 40, 80, 5 ),\n",
    "            learning_rate  = [ x/100 for x in range( 80, 120, 5 ) ],\n",
    "            algorithm = ['SAMME', 'SAMME.R']\n",
    "        )\n",
    "    )\n",
    "    grid_adaboost.fit( X_train, y_train )\n",
    "    save( '../out/grid-adaboost.pkl', grid_adaboost )\n",
    "else:\n",
    "    load( '../out/grid-adaboost.pkl' )\n",
    "print(grid_adaboost.best_params_)\n",
    "print(grid_adaboost.best_score_)\n",
    "m = grid_adaboost.best_estimator_"
   ]
  },
  {
   "cell_type": "code",
   "execution_count": 4,
   "metadata": {},
   "outputs": [
    {
     "name": "stdout",
     "output_type": "stream",
     "text": [
      "{'fscore': 0.8006740491092923, 'precision': 0.7351900972590628, 'recall': 0.8789640591966174, 'accuracy': 0.7107928746070555}\n"
     ]
    }
   ],
   "source": [
    "# Fit model and check in-model fit.\n",
    "from sklearn.metrics import f1_score, precision_score, recall_score, accuracy_score\n",
    "m.fit( X_train, y_train )\n",
    "p = m.predict(X_train)\n",
    "print({ \n",
    "    'fscore': f1_score( y_train, p ), \n",
    "    'precision': precision_score( y_train, p ), \n",
    "    'recall': recall_score( y_train, p ),\n",
    "    'accuracy': accuracy_score( y_train, p )\n",
    "})"
   ]
  },
  {
   "cell_type": "code",
   "execution_count": 5,
   "metadata": {},
   "outputs": [
    {
     "name": "stdout",
     "output_type": "stream",
     "text": [
      "{'fscore': 0.7626459143968871, 'precision': 0.694331983805668, 'recall': 0.8458692971639951, 'accuracy': 0.6522801302931596}\n"
     ]
    }
   ],
   "source": [
    "# accuracy against test data.\n",
    "p = m.predict(X_test)\n",
    "print( { \n",
    "    'fscore': f1_score( y_test, p ), \n",
    "    'precision': precision_score( y_test, p ), \n",
    "    'recall': recall_score( y_test, p ),\n",
    "    'accuracy': accuracy_score( y_test, p )\n",
    "} )"
   ]
  },
  {
   "cell_type": "code",
   "execution_count": 6,
   "metadata": {},
   "outputs": [
    {
     "name": "stdout",
     "output_type": "stream",
     "text": [
      "Mean precision: 0.7027541492074958 \n",
      "Mean recall 0.8502583025830258 \n",
      " Mean Accuracy 0.6624603610303326\n"
     ]
    }
   ],
   "source": [
    "from sklearn.model_selection import cross_validate\n",
    "kfold = cross_validate( \n",
    "    m, X, y, \n",
    "    cv = 10, \n",
    "    scoring = [ 'precision', 'recall', 'accuracy' ], \n",
    "    n_jobs = -1 \n",
    ")\n",
    "print( \n",
    "  'Mean precision: %s \\nMean recall %s \\n Mean Accuracy %s' % \n",
    "  ( kfold['test_precision'].mean(), kfold['test_recall'].mean(), kfold['test_accuracy'].mean() ) \n",
    ")"
   ]
  },
  {
   "cell_type": "code",
   "execution_count": 7,
   "metadata": {},
   "outputs": [
    {
     "name": "stdout",
     "output_type": "stream",
     "text": [
      "                            feature  importance\n",
      "107                       Mean_odds    0.142725\n",
      "108                       Diff_odds    0.130508\n",
      "2                      no_of_rounds    0.098057\n",
      "122          Diff_total_title_bouts    0.092010\n",
      "85                 Mean_avg_SUB_ATT    0.079342\n",
      "20            Referee_Kevin Mulhall    0.063461\n",
      "87             Mean_avg_opp_SUB_ATT    0.056936\n",
      "127  Mean_win_by_Decision_Unanimous    0.046568\n",
      "144           Diff_avg_opp_BODY_pct    0.045157\n",
      "143           Mean_avg_opp_BODY_pct    0.038568\n",
      "1                      weight_class    0.030650\n",
      "78                   Diff_Reach_cms    0.030441\n",
      "115                     Mean_losses    0.027475\n",
      "90                Diff_avg_BODY_pct    0.025816\n",
      "82                    Diff_avg_PASS    0.022178\n",
      "114         Diff_longest_win_streak    0.020467\n",
      "126      Diff_win_by_Decision_Split    0.015868\n",
      "32         Referee_Steve Mazzagatti    0.015573\n",
      "140               Diff_avg_opp_PASS    0.011392\n",
      "86                 Diff_avg_SUB_ATT    0.003436\n",
      "141                Mean_avg_opp_REV    0.003369\n"
     ]
    }
   ],
   "source": [
    "fi = pd.DataFrame({\n",
    "    'feature': cols,\n",
    "    'importance': m.feature_importances_\n",
    "}).sort_values( 'importance', ascending = False )\n",
    "\n",
    "fi[fi.importance>0].to_csv('ada-feature-import.csv',index=False)\n",
    "\n",
    "print( fi[fi.importance>0] )"
   ]
  },
  {
   "cell_type": "markdown",
   "metadata": {},
   "source": [
    "f1-score in-model is higher than on test indicating **over-fitting**. \n",
    "\n",
    "Test-set precision is still not great at 69% (predicting all-wins give 60%)."
   ]
  }
 ],
 "metadata": {
  "kernelspec": {
   "display_name": "Python 3",
   "language": "python",
   "name": "python3"
  },
  "language_info": {
   "codemirror_mode": {
    "name": "ipython",
    "version": 3
   },
   "file_extension": ".py",
   "mimetype": "text/x-python",
   "name": "python",
   "nbconvert_exporter": "python",
   "pygments_lexer": "ipython3",
   "version": "3.7.4"
  }
 },
 "nbformat": 4,
 "nbformat_minor": 2
}
