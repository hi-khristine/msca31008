{
 "cells": [
  {
   "cell_type": "markdown",
   "metadata": {},
   "source": [
    "# Introduction to Data + Cleaning/Data Manipulation"
   ]
  },
  {
   "cell_type": "code",
   "execution_count": null,
   "metadata": {},
   "outputs": [],
   "source": [
    "import pandas as pd\n",
    "\n",
    "data = pd.read_csv(r'C:\\Users\\Adam-PC\\Desktop\\Homework\\MSCA 31008 - Data Mining\\Project\\ufcdata\\data.csv')\n",
    "\n",
    "for i in range(len(data.columns)):\n",
    "    print(data.columns[i])\n",
    "\n",
    "all_fighters = list(data['R_fighter'].append(data['B_fighter']).unique())\n",
    "\n",
    "## Categorize Columns\n",
    "fight_columns = ['Referee', 'date', 'location', 'Winner', 'title_bout', 'weight_class', 'no_of_rounds']\n",
    "\n",
    "red_fighter_columns = ['R_fighter', 'R_age', 'R_Height_cms', 'R_Reach_cms', 'R_Weight_lbs', 'R_Stance']\n",
    "red_stats_columns = ['R_avg_BODY_att', 'R_avg_BODY_landed', 'R_avg_CLINCH_att', 'R_avg_CLINCH_landed', 'R_avg_DISTANCE_att', 'R_avg_DISTANCE_landed', 'R_avg_GROUND_att', 'R_avg_GROUND_landed', 'R_avg_HEAD_att', 'R_avg_HEAD_landed', 'R_avg_KD', 'R_avg_LEG_att', 'R_avg_LEG_landed', 'R_avg_PASS', 'R_avg_REV', 'R_avg_SIG_STR_att', 'R_avg_SIG_STR_landed', 'R_avg_SIG_STR_pct', 'R_avg_SUB_ATT', 'R_avg_TD_att', 'R_avg_TD_landed', 'R_avg_TD_pct', 'R_avg_TOTAL_STR_att', 'R_avg_TOTAL_STR_landed']\n",
    "red_history_columns = ['R_current_lose_streak', 'R_current_win_streak', 'R_draw', 'R_longest_win_streak', 'R_losses', 'R_total_rounds_fought', 'R_total_time_fought(seconds)', 'R_total_title_bouts', 'R_win_by_Decision_Majority', 'R_win_by_Decision_Split', 'R_win_by_Decision_Unanimous', 'R_win_by_KO/TKO', 'R_win_by_Submission', 'R_win_by_TKO_Doctor_Stoppage', 'R_wins']\n",
    "red_opp_stats_columns = ['R_avg_opp_BODY_att', 'R_avg_opp_BODY_landed', 'R_avg_opp_CLINCH_att', 'R_avg_opp_CLINCH_landed', 'R_avg_opp_DISTANCE_att', 'R_avg_opp_DISTANCE_landed', 'R_avg_opp_GROUND_att', 'R_avg_opp_GROUND_landed', 'R_avg_opp_HEAD_att', 'R_avg_opp_HEAD_landed', 'R_avg_opp_KD', 'R_avg_opp_LEG_att', 'R_avg_opp_LEG_landed', 'R_avg_opp_PASS', 'R_avg_opp_REV', 'R_avg_opp_SIG_STR_att', 'R_avg_opp_SIG_STR_landed', 'R_avg_opp_SIG_STR_pct', 'R_avg_opp_SUB_ATT', 'R_avg_opp_TD_att', 'R_avg_opp_TD_landed', 'R_avg_opp_TD_pct', 'R_avg_opp_TOTAL_STR_att', 'R_avg_opp_TOTAL_STR_landed']\n",
    "\n",
    "blue_fighter_columns = ['B_fighter', 'B_age', 'B_Height_cms', 'B_Reach_cms', 'B_Weight_lbs', 'B_Stance']\n",
    "blue_stats_columns = ['B_avg_BODY_att', 'B_avg_BODY_landed', 'B_avg_CLINCH_att', 'B_avg_CLINCH_landed', 'B_avg_DISTANCE_att', 'B_avg_DISTANCE_landed', 'B_avg_GROUND_att', 'B_avg_GROUND_landed', 'B_avg_HEAD_att', 'B_avg_HEAD_landed', 'B_avg_KD', 'B_avg_LEG_att', 'B_avg_LEG_landed', 'B_avg_PASS', 'B_avg_REV', 'B_avg_SIG_STR_att', 'B_avg_SIG_STR_landed', 'B_avg_SIG_STR_pct', 'B_avg_SUB_ATT', 'B_avg_TD_att', 'B_avg_TD_landed', 'B_avg_TD_pct', 'B_avg_TOTAL_STR_att', 'B_avg_TOTAL_STR_landed']\n",
    "blue_history_columns= ['B_current_lose_streak', 'B_current_win_streak', 'B_draw', 'B_longest_win_streak', 'B_losses', 'B_total_rounds_fought', 'B_total_time_fought(seconds)', 'B_total_title_bouts', 'B_win_by_Decision_Majority', 'B_win_by_Decision_Split', 'B_win_by_Decision_Unanimous', 'B_win_by_KO/TKO', 'B_win_by_Submission', 'B_win_by_TKO_Doctor_Stoppage', 'B_wins']\n",
    "blue_opp_stats_columns = ['B_avg_opp_BODY_att', 'B_avg_opp_BODY_landed', 'B_avg_opp_CLINCH_att', 'B_avg_opp_CLINCH_landed', 'B_avg_opp_DISTANCE_att', 'B_avg_opp_DISTANCE_landed', 'B_avg_opp_GROUND_att', 'B_avg_opp_GROUND_landed', 'B_avg_opp_HEAD_att', 'B_avg_opp_HEAD_landed', 'B_avg_opp_KD', 'B_avg_opp_LEG_att', 'B_avg_opp_LEG_landed', 'B_avg_opp_PASS', 'B_avg_opp_REV', 'B_avg_opp_SIG_STR_att', 'B_avg_opp_SIG_STR_landed', 'B_avg_opp_SIG_STR_pct', 'B_avg_opp_SUB_ATT', 'B_avg_opp_TD_att', 'B_avg_opp_TD_landed', 'B_avg_opp_TD_pct', 'B_avg_opp_TOTAL_STR_att', 'B_avg_opp_TOTAL_STR_landed']\n",
    "\n",
    "## Pull data for red fighters\n",
    "red_fighters = data[fight_columns + red_fighter_columns + red_stats_columns + red_history_columns + red_opp_stats_columns]\n",
    "red_fighters['Win'] = red_fighters['Winner'].apply(lambda x: 1 if x == 'Red' else (-1 if x == 'Blue' else 0))\n",
    "\n",
    "## Pull corresponding data for blue fighters\n",
    "blue_fighters = data[fight_columns + blue_fighter_columns + blue_stats_columns + blue_history_columns + blue_opp_stats_columns]\n",
    "blue_fighters['Win'] = blue_fighters['Winner'].apply(lambda x: 1 if x == 'Blue' else (-1 if x == 'Red' else 0))\n",
    "\n",
    "\n",
    "## Match the column names\n",
    "red_fighters.rename(columns = lambda x: x.strip('R_'), inplace = True)\n",
    "red_fighters.rename(columns = {'eferee': 'Referee', 'each_cms': 'Reach_cms'}, inplace = True)\n",
    "blue_fighters.rename(columns = lambda x: x.strip('B_'), inplace = True)\n",
    "\n",
    "\n",
    "## Join the datasets\n",
    "fighter_dataset = red_fighters.append(blue_fighters)\n",
    "\n",
    "fighter_dataset.sort_values(by = ['fighter', 'date'], inplace = True)\n",
    "\n",
    "import os\n",
    "os.getcwd()\n",
    "fighter_dataset.to_csv(r'C:\\Users\\Adam-PC\\Desktop\\Homework\\MSCA 31008 - Data Mining\\Project\\fighter_level_dataset.csv')\n"
   ]
  },
  {
   "cell_type": "markdown",
   "metadata": {},
   "source": [
    "# Principle Component Analysis + Kernel Density Estimation"
   ]
  },
  {
   "cell_type": "code",
   "execution_count": 2,
   "metadata": {},
   "outputs": [
    {
     "data": {
      "image/png": "[encoded data removed]",
      "text/plain": [
       "<Figure size 432x288 with 1 Axes>"
      ]
     },
     "metadata": {
      "needs_background": "light"
     },
     "output_type": "display_data"
    },
    {
     "name": "stdout",
     "output_type": "stream",
     "text": [
      "Average Fights per Fighter:  5.372323759791123\n"
     ]
    }
   ],
   "source": [
    "import pandas as pd\n",
    "import matplotlib.pyplot as plt\n",
    "\n",
    "\n",
    "data = pd.read_csv(r'C:\\Users\\Adam-PC\\Desktop\\Homework\\MSCA 31008 - Data Mining\\Project\\fighter_level_dataset.csv')\n",
    "\n",
    "\n",
    "data['fighter'].value_counts().hist()\n",
    "plt.show()\n",
    "print(\"Average Fights per Fighter: \", data['fighter'].value_counts().mean())"
   ]
  },
  {
   "cell_type": "markdown",
   "metadata": {},
   "source": [
    "# Applicaiton of tSNE"
   ]
  },
  {
   "cell_type": "code",
   "execution_count": null,
   "metadata": {},
   "outputs": [],
   "source": [
    "import pandas as pd\n",
    "import matplotlib.pyplot as plt\n",
    "from sklearn.manifold import TSNE\n",
    "\n",
    "data = pd.read_csv(r'C:\\Users\\Adam-PC\\Desktop\\Homework\\MSCA 31008 - Data Mining\\Project\\fighter_level_dataset.csv')\n",
    "\n",
    "## Select the relevant data\n",
    "fighter_columns = ['fighter', 'age', 'Height_cms', 'Reach_cms', 'Weight_lbs', 'Stance', 'date']\n",
    "\n",
    "fighter_history_columns = history_columns= ['current_lose_streak', 'current_win_streak', 'draw', 'longest_win_streak', 'losses', 'total_rounds_fought', 'total_time_fought(seconds)', 'total_title_bouts', 'win_by_Decision_Majority', 'win_by_Decision_Split', 'win_by_Decision_Unanimous', 'win_by_KO/TKO', 'win_by_Submission', 'win_by_TKO_Doctor_Stoppage', 'wins']\n",
    "\n",
    "relevant_data = data[fighter_columns + fighter_history_columns]\n",
    "\n",
    "## Remove duplicates of fighters, only keep the most up to date entry\n",
    "relevant_data.sort_values(by = 'date', ascending = False, inplace = True)\n",
    "relevant_data = relevant_data.drop_duplicates(subset = 'fighter')\n",
    "relevant_data.drop(columns = 'date', inplace = True)\n",
    "relevant_data.drop(columns = 'Stance', inplace = True) # Removed Stance for dataset simplicity, consider adding in later\n",
    "relevant_data.fillna(0, inplace = True)\n",
    "\n",
    "x = relevant_data.iloc[:, 1:]\n",
    "y = relevant_data.iloc[:, 0]\n",
    "\n",
    "model = TSNE(learning_rate = 100)\n",
    "\n",
    "tsne_transformed = model.fit_transform(x)\n",
    "\n",
    "xs = tsne_transformed[:, 0]\n",
    "ys = tsne_transformed[:, 1]\n",
    "\n",
    "## Plot the clusters\n",
    "plt.scatter(xs, ys, c = y)\n"
   ]
  }
 ],
 "metadata": {
  "kernelspec": {
   "display_name": "Python 3",
   "language": "python",
   "name": "python3"
  },
  "language_info": {
   "codemirror_mode": {
    "name": "ipython",
    "version": 3
   },
   "file_extension": ".py",
   "mimetype": "text/x-python",
   "name": "python",
   "nbconvert_exporter": "python",
   "pygments_lexer": "ipython3",
   "version": "3.7.1"
  }
 },
 "nbformat": 4,
 "nbformat_minor": 2
}
